{
  "cells": [
    {
      "cell_type": "markdown",
      "metadata": {
        "papermill": {
          "duration": 0.048816,
          "end_time": "2020-10-25T11:06:07.810550",
          "exception": false,
          "start_time": "2020-10-25T11:06:07.761734",
          "status": "completed"
        },
        "tags": [],
        "id": "BJ8VlBsVFQBD"
      },
      "source": [
        "# Implicit & LightFM\n",
        "\n",
        "В данном jupyter notebook рассматриваются как использовать implicit и LightFM для построения рекомендаций\n",
        "\n",
        "* [Load data](#load-data)\n",
        "* [Validation](#validation)\n",
        "* [Implicit](#implicit)\n",
        "* [LightFM](#lightfm)\n",
        "* [Links](#links)"
      ]
    },
    {
      "cell_type": "code",
      "source": [
        "from google.colab import drive\n",
        "drive.mount('/content/drive')"
      ],
      "metadata": {
        "colab": {
          "base_uri": "https://localhost:8080/"
        },
        "id": "VtBmWCthFS0z",
        "outputId": "80085244-c142-45c1-8718-2601f77aa1a8"
      },
      "execution_count": 1,
      "outputs": [
        {
          "output_type": "stream",
          "name": "stdout",
          "text": [
            "Mounted at /content/drive\n"
          ]
        }
      ]
    },
    {
      "cell_type": "code",
      "source": [
        "!ln -s \"/content/drive/MyDrive\" /gdrive"
      ],
      "metadata": {
        "id": "fdauULLAFUIj"
      },
      "execution_count": 2,
      "outputs": []
    },
    {
      "cell_type": "code",
      "execution_count": 3,
      "metadata": {
        "_cell_guid": "b1076dfc-b9ad-4769-8c92-a6c4dae69d19",
        "_uuid": "8f2839f25d086af736a60e9eeb907d3b93b6e0e5",
        "execution": {
          "iopub.execute_input": "2020-10-25T11:06:07.912528Z",
          "iopub.status.busy": "2020-10-25T11:06:07.911959Z",
          "iopub.status.idle": "2020-10-25T11:06:08.072500Z",
          "shell.execute_reply": "2020-10-25T11:06:08.071754Z"
        },
        "papermill": {
          "duration": 0.214254,
          "end_time": "2020-10-25T11:06:08.072609",
          "exception": false,
          "start_time": "2020-10-25T11:06:07.858355",
          "status": "completed"
        },
        "tags": [],
        "colab": {
          "base_uri": "https://localhost:8080/"
        },
        "id": "vLtdRSbkFQBH",
        "outputId": "2bd107ee-9839-4d62-d2c4-5d373a82374e"
      },
      "outputs": [
        {
          "output_type": "stream",
          "name": "stdout",
          "text": [
            "Dataset:\n",
            "/gdrive/ML/kaggle/input/mts-library/interactions.csv\n",
            "/gdrive/ML/kaggle/input/mts-library/users.csv\n",
            "/gdrive/ML/kaggle/input/mts-library/items.csv\n"
          ]
        }
      ],
      "source": [
        "import os\n",
        "import numpy as np \n",
        "import pandas as pd \n",
        "import scipy.sparse as sp\n",
        "from itertools import islice, cycle\n",
        "from more_itertools import pairwise\n",
        "from tqdm.auto import tqdm\n",
        "\n",
        "\n",
        "os.environ['OPENBLAS_NUM_THREADS'] = '1'\n",
        "os.environ['MKL_NUM_THREADS'] = '1'\n",
        "\n",
        "print('Dataset:')\n",
        "for dirname, _, filenames in os.walk('/gdrive/ML/kaggle/input'):\n",
        "    for filename in filenames:\n",
        "        print(os.path.join(dirname, filename))"
      ]
    },
    {
      "cell_type": "markdown",
      "metadata": {
        "papermill": {
          "duration": 0.072607,
          "end_time": "2020-10-25T11:06:08.220237",
          "exception": false,
          "start_time": "2020-10-25T11:06:08.147630",
          "status": "completed"
        },
        "tags": [],
        "id": "XY91pWWKFQBI"
      },
      "source": [
        "<a id=\"load-data\"></a>\n",
        "# Load data\n",
        "\n",
        "Возьмем уже предобработанный данные из [metrics-validation-strategies-and-baselines](https://www.kaggle.com/sharthz23/metrics-validation-strategies-and-baselines/output)"
      ]
    },
    {
      "cell_type": "code",
      "execution_count": 4,
      "metadata": {
        "_cell_guid": "79c7e3d0-c299-4dcb-8224-4455121ee9b0",
        "_uuid": "d629ff2d2480ee46fbb7e2d37f6b5fab8052498a",
        "execution": {
          "iopub.execute_input": "2020-10-25T11:06:08.371879Z",
          "iopub.status.busy": "2020-10-25T11:06:08.371278Z",
          "iopub.status.idle": "2020-10-25T11:06:08.730827Z",
          "shell.execute_reply": "2020-10-25T11:06:08.730337Z"
        },
        "papermill": {
          "duration": 0.437029,
          "end_time": "2020-10-25T11:06:08.730908",
          "exception": false,
          "start_time": "2020-10-25T11:06:08.293879",
          "status": "completed"
        },
        "tags": [],
        "colab": {
          "base_uri": "https://localhost:8080/"
        },
        "id": "sl0a7spHFQBJ",
        "outputId": "ab3592b0-c523-4487-ca6f-c7e3d66c369d"
      },
      "outputs": [
        {
          "output_type": "execute_result",
          "data": {
            "text/plain": [
              "((1532998, 5), (142888, 3), (59599, 5))"
            ]
          },
          "metadata": {},
          "execution_count": 4
        }
      ],
      "source": [
        "df = pd.read_pickle('/gdrive/ML/kaggle/output/interactions_preprocessed.pickle')\n",
        "df_users = pd.read_pickle('/gdrive/ML/kaggle/output/users_preprocessed.pickle')\n",
        "df_items = pd.read_pickle('/gdrive/ML/kaggle/output/items_preprocessed.pickle')\n",
        "\n",
        "df.shape, df_users.shape, df_items.shape"
      ]
    },
    {
      "cell_type": "code",
      "execution_count": 5,
      "metadata": {
        "execution": {
          "iopub.execute_input": "2020-10-25T11:06:08.833963Z",
          "iopub.status.busy": "2020-10-25T11:06:08.833450Z",
          "iopub.status.idle": "2020-10-25T11:06:08.856059Z",
          "shell.execute_reply": "2020-10-25T11:06:08.855659Z"
        },
        "papermill": {
          "duration": 0.075971,
          "end_time": "2020-10-25T11:06:08.856146",
          "exception": false,
          "start_time": "2020-10-25T11:06:08.780175",
          "status": "completed"
        },
        "tags": [],
        "colab": {
          "base_uri": "https://localhost:8080/",
          "height": 204
        },
        "id": "Kc_My4dBFQBK",
        "outputId": "b9854407-ea17-4978-a1e2-0c418befffa6"
      },
      "outputs": [
        {
          "output_type": "execute_result",
          "data": {
            "text/html": [
              "<div>\n",
              "<style scoped>\n",
              "    .dataframe tbody tr th:only-of-type {\n",
              "        vertical-align: middle;\n",
              "    }\n",
              "\n",
              "    .dataframe tbody tr th {\n",
              "        vertical-align: top;\n",
              "    }\n",
              "\n",
              "    .dataframe thead th {\n",
              "        text-align: right;\n",
              "    }\n",
              "</style>\n",
              "<table border=\"1\" class=\"dataframe\">\n",
              "  <thead>\n",
              "    <tr style=\"text-align: right;\">\n",
              "      <th></th>\n",
              "      <th>user_id</th>\n",
              "      <th>item_id</th>\n",
              "      <th>progress</th>\n",
              "      <th>rating</th>\n",
              "      <th>start_date</th>\n",
              "    </tr>\n",
              "  </thead>\n",
              "  <tbody>\n",
              "    <tr>\n",
              "      <th>0</th>\n",
              "      <td>126706</td>\n",
              "      <td>14433</td>\n",
              "      <td>80</td>\n",
              "      <td>NaN</td>\n",
              "      <td>2018-01-01</td>\n",
              "    </tr>\n",
              "    <tr>\n",
              "      <th>1</th>\n",
              "      <td>127290</td>\n",
              "      <td>140952</td>\n",
              "      <td>58</td>\n",
              "      <td>NaN</td>\n",
              "      <td>2018-01-01</td>\n",
              "    </tr>\n",
              "    <tr>\n",
              "      <th>2</th>\n",
              "      <td>66991</td>\n",
              "      <td>198453</td>\n",
              "      <td>89</td>\n",
              "      <td>NaN</td>\n",
              "      <td>2018-01-01</td>\n",
              "    </tr>\n",
              "    <tr>\n",
              "      <th>3</th>\n",
              "      <td>46791</td>\n",
              "      <td>83486</td>\n",
              "      <td>23</td>\n",
              "      <td>5.0</td>\n",
              "      <td>2018-01-01</td>\n",
              "    </tr>\n",
              "    <tr>\n",
              "      <th>4</th>\n",
              "      <td>79313</td>\n",
              "      <td>188770</td>\n",
              "      <td>88</td>\n",
              "      <td>5.0</td>\n",
              "      <td>2018-01-01</td>\n",
              "    </tr>\n",
              "  </tbody>\n",
              "</table>\n",
              "</div>"
            ],
            "text/plain": [
              "   user_id  item_id  progress  rating start_date\n",
              "0   126706    14433        80     NaN 2018-01-01\n",
              "1   127290   140952        58     NaN 2018-01-01\n",
              "2    66991   198453        89     NaN 2018-01-01\n",
              "3    46791    83486        23     5.0 2018-01-01\n",
              "4    79313   188770        88     5.0 2018-01-01"
            ]
          },
          "metadata": {},
          "execution_count": 5
        }
      ],
      "source": [
        "df.head()"
      ]
    },
    {
      "cell_type": "code",
      "execution_count": 6,
      "metadata": {
        "execution": {
          "iopub.execute_input": "2020-10-25T11:06:08.963388Z",
          "iopub.status.busy": "2020-10-25T11:06:08.962763Z",
          "iopub.status.idle": "2020-10-25T11:06:09.016464Z",
          "shell.execute_reply": "2020-10-25T11:06:09.016101Z"
        },
        "papermill": {
          "duration": 0.109175,
          "end_time": "2020-10-25T11:06:09.016545",
          "exception": false,
          "start_time": "2020-10-25T11:06:08.907370",
          "status": "completed"
        },
        "tags": [],
        "colab": {
          "base_uri": "https://localhost:8080/"
        },
        "id": "JAaa6bpoFQBK",
        "outputId": "e533e4df-ecdf-4aee-febe-8b02bb224bad"
      },
      "outputs": [
        {
          "output_type": "execute_result",
          "data": {
            "text/plain": [
              "151600"
            ]
          },
          "metadata": {},
          "execution_count": 6
        }
      ],
      "source": [
        "users_inv_mapping = dict(enumerate(df['user_id'].unique()))\n",
        "users_mapping = {v: k for k, v in users_inv_mapping.items()}\n",
        "len(users_mapping)"
      ]
    },
    {
      "cell_type": "code",
      "execution_count": 7,
      "metadata": {
        "execution": {
          "iopub.execute_input": "2020-10-25T11:06:09.123222Z",
          "iopub.status.busy": "2020-10-25T11:06:09.122802Z",
          "iopub.status.idle": "2020-10-25T11:06:09.158715Z",
          "shell.execute_reply": "2020-10-25T11:06:09.158260Z"
        },
        "papermill": {
          "duration": 0.090848,
          "end_time": "2020-10-25T11:06:09.158808",
          "exception": false,
          "start_time": "2020-10-25T11:06:09.067960",
          "status": "completed"
        },
        "tags": [],
        "colab": {
          "base_uri": "https://localhost:8080/"
        },
        "id": "WLOgtYlYFQBL",
        "outputId": "c3f42fff-83e6-40ba-cebe-f6545b3421a0"
      },
      "outputs": [
        {
          "output_type": "execute_result",
          "data": {
            "text/plain": [
              "59599"
            ]
          },
          "metadata": {},
          "execution_count": 7
        }
      ],
      "source": [
        "items_inv_mapping = dict(enumerate(df['item_id'].unique()))\n",
        "items_mapping = {v: k for k, v in items_inv_mapping.items()}\n",
        "len(items_mapping)"
      ]
    },
    {
      "cell_type": "code",
      "execution_count": 8,
      "metadata": {
        "execution": {
          "iopub.execute_input": "2020-10-25T11:06:09.281173Z",
          "iopub.status.busy": "2020-10-25T11:06:09.267306Z",
          "iopub.status.idle": "2020-10-25T11:06:09.303529Z",
          "shell.execute_reply": "2020-10-25T11:06:09.303058Z"
        },
        "papermill": {
          "duration": 0.093355,
          "end_time": "2020-10-25T11:06:09.303611",
          "exception": false,
          "start_time": "2020-10-25T11:06:09.210256",
          "status": "completed"
        },
        "tags": [],
        "id": "oQCMLp42FQBL"
      },
      "outputs": [],
      "source": [
        "df_items['title'] = df_items['title'].str.lower()"
      ]
    },
    {
      "cell_type": "code",
      "execution_count": 9,
      "metadata": {
        "execution": {
          "iopub.execute_input": "2020-10-25T11:06:09.442719Z",
          "iopub.status.busy": "2020-10-25T11:06:09.414111Z",
          "iopub.status.idle": "2020-10-25T11:06:09.448060Z",
          "shell.execute_reply": "2020-10-25T11:06:09.447678Z"
        },
        "papermill": {
          "duration": 0.09309,
          "end_time": "2020-10-25T11:06:09.448133",
          "exception": false,
          "start_time": "2020-10-25T11:06:09.355043",
          "status": "completed"
        },
        "tags": [],
        "colab": {
          "base_uri": "https://localhost:8080/"
        },
        "id": "YYcNiQ_VFQBM",
        "outputId": "dac594ed-8007-40b0-d660-a4d3030985a1"
      },
      "outputs": [
        {
          "output_type": "execute_result",
          "data": {
            "text/plain": [
              "(59599, 'ворон-челобитчик')"
            ]
          },
          "metadata": {},
          "execution_count": 9
        }
      ],
      "source": [
        "item_titles = pd.Series(df_items['title'].values, index=df_items['id']).to_dict()\n",
        "len(item_titles), item_titles[128115]"
      ]
    },
    {
      "cell_type": "code",
      "execution_count": 10,
      "metadata": {
        "execution": {
          "iopub.execute_input": "2020-10-25T11:06:09.558673Z",
          "iopub.status.busy": "2020-10-25T11:06:09.558261Z",
          "iopub.status.idle": "2020-10-25T11:06:11.591818Z",
          "shell.execute_reply": "2020-10-25T11:06:11.591356Z"
        },
        "papermill": {
          "duration": 2.093227,
          "end_time": "2020-10-25T11:06:11.591893",
          "exception": false,
          "start_time": "2020-10-25T11:06:09.498666",
          "status": "completed"
        },
        "tags": [],
        "colab": {
          "base_uri": "https://localhost:8080/"
        },
        "id": "MWsKLdXbFQBN",
        "outputId": "13be9990-500a-4443-b871-d59804e44580"
      },
      "outputs": [
        {
          "output_type": "execute_result",
          "data": {
            "text/plain": [
              "title\n",
              "# 20 восьмая                                                     [201623]\n",
              "# duo                                                             [72582]\n",
              "# me too. роман                                                  [171172]\n",
              "# партия                                                         [224512]\n",
              "#1917: человек из раньшего времени. библиотека «проекта 1917»    [230768]\n",
              "                                                                   ...   \n",
              "…чума на оба ваши дома!                                          [226481]\n",
              "№ 12, или история одного прекрасного юноши                        [20979]\n",
              "伦巴德人的故事                                                          [119226]\n",
              "地球への旅                                                            [148400]\n",
              "�baby blues�                                                      [98635]\n",
              "Name: id, Length: 57289, dtype: object"
            ]
          },
          "metadata": {},
          "execution_count": 10
        }
      ],
      "source": [
        "title_items = df_items.groupby('title')['id'].agg(list)\n",
        "title_items"
      ]
    },
    {
      "cell_type": "code",
      "execution_count": 11,
      "metadata": {
        "execution": {
          "iopub.execute_input": "2020-10-25T11:06:11.713052Z",
          "iopub.status.busy": "2020-10-25T11:06:11.699440Z",
          "iopub.status.idle": "2020-10-25T11:06:11.719530Z",
          "shell.execute_reply": "2020-10-25T11:06:11.720040Z"
        },
        "papermill": {
          "duration": 0.076691,
          "end_time": "2020-10-25T11:06:11.720244",
          "exception": false,
          "start_time": "2020-10-25T11:06:11.643553",
          "status": "completed"
        },
        "tags": [],
        "colab": {
          "base_uri": "https://localhost:8080/"
        },
        "id": "uhCCZKAiFQBN",
        "outputId": "335daf5e-c5ae-4335-9a4b-04e61234cdfd"
      },
      "outputs": [
        {
          "output_type": "execute_result",
          "data": {
            "text/plain": [
              "1     55708\n",
              "2      1197\n",
              "3       245\n",
              "4        71\n",
              "5        38\n",
              "6        11\n",
              "7         8\n",
              "8         3\n",
              "9         2\n",
              "23        1\n",
              "18        1\n",
              "47        1\n",
              "13        1\n",
              "12        1\n",
              "11        1\n",
              "Name: id, dtype: int64"
            ]
          },
          "metadata": {},
          "execution_count": 11
        }
      ],
      "source": [
        "title_count = title_items.map(len)\n",
        "title_count.value_counts()"
      ]
    },
    {
      "cell_type": "code",
      "execution_count": 12,
      "metadata": {
        "execution": {
          "iopub.execute_input": "2020-10-25T11:06:11.882679Z",
          "iopub.status.busy": "2020-10-25T11:06:11.882200Z",
          "iopub.status.idle": "2020-10-25T11:06:11.901637Z",
          "shell.execute_reply": "2020-10-25T11:06:11.901187Z"
        },
        "papermill": {
          "duration": 0.102033,
          "end_time": "2020-10-25T11:06:11.901716",
          "exception": false,
          "start_time": "2020-10-25T11:06:11.799683",
          "status": "completed"
        },
        "tags": [],
        "colab": {
          "base_uri": "https://localhost:8080/"
        },
        "id": "gfZtYvzXFQBN",
        "outputId": "12371dda-0071-4038-843e-fa3aeb4d31cc"
      },
      "outputs": [
        {
          "output_type": "execute_result",
          "data": {
            "text/plain": [
              "title\n",
              "яма                                              [60156, 165785]\n",
              "янки из коннектикута при дворе короля артура      [14759, 56530]\n",
              "японская диета                                   [168986, 74652]\n",
              "яр                                                [168761, 5371]\n",
              "ящик пандоры                                    [236465, 158851]\n",
              "Name: id, dtype: object"
            ]
          },
          "metadata": {},
          "execution_count": 12
        }
      ],
      "source": [
        "title_items[title_count > 1].tail()"
      ]
    },
    {
      "cell_type": "code",
      "execution_count": 13,
      "metadata": {
        "execution": {
          "iopub.execute_input": "2020-10-25T11:06:12.031580Z",
          "iopub.status.busy": "2020-10-25T11:06:12.030521Z",
          "iopub.status.idle": "2020-10-25T11:06:12.035401Z",
          "shell.execute_reply": "2020-10-25T11:06:12.034869Z"
        },
        "papermill": {
          "duration": 0.079552,
          "end_time": "2020-10-25T11:06:12.035500",
          "exception": false,
          "start_time": "2020-10-25T11:06:11.955948",
          "status": "completed"
        },
        "tags": [],
        "colab": {
          "base_uri": "https://localhost:8080/",
          "height": 111
        },
        "id": "dbSGP8yRFQBO",
        "outputId": "66172ecf-bd17-45bf-ebed-d25724252e51"
      },
      "outputs": [
        {
          "output_type": "execute_result",
          "data": {
            "text/html": [
              "<div>\n",
              "<style scoped>\n",
              "    .dataframe tbody tr th:only-of-type {\n",
              "        vertical-align: middle;\n",
              "    }\n",
              "\n",
              "    .dataframe tbody tr th {\n",
              "        vertical-align: top;\n",
              "    }\n",
              "\n",
              "    .dataframe thead th {\n",
              "        text-align: right;\n",
              "    }\n",
              "</style>\n",
              "<table border=\"1\" class=\"dataframe\">\n",
              "  <thead>\n",
              "    <tr style=\"text-align: right;\">\n",
              "      <th></th>\n",
              "      <th>id</th>\n",
              "      <th>title</th>\n",
              "      <th>genres</th>\n",
              "      <th>authors</th>\n",
              "      <th>year</th>\n",
              "    </tr>\n",
              "  </thead>\n",
              "  <tbody>\n",
              "    <tr>\n",
              "      <th>40426</th>\n",
              "      <td>236465</td>\n",
              "      <td>ящик пандоры</td>\n",
              "      <td>Любовно-фантастические романы,Научная фантастика</td>\n",
              "      <td>Филипп Хорват</td>\n",
              "      <td>2017</td>\n",
              "    </tr>\n",
              "    <tr>\n",
              "      <th>54854</th>\n",
              "      <td>158851</td>\n",
              "      <td>ящик пандоры</td>\n",
              "      <td>Мистика,Современная зарубежная литература</td>\n",
              "      <td>Бернар Вербер</td>\n",
              "      <td>2018</td>\n",
              "    </tr>\n",
              "  </tbody>\n",
              "</table>\n",
              "</div>"
            ],
            "text/plain": [
              "           id         title  ...        authors  year\n",
              "40426  236465  ящик пандоры  ...  Филипп Хорват  2017\n",
              "54854  158851  ящик пандоры  ...  Бернар Вербер  2018\n",
              "\n",
              "[2 rows x 5 columns]"
            ]
          },
          "metadata": {},
          "execution_count": 13
        }
      ],
      "source": [
        "df_items[df_items['title'] == 'ящик пандоры']"
      ]
    },
    {
      "cell_type": "code",
      "execution_count": 14,
      "metadata": {
        "execution": {
          "iopub.execute_input": "2020-10-25T11:06:12.201401Z",
          "iopub.status.busy": "2020-10-25T11:06:12.200605Z",
          "iopub.status.idle": "2020-10-25T11:06:12.207522Z",
          "shell.execute_reply": "2020-10-25T11:06:12.207994Z"
        },
        "papermill": {
          "duration": 0.091748,
          "end_time": "2020-10-25T11:06:12.208107",
          "exception": false,
          "start_time": "2020-10-25T11:06:12.116359",
          "status": "completed"
        },
        "tags": [],
        "colab": {
          "base_uri": "https://localhost:8080/"
        },
        "id": "Himnv83kFQBO",
        "outputId": "c53dc0c2-73f5-4091-b798-b7384c34314d"
      },
      "outputs": [
        {
          "output_type": "execute_result",
          "data": {
            "text/plain": [
              "title\n",
              "(о переводе)                 [61213, 145263]\n",
              "2084                        [177082, 281410]\n",
              "451 градус по фаренгейту     [44681, 162716]\n",
              "playboy 02-2018               [114405, 8599]\n",
              "playboy 03-2018              [31097, 121747]\n",
              "Name: id, dtype: object"
            ]
          },
          "metadata": {},
          "execution_count": 14
        }
      ],
      "source": [
        "title_items[title_count > 1].head()"
      ]
    },
    {
      "cell_type": "code",
      "execution_count": 15,
      "metadata": {
        "execution": {
          "iopub.execute_input": "2020-10-25T11:06:12.386873Z",
          "iopub.status.busy": "2020-10-25T11:06:12.383782Z",
          "iopub.status.idle": "2020-10-25T11:06:12.390645Z",
          "shell.execute_reply": "2020-10-25T11:06:12.390169Z"
        },
        "papermill": {
          "duration": 0.099483,
          "end_time": "2020-10-25T11:06:12.390744",
          "exception": false,
          "start_time": "2020-10-25T11:06:12.291261",
          "status": "completed"
        },
        "tags": [],
        "colab": {
          "base_uri": "https://localhost:8080/",
          "height": 111
        },
        "id": "0bMFeQ4mFQBP",
        "outputId": "56e74c22-3622-406c-d712-84adf9f8aaf1"
      },
      "outputs": [
        {
          "output_type": "execute_result",
          "data": {
            "text/html": [
              "<div>\n",
              "<style scoped>\n",
              "    .dataframe tbody tr th:only-of-type {\n",
              "        vertical-align: middle;\n",
              "    }\n",
              "\n",
              "    .dataframe tbody tr th {\n",
              "        vertical-align: top;\n",
              "    }\n",
              "\n",
              "    .dataframe thead th {\n",
              "        text-align: right;\n",
              "    }\n",
              "</style>\n",
              "<table border=\"1\" class=\"dataframe\">\n",
              "  <thead>\n",
              "    <tr style=\"text-align: right;\">\n",
              "      <th></th>\n",
              "      <th>id</th>\n",
              "      <th>title</th>\n",
              "      <th>genres</th>\n",
              "      <th>authors</th>\n",
              "      <th>year</th>\n",
              "    </tr>\n",
              "  </thead>\n",
              "  <tbody>\n",
              "    <tr>\n",
              "      <th>19398</th>\n",
              "      <td>44681</td>\n",
              "      <td>451 градус по фаренгейту</td>\n",
              "      <td>Социальная фантастика,Зарубежная фантастика,На...</td>\n",
              "      <td>Рэй Брэдбери</td>\n",
              "      <td>1953</td>\n",
              "    </tr>\n",
              "    <tr>\n",
              "      <th>50150</th>\n",
              "      <td>162716</td>\n",
              "      <td>451 градус по фаренгейту</td>\n",
              "      <td>Социальная фантастика,Зарубежная фантастика,На...</td>\n",
              "      <td>Рэй Брэдбери</td>\n",
              "      <td>1951, 1953, 1967</td>\n",
              "    </tr>\n",
              "  </tbody>\n",
              "</table>\n",
              "</div>"
            ],
            "text/plain": [
              "           id                     title  ...       authors              year\n",
              "19398   44681  451 градус по фаренгейту  ...  Рэй Брэдбери              1953\n",
              "50150  162716  451 градус по фаренгейту  ...  Рэй Брэдбери  1951, 1953, 1967\n",
              "\n",
              "[2 rows x 5 columns]"
            ]
          },
          "metadata": {},
          "execution_count": 15
        }
      ],
      "source": [
        "df_items[df_items['title'] == '451 градус по фаренгейту']"
      ]
    },
    {
      "cell_type": "code",
      "execution_count": 16,
      "metadata": {
        "execution": {
          "iopub.execute_input": "2020-10-25T11:06:12.556968Z",
          "iopub.status.busy": "2020-10-25T11:06:12.556472Z",
          "iopub.status.idle": "2020-10-25T11:06:12.588377Z",
          "shell.execute_reply": "2020-10-25T11:06:12.587924Z"
        },
        "papermill": {
          "duration": 0.117302,
          "end_time": "2020-10-25T11:06:12.588456",
          "exception": false,
          "start_time": "2020-10-25T11:06:12.471154",
          "status": "completed"
        },
        "tags": [],
        "colab": {
          "base_uri": "https://localhost:8080/",
          "height": 173
        },
        "id": "1rAfe8PBFQBP",
        "outputId": "2f6c9709-4fc3-4e52-d606-fd3fb072c608"
      },
      "outputs": [
        {
          "output_type": "execute_result",
          "data": {
            "text/html": [
              "<div>\n",
              "<style scoped>\n",
              "    .dataframe tbody tr th:only-of-type {\n",
              "        vertical-align: middle;\n",
              "    }\n",
              "\n",
              "    .dataframe tbody tr th {\n",
              "        vertical-align: top;\n",
              "    }\n",
              "\n",
              "    .dataframe thead tr th {\n",
              "        text-align: left;\n",
              "    }\n",
              "\n",
              "    .dataframe thead tr:last-of-type th {\n",
              "        text-align: right;\n",
              "    }\n",
              "</style>\n",
              "<table border=\"1\" class=\"dataframe\">\n",
              "  <thead>\n",
              "    <tr>\n",
              "      <th></th>\n",
              "      <th>progress</th>\n",
              "      <th>rating</th>\n",
              "      <th colspan=\"2\" halign=\"left\">start_date</th>\n",
              "    </tr>\n",
              "    <tr>\n",
              "      <th></th>\n",
              "      <th>size</th>\n",
              "      <th>mean</th>\n",
              "      <th>min</th>\n",
              "      <th>max</th>\n",
              "    </tr>\n",
              "    <tr>\n",
              "      <th>item_id</th>\n",
              "      <th></th>\n",
              "      <th></th>\n",
              "      <th></th>\n",
              "      <th></th>\n",
              "    </tr>\n",
              "  </thead>\n",
              "  <tbody>\n",
              "    <tr>\n",
              "      <th>44681</th>\n",
              "      <td>353</td>\n",
              "      <td>4.56</td>\n",
              "      <td>2018-01-24</td>\n",
              "      <td>2019-12-20</td>\n",
              "    </tr>\n",
              "    <tr>\n",
              "      <th>162716</th>\n",
              "      <td>59</td>\n",
              "      <td>4.80</td>\n",
              "      <td>2018-01-25</td>\n",
              "      <td>2019-12-30</td>\n",
              "    </tr>\n",
              "  </tbody>\n",
              "</table>\n",
              "</div>"
            ],
            "text/plain": [
              "        progress rating start_date           \n",
              "            size   mean        min        max\n",
              "item_id                                      \n",
              "44681        353   4.56 2018-01-24 2019-12-20\n",
              "162716        59   4.80 2018-01-25 2019-12-30"
            ]
          },
          "metadata": {},
          "execution_count": 16
        }
      ],
      "source": [
        "df['rating'] = np.array(df['rating'].values, dtype=np.float32)\n",
        "\n",
        "df.loc[df['item_id'].isin([44681, 162716])].groupby('item_id').agg({\n",
        "    'progress': np.size,\n",
        "    'rating': ['mean'],\n",
        "    'start_date': ['min', 'max'],\n",
        "})"
      ]
    },
    {
      "cell_type": "markdown",
      "metadata": {
        "papermill": {
          "duration": 0.054157,
          "end_time": "2020-10-25T11:06:12.697808",
          "exception": false,
          "start_time": "2020-10-25T11:06:12.643651",
          "status": "completed"
        },
        "tags": [],
        "id": "KgR8GSogFQBP"
      },
      "source": [
        "<a id=\"validation\"></a>\n",
        "# Validation\n",
        "\n",
        "Для наших данных выбрем 7 последних дней и будем тестировать на них последовательно (1 test fold - 1 день).\n",
        "\n",
        "Но теперь нам нужно учитывать проблему холодного старта. Это основная проблем классических метод над матрицей взаимодействий.\n",
        "Поэтому напишем свой класс для разбиения исходного датафрейма на train/test"
      ]
    },
    {
      "cell_type": "code",
      "execution_count": 17,
      "metadata": {
        "_kg_hide-input": true,
        "execution": {
          "iopub.execute_input": "2020-10-25T11:06:12.844171Z",
          "iopub.status.busy": "2020-10-25T11:06:12.826732Z",
          "iopub.status.idle": "2020-10-25T11:06:12.847547Z",
          "shell.execute_reply": "2020-10-25T11:06:12.847160Z"
        },
        "papermill": {
          "duration": 0.094753,
          "end_time": "2020-10-25T11:06:12.847638",
          "exception": false,
          "start_time": "2020-10-25T11:06:12.752885",
          "status": "completed"
        },
        "tags": [],
        "id": "DPyiNpwKFQBP"
      },
      "outputs": [],
      "source": [
        "class TimeRangeSplit():\n",
        "    \"\"\"\n",
        "        https://pandas.pydata.org/pandas-docs/stable/reference/api/pandas.date_range.html\n",
        "    \"\"\"\n",
        "    def __init__(self, \n",
        "                 start_date, \n",
        "                 end_date=None, \n",
        "                 freq='D', \n",
        "                 periods=None, \n",
        "                 tz=None, \n",
        "                 normalize=False, \n",
        "                 closed=None, \n",
        "                 train_min_date=None,\n",
        "                 filter_cold_users=True, \n",
        "                 filter_cold_items=True, \n",
        "                 filter_already_seen=True):\n",
        "        \n",
        "        self.start_date = start_date\n",
        "        if end_date is None and periods is None:\n",
        "            raise ValueError(\"Either 'end_date' or 'periods' must be non-zero, not both at the same time.\")\n",
        "\n",
        "        self.end_date = end_date\n",
        "        self.freq = freq\n",
        "        self.periods = periods\n",
        "        self.tz = tz\n",
        "        self.normalize = normalize\n",
        "        self.closed = closed\n",
        "        self.train_min_date = pd.to_datetime(train_min_date, errors='raise')\n",
        "        self.filter_cold_users = filter_cold_users\n",
        "        self.filter_cold_items = filter_cold_items\n",
        "        self.filter_already_seen = filter_already_seen\n",
        "\n",
        "        self.date_range = pd.date_range(\n",
        "            start=start_date, \n",
        "            end=end_date, \n",
        "            freq=freq, \n",
        "            periods=periods, \n",
        "            tz=tz, \n",
        "            normalize=normalize, \n",
        "            closed=closed)\n",
        "\n",
        "        self.max_n_splits = max(0, len(self.date_range) - 1)\n",
        "        if self.max_n_splits == 0:\n",
        "            raise ValueError(\"Provided parametrs set an empty date range.\") \n",
        "\n",
        "    def split(self, \n",
        "              df, \n",
        "              user_column='user_id',\n",
        "              item_column='item_id',\n",
        "              datetime_column='date',\n",
        "              fold_stats=False):\n",
        "        df_datetime = df[datetime_column]\n",
        "        if self.train_min_date is not None:\n",
        "            train_min_mask = df_datetime >= self.train_min_date\n",
        "        else:\n",
        "            train_min_mask = df_datetime.notnull()\n",
        "\n",
        "        date_range = self.date_range[(self.date_range >= df_datetime.min()) & \n",
        "                                     (self.date_range <= df_datetime.max())]\n",
        "\n",
        "        for start, end in pairwise(date_range):\n",
        "            fold_info = {\n",
        "                'Start date': start,\n",
        "                'End date': end\n",
        "            }\n",
        "            train_mask = train_min_mask & (df_datetime < start)\n",
        "            train_idx = df.index[train_mask]\n",
        "            if fold_stats:\n",
        "                fold_info['Train'] = len(train_idx)\n",
        "\n",
        "            test_mask = (df_datetime >= start) & (df_datetime < end)\n",
        "            test_idx = df.index[test_mask]\n",
        "            \n",
        "            if self.filter_cold_users:\n",
        "                new = np.setdiff1d(\n",
        "                    df.loc[test_idx, user_column].unique(), \n",
        "                    df.loc[train_idx, user_column].unique())\n",
        "                new_idx = df.index[test_mask & df[user_column].isin(new)]\n",
        "                test_idx = np.setdiff1d(test_idx, new_idx)\n",
        "                test_mask = df.index.isin(test_idx)\n",
        "                if fold_stats:\n",
        "                    fold_info['New users'] = len(new)\n",
        "                    fold_info['New users interactions'] = len(new_idx)\n",
        "\n",
        "            if self.filter_cold_items:\n",
        "                new = np.setdiff1d(\n",
        "                    df.loc[test_idx, item_column].unique(), \n",
        "                    df.loc[train_idx, item_column].unique())\n",
        "                new_idx = df.index[test_mask & df[item_column].isin(new)]\n",
        "                test_idx = np.setdiff1d(test_idx, new_idx)\n",
        "                test_mask = df.index.isin(test_idx)\n",
        "                if fold_stats:\n",
        "                    fold_info['New items'] = len(new)\n",
        "                    fold_info['New items interactions'] = len(new_idx)\n",
        "\n",
        "            if self.filter_already_seen:\n",
        "                user_item = [user_column, item_column]\n",
        "                train_pairs = df.loc[train_idx, user_item].set_index(user_item).index\n",
        "                test_pairs = df.loc[test_idx, user_item].set_index(user_item).index\n",
        "                intersection = train_pairs.intersection(test_pairs)\n",
        "                test_idx = test_idx[~test_pairs.isin(intersection)]\n",
        "                # test_mask = rd.df.index.isin(test_idx)\n",
        "                if fold_stats:\n",
        "                    fold_info['Known interactions'] = len(intersection)\n",
        "\n",
        "            if fold_stats:\n",
        "                fold_info['Test'] = len(test_idx)\n",
        "\n",
        "            yield (train_idx, test_idx, fold_info)\n",
        "\n",
        "    def get_n_splits(self, df, datetime_column='date'):\n",
        "        df_datetime = df[datetime_column]\n",
        "        if self.train_min_date is not None:\n",
        "            df_datetime = df_datetime[df_datetime >= self.train_min_date]\n",
        "\n",
        "        date_range = self.date_range[(self.date_range >= df_datetime.min()) & \n",
        "                                     (self.date_range <= df_datetime.max())]\n",
        "\n",
        "        return max(0, len(date_range) - 1)"
      ]
    },
    {
      "cell_type": "code",
      "execution_count": 18,
      "metadata": {
        "execution": {
          "iopub.execute_input": "2020-10-25T11:06:12.968530Z",
          "iopub.status.busy": "2020-10-25T11:06:12.967910Z",
          "iopub.status.idle": "2020-10-25T11:06:12.978933Z",
          "shell.execute_reply": "2020-10-25T11:06:12.978511Z"
        },
        "papermill": {
          "duration": 0.07549,
          "end_time": "2020-10-25T11:06:12.979016",
          "exception": false,
          "start_time": "2020-10-25T11:06:12.903526",
          "status": "completed"
        },
        "tags": [],
        "colab": {
          "base_uri": "https://localhost:8080/"
        },
        "id": "hBQBuEHXFQBR",
        "outputId": "52a7a723-b942-4beb-8a93-9dfc3e628b2f"
      },
      "outputs": [
        {
          "output_type": "execute_result",
          "data": {
            "text/plain": [
              "(Timestamp('2019-12-24 00:00:00'), Timestamp('2019-12-31 00:00:00'))"
            ]
          },
          "metadata": {},
          "execution_count": 18
        }
      ],
      "source": [
        "last_date = df['start_date'].max().normalize()\n",
        "folds = 7\n",
        "start_date = last_date - pd.Timedelta(days=folds)\n",
        "start_date, last_date"
      ]
    },
    {
      "cell_type": "code",
      "execution_count": 19,
      "metadata": {
        "execution": {
          "iopub.execute_input": "2020-10-25T11:06:13.096313Z",
          "iopub.status.busy": "2020-10-25T11:06:13.095704Z",
          "iopub.status.idle": "2020-10-25T11:06:13.114976Z",
          "shell.execute_reply": "2020-10-25T11:06:13.114456Z"
        },
        "papermill": {
          "duration": 0.078672,
          "end_time": "2020-10-25T11:06:13.115066",
          "exception": false,
          "start_time": "2020-10-25T11:06:13.036394",
          "status": "completed"
        },
        "tags": [],
        "colab": {
          "base_uri": "https://localhost:8080/"
        },
        "id": "x7HxSj0aFQBR",
        "outputId": "d76e44cc-893d-4fca-a491-c20e2d1965f0"
      },
      "outputs": [
        {
          "output_type": "execute_result",
          "data": {
            "text/plain": [
              "(7, 7)"
            ]
          },
          "metadata": {},
          "execution_count": 19
        }
      ],
      "source": [
        "cv = TimeRangeSplit(start_date=start_date, periods=folds+1)\n",
        "\n",
        "cv.max_n_splits, cv.get_n_splits(df, datetime_column='start_date')"
      ]
    },
    {
      "cell_type": "code",
      "execution_count": 20,
      "metadata": {
        "execution": {
          "iopub.execute_input": "2020-10-25T11:06:13.283453Z",
          "iopub.status.busy": "2020-10-25T11:06:13.282833Z",
          "iopub.status.idle": "2020-10-25T11:06:13.287386Z",
          "shell.execute_reply": "2020-10-25T11:06:13.286953Z"
        },
        "papermill": {
          "duration": 0.090267,
          "end_time": "2020-10-25T11:06:13.287466",
          "exception": false,
          "start_time": "2020-10-25T11:06:13.197199",
          "status": "completed"
        },
        "tags": [],
        "colab": {
          "base_uri": "https://localhost:8080/"
        },
        "id": "f11T8XOZFQBR",
        "outputId": "0700f5bf-ef76-4bb3-b456-bceafd95ea02"
      },
      "outputs": [
        {
          "output_type": "execute_result",
          "data": {
            "text/plain": [
              "DatetimeIndex(['2019-12-24', '2019-12-25', '2019-12-26', '2019-12-27',\n",
              "               '2019-12-28', '2019-12-29', '2019-12-30', '2019-12-31'],\n",
              "              dtype='datetime64[ns]', freq='D')"
            ]
          },
          "metadata": {},
          "execution_count": 20
        }
      ],
      "source": [
        "cv.date_range"
      ]
    },
    {
      "cell_type": "code",
      "execution_count": 21,
      "metadata": {
        "execution": {
          "iopub.execute_input": "2020-10-25T11:06:13.405279Z",
          "iopub.status.busy": "2020-10-25T11:06:13.404844Z",
          "iopub.status.idle": "2020-10-25T11:06:28.830522Z",
          "shell.execute_reply": "2020-10-25T11:06:28.830046Z"
        },
        "papermill": {
          "duration": 15.486767,
          "end_time": "2020-10-25T11:06:28.830609",
          "exception": false,
          "start_time": "2020-10-25T11:06:13.343842",
          "status": "completed"
        },
        "tags": [],
        "id": "mLvXCQ5WFQBR"
      },
      "outputs": [],
      "source": [
        "folds_with_stats = list(cv.split(\n",
        "    df, \n",
        "    user_column='user_id',\n",
        "    item_column='item_id',\n",
        "    datetime_column='start_date',\n",
        "    fold_stats=True\n",
        "))\n",
        "\n",
        "folds_info_with_stats = pd.DataFrame([info for _, _, info in folds_with_stats])"
      ]
    },
    {
      "cell_type": "code",
      "execution_count": 22,
      "metadata": {
        "execution": {
          "iopub.execute_input": "2020-10-25T11:06:28.961027Z",
          "iopub.status.busy": "2020-10-25T11:06:28.955384Z",
          "iopub.status.idle": "2020-10-25T11:06:28.965895Z",
          "shell.execute_reply": "2020-10-25T11:06:28.965408Z"
        },
        "papermill": {
          "duration": 0.076088,
          "end_time": "2020-10-25T11:06:28.965974",
          "exception": false,
          "start_time": "2020-10-25T11:06:28.889886",
          "status": "completed"
        },
        "tags": [],
        "colab": {
          "base_uri": "https://localhost:8080/",
          "height": 266
        },
        "id": "9NvjauNUFQBS",
        "outputId": "7918f18e-9bba-44dc-dee7-69b2b49695c9"
      },
      "outputs": [
        {
          "output_type": "execute_result",
          "data": {
            "text/html": [
              "<div>\n",
              "<style scoped>\n",
              "    .dataframe tbody tr th:only-of-type {\n",
              "        vertical-align: middle;\n",
              "    }\n",
              "\n",
              "    .dataframe tbody tr th {\n",
              "        vertical-align: top;\n",
              "    }\n",
              "\n",
              "    .dataframe thead th {\n",
              "        text-align: right;\n",
              "    }\n",
              "</style>\n",
              "<table border=\"1\" class=\"dataframe\">\n",
              "  <thead>\n",
              "    <tr style=\"text-align: right;\">\n",
              "      <th></th>\n",
              "      <th>Start date</th>\n",
              "      <th>End date</th>\n",
              "      <th>Train</th>\n",
              "      <th>New users</th>\n",
              "      <th>New users interactions</th>\n",
              "      <th>New items</th>\n",
              "      <th>New items interactions</th>\n",
              "      <th>Known interactions</th>\n",
              "      <th>Test</th>\n",
              "    </tr>\n",
              "  </thead>\n",
              "  <tbody>\n",
              "    <tr>\n",
              "      <th>0</th>\n",
              "      <td>2019-12-24</td>\n",
              "      <td>2019-12-25</td>\n",
              "      <td>1515946</td>\n",
              "      <td>3</td>\n",
              "      <td>3</td>\n",
              "      <td>0</td>\n",
              "      <td>0</td>\n",
              "      <td>0</td>\n",
              "      <td>2045</td>\n",
              "    </tr>\n",
              "    <tr>\n",
              "      <th>1</th>\n",
              "      <td>2019-12-25</td>\n",
              "      <td>2019-12-26</td>\n",
              "      <td>1517994</td>\n",
              "      <td>1</td>\n",
              "      <td>1</td>\n",
              "      <td>0</td>\n",
              "      <td>0</td>\n",
              "      <td>0</td>\n",
              "      <td>2141</td>\n",
              "    </tr>\n",
              "    <tr>\n",
              "      <th>2</th>\n",
              "      <td>2019-12-26</td>\n",
              "      <td>2019-12-27</td>\n",
              "      <td>1520136</td>\n",
              "      <td>0</td>\n",
              "      <td>0</td>\n",
              "      <td>0</td>\n",
              "      <td>0</td>\n",
              "      <td>0</td>\n",
              "      <td>2177</td>\n",
              "    </tr>\n",
              "    <tr>\n",
              "      <th>3</th>\n",
              "      <td>2019-12-27</td>\n",
              "      <td>2019-12-28</td>\n",
              "      <td>1522313</td>\n",
              "      <td>0</td>\n",
              "      <td>0</td>\n",
              "      <td>0</td>\n",
              "      <td>0</td>\n",
              "      <td>0</td>\n",
              "      <td>2110</td>\n",
              "    </tr>\n",
              "    <tr>\n",
              "      <th>4</th>\n",
              "      <td>2019-12-28</td>\n",
              "      <td>2019-12-29</td>\n",
              "      <td>1524423</td>\n",
              "      <td>2</td>\n",
              "      <td>4</td>\n",
              "      <td>0</td>\n",
              "      <td>0</td>\n",
              "      <td>0</td>\n",
              "      <td>2205</td>\n",
              "    </tr>\n",
              "    <tr>\n",
              "      <th>5</th>\n",
              "      <td>2019-12-29</td>\n",
              "      <td>2019-12-30</td>\n",
              "      <td>1526632</td>\n",
              "      <td>4</td>\n",
              "      <td>4</td>\n",
              "      <td>0</td>\n",
              "      <td>0</td>\n",
              "      <td>0</td>\n",
              "      <td>2118</td>\n",
              "    </tr>\n",
              "    <tr>\n",
              "      <th>6</th>\n",
              "      <td>2019-12-30</td>\n",
              "      <td>2019-12-31</td>\n",
              "      <td>1528754</td>\n",
              "      <td>1</td>\n",
              "      <td>1</td>\n",
              "      <td>0</td>\n",
              "      <td>0</td>\n",
              "      <td>0</td>\n",
              "      <td>2168</td>\n",
              "    </tr>\n",
              "  </tbody>\n",
              "</table>\n",
              "</div>"
            ],
            "text/plain": [
              "  Start date   End date  ...  Known interactions  Test\n",
              "0 2019-12-24 2019-12-25  ...                   0  2045\n",
              "1 2019-12-25 2019-12-26  ...                   0  2141\n",
              "2 2019-12-26 2019-12-27  ...                   0  2177\n",
              "3 2019-12-27 2019-12-28  ...                   0  2110\n",
              "4 2019-12-28 2019-12-29  ...                   0  2205\n",
              "5 2019-12-29 2019-12-30  ...                   0  2118\n",
              "6 2019-12-30 2019-12-31  ...                   0  2168\n",
              "\n",
              "[7 rows x 9 columns]"
            ]
          },
          "metadata": {},
          "execution_count": 22
        }
      ],
      "source": [
        "folds_info_with_stats"
      ]
    },
    {
      "cell_type": "code",
      "execution_count": 23,
      "metadata": {
        "execution": {
          "iopub.execute_input": "2020-10-25T11:06:29.086665Z",
          "iopub.status.busy": "2020-10-25T11:06:29.085982Z",
          "iopub.status.idle": "2020-10-25T11:06:29.090451Z",
          "shell.execute_reply": "2020-10-25T11:06:29.089760Z"
        },
        "papermill": {
          "duration": 0.067287,
          "end_time": "2020-10-25T11:06:29.090578",
          "exception": false,
          "start_time": "2020-10-25T11:06:29.023291",
          "status": "completed"
        },
        "tags": [],
        "colab": {
          "base_uri": "https://localhost:8080/"
        },
        "id": "Jw457m_dFQBS",
        "outputId": "04af51aa-f4c6-4535-b30e-40a13304c68c"
      },
      "outputs": [
        {
          "output_type": "execute_result",
          "data": {
            "text/plain": [
              "[(Timestamp('2019-12-24 00:00:00', freq='D'),\n",
              "  Timestamp('2019-12-25 00:00:00', freq='D')),\n",
              " (Timestamp('2019-12-25 00:00:00', freq='D'),\n",
              "  Timestamp('2019-12-26 00:00:00', freq='D')),\n",
              " (Timestamp('2019-12-26 00:00:00', freq='D'),\n",
              "  Timestamp('2019-12-27 00:00:00', freq='D')),\n",
              " (Timestamp('2019-12-27 00:00:00', freq='D'),\n",
              "  Timestamp('2019-12-28 00:00:00', freq='D')),\n",
              " (Timestamp('2019-12-28 00:00:00', freq='D'),\n",
              "  Timestamp('2019-12-29 00:00:00', freq='D')),\n",
              " (Timestamp('2019-12-29 00:00:00', freq='D'),\n",
              "  Timestamp('2019-12-30 00:00:00', freq='D')),\n",
              " (Timestamp('2019-12-30 00:00:00', freq='D'),\n",
              "  Timestamp('2019-12-31 00:00:00', freq='D'))]"
            ]
          },
          "metadata": {},
          "execution_count": 23
        }
      ],
      "source": [
        "fold_dates = [(info['Start date'], info['End date']) for _, _, info in folds_with_stats]\n",
        "fold_dates"
      ]
    },
    {
      "cell_type": "code",
      "execution_count": 24,
      "metadata": {
        "execution": {
          "iopub.execute_input": "2020-10-25T11:06:29.225710Z",
          "iopub.status.busy": "2020-10-25T11:06:29.224983Z",
          "iopub.status.idle": "2020-10-25T11:06:29.227558Z",
          "shell.execute_reply": "2020-10-25T11:06:29.227047Z"
        },
        "papermill": {
          "duration": 0.076831,
          "end_time": "2020-10-25T11:06:29.227656",
          "exception": false,
          "start_time": "2020-10-25T11:06:29.150825",
          "status": "completed"
        },
        "tags": [],
        "id": "p35VjNh2FQBS"
      },
      "outputs": [],
      "source": [
        "def compute_metrics(df_true, df_pred, top_N):\n",
        "    result = {}\n",
        "    test_recs = df_true.set_index(['user_id', 'item_id']).join(df_pred.set_index(['user_id', 'item_id']))\n",
        "    test_recs = test_recs.sort_values(by=['user_id', 'rank'])\n",
        "\n",
        "    test_recs['users_item_count'] = test_recs.groupby(level='user_id')['rank'].transform(np.size)\n",
        "    test_recs['reciprocal_rank'] = (1 / test_recs['rank']).fillna(0)\n",
        "    test_recs['cumulative_rank'] = test_recs.groupby(level='user_id').cumcount() + 1\n",
        "    test_recs['cumulative_rank'] = test_recs['cumulative_rank'] / test_recs['rank']\n",
        "    \n",
        "    users_count = test_recs.index.get_level_values('user_id').nunique()\n",
        "    for k in range(1, top_N + 1):\n",
        "        hit_k = f'hit@{k}'\n",
        "        test_recs[hit_k] = test_recs['rank'] <= k\n",
        "        result[f'Precision@{k}'] = (test_recs[hit_k] / k).sum() / users_count\n",
        "        result[f'Recall@{k}'] = (test_recs[hit_k] / test_recs['users_item_count']).sum() / users_count\n",
        "\n",
        "    result[f'MAP@{top_N}'] = (test_recs[\"cumulative_rank\"] / test_recs[\"users_item_count\"]).sum() / users_count\n",
        "    result[f'MRR'] = test_recs.groupby(level='user_id')['reciprocal_rank'].max().mean()\n",
        "    return pd.Series(result)"
      ]
    },
    {
      "cell_type": "markdown",
      "metadata": {
        "papermill": {
          "duration": 0.085718,
          "end_time": "2020-10-25T11:06:29.416893",
          "exception": false,
          "start_time": "2020-10-25T11:06:29.331175",
          "status": "completed"
        },
        "tags": [],
        "id": "nzx-qKiGFQBS"
      },
      "source": [
        "<a id=\"implicit\"></a>\n",
        "# Implicit\n",
        "\n",
        "Библиотека для построения рекомендательных систем на основе датасетов с неявным таргетом.\n",
        "* Репо - https://github.com/benfred/implicit\n",
        "* Документация - https://implicit.readthedocs.io/en/latest/\n",
        "\n",
        "Входные данные - разреженные матрицы (либо csr_matrix, либо coo_matrix) с типом float32/float64"
      ]
    },
    {
      "cell_type": "code",
      "execution_count": 25,
      "metadata": {
        "execution": {
          "iopub.execute_input": "2020-10-25T11:06:29.599372Z",
          "iopub.status.busy": "2020-10-25T11:06:29.598872Z",
          "iopub.status.idle": "2020-10-25T11:06:29.672255Z",
          "shell.execute_reply": "2020-10-25T11:06:29.672625Z"
        },
        "papermill": {
          "duration": 0.163197,
          "end_time": "2020-10-25T11:06:29.672735",
          "exception": false,
          "start_time": "2020-10-25T11:06:29.509538",
          "status": "completed"
        },
        "tags": [],
        "colab": {
          "base_uri": "https://localhost:8080/"
        },
        "id": "koY4M6_8FQBT",
        "outputId": "679673d2-f22d-4207-96ab-fe3d44282cb1"
      },
      "outputs": [
        {
          "output_type": "execute_result",
          "data": {
            "text/plain": [
              "((1515946, 5), (2045, 5))"
            ]
          },
          "metadata": {},
          "execution_count": 25
        }
      ],
      "source": [
        "train_idx, test_idx, info = folds_with_stats[0]\n",
        "\n",
        "train = df.loc[train_idx]\n",
        "test = df.loc[test_idx]\n",
        "train.shape, test.shape"
      ]
    },
    {
      "cell_type": "code",
      "execution_count": 26,
      "metadata": {
        "execution": {
          "iopub.execute_input": "2020-10-25T11:06:29.793732Z",
          "iopub.status.busy": "2020-10-25T11:06:29.793134Z",
          "iopub.status.idle": "2020-10-25T11:06:29.797666Z",
          "shell.execute_reply": "2020-10-25T11:06:29.797303Z"
        },
        "papermill": {
          "duration": 0.066571,
          "end_time": "2020-10-25T11:06:29.797740",
          "exception": false,
          "start_time": "2020-10-25T11:06:29.731169",
          "status": "completed"
        },
        "tags": [],
        "colab": {
          "base_uri": "https://localhost:8080/"
        },
        "id": "mspAPiKwFQBT",
        "outputId": "7a7d5a2c-9f70-4dc9-e3e5-df160e4b99fd"
      },
      "outputs": [
        {
          "output_type": "execute_result",
          "data": {
            "text/plain": [
              "(1515946, 2045)"
            ]
          },
          "metadata": {},
          "execution_count": 26
        }
      ],
      "source": [
        "info['Train'], info['Test']"
      ]
    },
    {
      "cell_type": "code",
      "execution_count": 27,
      "metadata": {
        "execution": {
          "iopub.execute_input": "2020-10-25T11:06:29.922078Z",
          "iopub.status.busy": "2020-10-25T11:06:29.921309Z",
          "iopub.status.idle": "2020-10-25T11:06:29.924119Z",
          "shell.execute_reply": "2020-10-25T11:06:29.923633Z"
        },
        "papermill": {
          "duration": 0.068677,
          "end_time": "2020-10-25T11:06:29.924203",
          "exception": false,
          "start_time": "2020-10-25T11:06:29.855526",
          "status": "completed"
        },
        "tags": [],
        "id": "66-ncDqnFQBT"
      },
      "outputs": [],
      "source": [
        "def get_coo_matrix(df, \n",
        "                   user_col='user_id', \n",
        "                   item_col='item_id', \n",
        "                   weight_col=None, \n",
        "                   users_mapping=users_mapping, \n",
        "                   items_mapping=items_mapping):\n",
        "    if weight_col is None:\n",
        "        weights = np.ones(len(df), dtype=np.float32)\n",
        "    else:\n",
        "        weights = df[weight_col].astype(np.float32)\n",
        "\n",
        "    interaction_matrix = sp.coo_matrix((\n",
        "        weights, \n",
        "        (\n",
        "            df[user_col].map(users_mapping.get), \n",
        "            df[item_col].map(items_mapping.get)\n",
        "        )\n",
        "    ))\n",
        "    return interaction_matrix"
      ]
    },
    {
      "cell_type": "code",
      "execution_count": 28,
      "metadata": {
        "execution": {
          "iopub.execute_input": "2020-10-25T11:06:30.049450Z",
          "iopub.status.busy": "2020-10-25T11:06:30.048867Z",
          "iopub.status.idle": "2020-10-25T11:06:33.210119Z",
          "shell.execute_reply": "2020-10-25T11:06:33.210556Z"
        },
        "papermill": {
          "duration": 3.228626,
          "end_time": "2020-10-25T11:06:33.210657",
          "exception": false,
          "start_time": "2020-10-25T11:06:29.982031",
          "status": "completed"
        },
        "tags": [],
        "colab": {
          "base_uri": "https://localhost:8080/"
        },
        "id": "osGrWI-3FQBT",
        "outputId": "4f13feaa-a16f-4fdb-c7c5-9735424276c6"
      },
      "outputs": [
        {
          "output_type": "execute_result",
          "data": {
            "text/plain": [
              "<151589x59599 sparse matrix of type '<class 'numpy.float32'>'\n",
              "\twith 1515946 stored elements in Compressed Sparse Row format>"
            ]
          },
          "metadata": {},
          "execution_count": 28
        }
      ],
      "source": [
        "train_mat = get_coo_matrix(train).tocsr()\n",
        "train_mat"
      ]
    },
    {
      "cell_type": "markdown",
      "metadata": {
        "papermill": {
          "duration": 0.058631,
          "end_time": "2020-10-25T11:06:33.326299",
          "exception": false,
          "start_time": "2020-10-25T11:06:33.267668",
          "status": "completed"
        },
        "tags": [],
        "id": "TyPslwfWFQBU"
      },
      "source": [
        "## Item-to-item модели\n",
        "\n",
        "**Векорное представление для объекта** - весь столбец из матрицы взаимодействий (user_item) матрица\n",
        "\n",
        "**Процесс построения рекомендаций** - поиск похожих объектов (по косинусной близости) для всех объектов, с которыми пользователь уже взаимодействовал и выдача топа из этого списка\n",
        "\n",
        "**Пространство для тюнинга** - взвешние на уровне таблицы, взвешивание элементов матрицы (на уровне моделей), кол-во соседей `K`"
      ]
    },
    {
      "cell_type": "code",
      "source": [
        "pip install implicit"
      ],
      "metadata": {
        "colab": {
          "base_uri": "https://localhost:8080/"
        },
        "id": "DPs4ZT-fGCft",
        "outputId": "3f1b2493-cd25-43a4-f8b1-13080c5c803b"
      },
      "execution_count": 29,
      "outputs": [
        {
          "output_type": "stream",
          "name": "stdout",
          "text": [
            "Collecting implicit\n",
            "  Downloading implicit-0.4.8.tar.gz (1.1 MB)\n",
            "\u001b[K     |████████████████████████████████| 1.1 MB 5.4 MB/s \n",
            "\u001b[?25h  Installing build dependencies ... \u001b[?25l\u001b[?25hdone\n",
            "  Getting requirements to build wheel ... \u001b[?25l\u001b[?25hdone\n",
            "  Installing backend dependencies ... \u001b[?25l\u001b[?25hdone\n",
            "    Preparing wheel metadata ... \u001b[?25l\u001b[?25hdone\n",
            "Requirement already satisfied: tqdm>=4.27 in /usr/local/lib/python3.7/dist-packages (from implicit) (4.62.3)\n",
            "Requirement already satisfied: numpy in /usr/local/lib/python3.7/dist-packages (from implicit) (1.19.5)\n",
            "Requirement already satisfied: scipy>=0.16 in /usr/local/lib/python3.7/dist-packages (from implicit) (1.4.1)\n",
            "Building wheels for collected packages: implicit\n",
            "  Building wheel for implicit (PEP 517) ... \u001b[?25l\u001b[?25hdone\n",
            "  Created wheel for implicit: filename=implicit-0.4.8-cp37-cp37m-linux_x86_64.whl size=4606568 sha256=0bd4d76c653e0a793d8199d896623d1978a620f6882c714a40609ada6f425775\n",
            "  Stored in directory: /root/.cache/pip/wheels/88/e6/34/25e73cccbaf1a961154bb562a5f86123b68fdbf40e306073d6\n",
            "Successfully built implicit\n",
            "Installing collected packages: implicit\n",
            "Successfully installed implicit-0.4.8\n"
          ]
        }
      ]
    },
    {
      "cell_type": "code",
      "execution_count": 30,
      "metadata": {
        "execution": {
          "iopub.execute_input": "2020-10-25T11:06:33.480037Z",
          "iopub.status.busy": "2020-10-25T11:06:33.479562Z",
          "iopub.status.idle": "2020-10-25T11:06:33.568354Z",
          "shell.execute_reply": "2020-10-25T11:06:33.567892Z"
        },
        "papermill": {
          "duration": 0.150203,
          "end_time": "2020-10-25T11:06:33.568447",
          "exception": false,
          "start_time": "2020-10-25T11:06:33.418244",
          "status": "completed"
        },
        "tags": [],
        "id": "kc5zk5yzFQBU"
      },
      "outputs": [],
      "source": [
        "from implicit.nearest_neighbours import CosineRecommender, BM25Recommender, TFIDFRecommender"
      ]
    },
    {
      "cell_type": "markdown",
      "metadata": {
        "papermill": {
          "duration": 0.058195,
          "end_time": "2020-10-25T11:06:33.684617",
          "exception": false,
          "start_time": "2020-10-25T11:06:33.626422",
          "status": "completed"
        },
        "tags": [],
        "id": "MkVtN-WUFQBU"
      },
      "source": [
        "Этим модели для Item-to-item подхода ожидают на вход матрицу в ориентации item_user, поэтому в `fit` передаем `train_mat.T`"
      ]
    },
    {
      "cell_type": "code",
      "execution_count": 31,
      "metadata": {
        "execution": {
          "iopub.execute_input": "2020-10-25T11:06:33.803634Z",
          "iopub.status.busy": "2020-10-25T11:06:33.803045Z",
          "iopub.status.idle": "2020-10-25T11:06:35.082761Z",
          "shell.execute_reply": "2020-10-25T11:06:35.073708Z"
        },
        "papermill": {
          "duration": 1.341343,
          "end_time": "2020-10-25T11:06:35.082914",
          "exception": false,
          "start_time": "2020-10-25T11:06:33.741571",
          "status": "completed"
        },
        "tags": [],
        "colab": {
          "base_uri": "https://localhost:8080/",
          "height": 49,
          "referenced_widgets": [
            "da2a413eec7247c9a84e2221c9ff9918",
            "38cd28445d624ed8a2f7403c1259c943",
            "5edacd0502e942d4aa8554af23288769",
            "005e2399de6b47cf9082d731a048f074",
            "691cbda0373d42e0a09227eca8359e4c",
            "4f2983341d6b4f2cbe98e66d5e54eb6f",
            "371903146aea45f08e2f61fdbe90d7e9",
            "f6bff685d97c41f8b1e58d399637b8d4",
            "20877bcd41a647079477632a900bb911",
            "702eded26e4f47809e96bf397fbadcba",
            "b1b52693f26d4565ad4269b2ef8cef11"
          ]
        },
        "id": "hCDHhwQYFQBU",
        "outputId": "6aded3f1-6774-4661-f83f-7833164ce624"
      },
      "outputs": [
        {
          "output_type": "display_data",
          "data": {
            "application/vnd.jupyter.widget-view+json": {
              "model_id": "da2a413eec7247c9a84e2221c9ff9918",
              "version_minor": 0,
              "version_major": 2
            },
            "text/plain": [
              "  0%|          | 0/59599 [00:00<?, ?it/s]"
            ]
          },
          "metadata": {}
        }
      ],
      "source": [
        "cosine_model = CosineRecommender(K=10)\n",
        "cosine_model.fit(train_mat.T) # "
      ]
    },
    {
      "cell_type": "code",
      "execution_count": 32,
      "metadata": {
        "execution": {
          "iopub.execute_input": "2020-10-25T11:06:35.276542Z",
          "iopub.status.busy": "2020-10-25T11:06:35.275922Z",
          "iopub.status.idle": "2020-10-25T11:06:35.279290Z",
          "shell.execute_reply": "2020-10-25T11:06:35.278337Z"
        },
        "papermill": {
          "duration": 0.071459,
          "end_time": "2020-10-25T11:06:35.279393",
          "exception": false,
          "start_time": "2020-10-25T11:06:35.207934",
          "status": "completed"
        },
        "tags": [],
        "colab": {
          "base_uri": "https://localhost:8080/"
        },
        "id": "TrVuobsAFQBU",
        "outputId": "676f28a7-cc58-4064-cb90-c81553a39655"
      },
      "outputs": [
        {
          "output_type": "stream",
          "name": "stdout",
          "text": [
            "Рекомендации для пользователя 139942, номер строки - 10346\n"
          ]
        }
      ],
      "source": [
        "top_N = 10\n",
        "user_id = test['user_id'].iloc[0]\n",
        "row_id = users_mapping[user_id]\n",
        "print(f'Рекомендации для пользователя {user_id}, номер строки - {row_id}')"
      ]
    },
    {
      "cell_type": "markdown",
      "metadata": {
        "papermill": {
          "duration": 0.061163,
          "end_time": "2020-10-25T11:06:35.399657",
          "exception": false,
          "start_time": "2020-10-25T11:06:35.338494",
          "status": "completed"
        },
        "tags": [],
        "id": "c5tVqFWqFQBU"
      },
      "source": [
        "Параметр `K` влияет на максимальную выдачу топа, поэтому `N` для таких моделей желательно указывать меньше `K`"
      ]
    },
    {
      "cell_type": "code",
      "execution_count": 33,
      "metadata": {
        "execution": {
          "iopub.execute_input": "2020-10-25T11:06:35.528887Z",
          "iopub.status.busy": "2020-10-25T11:06:35.528277Z",
          "iopub.status.idle": "2020-10-25T11:06:35.532910Z",
          "shell.execute_reply": "2020-10-25T11:06:35.532346Z"
        },
        "papermill": {
          "duration": 0.0744,
          "end_time": "2020-10-25T11:06:35.533013",
          "exception": false,
          "start_time": "2020-10-25T11:06:35.458613",
          "status": "completed"
        },
        "tags": [],
        "colab": {
          "base_uri": "https://localhost:8080/",
          "height": 359
        },
        "id": "X7LhUn9zFQBV",
        "outputId": "d3d4c31a-b398-4cb9-eab9-401881259b0d"
      },
      "outputs": [
        {
          "output_type": "execute_result",
          "data": {
            "text/html": [
              "<div>\n",
              "<style scoped>\n",
              "    .dataframe tbody tr th:only-of-type {\n",
              "        vertical-align: middle;\n",
              "    }\n",
              "\n",
              "    .dataframe tbody tr th {\n",
              "        vertical-align: top;\n",
              "    }\n",
              "\n",
              "    .dataframe thead th {\n",
              "        text-align: right;\n",
              "    }\n",
              "</style>\n",
              "<table border=\"1\" class=\"dataframe\">\n",
              "  <thead>\n",
              "    <tr style=\"text-align: right;\">\n",
              "      <th></th>\n",
              "      <th>col_id</th>\n",
              "      <th>similarity</th>\n",
              "    </tr>\n",
              "  </thead>\n",
              "  <tbody>\n",
              "    <tr>\n",
              "      <th>0</th>\n",
              "      <td>4341</td>\n",
              "      <td>0.297014</td>\n",
              "    </tr>\n",
              "    <tr>\n",
              "      <th>1</th>\n",
              "      <td>7353</td>\n",
              "      <td>0.220847</td>\n",
              "    </tr>\n",
              "    <tr>\n",
              "      <th>2</th>\n",
              "      <td>36593</td>\n",
              "      <td>0.215622</td>\n",
              "    </tr>\n",
              "    <tr>\n",
              "      <th>3</th>\n",
              "      <td>3802</td>\n",
              "      <td>0.188025</td>\n",
              "    </tr>\n",
              "    <tr>\n",
              "      <th>4</th>\n",
              "      <td>51215</td>\n",
              "      <td>0.145095</td>\n",
              "    </tr>\n",
              "    <tr>\n",
              "      <th>5</th>\n",
              "      <td>49085</td>\n",
              "      <td>0.128586</td>\n",
              "    </tr>\n",
              "    <tr>\n",
              "      <th>6</th>\n",
              "      <td>37852</td>\n",
              "      <td>0.102340</td>\n",
              "    </tr>\n",
              "    <tr>\n",
              "      <th>7</th>\n",
              "      <td>7873</td>\n",
              "      <td>0.101929</td>\n",
              "    </tr>\n",
              "    <tr>\n",
              "      <th>8</th>\n",
              "      <td>46769</td>\n",
              "      <td>0.100504</td>\n",
              "    </tr>\n",
              "    <tr>\n",
              "      <th>9</th>\n",
              "      <td>56270</td>\n",
              "      <td>0.100504</td>\n",
              "    </tr>\n",
              "  </tbody>\n",
              "</table>\n",
              "</div>"
            ],
            "text/plain": [
              "   col_id  similarity\n",
              "0    4341    0.297014\n",
              "1    7353    0.220847\n",
              "2   36593    0.215622\n",
              "3    3802    0.188025\n",
              "4   51215    0.145095\n",
              "5   49085    0.128586\n",
              "6   37852    0.102340\n",
              "7    7873    0.101929\n",
              "8   46769    0.100504\n",
              "9   56270    0.100504"
            ]
          },
          "metadata": {},
          "execution_count": 33
        }
      ],
      "source": [
        "recs = cosine_model.recommend(row_id, train_mat, N=top_N, filter_already_liked_items=True)\n",
        "recs = pd.DataFrame(recs, columns=['col_id', 'similarity'])\n",
        "recs"
      ]
    },
    {
      "cell_type": "code",
      "execution_count": 34,
      "metadata": {
        "execution": {
          "iopub.execute_input": "2020-10-25T11:06:35.723334Z",
          "iopub.status.busy": "2020-10-25T11:06:35.722666Z",
          "iopub.status.idle": "2020-10-25T11:06:35.726839Z",
          "shell.execute_reply": "2020-10-25T11:06:35.726448Z"
        },
        "papermill": {
          "duration": 0.104552,
          "end_time": "2020-10-25T11:06:35.726926",
          "exception": false,
          "start_time": "2020-10-25T11:06:35.622374",
          "status": "completed"
        },
        "tags": [],
        "colab": {
          "base_uri": "https://localhost:8080/",
          "height": 359
        },
        "id": "NiFkt4t0FQBV",
        "outputId": "004ab45c-5513-4b86-c789-0987de69dc22"
      },
      "outputs": [
        {
          "output_type": "execute_result",
          "data": {
            "text/html": [
              "<div>\n",
              "<style scoped>\n",
              "    .dataframe tbody tr th:only-of-type {\n",
              "        vertical-align: middle;\n",
              "    }\n",
              "\n",
              "    .dataframe tbody tr th {\n",
              "        vertical-align: top;\n",
              "    }\n",
              "\n",
              "    .dataframe thead th {\n",
              "        text-align: right;\n",
              "    }\n",
              "</style>\n",
              "<table border=\"1\" class=\"dataframe\">\n",
              "  <thead>\n",
              "    <tr style=\"text-align: right;\">\n",
              "      <th></th>\n",
              "      <th>col_id</th>\n",
              "      <th>similarity</th>\n",
              "      <th>item_id</th>\n",
              "      <th>title</th>\n",
              "    </tr>\n",
              "  </thead>\n",
              "  <tbody>\n",
              "    <tr>\n",
              "      <th>0</th>\n",
              "      <td>4341</td>\n",
              "      <td>0.297014</td>\n",
              "      <td>193358</td>\n",
              "      <td>#охотник на волков</td>\n",
              "    </tr>\n",
              "    <tr>\n",
              "      <th>1</th>\n",
              "      <td>7353</td>\n",
              "      <td>0.220847</td>\n",
              "      <td>125586</td>\n",
              "      <td>меч предназначения</td>\n",
              "    </tr>\n",
              "    <tr>\n",
              "      <th>2</th>\n",
              "      <td>36593</td>\n",
              "      <td>0.215622</td>\n",
              "      <td>203882</td>\n",
              "      <td>#имя для лис</td>\n",
              "    </tr>\n",
              "    <tr>\n",
              "      <th>3</th>\n",
              "      <td>3802</td>\n",
              "      <td>0.188025</td>\n",
              "      <td>90986</td>\n",
              "      <td>кровь эльфов</td>\n",
              "    </tr>\n",
              "    <tr>\n",
              "      <th>4</th>\n",
              "      <td>51215</td>\n",
              "      <td>0.145095</td>\n",
              "      <td>146180</td>\n",
              "      <td>крещение руси</td>\n",
              "    </tr>\n",
              "    <tr>\n",
              "      <th>5</th>\n",
              "      <td>49085</td>\n",
              "      <td>0.128586</td>\n",
              "      <td>264849</td>\n",
              "      <td>сплав закона</td>\n",
              "    </tr>\n",
              "    <tr>\n",
              "      <th>6</th>\n",
              "      <td>37852</td>\n",
              "      <td>0.102340</td>\n",
              "      <td>238155</td>\n",
              "      <td>владычица озера</td>\n",
              "    </tr>\n",
              "    <tr>\n",
              "      <th>7</th>\n",
              "      <td>7873</td>\n",
              "      <td>0.101929</td>\n",
              "      <td>7094</td>\n",
              "      <td>крещение огнем</td>\n",
              "    </tr>\n",
              "    <tr>\n",
              "      <th>8</th>\n",
              "      <td>46769</td>\n",
              "      <td>0.100504</td>\n",
              "      <td>240226</td>\n",
              "      <td>отпущение без грехов</td>\n",
              "    </tr>\n",
              "    <tr>\n",
              "      <th>9</th>\n",
              "      <td>56270</td>\n",
              "      <td>0.100504</td>\n",
              "      <td>1728</td>\n",
              "      <td>«злой город»</td>\n",
              "    </tr>\n",
              "  </tbody>\n",
              "</table>\n",
              "</div>"
            ],
            "text/plain": [
              "   col_id  similarity  item_id                 title\n",
              "0    4341    0.297014   193358    #охотник на волков\n",
              "1    7353    0.220847   125586    меч предназначения\n",
              "2   36593    0.215622   203882          #имя для лис\n",
              "3    3802    0.188025    90986          кровь эльфов\n",
              "4   51215    0.145095   146180         крещение руси\n",
              "5   49085    0.128586   264849          сплав закона\n",
              "6   37852    0.102340   238155       владычица озера\n",
              "7    7873    0.101929     7094        крещение огнем\n",
              "8   46769    0.100504   240226  отпущение без грехов\n",
              "9   56270    0.100504     1728          «злой город»"
            ]
          },
          "metadata": {},
          "execution_count": 34
        }
      ],
      "source": [
        "recs['item_id'] = recs['col_id'].map(items_inv_mapping.get)\n",
        "recs['title'] = recs['item_id'].map(item_titles.get)\n",
        "recs"
      ]
    },
    {
      "cell_type": "code",
      "execution_count": 35,
      "metadata": {
        "execution": {
          "iopub.execute_input": "2020-10-25T11:06:35.851181Z",
          "iopub.status.busy": "2020-10-25T11:06:35.850625Z",
          "iopub.status.idle": "2020-10-25T11:06:35.853175Z",
          "shell.execute_reply": "2020-10-25T11:06:35.852816Z"
        },
        "papermill": {
          "duration": 0.066046,
          "end_time": "2020-10-25T11:06:35.853249",
          "exception": false,
          "start_time": "2020-10-25T11:06:35.787203",
          "status": "completed"
        },
        "tags": [],
        "id": "1xqN_JBfFQBV"
      },
      "outputs": [],
      "source": [
        "def generate_implicit_recs_mapper(model, train_matrix, N, user_mapping, item_inv_mapping):\n",
        "    def _recs_mapper(user):\n",
        "        user_id = user_mapping[user]\n",
        "        recs = model.recommend(user_id, \n",
        "                               train_matrix, \n",
        "                               N=N, \n",
        "                               filter_already_liked_items=True)\n",
        "        return [item_inv_mapping[item] for item, _ in recs]\n",
        "    return _recs_mapper"
      ]
    },
    {
      "cell_type": "code",
      "execution_count": 36,
      "metadata": {
        "execution": {
          "iopub.execute_input": "2020-10-25T11:06:35.985206Z",
          "iopub.status.busy": "2020-10-25T11:06:35.984659Z",
          "iopub.status.idle": "2020-10-25T11:06:35.990161Z",
          "shell.execute_reply": "2020-10-25T11:06:35.989293Z"
        },
        "papermill": {
          "duration": 0.076208,
          "end_time": "2020-10-25T11:06:35.990380",
          "exception": false,
          "start_time": "2020-10-25T11:06:35.914172",
          "status": "completed"
        },
        "tags": [],
        "colab": {
          "base_uri": "https://localhost:8080/"
        },
        "id": "EdKQwdy9FQBV",
        "outputId": "aa3e688b-200a-41de-ef54-1e0946efcd63"
      },
      "outputs": [
        {
          "output_type": "execute_result",
          "data": {
            "text/plain": [
              "<function __main__.generate_implicit_recs_mapper.<locals>._recs_mapper>"
            ]
          },
          "metadata": {},
          "execution_count": 36
        }
      ],
      "source": [
        "mapper = generate_implicit_recs_mapper(cosine_model, train_mat, top_N, users_mapping, items_inv_mapping)\n",
        "mapper"
      ]
    },
    {
      "cell_type": "code",
      "execution_count": 37,
      "metadata": {
        "execution": {
          "iopub.execute_input": "2020-10-25T11:06:36.127061Z",
          "iopub.status.busy": "2020-10-25T11:06:36.124238Z",
          "iopub.status.idle": "2020-10-25T11:06:36.230226Z",
          "shell.execute_reply": "2020-10-25T11:06:36.229850Z"
        },
        "papermill": {
          "duration": 0.176311,
          "end_time": "2020-10-25T11:06:36.230315",
          "exception": false,
          "start_time": "2020-10-25T11:06:36.054004",
          "status": "completed"
        },
        "tags": [],
        "colab": {
          "base_uri": "https://localhost:8080/",
          "height": 238
        },
        "id": "duEVslyzFQBV",
        "outputId": "517d6e3a-95c0-4e0c-c96b-ec57c57480eb"
      },
      "outputs": [
        {
          "output_type": "stream",
          "name": "stdout",
          "text": [
            "CPU times: user 4 µs, sys: 0 ns, total: 4 µs\n",
            "Wall time: 9.78 µs\n"
          ]
        },
        {
          "output_type": "execute_result",
          "data": {
            "text/html": [
              "<div>\n",
              "<style scoped>\n",
              "    .dataframe tbody tr th:only-of-type {\n",
              "        vertical-align: middle;\n",
              "    }\n",
              "\n",
              "    .dataframe tbody tr th {\n",
              "        vertical-align: top;\n",
              "    }\n",
              "\n",
              "    .dataframe thead th {\n",
              "        text-align: right;\n",
              "    }\n",
              "</style>\n",
              "<table border=\"1\" class=\"dataframe\">\n",
              "  <thead>\n",
              "    <tr style=\"text-align: right;\">\n",
              "      <th></th>\n",
              "      <th>user_id</th>\n",
              "      <th>item_id</th>\n",
              "    </tr>\n",
              "  </thead>\n",
              "  <tbody>\n",
              "    <tr>\n",
              "      <th>0</th>\n",
              "      <td>139942</td>\n",
              "      <td>[193358, 125586, 203882, 90986, 146180, 264849...</td>\n",
              "    </tr>\n",
              "    <tr>\n",
              "      <th>1</th>\n",
              "      <td>136607</td>\n",
              "      <td>[250158, 121182, 141120, 242513, 287501, 18072...</td>\n",
              "    </tr>\n",
              "    <tr>\n",
              "      <th>2</th>\n",
              "      <td>142287</td>\n",
              "      <td>[290518, 118497, 98037, 229832, 84366, 257330,...</td>\n",
              "    </tr>\n",
              "    <tr>\n",
              "      <th>3</th>\n",
              "      <td>114933</td>\n",
              "      <td>[136034, 251645, 96466, 152566, 208621, 109493...</td>\n",
              "    </tr>\n",
              "    <tr>\n",
              "      <th>4</th>\n",
              "      <td>32926</td>\n",
              "      <td>[121606, 201300, 145840, 113767, 311587, 28831...</td>\n",
              "    </tr>\n",
              "  </tbody>\n",
              "</table>\n",
              "</div>"
            ],
            "text/plain": [
              "   user_id                                            item_id\n",
              "0   139942  [193358, 125586, 203882, 90986, 146180, 264849...\n",
              "1   136607  [250158, 121182, 141120, 242513, 287501, 18072...\n",
              "2   142287  [290518, 118497, 98037, 229832, 84366, 257330,...\n",
              "3   114933  [136034, 251645, 96466, 152566, 208621, 109493...\n",
              "4    32926  [121606, 201300, 145840, 113767, 311587, 28831..."
            ]
          },
          "metadata": {},
          "execution_count": 37
        }
      ],
      "source": [
        "%time\n",
        "recs = pd.DataFrame({\n",
        "    'user_id': test['user_id'].unique()\n",
        "})\n",
        "recs['item_id'] = recs['user_id'].map(mapper)\n",
        "recs.head()"
      ]
    },
    {
      "cell_type": "code",
      "execution_count": 38,
      "metadata": {
        "execution": {
          "iopub.execute_input": "2020-10-25T11:06:36.369928Z",
          "iopub.status.busy": "2020-10-25T11:06:36.366214Z",
          "iopub.status.idle": "2020-10-25T11:06:36.384430Z",
          "shell.execute_reply": "2020-10-25T11:06:36.383963Z"
        },
        "papermill": {
          "duration": 0.092224,
          "end_time": "2020-10-25T11:06:36.384519",
          "exception": false,
          "start_time": "2020-10-25T11:06:36.292295",
          "status": "completed"
        },
        "tags": [],
        "colab": {
          "base_uri": "https://localhost:8080/",
          "height": 421
        },
        "id": "RqoUQq4NFQBV",
        "outputId": "3a0ed8af-b338-4dc1-d65e-f37e76ad8d75"
      },
      "outputs": [
        {
          "output_type": "execute_result",
          "data": {
            "text/html": [
              "<div>\n",
              "<style scoped>\n",
              "    .dataframe tbody tr th:only-of-type {\n",
              "        vertical-align: middle;\n",
              "    }\n",
              "\n",
              "    .dataframe tbody tr th {\n",
              "        vertical-align: top;\n",
              "    }\n",
              "\n",
              "    .dataframe thead th {\n",
              "        text-align: right;\n",
              "    }\n",
              "</style>\n",
              "<table border=\"1\" class=\"dataframe\">\n",
              "  <thead>\n",
              "    <tr style=\"text-align: right;\">\n",
              "      <th></th>\n",
              "      <th>user_id</th>\n",
              "      <th>item_id</th>\n",
              "      <th>rank</th>\n",
              "    </tr>\n",
              "  </thead>\n",
              "  <tbody>\n",
              "    <tr>\n",
              "      <th>0</th>\n",
              "      <td>139942</td>\n",
              "      <td>193358</td>\n",
              "      <td>1</td>\n",
              "    </tr>\n",
              "    <tr>\n",
              "      <th>0</th>\n",
              "      <td>139942</td>\n",
              "      <td>125586</td>\n",
              "      <td>2</td>\n",
              "    </tr>\n",
              "    <tr>\n",
              "      <th>0</th>\n",
              "      <td>139942</td>\n",
              "      <td>203882</td>\n",
              "      <td>3</td>\n",
              "    </tr>\n",
              "    <tr>\n",
              "      <th>0</th>\n",
              "      <td>139942</td>\n",
              "      <td>90986</td>\n",
              "      <td>4</td>\n",
              "    </tr>\n",
              "    <tr>\n",
              "      <th>0</th>\n",
              "      <td>139942</td>\n",
              "      <td>146180</td>\n",
              "      <td>5</td>\n",
              "    </tr>\n",
              "    <tr>\n",
              "      <th>0</th>\n",
              "      <td>139942</td>\n",
              "      <td>264849</td>\n",
              "      <td>6</td>\n",
              "    </tr>\n",
              "    <tr>\n",
              "      <th>0</th>\n",
              "      <td>139942</td>\n",
              "      <td>238155</td>\n",
              "      <td>7</td>\n",
              "    </tr>\n",
              "    <tr>\n",
              "      <th>0</th>\n",
              "      <td>139942</td>\n",
              "      <td>7094</td>\n",
              "      <td>8</td>\n",
              "    </tr>\n",
              "    <tr>\n",
              "      <th>0</th>\n",
              "      <td>139942</td>\n",
              "      <td>240226</td>\n",
              "      <td>9</td>\n",
              "    </tr>\n",
              "    <tr>\n",
              "      <th>0</th>\n",
              "      <td>139942</td>\n",
              "      <td>1728</td>\n",
              "      <td>10</td>\n",
              "    </tr>\n",
              "    <tr>\n",
              "      <th>1</th>\n",
              "      <td>136607</td>\n",
              "      <td>250158</td>\n",
              "      <td>1</td>\n",
              "    </tr>\n",
              "    <tr>\n",
              "      <th>1</th>\n",
              "      <td>136607</td>\n",
              "      <td>121182</td>\n",
              "      <td>2</td>\n",
              "    </tr>\n",
              "  </tbody>\n",
              "</table>\n",
              "</div>"
            ],
            "text/plain": [
              "   user_id item_id  rank\n",
              "0   139942  193358     1\n",
              "0   139942  125586     2\n",
              "0   139942  203882     3\n",
              "0   139942   90986     4\n",
              "0   139942  146180     5\n",
              "0   139942  264849     6\n",
              "0   139942  238155     7\n",
              "0   139942    7094     8\n",
              "0   139942  240226     9\n",
              "0   139942    1728    10\n",
              "1   136607  250158     1\n",
              "1   136607  121182     2"
            ]
          },
          "metadata": {},
          "execution_count": 38
        }
      ],
      "source": [
        "recs = recs.explode('item_id')\n",
        "recs['rank'] = recs.groupby('user_id').cumcount() + 1\n",
        "recs.head(top_N + 2)"
      ]
    },
    {
      "cell_type": "code",
      "execution_count": 39,
      "metadata": {
        "execution": {
          "iopub.execute_input": "2020-10-25T11:06:36.513665Z",
          "iopub.status.busy": "2020-10-25T11:06:36.513046Z",
          "iopub.status.idle": "2020-10-25T11:06:37.015355Z",
          "shell.execute_reply": "2020-10-25T11:06:37.014800Z"
        },
        "papermill": {
          "duration": 0.569275,
          "end_time": "2020-10-25T11:06:37.015457",
          "exception": false,
          "start_time": "2020-10-25T11:06:36.446182",
          "status": "completed"
        },
        "tags": [],
        "colab": {
          "base_uri": "https://localhost:8080/"
        },
        "id": "sUt2GSV2FQBW",
        "outputId": "d359441e-70d3-497e-e4cd-68d771430c0d"
      },
      "outputs": [
        {
          "output_type": "execute_result",
          "data": {
            "text/plain": [
              "Precision@1     0.011628\n",
              "Recall@1        0.010200\n",
              "Precision@2     0.010098\n",
              "Recall@2        0.018054\n",
              "Precision@3     0.009384\n",
              "Recall@3        0.024057\n",
              "Precision@4     0.007956\n",
              "Recall@4        0.026811\n",
              "Precision@5     0.007222\n",
              "Recall@5        0.030075\n",
              "Precision@6     0.006222\n",
              "Recall@6        0.031299\n",
              "Precision@7     0.005595\n",
              "Recall@7        0.032421\n",
              "Precision@8     0.005661\n",
              "Recall@8        0.036589\n",
              "Precision@9     0.005168\n",
              "Recall@9        0.037099\n",
              "Precision@10    0.004896\n",
              "Recall@10       0.039139\n",
              "MAP@10          0.018753\n",
              "MRR             0.021653\n",
              "dtype: float64"
            ]
          },
          "metadata": {},
          "execution_count": 39
        }
      ],
      "source": [
        "metrics = compute_metrics(test, recs, top_N)\n",
        "metrics"
      ]
    },
    {
      "cell_type": "markdown",
      "metadata": {
        "papermill": {
          "duration": 0.063089,
          "end_time": "2020-10-25T11:06:37.148460",
          "exception": false,
          "start_time": "2020-10-25T11:06:37.085371",
          "status": "completed"
        },
        "tags": [],
        "id": "vSV1zphLFQBW"
      },
      "source": [
        "Как видно, на матрице, заполненной единицами, CosineRecommender с K=10 уже дает метрики немного лучше, чем просто учет популярного"
      ]
    },
    {
      "cell_type": "code",
      "execution_count": 40,
      "metadata": {
        "_kg_hide-output": true,
        "execution": {
          "iopub.execute_input": "2020-10-25T11:06:37.285266Z",
          "iopub.status.busy": "2020-10-25T11:06:37.284352Z",
          "iopub.status.idle": "2020-10-25T11:07:03.487448Z",
          "shell.execute_reply": "2020-10-25T11:07:03.487962Z"
        },
        "papermill": {
          "duration": 26.274367,
          "end_time": "2020-10-25T11:07:03.488107",
          "exception": false,
          "start_time": "2020-10-25T11:06:37.213740",
          "status": "completed"
        },
        "tags": [],
        "colab": {
          "base_uri": "https://localhost:8080/",
          "height": 513,
          "referenced_widgets": [
            "23b040a940c8451db17ed7fed74369df",
            "f50a00ffdae94157ad1a52b429a2dcb6",
            "aa2bf23d706c48ca9b5babe0e12ba0dd",
            "f95567d8edc640fc9601eadf2b0492e8",
            "7d9a65f619ef4ba5954f821c7ca3d8ca",
            "53062af7e7a841ccadcaebd30f5e0b96",
            "0a2cee2215c1409992bef1c964002bf4",
            "006c7733b3b649eb9820a40c8e136d6e",
            "1dae40beb1344d0e80fe7a264740ecea",
            "426b5ba540014d0c93bfc640ce82380b",
            "56657579db9b488ea7047cbf6c5149e0",
            "b27aa4d946c742a398a7a28d23729664",
            "a56efee6f3284254a32483ae7839ad8a",
            "9742f48516c943c89762894b4678499a",
            "e1627b5eaa54496a8aa80d09b44840e5",
            "fbb453d3381c4d418348cd22033869f2",
            "16b27bad22c44edb9a3afba0c45e2ce4",
            "43494c5934ff4b4bbdd17e4675aca68a",
            "469c498830ff4598aa566bb56ffc7388",
            "6a303a6eebd448bf899f0f73cf7c5466",
            "3c219784c487434aacd3c0e7b1f2d32f",
            "f8e60afe027e4425a59634c2882aef04",
            "83a07ff2613e49bb997645312da378d4",
            "e389bc18138f487c8ea5918e9eeb62be",
            "dda28a4d4e734ad692e658fbcccd404f",
            "022a67a9338e4b1c8327757dd855299e",
            "b3d59c62a5564f4c921b202cfc32b93c",
            "b43f63f9ccec48b7a77afb886b5afc31",
            "b39ddc402f064983b017838fe7c49b66",
            "a1846860ec7948f8a4ecebf5466e9b5e",
            "e3572a35aac6446fb216937a1c44ba22",
            "02b6f3a1767145a5963c061157e8b604",
            "a53cf4c6e11d4d1ea1232f4485a980b2",
            "e93fb761418849b9a1ce183da0987478",
            "02c56b0d136a40e4b00f1d6496f49ec2",
            "4a9c4c035a4840e296ff13d1405af406",
            "61ae99fcd86144259648c571b8afc48b",
            "4713791e71474224bc728e047a2f4877",
            "cc6ddeaf7652420cba3ec845b7bffa97",
            "6bcae900e04949188e4545c8090da9fa",
            "321f9de673d0479fa47197f14dbbccc8",
            "4edb349efa08496a8d9a177cf9e6a744",
            "ddf67c0a511349679e65b63a3e171d9b",
            "ed4cef8ce2e94c58a238ab5e745d838d",
            "0489376a10bf4e98a33ea7abab671c2f",
            "9e2becd2efa4477a8d7507a250e96d5d",
            "8f848393cf4e4b2182cb30996d96d4dd",
            "d200eba78a7d43bfa9555bd2b05c115b",
            "c5e1a10bf7af4cc39d35dd8331313204",
            "1d7160a7b46c41108a39d674c7003e6b",
            "d5c0569f4be4431394aa2aac48b977ab",
            "e021365c362049e79ca7492c4e01626e",
            "909a576b0cc849eeb41d420f6ef788ef",
            "096c6ca7a4754d7c8b468992d6eecdfe",
            "3f50fdc423c54b3e8dc6a28ae7ad8b1a",
            "6b7c449065bd4302ae2eca8c8b441316",
            "6f80b3514d07464b890c2f6e5a07c58d",
            "c7d6114ea1064763bd4182da9f2ee0ec",
            "0fed39a6e9b74666997bcfa55a520271",
            "0b61fb14d4404f34a808090537f5dae6",
            "eefd35baf0e54ce085949751a5c1b485",
            "1f42f4f5c97841c2b218781dcddb6304",
            "9165b1d10f61423296a4743825f4216d",
            "9c4aef8ecbe746c492bc87850c8d1d42",
            "1a8ac05c8ec045efb400b9b51dafa0c2",
            "d5e765e435b94c38aef20675ff726849",
            "918814be59484d93b64f7e24af8e66af",
            "7b0bacd240b346c396e83e8854031c31",
            "4315989d7f1e4cdc90be310346084ac6",
            "e55bc58cc7cd415ab2f55d9d9d00d3ae",
            "3cad16656d27494587859a87b755d5d0",
            "65d8ded969dd4494b007736d26efd5e4",
            "5091a5dc9b0e480692ca8ced0b47b873",
            "97fd56435a874a18a66124595dbe7b52",
            "55053bd94fb84fffaf34289ad1b045fd",
            "c9ebd0eb9ff447729d9290a617bbe00c",
            "5e0e2e5836f4499fad013ff66a8fafd9"
          ]
        },
        "id": "ACezWa0XFQBW",
        "outputId": "d2feb615-0399-48a7-e6b8-8af54a1a0ff4"
      },
      "outputs": [
        {
          "output_type": "stream",
          "name": "stdout",
          "text": [
            "test range - from 2019-12-24 00:00:00 to 2019-12-25 00:00:00\n",
            "train shape - (1515946, 5), test shape - (2045, 5)\n"
          ]
        },
        {
          "output_type": "display_data",
          "data": {
            "application/vnd.jupyter.widget-view+json": {
              "model_id": "23b040a940c8451db17ed7fed74369df",
              "version_minor": 0,
              "version_major": 2
            },
            "text/plain": [
              "  0%|          | 0/59599 [00:00<?, ?it/s]"
            ]
          },
          "metadata": {}
        },
        {
          "output_type": "stream",
          "name": "stdout",
          "text": [
            "test range - from 2019-12-25 00:00:00 to 2019-12-26 00:00:00\n",
            "train shape - (1517994, 5), test shape - (2141, 5)\n"
          ]
        },
        {
          "output_type": "display_data",
          "data": {
            "application/vnd.jupyter.widget-view+json": {
              "model_id": "b27aa4d946c742a398a7a28d23729664",
              "version_minor": 0,
              "version_major": 2
            },
            "text/plain": [
              "  0%|          | 0/59599 [00:00<?, ?it/s]"
            ]
          },
          "metadata": {}
        },
        {
          "output_type": "stream",
          "name": "stdout",
          "text": [
            "test range - from 2019-12-26 00:00:00 to 2019-12-27 00:00:00\n",
            "train shape - (1520136, 5), test shape - (2177, 5)\n"
          ]
        },
        {
          "output_type": "display_data",
          "data": {
            "application/vnd.jupyter.widget-view+json": {
              "model_id": "83a07ff2613e49bb997645312da378d4",
              "version_minor": 0,
              "version_major": 2
            },
            "text/plain": [
              "  0%|          | 0/59599 [00:00<?, ?it/s]"
            ]
          },
          "metadata": {}
        },
        {
          "output_type": "stream",
          "name": "stdout",
          "text": [
            "test range - from 2019-12-27 00:00:00 to 2019-12-28 00:00:00\n",
            "train shape - (1522313, 5), test shape - (2110, 5)\n"
          ]
        },
        {
          "output_type": "display_data",
          "data": {
            "application/vnd.jupyter.widget-view+json": {
              "model_id": "e93fb761418849b9a1ce183da0987478",
              "version_minor": 0,
              "version_major": 2
            },
            "text/plain": [
              "  0%|          | 0/59599 [00:00<?, ?it/s]"
            ]
          },
          "metadata": {}
        },
        {
          "output_type": "stream",
          "name": "stdout",
          "text": [
            "test range - from 2019-12-28 00:00:00 to 2019-12-29 00:00:00\n",
            "train shape - (1524423, 5), test shape - (2205, 5)\n"
          ]
        },
        {
          "output_type": "display_data",
          "data": {
            "application/vnd.jupyter.widget-view+json": {
              "model_id": "0489376a10bf4e98a33ea7abab671c2f",
              "version_minor": 0,
              "version_major": 2
            },
            "text/plain": [
              "  0%|          | 0/59599 [00:00<?, ?it/s]"
            ]
          },
          "metadata": {}
        },
        {
          "output_type": "stream",
          "name": "stdout",
          "text": [
            "test range - from 2019-12-29 00:00:00 to 2019-12-30 00:00:00\n",
            "train shape - (1526632, 5), test shape - (2118, 5)\n"
          ]
        },
        {
          "output_type": "display_data",
          "data": {
            "application/vnd.jupyter.widget-view+json": {
              "model_id": "6b7c449065bd4302ae2eca8c8b441316",
              "version_minor": 0,
              "version_major": 2
            },
            "text/plain": [
              "  0%|          | 0/59599 [00:00<?, ?it/s]"
            ]
          },
          "metadata": {}
        },
        {
          "output_type": "stream",
          "name": "stdout",
          "text": [
            "test range - from 2019-12-30 00:00:00 to 2019-12-31 00:00:00\n",
            "train shape - (1528754, 5), test shape - (2168, 5)\n"
          ]
        },
        {
          "output_type": "display_data",
          "data": {
            "application/vnd.jupyter.widget-view+json": {
              "model_id": "918814be59484d93b64f7e24af8e66af",
              "version_minor": 0,
              "version_major": 2
            },
            "text/plain": [
              "  0%|          | 0/59599 [00:00<?, ?it/s]"
            ]
          },
          "metadata": {}
        },
        {
          "output_type": "stream",
          "name": "stdout",
          "text": [
            "CPU times: user 50.8 s, sys: 1.16 s, total: 51.9 s\n",
            "Wall time: 53.9 s\n"
          ]
        }
      ],
      "source": [
        "%%time\n",
        "validation_results = pd.DataFrame()\n",
        "\n",
        "for train_idx, test_idx, info in folds_with_stats:\n",
        "    print(f\"test range - from {info['Start date']} to {info['End date']}\")\n",
        "    train = df.loc[train_idx]\n",
        "    test = df.loc[test_idx]\n",
        "    print(f'train shape - {train.shape}, test shape - {test.shape}')\n",
        "    \n",
        "    train_mat = get_coo_matrix(train).tocsr()\n",
        "    \n",
        "    cosine_model = CosineRecommender(K=10)\n",
        "    cosine_model.fit(train_mat.T) # \n",
        "    \n",
        "    mapper = generate_implicit_recs_mapper(cosine_model, train_mat, top_N, users_mapping, items_inv_mapping)\n",
        "    \n",
        "    recs = pd.DataFrame({\n",
        "        'user_id': test['user_id'].unique()\n",
        "    })\n",
        "    recs['item_id'] = recs['user_id'].map(mapper)\n",
        "    recs = recs.explode('item_id')\n",
        "    recs['rank'] = recs.groupby('user_id').cumcount() + 1\n",
        "    fold_result = compute_metrics(test, recs, top_N)\n",
        "    fold_result.at['Date'] = info['Start date']\n",
        "    fold_result.at['argv'] = 'K=10'\n",
        "    fold_result.at['Model'] = 'cosine model'\n",
        "    \n",
        "    validation_results = validation_results.append(fold_result, ignore_index=True)"
      ]
    },
    {
      "cell_type": "code",
      "execution_count": 41,
      "metadata": {
        "execution": {
          "iopub.execute_input": "2020-10-25T11:07:03.716896Z",
          "iopub.status.busy": "2020-10-25T11:07:03.708297Z",
          "iopub.status.idle": "2020-10-25T11:07:03.720689Z",
          "shell.execute_reply": "2020-10-25T11:07:03.720253Z"
        },
        "papermill": {
          "duration": 0.129409,
          "end_time": "2020-10-25T11:07:03.720786",
          "exception": false,
          "start_time": "2020-10-25T11:07:03.591377",
          "status": "completed"
        },
        "tags": [],
        "colab": {
          "base_uri": "https://localhost:8080/",
          "height": 405
        },
        "id": "-9G7lX3YFQBW",
        "outputId": "b4a8f994-1a40-4acc-e947-c176c581bbbc"
      },
      "outputs": [
        {
          "output_type": "execute_result",
          "data": {
            "text/html": [
              "<div>\n",
              "<style scoped>\n",
              "    .dataframe tbody tr th:only-of-type {\n",
              "        vertical-align: middle;\n",
              "    }\n",
              "\n",
              "    .dataframe tbody tr th {\n",
              "        vertical-align: top;\n",
              "    }\n",
              "\n",
              "    .dataframe thead th {\n",
              "        text-align: right;\n",
              "    }\n",
              "</style>\n",
              "<table border=\"1\" class=\"dataframe\">\n",
              "  <thead>\n",
              "    <tr style=\"text-align: right;\">\n",
              "      <th></th>\n",
              "      <th>Date</th>\n",
              "      <th>MAP@10</th>\n",
              "      <th>MRR</th>\n",
              "      <th>Model</th>\n",
              "      <th>Precision@1</th>\n",
              "      <th>Precision@10</th>\n",
              "      <th>Precision@2</th>\n",
              "      <th>Precision@3</th>\n",
              "      <th>Precision@4</th>\n",
              "      <th>Precision@5</th>\n",
              "      <th>Precision@6</th>\n",
              "      <th>Precision@7</th>\n",
              "      <th>Precision@8</th>\n",
              "      <th>Precision@9</th>\n",
              "      <th>Recall@1</th>\n",
              "      <th>Recall@10</th>\n",
              "      <th>Recall@2</th>\n",
              "      <th>Recall@3</th>\n",
              "      <th>Recall@4</th>\n",
              "      <th>Recall@5</th>\n",
              "      <th>Recall@6</th>\n",
              "      <th>Recall@7</th>\n",
              "      <th>Recall@8</th>\n",
              "      <th>Recall@9</th>\n",
              "      <th>argv</th>\n",
              "    </tr>\n",
              "  </thead>\n",
              "  <tbody>\n",
              "    <tr>\n",
              "      <th>0</th>\n",
              "      <td>2019-12-24</td>\n",
              "      <td>0.018753</td>\n",
              "      <td>0.021653</td>\n",
              "      <td>cosine model</td>\n",
              "      <td>0.011628</td>\n",
              "      <td>0.004896</td>\n",
              "      <td>0.010098</td>\n",
              "      <td>0.009384</td>\n",
              "      <td>0.007956</td>\n",
              "      <td>0.007222</td>\n",
              "      <td>0.006222</td>\n",
              "      <td>0.005595</td>\n",
              "      <td>0.005661</td>\n",
              "      <td>0.005168</td>\n",
              "      <td>0.010200</td>\n",
              "      <td>0.039139</td>\n",
              "      <td>0.018054</td>\n",
              "      <td>0.024057</td>\n",
              "      <td>0.026811</td>\n",
              "      <td>0.030075</td>\n",
              "      <td>0.031299</td>\n",
              "      <td>0.032421</td>\n",
              "      <td>0.036589</td>\n",
              "      <td>0.037099</td>\n",
              "      <td>K=10</td>\n",
              "    </tr>\n",
              "    <tr>\n",
              "      <th>1</th>\n",
              "      <td>2019-12-25</td>\n",
              "      <td>0.014539</td>\n",
              "      <td>0.016503</td>\n",
              "      <td>cosine model</td>\n",
              "      <td>0.009009</td>\n",
              "      <td>0.004110</td>\n",
              "      <td>0.008727</td>\n",
              "      <td>0.007132</td>\n",
              "      <td>0.005912</td>\n",
              "      <td>0.005405</td>\n",
              "      <td>0.004974</td>\n",
              "      <td>0.004907</td>\n",
              "      <td>0.004716</td>\n",
              "      <td>0.004379</td>\n",
              "      <td>0.007378</td>\n",
              "      <td>0.033936</td>\n",
              "      <td>0.013462</td>\n",
              "      <td>0.016570</td>\n",
              "      <td>0.018541</td>\n",
              "      <td>0.021638</td>\n",
              "      <td>0.024172</td>\n",
              "      <td>0.027742</td>\n",
              "      <td>0.031121</td>\n",
              "      <td>0.032528</td>\n",
              "      <td>K=10</td>\n",
              "    </tr>\n",
              "    <tr>\n",
              "      <th>2</th>\n",
              "      <td>2019-12-26</td>\n",
              "      <td>0.011097</td>\n",
              "      <td>0.012303</td>\n",
              "      <td>cosine model</td>\n",
              "      <td>0.006959</td>\n",
              "      <td>0.002944</td>\n",
              "      <td>0.006692</td>\n",
              "      <td>0.004996</td>\n",
              "      <td>0.004416</td>\n",
              "      <td>0.004283</td>\n",
              "      <td>0.004015</td>\n",
              "      <td>0.003594</td>\n",
              "      <td>0.003480</td>\n",
              "      <td>0.003212</td>\n",
              "      <td>0.005889</td>\n",
              "      <td>0.023708</td>\n",
              "      <td>0.010974</td>\n",
              "      <td>0.012134</td>\n",
              "      <td>0.013638</td>\n",
              "      <td>0.016672</td>\n",
              "      <td>0.018622</td>\n",
              "      <td>0.019693</td>\n",
              "      <td>0.022102</td>\n",
              "      <td>0.023172</td>\n",
              "      <td>K=10</td>\n",
              "    </tr>\n",
              "    <tr>\n",
              "      <th>3</th>\n",
              "      <td>2019-12-27</td>\n",
              "      <td>0.013305</td>\n",
              "      <td>0.014925</td>\n",
              "      <td>cosine model</td>\n",
              "      <td>0.009945</td>\n",
              "      <td>0.002873</td>\n",
              "      <td>0.007182</td>\n",
              "      <td>0.006262</td>\n",
              "      <td>0.005387</td>\n",
              "      <td>0.004530</td>\n",
              "      <td>0.004144</td>\n",
              "      <td>0.003631</td>\n",
              "      <td>0.003315</td>\n",
              "      <td>0.003069</td>\n",
              "      <td>0.008858</td>\n",
              "      <td>0.023812</td>\n",
              "      <td>0.012560</td>\n",
              "      <td>0.015893</td>\n",
              "      <td>0.017937</td>\n",
              "      <td>0.018232</td>\n",
              "      <td>0.020442</td>\n",
              "      <td>0.020994</td>\n",
              "      <td>0.021602</td>\n",
              "      <td>0.022707</td>\n",
              "      <td>K=10</td>\n",
              "    </tr>\n",
              "    <tr>\n",
              "      <th>4</th>\n",
              "      <td>2019-12-28</td>\n",
              "      <td>0.010155</td>\n",
              "      <td>0.011132</td>\n",
              "      <td>cosine model</td>\n",
              "      <td>0.006051</td>\n",
              "      <td>0.002915</td>\n",
              "      <td>0.005226</td>\n",
              "      <td>0.003850</td>\n",
              "      <td>0.003850</td>\n",
              "      <td>0.003300</td>\n",
              "      <td>0.003392</td>\n",
              "      <td>0.003143</td>\n",
              "      <td>0.003025</td>\n",
              "      <td>0.002934</td>\n",
              "      <td>0.005776</td>\n",
              "      <td>0.023710</td>\n",
              "      <td>0.009213</td>\n",
              "      <td>0.010314</td>\n",
              "      <td>0.013751</td>\n",
              "      <td>0.014439</td>\n",
              "      <td>0.016806</td>\n",
              "      <td>0.018181</td>\n",
              "      <td>0.019556</td>\n",
              "      <td>0.021756</td>\n",
              "      <td>K=10</td>\n",
              "    </tr>\n",
              "    <tr>\n",
              "      <th>5</th>\n",
              "      <td>2019-12-29</td>\n",
              "      <td>0.014726</td>\n",
              "      <td>0.016824</td>\n",
              "      <td>cosine model</td>\n",
              "      <td>0.009737</td>\n",
              "      <td>0.003952</td>\n",
              "      <td>0.007732</td>\n",
              "      <td>0.006873</td>\n",
              "      <td>0.005871</td>\n",
              "      <td>0.005155</td>\n",
              "      <td>0.004868</td>\n",
              "      <td>0.004582</td>\n",
              "      <td>0.004296</td>\n",
              "      <td>0.003946</td>\n",
              "      <td>0.009068</td>\n",
              "      <td>0.031819</td>\n",
              "      <td>0.012791</td>\n",
              "      <td>0.016705</td>\n",
              "      <td>0.018423</td>\n",
              "      <td>0.020332</td>\n",
              "      <td>0.023260</td>\n",
              "      <td>0.025837</td>\n",
              "      <td>0.027460</td>\n",
              "      <td>0.028096</td>\n",
              "      <td>K=10</td>\n",
              "    </tr>\n",
              "    <tr>\n",
              "      <th>6</th>\n",
              "      <td>2019-12-30</td>\n",
              "      <td>0.013807</td>\n",
              "      <td>0.014917</td>\n",
              "      <td>cosine model</td>\n",
              "      <td>0.010259</td>\n",
              "      <td>0.003240</td>\n",
              "      <td>0.006479</td>\n",
              "      <td>0.005220</td>\n",
              "      <td>0.004860</td>\n",
              "      <td>0.004320</td>\n",
              "      <td>0.004140</td>\n",
              "      <td>0.003780</td>\n",
              "      <td>0.003442</td>\n",
              "      <td>0.003420</td>\n",
              "      <td>0.009359</td>\n",
              "      <td>0.028123</td>\n",
              "      <td>0.011519</td>\n",
              "      <td>0.013949</td>\n",
              "      <td>0.016964</td>\n",
              "      <td>0.018853</td>\n",
              "      <td>0.022093</td>\n",
              "      <td>0.023083</td>\n",
              "      <td>0.023893</td>\n",
              "      <td>0.026773</td>\n",
              "      <td>K=10</td>\n",
              "    </tr>\n",
              "  </tbody>\n",
              "</table>\n",
              "</div>"
            ],
            "text/plain": [
              "        Date    MAP@10       MRR  ...  Recall@8  Recall@9  argv\n",
              "0 2019-12-24  0.018753  0.021653  ...  0.036589  0.037099  K=10\n",
              "1 2019-12-25  0.014539  0.016503  ...  0.031121  0.032528  K=10\n",
              "2 2019-12-26  0.011097  0.012303  ...  0.022102  0.023172  K=10\n",
              "3 2019-12-27  0.013305  0.014925  ...  0.021602  0.022707  K=10\n",
              "4 2019-12-28  0.010155  0.011132  ...  0.019556  0.021756  K=10\n",
              "5 2019-12-29  0.014726  0.016824  ...  0.027460  0.028096  K=10\n",
              "6 2019-12-30  0.013807  0.014917  ...  0.023893  0.026773  K=10\n",
              "\n",
              "[7 rows x 25 columns]"
            ]
          },
          "metadata": {},
          "execution_count": 41
        }
      ],
      "source": [
        "validation_results"
      ]
    },
    {
      "cell_type": "code",
      "execution_count": 42,
      "metadata": {
        "execution": {
          "iopub.execute_input": "2020-10-25T11:07:03.871400Z",
          "iopub.status.busy": "2020-10-25T11:07:03.870585Z",
          "iopub.status.idle": "2020-10-25T11:07:03.874019Z",
          "shell.execute_reply": "2020-10-25T11:07:03.873504Z"
        },
        "papermill": {
          "duration": 0.083822,
          "end_time": "2020-10-25T11:07:03.874113",
          "exception": false,
          "start_time": "2020-10-25T11:07:03.790291",
          "status": "completed"
        },
        "tags": [],
        "colab": {
          "base_uri": "https://localhost:8080/",
          "height": 173
        },
        "id": "ug2wVPspFQBW",
        "outputId": "df51b09d-dbd0-4461-cba5-4a121a682389"
      },
      "outputs": [
        {
          "output_type": "execute_result",
          "data": {
            "text/html": [
              "<div>\n",
              "<style scoped>\n",
              "    .dataframe tbody tr th:only-of-type {\n",
              "        vertical-align: middle;\n",
              "    }\n",
              "\n",
              "    .dataframe tbody tr th {\n",
              "        vertical-align: top;\n",
              "    }\n",
              "\n",
              "    .dataframe thead th {\n",
              "        text-align: right;\n",
              "    }\n",
              "</style>\n",
              "<table border=\"1\" class=\"dataframe\">\n",
              "  <thead>\n",
              "    <tr style=\"text-align: right;\">\n",
              "      <th></th>\n",
              "      <th>MRR</th>\n",
              "      <th>MAP@10</th>\n",
              "      <th>Recall@10</th>\n",
              "    </tr>\n",
              "  </thead>\n",
              "  <tbody>\n",
              "    <tr>\n",
              "      <th>mean</th>\n",
              "      <td>0.015466</td>\n",
              "      <td>0.013769</td>\n",
              "      <td>0.029178</td>\n",
              "    </tr>\n",
              "    <tr>\n",
              "      <th>std</th>\n",
              "      <td>0.003430</td>\n",
              "      <td>0.002792</td>\n",
              "      <td>0.006035</td>\n",
              "    </tr>\n",
              "    <tr>\n",
              "      <th>min</th>\n",
              "      <td>0.011132</td>\n",
              "      <td>0.010155</td>\n",
              "      <td>0.023708</td>\n",
              "    </tr>\n",
              "    <tr>\n",
              "      <th>max</th>\n",
              "      <td>0.021653</td>\n",
              "      <td>0.018753</td>\n",
              "      <td>0.039139</td>\n",
              "    </tr>\n",
              "  </tbody>\n",
              "</table>\n",
              "</div>"
            ],
            "text/plain": [
              "           MRR    MAP@10  Recall@10\n",
              "mean  0.015466  0.013769   0.029178\n",
              "std   0.003430  0.002792   0.006035\n",
              "min   0.011132  0.010155   0.023708\n",
              "max   0.021653  0.018753   0.039139"
            ]
          },
          "metadata": {},
          "execution_count": 42
        }
      ],
      "source": [
        "validation_results.agg({\n",
        "    'MRR': ['mean', 'std', 'min', 'max'],\n",
        "    'MAP@10': ['mean', 'std', 'min', 'max'],\n",
        "    'Recall@10': ['mean', 'std', 'min', 'max'],\n",
        "})"
      ]
    },
    {
      "cell_type": "code",
      "execution_count": 43,
      "metadata": {
        "_kg_hide-output": true,
        "execution": {
          "iopub.execute_input": "2020-10-25T11:07:04.092333Z",
          "iopub.status.busy": "2020-10-25T11:07:04.091534Z",
          "iopub.status.idle": "2020-10-25T11:07:59.045664Z",
          "shell.execute_reply": "2020-10-25T11:07:59.045033Z"
        },
        "papermill": {
          "duration": 55.066205,
          "end_time": "2020-10-25T11:07:59.045783",
          "exception": false,
          "start_time": "2020-10-25T11:07:03.979578",
          "status": "completed"
        },
        "tags": [],
        "colab": {
          "base_uri": "https://localhost:8080/"
        },
        "id": "ET-e9KnqFQBW",
        "outputId": "373b3c78-4746-4578-d050-5a505dc694f7"
      },
      "outputs": [
        {
          "output_type": "stream",
          "name": "stdout",
          "text": [
            "test range - from 2019-12-24 00:00:00 to 2019-12-25 00:00:00\n",
            "train shape - (1515946, 5), test shape - (2045, 5)\n",
            "test range - from 2019-12-25 00:00:00 to 2019-12-26 00:00:00\n",
            "train shape - (1517994, 5), test shape - (2141, 5)\n",
            "test range - from 2019-12-26 00:00:00 to 2019-12-27 00:00:00\n",
            "train shape - (1520136, 5), test shape - (2177, 5)\n",
            "test range - from 2019-12-27 00:00:00 to 2019-12-28 00:00:00\n",
            "train shape - (1522313, 5), test shape - (2110, 5)\n",
            "test range - from 2019-12-28 00:00:00 to 2019-12-29 00:00:00\n",
            "train shape - (1524423, 5), test shape - (2205, 5)\n",
            "test range - from 2019-12-29 00:00:00 to 2019-12-30 00:00:00\n",
            "train shape - (1526632, 5), test shape - (2118, 5)\n",
            "test range - from 2019-12-30 00:00:00 to 2019-12-31 00:00:00\n",
            "train shape - (1528754, 5), test shape - (2168, 5)\n",
            "test range - from 2019-12-24 00:00:00 to 2019-12-25 00:00:00\n",
            "train shape - (1515946, 5), test shape - (2045, 5)\n",
            "test range - from 2019-12-25 00:00:00 to 2019-12-26 00:00:00\n",
            "train shape - (1517994, 5), test shape - (2141, 5)\n",
            "test range - from 2019-12-26 00:00:00 to 2019-12-27 00:00:00\n",
            "train shape - (1520136, 5), test shape - (2177, 5)\n",
            "test range - from 2019-12-27 00:00:00 to 2019-12-28 00:00:00\n",
            "train shape - (1522313, 5), test shape - (2110, 5)\n",
            "test range - from 2019-12-28 00:00:00 to 2019-12-29 00:00:00\n",
            "train shape - (1524423, 5), test shape - (2205, 5)\n",
            "test range - from 2019-12-29 00:00:00 to 2019-12-30 00:00:00\n",
            "train shape - (1526632, 5), test shape - (2118, 5)\n",
            "test range - from 2019-12-30 00:00:00 to 2019-12-31 00:00:00\n",
            "train shape - (1528754, 5), test shape - (2168, 5)\n"
          ]
        }
      ],
      "source": [
        "for model_class in [BM25Recommender, TFIDFRecommender]:\n",
        "    for train_idx, test_idx, info in folds_with_stats:\n",
        "        print(f\"test range - from {info['Start date']} to {info['End date']}\")\n",
        "        train = df.loc[train_idx]\n",
        "        test = df.loc[test_idx]\n",
        "        print(f'train shape - {train.shape}, test shape - {test.shape}')\n",
        "        \n",
        "        train_mat = get_coo_matrix(train).tocsr()\n",
        "        \n",
        "        model = model_class(K=10)\n",
        "        model.fit(train_mat.T, show_progress=False) \n",
        "\n",
        "        mapper = generate_implicit_recs_mapper(model, train_mat, top_N, users_mapping, items_inv_mapping)\n",
        "\n",
        "        recs = pd.DataFrame({\n",
        "            'user_id': test['user_id'].unique()\n",
        "        })\n",
        "        recs['item_id'] = recs['user_id'].map(mapper)\n",
        "        recs = recs.explode('item_id')\n",
        "        recs['rank'] = recs.groupby('user_id').cumcount() + 1\n",
        "        fold_result = compute_metrics(test, recs, top_N)\n",
        "        fold_result.at['Date'] = info['Start date']\n",
        "        fold_result.at['argv'] = 'K=10'\n",
        "        fold_result.at['Model'] = model.__class__.__name__\n",
        "\n",
        "        validation_results = validation_results.append(fold_result, ignore_index=True)"
      ]
    },
    {
      "cell_type": "code",
      "execution_count": 44,
      "metadata": {
        "execution": {
          "iopub.execute_input": "2020-10-25T11:07:59.280138Z",
          "iopub.status.busy": "2020-10-25T11:07:59.279512Z",
          "iopub.status.idle": "2020-10-25T11:07:59.299174Z",
          "shell.execute_reply": "2020-10-25T11:07:59.298560Z"
        },
        "papermill": {
          "duration": 0.142781,
          "end_time": "2020-10-25T11:07:59.299287",
          "exception": false,
          "start_time": "2020-10-25T11:07:59.156506",
          "status": "completed"
        },
        "tags": [],
        "colab": {
          "base_uri": "https://localhost:8080/",
          "height": 1000
        },
        "id": "WiW-2de0FQBX",
        "outputId": "dddcf3fc-07f1-4d3c-ca79-9760d95f92d1"
      },
      "outputs": [
        {
          "output_type": "execute_result",
          "data": {
            "text/html": [
              "<div>\n",
              "<style scoped>\n",
              "    .dataframe tbody tr th:only-of-type {\n",
              "        vertical-align: middle;\n",
              "    }\n",
              "\n",
              "    .dataframe tbody tr th {\n",
              "        vertical-align: top;\n",
              "    }\n",
              "\n",
              "    .dataframe thead th {\n",
              "        text-align: right;\n",
              "    }\n",
              "</style>\n",
              "<table border=\"1\" class=\"dataframe\">\n",
              "  <thead>\n",
              "    <tr style=\"text-align: right;\">\n",
              "      <th></th>\n",
              "      <th>Date</th>\n",
              "      <th>MAP@10</th>\n",
              "      <th>MRR</th>\n",
              "      <th>Model</th>\n",
              "      <th>Precision@1</th>\n",
              "      <th>Precision@10</th>\n",
              "      <th>Precision@2</th>\n",
              "      <th>Precision@3</th>\n",
              "      <th>Precision@4</th>\n",
              "      <th>Precision@5</th>\n",
              "      <th>Precision@6</th>\n",
              "      <th>Precision@7</th>\n",
              "      <th>Precision@8</th>\n",
              "      <th>Precision@9</th>\n",
              "      <th>Recall@1</th>\n",
              "      <th>Recall@10</th>\n",
              "      <th>Recall@2</th>\n",
              "      <th>Recall@3</th>\n",
              "      <th>Recall@4</th>\n",
              "      <th>Recall@5</th>\n",
              "      <th>Recall@6</th>\n",
              "      <th>Recall@7</th>\n",
              "      <th>Recall@8</th>\n",
              "      <th>Recall@9</th>\n",
              "      <th>argv</th>\n",
              "    </tr>\n",
              "  </thead>\n",
              "  <tbody>\n",
              "    <tr>\n",
              "      <th>0</th>\n",
              "      <td>2019-12-24</td>\n",
              "      <td>0.018753</td>\n",
              "      <td>0.021653</td>\n",
              "      <td>cosine model</td>\n",
              "      <td>0.011628</td>\n",
              "      <td>0.004896</td>\n",
              "      <td>0.010098</td>\n",
              "      <td>0.009384</td>\n",
              "      <td>0.007956</td>\n",
              "      <td>0.007222</td>\n",
              "      <td>0.006222</td>\n",
              "      <td>0.005595</td>\n",
              "      <td>0.005661</td>\n",
              "      <td>0.005168</td>\n",
              "      <td>0.010200</td>\n",
              "      <td>0.039139</td>\n",
              "      <td>0.018054</td>\n",
              "      <td>0.024057</td>\n",
              "      <td>0.026811</td>\n",
              "      <td>0.030075</td>\n",
              "      <td>0.031299</td>\n",
              "      <td>0.032421</td>\n",
              "      <td>0.036589</td>\n",
              "      <td>0.037099</td>\n",
              "      <td>K=10</td>\n",
              "    </tr>\n",
              "    <tr>\n",
              "      <th>1</th>\n",
              "      <td>2019-12-25</td>\n",
              "      <td>0.014539</td>\n",
              "      <td>0.016503</td>\n",
              "      <td>cosine model</td>\n",
              "      <td>0.009009</td>\n",
              "      <td>0.004110</td>\n",
              "      <td>0.008727</td>\n",
              "      <td>0.007132</td>\n",
              "      <td>0.005912</td>\n",
              "      <td>0.005405</td>\n",
              "      <td>0.004974</td>\n",
              "      <td>0.004907</td>\n",
              "      <td>0.004716</td>\n",
              "      <td>0.004379</td>\n",
              "      <td>0.007378</td>\n",
              "      <td>0.033936</td>\n",
              "      <td>0.013462</td>\n",
              "      <td>0.016570</td>\n",
              "      <td>0.018541</td>\n",
              "      <td>0.021638</td>\n",
              "      <td>0.024172</td>\n",
              "      <td>0.027742</td>\n",
              "      <td>0.031121</td>\n",
              "      <td>0.032528</td>\n",
              "      <td>K=10</td>\n",
              "    </tr>\n",
              "    <tr>\n",
              "      <th>2</th>\n",
              "      <td>2019-12-26</td>\n",
              "      <td>0.011097</td>\n",
              "      <td>0.012303</td>\n",
              "      <td>cosine model</td>\n",
              "      <td>0.006959</td>\n",
              "      <td>0.002944</td>\n",
              "      <td>0.006692</td>\n",
              "      <td>0.004996</td>\n",
              "      <td>0.004416</td>\n",
              "      <td>0.004283</td>\n",
              "      <td>0.004015</td>\n",
              "      <td>0.003594</td>\n",
              "      <td>0.003480</td>\n",
              "      <td>0.003212</td>\n",
              "      <td>0.005889</td>\n",
              "      <td>0.023708</td>\n",
              "      <td>0.010974</td>\n",
              "      <td>0.012134</td>\n",
              "      <td>0.013638</td>\n",
              "      <td>0.016672</td>\n",
              "      <td>0.018622</td>\n",
              "      <td>0.019693</td>\n",
              "      <td>0.022102</td>\n",
              "      <td>0.023172</td>\n",
              "      <td>K=10</td>\n",
              "    </tr>\n",
              "    <tr>\n",
              "      <th>3</th>\n",
              "      <td>2019-12-27</td>\n",
              "      <td>0.013305</td>\n",
              "      <td>0.014925</td>\n",
              "      <td>cosine model</td>\n",
              "      <td>0.009945</td>\n",
              "      <td>0.002873</td>\n",
              "      <td>0.007182</td>\n",
              "      <td>0.006262</td>\n",
              "      <td>0.005387</td>\n",
              "      <td>0.004530</td>\n",
              "      <td>0.004144</td>\n",
              "      <td>0.003631</td>\n",
              "      <td>0.003315</td>\n",
              "      <td>0.003069</td>\n",
              "      <td>0.008858</td>\n",
              "      <td>0.023812</td>\n",
              "      <td>0.012560</td>\n",
              "      <td>0.015893</td>\n",
              "      <td>0.017937</td>\n",
              "      <td>0.018232</td>\n",
              "      <td>0.020442</td>\n",
              "      <td>0.020994</td>\n",
              "      <td>0.021602</td>\n",
              "      <td>0.022707</td>\n",
              "      <td>K=10</td>\n",
              "    </tr>\n",
              "    <tr>\n",
              "      <th>4</th>\n",
              "      <td>2019-12-28</td>\n",
              "      <td>0.010155</td>\n",
              "      <td>0.011132</td>\n",
              "      <td>cosine model</td>\n",
              "      <td>0.006051</td>\n",
              "      <td>0.002915</td>\n",
              "      <td>0.005226</td>\n",
              "      <td>0.003850</td>\n",
              "      <td>0.003850</td>\n",
              "      <td>0.003300</td>\n",
              "      <td>0.003392</td>\n",
              "      <td>0.003143</td>\n",
              "      <td>0.003025</td>\n",
              "      <td>0.002934</td>\n",
              "      <td>0.005776</td>\n",
              "      <td>0.023710</td>\n",
              "      <td>0.009213</td>\n",
              "      <td>0.010314</td>\n",
              "      <td>0.013751</td>\n",
              "      <td>0.014439</td>\n",
              "      <td>0.016806</td>\n",
              "      <td>0.018181</td>\n",
              "      <td>0.019556</td>\n",
              "      <td>0.021756</td>\n",
              "      <td>K=10</td>\n",
              "    </tr>\n",
              "    <tr>\n",
              "      <th>5</th>\n",
              "      <td>2019-12-29</td>\n",
              "      <td>0.014726</td>\n",
              "      <td>0.016824</td>\n",
              "      <td>cosine model</td>\n",
              "      <td>0.009737</td>\n",
              "      <td>0.003952</td>\n",
              "      <td>0.007732</td>\n",
              "      <td>0.006873</td>\n",
              "      <td>0.005871</td>\n",
              "      <td>0.005155</td>\n",
              "      <td>0.004868</td>\n",
              "      <td>0.004582</td>\n",
              "      <td>0.004296</td>\n",
              "      <td>0.003946</td>\n",
              "      <td>0.009068</td>\n",
              "      <td>0.031819</td>\n",
              "      <td>0.012791</td>\n",
              "      <td>0.016705</td>\n",
              "      <td>0.018423</td>\n",
              "      <td>0.020332</td>\n",
              "      <td>0.023260</td>\n",
              "      <td>0.025837</td>\n",
              "      <td>0.027460</td>\n",
              "      <td>0.028096</td>\n",
              "      <td>K=10</td>\n",
              "    </tr>\n",
              "    <tr>\n",
              "      <th>6</th>\n",
              "      <td>2019-12-30</td>\n",
              "      <td>0.013807</td>\n",
              "      <td>0.014917</td>\n",
              "      <td>cosine model</td>\n",
              "      <td>0.010259</td>\n",
              "      <td>0.003240</td>\n",
              "      <td>0.006479</td>\n",
              "      <td>0.005220</td>\n",
              "      <td>0.004860</td>\n",
              "      <td>0.004320</td>\n",
              "      <td>0.004140</td>\n",
              "      <td>0.003780</td>\n",
              "      <td>0.003442</td>\n",
              "      <td>0.003420</td>\n",
              "      <td>0.009359</td>\n",
              "      <td>0.028123</td>\n",
              "      <td>0.011519</td>\n",
              "      <td>0.013949</td>\n",
              "      <td>0.016964</td>\n",
              "      <td>0.018853</td>\n",
              "      <td>0.022093</td>\n",
              "      <td>0.023083</td>\n",
              "      <td>0.023893</td>\n",
              "      <td>0.026773</td>\n",
              "      <td>K=10</td>\n",
              "    </tr>\n",
              "    <tr>\n",
              "      <th>7</th>\n",
              "      <td>2019-12-24</td>\n",
              "      <td>0.018977</td>\n",
              "      <td>0.022296</td>\n",
              "      <td>BM25Recommender</td>\n",
              "      <td>0.014076</td>\n",
              "      <td>0.004774</td>\n",
              "      <td>0.010098</td>\n",
              "      <td>0.009384</td>\n",
              "      <td>0.007803</td>\n",
              "      <td>0.007222</td>\n",
              "      <td>0.006630</td>\n",
              "      <td>0.005858</td>\n",
              "      <td>0.005278</td>\n",
              "      <td>0.005032</td>\n",
              "      <td>0.011322</td>\n",
              "      <td>0.037113</td>\n",
              "      <td>0.017136</td>\n",
              "      <td>0.023460</td>\n",
              "      <td>0.025806</td>\n",
              "      <td>0.029682</td>\n",
              "      <td>0.031620</td>\n",
              "      <td>0.032538</td>\n",
              "      <td>0.032931</td>\n",
              "      <td>0.035379</td>\n",
              "      <td>K=10</td>\n",
              "    </tr>\n",
              "    <tr>\n",
              "      <th>8</th>\n",
              "      <td>2019-12-25</td>\n",
              "      <td>0.014419</td>\n",
              "      <td>0.015624</td>\n",
              "      <td>BM25Recommender</td>\n",
              "      <td>0.009009</td>\n",
              "      <td>0.003716</td>\n",
              "      <td>0.007038</td>\n",
              "      <td>0.006569</td>\n",
              "      <td>0.006334</td>\n",
              "      <td>0.005518</td>\n",
              "      <td>0.004880</td>\n",
              "      <td>0.004585</td>\n",
              "      <td>0.004153</td>\n",
              "      <td>0.003879</td>\n",
              "      <td>0.008352</td>\n",
              "      <td>0.031151</td>\n",
              "      <td>0.011761</td>\n",
              "      <td>0.016277</td>\n",
              "      <td>0.020031</td>\n",
              "      <td>0.022283</td>\n",
              "      <td>0.023972</td>\n",
              "      <td>0.026788</td>\n",
              "      <td>0.027914</td>\n",
              "      <td>0.028899</td>\n",
              "      <td>K=10</td>\n",
              "    </tr>\n",
              "    <tr>\n",
              "      <th>9</th>\n",
              "      <td>2019-12-26</td>\n",
              "      <td>0.013319</td>\n",
              "      <td>0.015631</td>\n",
              "      <td>BM25Recommender</td>\n",
              "      <td>0.009101</td>\n",
              "      <td>0.003480</td>\n",
              "      <td>0.008833</td>\n",
              "      <td>0.006602</td>\n",
              "      <td>0.005621</td>\n",
              "      <td>0.005032</td>\n",
              "      <td>0.004640</td>\n",
              "      <td>0.004206</td>\n",
              "      <td>0.003881</td>\n",
              "      <td>0.003628</td>\n",
              "      <td>0.007036</td>\n",
              "      <td>0.028067</td>\n",
              "      <td>0.013804</td>\n",
              "      <td>0.015499</td>\n",
              "      <td>0.017105</td>\n",
              "      <td>0.019514</td>\n",
              "      <td>0.022191</td>\n",
              "      <td>0.023338</td>\n",
              "      <td>0.024676</td>\n",
              "      <td>0.025925</td>\n",
              "      <td>K=10</td>\n",
              "    </tr>\n",
              "    <tr>\n",
              "      <th>10</th>\n",
              "      <td>2019-12-27</td>\n",
              "      <td>0.014282</td>\n",
              "      <td>0.015349</td>\n",
              "      <td>BM25Recommender</td>\n",
              "      <td>0.010497</td>\n",
              "      <td>0.003149</td>\n",
              "      <td>0.007182</td>\n",
              "      <td>0.005893</td>\n",
              "      <td>0.004834</td>\n",
              "      <td>0.004530</td>\n",
              "      <td>0.004144</td>\n",
              "      <td>0.003710</td>\n",
              "      <td>0.003522</td>\n",
              "      <td>0.003315</td>\n",
              "      <td>0.009687</td>\n",
              "      <td>0.026525</td>\n",
              "      <td>0.013278</td>\n",
              "      <td>0.016151</td>\n",
              "      <td>0.017366</td>\n",
              "      <td>0.019853</td>\n",
              "      <td>0.021621</td>\n",
              "      <td>0.022284</td>\n",
              "      <td>0.024020</td>\n",
              "      <td>0.025235</td>\n",
              "      <td>K=10</td>\n",
              "    </tr>\n",
              "    <tr>\n",
              "      <th>11</th>\n",
              "      <td>2019-12-28</td>\n",
              "      <td>0.009243</td>\n",
              "      <td>0.010862</td>\n",
              "      <td>BM25Recommender</td>\n",
              "      <td>0.004950</td>\n",
              "      <td>0.003080</td>\n",
              "      <td>0.004675</td>\n",
              "      <td>0.003667</td>\n",
              "      <td>0.004263</td>\n",
              "      <td>0.004070</td>\n",
              "      <td>0.003667</td>\n",
              "      <td>0.003379</td>\n",
              "      <td>0.003163</td>\n",
              "      <td>0.003056</td>\n",
              "      <td>0.004263</td>\n",
              "      <td>0.024603</td>\n",
              "      <td>0.007838</td>\n",
              "      <td>0.008692</td>\n",
              "      <td>0.014330</td>\n",
              "      <td>0.016256</td>\n",
              "      <td>0.016994</td>\n",
              "      <td>0.018644</td>\n",
              "      <td>0.019882</td>\n",
              "      <td>0.022082</td>\n",
              "      <td>K=10</td>\n",
              "    </tr>\n",
              "    <tr>\n",
              "      <th>12</th>\n",
              "      <td>2019-12-29</td>\n",
              "      <td>0.014368</td>\n",
              "      <td>0.016533</td>\n",
              "      <td>BM25Recommender</td>\n",
              "      <td>0.009737</td>\n",
              "      <td>0.003837</td>\n",
              "      <td>0.007732</td>\n",
              "      <td>0.006491</td>\n",
              "      <td>0.005298</td>\n",
              "      <td>0.005155</td>\n",
              "      <td>0.005059</td>\n",
              "      <td>0.004582</td>\n",
              "      <td>0.004296</td>\n",
              "      <td>0.004136</td>\n",
              "      <td>0.008496</td>\n",
              "      <td>0.031087</td>\n",
              "      <td>0.013268</td>\n",
              "      <td>0.015655</td>\n",
              "      <td>0.017087</td>\n",
              "      <td>0.020905</td>\n",
              "      <td>0.024437</td>\n",
              "      <td>0.025869</td>\n",
              "      <td>0.027873</td>\n",
              "      <td>0.030451</td>\n",
              "      <td>K=10</td>\n",
              "    </tr>\n",
              "    <tr>\n",
              "      <th>13</th>\n",
              "      <td>2019-12-30</td>\n",
              "      <td>0.012747</td>\n",
              "      <td>0.014018</td>\n",
              "      <td>BM25Recommender</td>\n",
              "      <td>0.008639</td>\n",
              "      <td>0.003078</td>\n",
              "      <td>0.007019</td>\n",
              "      <td>0.005580</td>\n",
              "      <td>0.004590</td>\n",
              "      <td>0.004104</td>\n",
              "      <td>0.003780</td>\n",
              "      <td>0.003394</td>\n",
              "      <td>0.003577</td>\n",
              "      <td>0.003360</td>\n",
              "      <td>0.007469</td>\n",
              "      <td>0.026368</td>\n",
              "      <td>0.012329</td>\n",
              "      <td>0.015029</td>\n",
              "      <td>0.016019</td>\n",
              "      <td>0.017774</td>\n",
              "      <td>0.019663</td>\n",
              "      <td>0.020743</td>\n",
              "      <td>0.024973</td>\n",
              "      <td>0.026188</td>\n",
              "      <td>K=10</td>\n",
              "    </tr>\n",
              "    <tr>\n",
              "      <th>14</th>\n",
              "      <td>2019-12-24</td>\n",
              "      <td>0.020040</td>\n",
              "      <td>0.023071</td>\n",
              "      <td>TFIDFRecommender</td>\n",
              "      <td>0.014688</td>\n",
              "      <td>0.004712</td>\n",
              "      <td>0.011016</td>\n",
              "      <td>0.009384</td>\n",
              "      <td>0.007650</td>\n",
              "      <td>0.006487</td>\n",
              "      <td>0.006120</td>\n",
              "      <td>0.005508</td>\n",
              "      <td>0.005661</td>\n",
              "      <td>0.005168</td>\n",
              "      <td>0.012648</td>\n",
              "      <td>0.037929</td>\n",
              "      <td>0.019278</td>\n",
              "      <td>0.024990</td>\n",
              "      <td>0.026418</td>\n",
              "      <td>0.027948</td>\n",
              "      <td>0.030906</td>\n",
              "      <td>0.031809</td>\n",
              "      <td>0.036501</td>\n",
              "      <td>0.037317</td>\n",
              "      <td>K=10</td>\n",
              "    </tr>\n",
              "    <tr>\n",
              "      <th>15</th>\n",
              "      <td>2019-12-25</td>\n",
              "      <td>0.014742</td>\n",
              "      <td>0.016553</td>\n",
              "      <td>TFIDFRecommender</td>\n",
              "      <td>0.009572</td>\n",
              "      <td>0.003941</td>\n",
              "      <td>0.008164</td>\n",
              "      <td>0.007132</td>\n",
              "      <td>0.006053</td>\n",
              "      <td>0.005405</td>\n",
              "      <td>0.004786</td>\n",
              "      <td>0.004344</td>\n",
              "      <td>0.004153</td>\n",
              "      <td>0.004129</td>\n",
              "      <td>0.008211</td>\n",
              "      <td>0.032470</td>\n",
              "      <td>0.013056</td>\n",
              "      <td>0.017122</td>\n",
              "      <td>0.019656</td>\n",
              "      <td>0.022471</td>\n",
              "      <td>0.023648</td>\n",
              "      <td>0.025337</td>\n",
              "      <td>0.027590</td>\n",
              "      <td>0.031250</td>\n",
              "      <td>K=10</td>\n",
              "    </tr>\n",
              "    <tr>\n",
              "      <th>16</th>\n",
              "      <td>2019-12-26</td>\n",
              "      <td>0.011135</td>\n",
              "      <td>0.012880</td>\n",
              "      <td>TFIDFRecommender</td>\n",
              "      <td>0.006959</td>\n",
              "      <td>0.002998</td>\n",
              "      <td>0.006959</td>\n",
              "      <td>0.005889</td>\n",
              "      <td>0.004952</td>\n",
              "      <td>0.004604</td>\n",
              "      <td>0.004193</td>\n",
              "      <td>0.003900</td>\n",
              "      <td>0.003547</td>\n",
              "      <td>0.003271</td>\n",
              "      <td>0.005162</td>\n",
              "      <td>0.023529</td>\n",
              "      <td>0.011140</td>\n",
              "      <td>0.014441</td>\n",
              "      <td>0.015780</td>\n",
              "      <td>0.017551</td>\n",
              "      <td>0.019425</td>\n",
              "      <td>0.021299</td>\n",
              "      <td>0.022369</td>\n",
              "      <td>0.022994</td>\n",
              "      <td>K=10</td>\n",
              "    </tr>\n",
              "    <tr>\n",
              "      <th>17</th>\n",
              "      <td>2019-12-27</td>\n",
              "      <td>0.013549</td>\n",
              "      <td>0.015054</td>\n",
              "      <td>TFIDFRecommender</td>\n",
              "      <td>0.009945</td>\n",
              "      <td>0.003039</td>\n",
              "      <td>0.007459</td>\n",
              "      <td>0.006077</td>\n",
              "      <td>0.005387</td>\n",
              "      <td>0.004420</td>\n",
              "      <td>0.003867</td>\n",
              "      <td>0.003631</td>\n",
              "      <td>0.003246</td>\n",
              "      <td>0.003131</td>\n",
              "      <td>0.008858</td>\n",
              "      <td>0.025028</td>\n",
              "      <td>0.013554</td>\n",
              "      <td>0.015617</td>\n",
              "      <td>0.017569</td>\n",
              "      <td>0.018122</td>\n",
              "      <td>0.019227</td>\n",
              "      <td>0.020994</td>\n",
              "      <td>0.021547</td>\n",
              "      <td>0.023260</td>\n",
              "      <td>K=10</td>\n",
              "    </tr>\n",
              "    <tr>\n",
              "      <th>18</th>\n",
              "      <td>2019-12-28</td>\n",
              "      <td>0.010224</td>\n",
              "      <td>0.011226</td>\n",
              "      <td>TFIDFRecommender</td>\n",
              "      <td>0.005501</td>\n",
              "      <td>0.003190</td>\n",
              "      <td>0.004400</td>\n",
              "      <td>0.004584</td>\n",
              "      <td>0.004813</td>\n",
              "      <td>0.004290</td>\n",
              "      <td>0.004034</td>\n",
              "      <td>0.003615</td>\n",
              "      <td>0.003300</td>\n",
              "      <td>0.003178</td>\n",
              "      <td>0.004813</td>\n",
              "      <td>0.024889</td>\n",
              "      <td>0.007838</td>\n",
              "      <td>0.011551</td>\n",
              "      <td>0.016227</td>\n",
              "      <td>0.017602</td>\n",
              "      <td>0.019939</td>\n",
              "      <td>0.020765</td>\n",
              "      <td>0.021344</td>\n",
              "      <td>0.022551</td>\n",
              "      <td>K=10</td>\n",
              "    </tr>\n",
              "    <tr>\n",
              "      <th>19</th>\n",
              "      <td>2019-12-29</td>\n",
              "      <td>0.015167</td>\n",
              "      <td>0.017401</td>\n",
              "      <td>TFIDFRecommender</td>\n",
              "      <td>0.009737</td>\n",
              "      <td>0.004124</td>\n",
              "      <td>0.008305</td>\n",
              "      <td>0.007064</td>\n",
              "      <td>0.006443</td>\n",
              "      <td>0.005727</td>\n",
              "      <td>0.005250</td>\n",
              "      <td>0.004827</td>\n",
              "      <td>0.004439</td>\n",
              "      <td>0.004200</td>\n",
              "      <td>0.008687</td>\n",
              "      <td>0.032837</td>\n",
              "      <td>0.013746</td>\n",
              "      <td>0.017087</td>\n",
              "      <td>0.021287</td>\n",
              "      <td>0.022910</td>\n",
              "      <td>0.024405</td>\n",
              "      <td>0.025900</td>\n",
              "      <td>0.027619</td>\n",
              "      <td>0.029910</td>\n",
              "      <td>K=10</td>\n",
              "    </tr>\n",
              "    <tr>\n",
              "      <th>20</th>\n",
              "      <td>2019-12-30</td>\n",
              "      <td>0.013535</td>\n",
              "      <td>0.014725</td>\n",
              "      <td>TFIDFRecommender</td>\n",
              "      <td>0.009179</td>\n",
              "      <td>0.003348</td>\n",
              "      <td>0.006749</td>\n",
              "      <td>0.005580</td>\n",
              "      <td>0.004860</td>\n",
              "      <td>0.004536</td>\n",
              "      <td>0.004140</td>\n",
              "      <td>0.003857</td>\n",
              "      <td>0.003577</td>\n",
              "      <td>0.003420</td>\n",
              "      <td>0.008279</td>\n",
              "      <td>0.028258</td>\n",
              "      <td>0.012059</td>\n",
              "      <td>0.015029</td>\n",
              "      <td>0.017369</td>\n",
              "      <td>0.019933</td>\n",
              "      <td>0.022093</td>\n",
              "      <td>0.023623</td>\n",
              "      <td>0.024703</td>\n",
              "      <td>0.026503</td>\n",
              "      <td>K=10</td>\n",
              "    </tr>\n",
              "  </tbody>\n",
              "</table>\n",
              "</div>"
            ],
            "text/plain": [
              "         Date    MAP@10       MRR  ...  Recall@8  Recall@9  argv\n",
              "0  2019-12-24  0.018753  0.021653  ...  0.036589  0.037099  K=10\n",
              "1  2019-12-25  0.014539  0.016503  ...  0.031121  0.032528  K=10\n",
              "2  2019-12-26  0.011097  0.012303  ...  0.022102  0.023172  K=10\n",
              "3  2019-12-27  0.013305  0.014925  ...  0.021602  0.022707  K=10\n",
              "4  2019-12-28  0.010155  0.011132  ...  0.019556  0.021756  K=10\n",
              "5  2019-12-29  0.014726  0.016824  ...  0.027460  0.028096  K=10\n",
              "6  2019-12-30  0.013807  0.014917  ...  0.023893  0.026773  K=10\n",
              "7  2019-12-24  0.018977  0.022296  ...  0.032931  0.035379  K=10\n",
              "8  2019-12-25  0.014419  0.015624  ...  0.027914  0.028899  K=10\n",
              "9  2019-12-26  0.013319  0.015631  ...  0.024676  0.025925  K=10\n",
              "10 2019-12-27  0.014282  0.015349  ...  0.024020  0.025235  K=10\n",
              "11 2019-12-28  0.009243  0.010862  ...  0.019882  0.022082  K=10\n",
              "12 2019-12-29  0.014368  0.016533  ...  0.027873  0.030451  K=10\n",
              "13 2019-12-30  0.012747  0.014018  ...  0.024973  0.026188  K=10\n",
              "14 2019-12-24  0.020040  0.023071  ...  0.036501  0.037317  K=10\n",
              "15 2019-12-25  0.014742  0.016553  ...  0.027590  0.031250  K=10\n",
              "16 2019-12-26  0.011135  0.012880  ...  0.022369  0.022994  K=10\n",
              "17 2019-12-27  0.013549  0.015054  ...  0.021547  0.023260  K=10\n",
              "18 2019-12-28  0.010224  0.011226  ...  0.021344  0.022551  K=10\n",
              "19 2019-12-29  0.015167  0.017401  ...  0.027619  0.029910  K=10\n",
              "20 2019-12-30  0.013535  0.014725  ...  0.024703  0.026503  K=10\n",
              "\n",
              "[21 rows x 25 columns]"
            ]
          },
          "metadata": {},
          "execution_count": 44
        }
      ],
      "source": [
        "validation_results"
      ]
    },
    {
      "cell_type": "code",
      "execution_count": 45,
      "metadata": {
        "execution": {
          "iopub.execute_input": "2020-10-25T11:07:59.541248Z",
          "iopub.status.busy": "2020-10-25T11:07:59.539628Z",
          "iopub.status.idle": "2020-10-25T11:07:59.555786Z",
          "shell.execute_reply": "2020-10-25T11:07:59.556120Z"
        },
        "papermill": {
          "duration": 0.144047,
          "end_time": "2020-10-25T11:07:59.556226",
          "exception": false,
          "start_time": "2020-10-25T11:07:59.412179",
          "status": "completed"
        },
        "tags": [],
        "colab": {
          "base_uri": "https://localhost:8080/",
          "height": 204
        },
        "id": "D-rYRzPfFQBX",
        "outputId": "a4028b15-1a91-4875-d7a1-23a56cc56954"
      },
      "outputs": [
        {
          "output_type": "execute_result",
          "data": {
            "text/html": [
              "<div>\n",
              "<style scoped>\n",
              "    .dataframe tbody tr th:only-of-type {\n",
              "        vertical-align: middle;\n",
              "    }\n",
              "\n",
              "    .dataframe tbody tr th {\n",
              "        vertical-align: top;\n",
              "    }\n",
              "\n",
              "    .dataframe thead tr th {\n",
              "        text-align: left;\n",
              "    }\n",
              "\n",
              "    .dataframe thead tr:last-of-type th {\n",
              "        text-align: right;\n",
              "    }\n",
              "</style>\n",
              "<table border=\"1\" class=\"dataframe\">\n",
              "  <thead>\n",
              "    <tr>\n",
              "      <th></th>\n",
              "      <th></th>\n",
              "      <th colspan=\"4\" halign=\"left\">MRR</th>\n",
              "      <th colspan=\"4\" halign=\"left\">MAP@10</th>\n",
              "      <th colspan=\"4\" halign=\"left\">Recall@10</th>\n",
              "    </tr>\n",
              "    <tr>\n",
              "      <th></th>\n",
              "      <th></th>\n",
              "      <th>mean</th>\n",
              "      <th>std</th>\n",
              "      <th>min</th>\n",
              "      <th>max</th>\n",
              "      <th>mean</th>\n",
              "      <th>std</th>\n",
              "      <th>min</th>\n",
              "      <th>max</th>\n",
              "      <th>mean</th>\n",
              "      <th>std</th>\n",
              "      <th>min</th>\n",
              "      <th>max</th>\n",
              "    </tr>\n",
              "    <tr>\n",
              "      <th>Model</th>\n",
              "      <th>argv</th>\n",
              "      <th></th>\n",
              "      <th></th>\n",
              "      <th></th>\n",
              "      <th></th>\n",
              "      <th></th>\n",
              "      <th></th>\n",
              "      <th></th>\n",
              "      <th></th>\n",
              "      <th></th>\n",
              "      <th></th>\n",
              "      <th></th>\n",
              "      <th></th>\n",
              "    </tr>\n",
              "  </thead>\n",
              "  <tbody>\n",
              "    <tr>\n",
              "      <th>BM25Recommender</th>\n",
              "      <th>K=10</th>\n",
              "      <td>0.015759</td>\n",
              "      <td>0.003429</td>\n",
              "      <td>0.010862</td>\n",
              "      <td>0.022296</td>\n",
              "      <td>0.013908</td>\n",
              "      <td>0.002880</td>\n",
              "      <td>0.009243</td>\n",
              "      <td>0.018977</td>\n",
              "      <td>0.029273</td>\n",
              "      <td>0.004234</td>\n",
              "      <td>0.024603</td>\n",
              "      <td>0.037113</td>\n",
              "    </tr>\n",
              "    <tr>\n",
              "      <th>TFIDFRecommender</th>\n",
              "      <th>K=10</th>\n",
              "      <td>0.015844</td>\n",
              "      <td>0.003811</td>\n",
              "      <td>0.011226</td>\n",
              "      <td>0.023071</td>\n",
              "      <td>0.014056</td>\n",
              "      <td>0.003195</td>\n",
              "      <td>0.010224</td>\n",
              "      <td>0.020040</td>\n",
              "      <td>0.029277</td>\n",
              "      <td>0.005309</td>\n",
              "      <td>0.023529</td>\n",
              "      <td>0.037929</td>\n",
              "    </tr>\n",
              "    <tr>\n",
              "      <th>cosine model</th>\n",
              "      <th>K=10</th>\n",
              "      <td>0.015466</td>\n",
              "      <td>0.003430</td>\n",
              "      <td>0.011132</td>\n",
              "      <td>0.021653</td>\n",
              "      <td>0.013769</td>\n",
              "      <td>0.002792</td>\n",
              "      <td>0.010155</td>\n",
              "      <td>0.018753</td>\n",
              "      <td>0.029178</td>\n",
              "      <td>0.006035</td>\n",
              "      <td>0.023708</td>\n",
              "      <td>0.039139</td>\n",
              "    </tr>\n",
              "  </tbody>\n",
              "</table>\n",
              "</div>"
            ],
            "text/plain": [
              "                            MRR            ... Recall@10          \n",
              "                           mean       std  ...       min       max\n",
              "Model            argv                      ...                    \n",
              "BM25Recommender  K=10  0.015759  0.003429  ...  0.024603  0.037113\n",
              "TFIDFRecommender K=10  0.015844  0.003811  ...  0.023529  0.037929\n",
              "cosine model     K=10  0.015466  0.003430  ...  0.023708  0.039139\n",
              "\n",
              "[3 rows x 12 columns]"
            ]
          },
          "metadata": {},
          "execution_count": 45
        }
      ],
      "source": [
        "validation_results.groupby(['Model', 'argv']).agg({\n",
        "    'MRR': ['mean', 'std', 'min', 'max'],\n",
        "    'MAP@10': ['mean', 'std', 'min', 'max'],\n",
        "    'Recall@10': ['mean', 'std', 'min', 'max'],\n",
        "})"
      ]
    },
    {
      "cell_type": "code",
      "execution_count": 46,
      "metadata": {
        "execution": {
          "iopub.execute_input": "2020-10-25T11:07:59.707959Z",
          "iopub.status.busy": "2020-10-25T11:07:59.707378Z",
          "iopub.status.idle": "2020-10-25T11:07:59.711432Z",
          "shell.execute_reply": "2020-10-25T11:07:59.710956Z"
        },
        "papermill": {
          "duration": 0.081643,
          "end_time": "2020-10-25T11:07:59.711527",
          "exception": false,
          "start_time": "2020-10-25T11:07:59.629884",
          "status": "completed"
        },
        "tags": [],
        "colab": {
          "base_uri": "https://localhost:8080/"
        },
        "id": "9CXskQWGFQBX",
        "outputId": "92b479b5-b8f0-43b5-97ec-f12ccbb2a255"
      },
      "outputs": [
        {
          "output_type": "execute_result",
          "data": {
            "text/plain": [
              "<implicit.nearest_neighbours.TFIDFRecommender at 0x7fa2b2913990>"
            ]
          },
          "metadata": {},
          "execution_count": 46
        }
      ],
      "source": [
        "model"
      ]
    },
    {
      "cell_type": "code",
      "execution_count": 47,
      "metadata": {
        "execution": {
          "iopub.execute_input": "2020-10-25T11:07:59.865018Z",
          "iopub.status.busy": "2020-10-25T11:07:59.864131Z",
          "iopub.status.idle": "2020-10-25T11:07:59.867818Z",
          "shell.execute_reply": "2020-10-25T11:07:59.867390Z"
        },
        "papermill": {
          "duration": 0.082066,
          "end_time": "2020-10-25T11:07:59.867909",
          "exception": false,
          "start_time": "2020-10-25T11:07:59.785843",
          "status": "completed"
        },
        "tags": [],
        "colab": {
          "base_uri": "https://localhost:8080/"
        },
        "id": "Fe8ij7gjFQBX",
        "outputId": "55fc664e-5cb2-4caa-b2b6-7888576d6177"
      },
      "outputs": [
        {
          "output_type": "execute_result",
          "data": {
            "text/plain": [
              "<59599x59599 sparse matrix of type '<class 'numpy.float64'>'\n",
              "\twith 595990 stored elements in Compressed Sparse Row format>"
            ]
          },
          "metadata": {},
          "execution_count": 47
        }
      ],
      "source": [
        "model.similarity"
      ]
    },
    {
      "cell_type": "code",
      "execution_count": 48,
      "metadata": {
        "execution": {
          "iopub.execute_input": "2020-10-25T11:08:00.022183Z",
          "iopub.status.busy": "2020-10-25T11:08:00.021692Z",
          "iopub.status.idle": "2020-10-25T11:08:00.027009Z",
          "shell.execute_reply": "2020-10-25T11:08:00.026489Z"
        },
        "papermill": {
          "duration": 0.085054,
          "end_time": "2020-10-25T11:08:00.027093",
          "exception": false,
          "start_time": "2020-10-25T11:07:59.942039",
          "status": "completed"
        },
        "tags": [],
        "colab": {
          "base_uri": "https://localhost:8080/"
        },
        "id": "VgGM4-nsFQBX",
        "outputId": "a31f7639-a845-43fd-e1b4-27e54a2bea8f"
      },
      "outputs": [
        {
          "output_type": "execute_result",
          "data": {
            "text/plain": [
              "[(7789, 0.9999999999999997),\n",
              " (2354, 0.08739371081396644),\n",
              " (2369, 0.08324974641072473),\n",
              " (26607, 0.08070989029073747),\n",
              " (51053, 0.07998056290930719),\n",
              " (57349, 0.07708399087660989),\n",
              " (38100, 0.07580568971259077),\n",
              " (35713, 0.07271956924786306),\n",
              " (39208, 0.07009032705635235),\n",
              " (46434, 0.06839100852746778)]"
            ]
          },
          "metadata": {},
          "execution_count": 48
        }
      ],
      "source": [
        "model.similar_items(7789, N=10)"
      ]
    },
    {
      "cell_type": "code",
      "execution_count": 49,
      "metadata": {
        "execution": {
          "iopub.execute_input": "2020-10-25T11:08:00.189380Z",
          "iopub.status.busy": "2020-10-25T11:08:00.188691Z",
          "iopub.status.idle": "2020-10-25T11:08:00.191700Z",
          "shell.execute_reply": "2020-10-25T11:08:00.191282Z"
        },
        "papermill": {
          "duration": 0.087859,
          "end_time": "2020-10-25T11:08:00.191797",
          "exception": false,
          "start_time": "2020-10-25T11:08:00.103938",
          "status": "completed"
        },
        "tags": [],
        "id": "aW4iUbRAFQBX"
      },
      "outputs": [],
      "source": [
        "def get_similar_books(title, model, N=10, idx=0, \n",
        "                      title_items=title_items, item_titles=item_titles, items_mapping=items_mapping, items_inv_mapping=items_inv_mapping):\n",
        "    item_ids = title_items.at[title]\n",
        "    if len(item_ids) == 1:\n",
        "        item_id = item_ids[0]\n",
        "    else:\n",
        "        item_id = item_ids[idx]\n",
        "    \n",
        "    col_id = items_mapping[item_id]\n",
        "    similar = model.similar_items(col_id, N=N)\n",
        "    similar = pd.DataFrame(similar, columns=['col_id', 'similarity'])\n",
        "    similar['item_id'] = similar['col_id'].map(items_inv_mapping.get)\n",
        "    similar['title'] = similar['item_id'].map(item_titles.get)\n",
        "    return similar"
      ]
    },
    {
      "cell_type": "code",
      "execution_count": 50,
      "metadata": {
        "execution": {
          "iopub.execute_input": "2020-10-25T11:08:00.361337Z",
          "iopub.status.busy": "2020-10-25T11:08:00.360667Z",
          "iopub.status.idle": "2020-10-25T11:08:00.365508Z",
          "shell.execute_reply": "2020-10-25T11:08:00.365041Z"
        },
        "papermill": {
          "duration": 0.096288,
          "end_time": "2020-10-25T11:08:00.365588",
          "exception": false,
          "start_time": "2020-10-25T11:08:00.269300",
          "status": "completed"
        },
        "tags": [],
        "colab": {
          "base_uri": "https://localhost:8080/",
          "height": 359
        },
        "id": "DFdrIDrYFQBY",
        "outputId": "97cc9d96-9efc-4b58-ed9a-f46fce36c2ce"
      },
      "outputs": [
        {
          "output_type": "execute_result",
          "data": {
            "text/html": [
              "<div>\n",
              "<style scoped>\n",
              "    .dataframe tbody tr th:only-of-type {\n",
              "        vertical-align: middle;\n",
              "    }\n",
              "\n",
              "    .dataframe tbody tr th {\n",
              "        vertical-align: top;\n",
              "    }\n",
              "\n",
              "    .dataframe thead th {\n",
              "        text-align: right;\n",
              "    }\n",
              "</style>\n",
              "<table border=\"1\" class=\"dataframe\">\n",
              "  <thead>\n",
              "    <tr style=\"text-align: right;\">\n",
              "      <th></th>\n",
              "      <th>col_id</th>\n",
              "      <th>similarity</th>\n",
              "      <th>item_id</th>\n",
              "      <th>title</th>\n",
              "    </tr>\n",
              "  </thead>\n",
              "  <tbody>\n",
              "    <tr>\n",
              "      <th>0</th>\n",
              "      <td>1466</td>\n",
              "      <td>1.000000</td>\n",
              "      <td>60193</td>\n",
              "      <td>мастер и маргарита</td>\n",
              "    </tr>\n",
              "    <tr>\n",
              "      <th>1</th>\n",
              "      <td>4441</td>\n",
              "      <td>0.085901</td>\n",
              "      <td>252228</td>\n",
              "      <td>мастер и маргарита (иллюстрированное издание)</td>\n",
              "    </tr>\n",
              "    <tr>\n",
              "      <th>2</th>\n",
              "      <td>11689</td>\n",
              "      <td>0.057461</td>\n",
              "      <td>283431</td>\n",
              "      <td>мастер и маргарита краткий пересказ произведен...</td>\n",
              "    </tr>\n",
              "    <tr>\n",
              "      <th>3</th>\n",
              "      <td>3874</td>\n",
              "      <td>0.038287</td>\n",
              "      <td>106146</td>\n",
              "      <td>без имени</td>\n",
              "    </tr>\n",
              "    <tr>\n",
              "      <th>4</th>\n",
              "      <td>28450</td>\n",
              "      <td>0.034565</td>\n",
              "      <td>129959</td>\n",
              "      <td>белая гвардия. мастер и маргарита (иллюстриров...</td>\n",
              "    </tr>\n",
              "    <tr>\n",
              "      <th>5</th>\n",
              "      <td>42072</td>\n",
              "      <td>0.033712</td>\n",
              "      <td>229856</td>\n",
              "      <td>булгаков и «маргарита», или история несчастной...</td>\n",
              "    </tr>\n",
              "    <tr>\n",
              "      <th>6</th>\n",
              "      <td>47663</td>\n",
              "      <td>0.033223</td>\n",
              "      <td>284757</td>\n",
              "      <td>стори 11-2015</td>\n",
              "    </tr>\n",
              "    <tr>\n",
              "      <th>7</th>\n",
              "      <td>8220</td>\n",
              "      <td>0.032520</td>\n",
              "      <td>214968</td>\n",
              "      <td>драгоценная плоть</td>\n",
              "    </tr>\n",
              "    <tr>\n",
              "      <th>8</th>\n",
              "      <td>58432</td>\n",
              "      <td>0.031764</td>\n",
              "      <td>303726</td>\n",
              "      <td>ничего не возьму с собой</td>\n",
              "    </tr>\n",
              "    <tr>\n",
              "      <th>9</th>\n",
              "      <td>53017</td>\n",
              "      <td>0.031390</td>\n",
              "      <td>9282</td>\n",
              "      <td>идущий на север. долина башен</td>\n",
              "    </tr>\n",
              "  </tbody>\n",
              "</table>\n",
              "</div>"
            ],
            "text/plain": [
              "   col_id  ...                                              title\n",
              "0    1466  ...                                 мастер и маргарита\n",
              "1    4441  ...      мастер и маргарита (иллюстрированное издание)\n",
              "2   11689  ...  мастер и маргарита краткий пересказ произведен...\n",
              "3    3874  ...                                          без имени\n",
              "4   28450  ...  белая гвардия. мастер и маргарита (иллюстриров...\n",
              "5   42072  ...  булгаков и «маргарита», или история несчастной...\n",
              "6   47663  ...                                      стори 11-2015\n",
              "7    8220  ...                                  драгоценная плоть\n",
              "8   58432  ...                           ничего не возьму с собой\n",
              "9   53017  ...                      идущий на север. долина башен\n",
              "\n",
              "[10 rows x 4 columns]"
            ]
          },
          "metadata": {},
          "execution_count": 50
        }
      ],
      "source": [
        "get_similar_books('мастер и маргарита', model)"
      ]
    },
    {
      "cell_type": "code",
      "execution_count": 51,
      "metadata": {
        "execution": {
          "iopub.execute_input": "2020-10-25T11:08:00.530801Z",
          "iopub.status.busy": "2020-10-25T11:08:00.530123Z",
          "iopub.status.idle": "2020-10-25T11:08:00.534358Z",
          "shell.execute_reply": "2020-10-25T11:08:00.534704Z"
        },
        "papermill": {
          "duration": 0.091887,
          "end_time": "2020-10-25T11:08:00.534838",
          "exception": false,
          "start_time": "2020-10-25T11:08:00.442951",
          "status": "completed"
        },
        "tags": [],
        "colab": {
          "base_uri": "https://localhost:8080/",
          "height": 359
        },
        "id": "2vktYdp0FQBY",
        "outputId": "c3efbcc2-b7fc-40c6-f8d0-a5fa3309ef77"
      },
      "outputs": [
        {
          "output_type": "execute_result",
          "data": {
            "text/html": [
              "<div>\n",
              "<style scoped>\n",
              "    .dataframe tbody tr th:only-of-type {\n",
              "        vertical-align: middle;\n",
              "    }\n",
              "\n",
              "    .dataframe tbody tr th {\n",
              "        vertical-align: top;\n",
              "    }\n",
              "\n",
              "    .dataframe thead th {\n",
              "        text-align: right;\n",
              "    }\n",
              "</style>\n",
              "<table border=\"1\" class=\"dataframe\">\n",
              "  <thead>\n",
              "    <tr style=\"text-align: right;\">\n",
              "      <th></th>\n",
              "      <th>col_id</th>\n",
              "      <th>similarity</th>\n",
              "      <th>item_id</th>\n",
              "      <th>title</th>\n",
              "    </tr>\n",
              "  </thead>\n",
              "  <tbody>\n",
              "    <tr>\n",
              "      <th>0</th>\n",
              "      <td>23397</td>\n",
              "      <td>1.000000</td>\n",
              "      <td>235407</td>\n",
              "      <td>пикник на обочине</td>\n",
              "    </tr>\n",
              "    <tr>\n",
              "      <th>1</th>\n",
              "      <td>8237</td>\n",
              "      <td>0.081634</td>\n",
              "      <td>208935</td>\n",
              "      <td>понедельник начинается в субботу</td>\n",
              "    </tr>\n",
              "    <tr>\n",
              "      <th>2</th>\n",
              "      <td>13604</td>\n",
              "      <td>0.075878</td>\n",
              "      <td>86572</td>\n",
              "      <td>град обреченный</td>\n",
              "    </tr>\n",
              "    <tr>\n",
              "      <th>3</th>\n",
              "      <td>46038</td>\n",
              "      <td>0.053919</td>\n",
              "      <td>85633</td>\n",
              "      <td>жук в муравейнике</td>\n",
              "    </tr>\n",
              "    <tr>\n",
              "      <th>4</th>\n",
              "      <td>9537</td>\n",
              "      <td>0.048289</td>\n",
              "      <td>128823</td>\n",
              "      <td>обитаемый остров</td>\n",
              "    </tr>\n",
              "    <tr>\n",
              "      <th>5</th>\n",
              "      <td>11830</td>\n",
              "      <td>0.046667</td>\n",
              "      <td>85653</td>\n",
              "      <td>волны гасят ветер</td>\n",
              "    </tr>\n",
              "    <tr>\n",
              "      <th>6</th>\n",
              "      <td>23062</td>\n",
              "      <td>0.043113</td>\n",
              "      <td>138608</td>\n",
              "      <td>сталкер</td>\n",
              "    </tr>\n",
              "    <tr>\n",
              "      <th>7</th>\n",
              "      <td>40889</td>\n",
              "      <td>0.038316</td>\n",
              "      <td>287365</td>\n",
              "      <td>большой прикол. анекдоты 31-2016</td>\n",
              "    </tr>\n",
              "    <tr>\n",
              "      <th>8</th>\n",
              "      <td>39976</td>\n",
              "      <td>0.035602</td>\n",
              "      <td>94631</td>\n",
              "      <td>трудно быть богом</td>\n",
              "    </tr>\n",
              "    <tr>\n",
              "      <th>9</th>\n",
              "      <td>1992</td>\n",
              "      <td>0.031722</td>\n",
              "      <td>35265</td>\n",
              "      <td>записки юного врача</td>\n",
              "    </tr>\n",
              "  </tbody>\n",
              "</table>\n",
              "</div>"
            ],
            "text/plain": [
              "   col_id  similarity  item_id                             title\n",
              "0   23397    1.000000   235407                 пикник на обочине\n",
              "1    8237    0.081634   208935  понедельник начинается в субботу\n",
              "2   13604    0.075878    86572                   град обреченный\n",
              "3   46038    0.053919    85633                 жук в муравейнике\n",
              "4    9537    0.048289   128823                  обитаемый остров\n",
              "5   11830    0.046667    85653                 волны гасят ветер\n",
              "6   23062    0.043113   138608                           сталкер\n",
              "7   40889    0.038316   287365  большой прикол. анекдоты 31-2016\n",
              "8   39976    0.035602    94631                 трудно быть богом\n",
              "9    1992    0.031722    35265               записки юного врача"
            ]
          },
          "metadata": {},
          "execution_count": 51
        }
      ],
      "source": [
        "get_similar_books('пикник на обочине', model)"
      ]
    },
    {
      "cell_type": "markdown",
      "metadata": {
        "papermill": {
          "duration": 0.076024,
          "end_time": "2020-10-25T11:08:00.687759",
          "exception": false,
          "start_time": "2020-10-25T11:08:00.611735",
          "status": "completed"
        },
        "tags": [],
        "id": "C3abkj2JFQBY"
      },
      "source": [
        "## AlternatingLeastSquares\n",
        "\n",
        "**Векорное представление** - на основе разложения матрицы взамиодействий (с весами) в произведение двух матриц. \n",
        "Одна матрица размерности `[users x factors]` содержит векторные представления всех пользователей,\n",
        "другая матрица `[items x factors]` для объектов\n",
        "\n",
        "**Процесс построения рекомендаций** - для конкретного пользователя ищутся такие объекты, что скалярное произведение их векторов максимально.\n",
        "\n",
        "**Пространство для тюнинга** \n",
        "* взвешивание на уровне таблицы\n",
        "* `factors` - размерность итоговых векторов (обычно степени 2-ки, от 16 до 256)\n",
        "* `iterations` - кол-во итераций (от 10 до 100)\n",
        "* `regularization` - регуляризация векторов (степени 10-ки, от 0.0001 до 1)\n",
        "\n",
        "Есть возможность использовать GPU через `use_gpu=True` и ApproximateNearestNeighbors (на уровне модели)"
      ]
    },
    {
      "cell_type": "code",
      "execution_count": 52,
      "metadata": {
        "execution": {
          "iopub.execute_input": "2020-10-25T11:08:00.845294Z",
          "iopub.status.busy": "2020-10-25T11:08:00.844699Z",
          "iopub.status.idle": "2020-10-25T11:08:00.847812Z",
          "shell.execute_reply": "2020-10-25T11:08:00.848185Z"
        },
        "papermill": {
          "duration": 0.084058,
          "end_time": "2020-10-25T11:08:00.848279",
          "exception": false,
          "start_time": "2020-10-25T11:08:00.764221",
          "status": "completed"
        },
        "tags": [],
        "id": "72wOqRERFQBY"
      },
      "outputs": [],
      "source": [
        "from implicit.als import AlternatingLeastSquares"
      ]
    },
    {
      "cell_type": "code",
      "execution_count": null,
      "metadata": {
        "_kg_hide-output": true,
        "execution": {
          "iopub.execute_input": "2020-10-25T11:08:01.014917Z",
          "iopub.status.busy": "2020-10-25T11:08:01.014429Z",
          "iopub.status.idle": "2020-10-25T11:10:13.560156Z",
          "shell.execute_reply": "2020-10-25T11:10:13.559654Z"
        },
        "papermill": {
          "duration": 132.635487,
          "end_time": "2020-10-25T11:10:13.560241",
          "exception": false,
          "start_time": "2020-10-25T11:08:00.924754",
          "status": "completed"
        },
        "tags": [],
        "id": "91GRGUzsFQBY"
      },
      "outputs": [],
      "source": [
        "for train_idx, test_idx, info in folds_with_stats:\n",
        "    print(f\"test range - from {info['Start date']} to {info['End date']}\")\n",
        "    train = df.loc[train_idx]\n",
        "    test = df.loc[test_idx]\n",
        "    print(f'train shape - {train.shape}, test shape - {test.shape}')\n",
        "    \n",
        "    train_mat = get_coo_matrix(train).tocsr()\n",
        "    \n",
        "    als_model = AlternatingLeastSquares(factors=32, iterations=30, num_threads=4)\n",
        "    als_model.fit(train_mat.T) \n",
        "    \n",
        "    mapper = generate_implicit_recs_mapper(als_model, train_mat, top_N, users_mapping, items_inv_mapping)\n",
        "    \n",
        "    recs = pd.DataFrame({\n",
        "        'user_id': test['user_id'].unique()\n",
        "    })\n",
        "    recs['item_id'] = recs['user_id'].map(mapper)\n",
        "    recs = recs.explode('item_id')\n",
        "    recs['rank'] = recs.groupby('user_id').cumcount() + 1\n",
        "    metrics = compute_metrics(test, recs, top_N)\n",
        "    \n",
        "    fold_result = pd.Series(metrics)\n",
        "    fold_result.at['Date'] = info['Start date']\n",
        "    fold_result.at['argv'] = 'factors=32 iterations=30'\n",
        "    fold_result.at['Model'] = als_model.__class__.__name__\n",
        "    \n",
        "    validation_results = validation_results.append(fold_result, ignore_index=True)"
      ]
    },
    {
      "cell_type": "code",
      "execution_count": 56,
      "metadata": {
        "execution": {
          "iopub.execute_input": "2020-10-25T11:10:13.752457Z",
          "iopub.status.busy": "2020-10-25T11:10:13.745512Z",
          "iopub.status.idle": "2020-10-25T11:10:13.756477Z",
          "shell.execute_reply": "2020-10-25T11:10:13.756965Z"
        },
        "papermill": {
          "duration": 0.113834,
          "end_time": "2020-10-25T11:10:13.757107",
          "exception": false,
          "start_time": "2020-10-25T11:10:13.643273",
          "status": "completed"
        },
        "tags": [],
        "colab": {
          "base_uri": "https://localhost:8080/",
          "height": 204
        },
        "id": "i7AmJamtFQBY",
        "outputId": "0f6dd98d-b6ae-4980-e0d1-8bd7faf9610f"
      },
      "outputs": [
        {
          "output_type": "execute_result",
          "data": {
            "text/html": [
              "<div>\n",
              "<style scoped>\n",
              "    .dataframe tbody tr th:only-of-type {\n",
              "        vertical-align: middle;\n",
              "    }\n",
              "\n",
              "    .dataframe tbody tr th {\n",
              "        vertical-align: top;\n",
              "    }\n",
              "\n",
              "    .dataframe thead tr th {\n",
              "        text-align: left;\n",
              "    }\n",
              "\n",
              "    .dataframe thead tr:last-of-type th {\n",
              "        text-align: right;\n",
              "    }\n",
              "</style>\n",
              "<table border=\"1\" class=\"dataframe\">\n",
              "  <thead>\n",
              "    <tr>\n",
              "      <th></th>\n",
              "      <th></th>\n",
              "      <th colspan=\"4\" halign=\"left\">MRR</th>\n",
              "      <th colspan=\"4\" halign=\"left\">MAP@10</th>\n",
              "      <th colspan=\"4\" halign=\"left\">Recall@10</th>\n",
              "    </tr>\n",
              "    <tr>\n",
              "      <th></th>\n",
              "      <th></th>\n",
              "      <th>mean</th>\n",
              "      <th>std</th>\n",
              "      <th>min</th>\n",
              "      <th>max</th>\n",
              "      <th>mean</th>\n",
              "      <th>std</th>\n",
              "      <th>min</th>\n",
              "      <th>max</th>\n",
              "      <th>mean</th>\n",
              "      <th>std</th>\n",
              "      <th>min</th>\n",
              "      <th>max</th>\n",
              "    </tr>\n",
              "    <tr>\n",
              "      <th>Model</th>\n",
              "      <th>argv</th>\n",
              "      <th></th>\n",
              "      <th></th>\n",
              "      <th></th>\n",
              "      <th></th>\n",
              "      <th></th>\n",
              "      <th></th>\n",
              "      <th></th>\n",
              "      <th></th>\n",
              "      <th></th>\n",
              "      <th></th>\n",
              "      <th></th>\n",
              "      <th></th>\n",
              "    </tr>\n",
              "  </thead>\n",
              "  <tbody>\n",
              "    <tr>\n",
              "      <th>BM25Recommender</th>\n",
              "      <th>K=10</th>\n",
              "      <td>0.015759</td>\n",
              "      <td>0.003429</td>\n",
              "      <td>0.010862</td>\n",
              "      <td>0.022296</td>\n",
              "      <td>0.013908</td>\n",
              "      <td>0.002880</td>\n",
              "      <td>0.009243</td>\n",
              "      <td>0.018977</td>\n",
              "      <td>0.029273</td>\n",
              "      <td>0.004234</td>\n",
              "      <td>0.024603</td>\n",
              "      <td>0.037113</td>\n",
              "    </tr>\n",
              "    <tr>\n",
              "      <th>TFIDFRecommender</th>\n",
              "      <th>K=10</th>\n",
              "      <td>0.015844</td>\n",
              "      <td>0.003811</td>\n",
              "      <td>0.011226</td>\n",
              "      <td>0.023071</td>\n",
              "      <td>0.014056</td>\n",
              "      <td>0.003195</td>\n",
              "      <td>0.010224</td>\n",
              "      <td>0.020040</td>\n",
              "      <td>0.029277</td>\n",
              "      <td>0.005309</td>\n",
              "      <td>0.023529</td>\n",
              "      <td>0.037929</td>\n",
              "    </tr>\n",
              "    <tr>\n",
              "      <th>cosine model</th>\n",
              "      <th>K=10</th>\n",
              "      <td>0.015466</td>\n",
              "      <td>0.003430</td>\n",
              "      <td>0.011132</td>\n",
              "      <td>0.021653</td>\n",
              "      <td>0.013769</td>\n",
              "      <td>0.002792</td>\n",
              "      <td>0.010155</td>\n",
              "      <td>0.018753</td>\n",
              "      <td>0.029178</td>\n",
              "      <td>0.006035</td>\n",
              "      <td>0.023708</td>\n",
              "      <td>0.039139</td>\n",
              "    </tr>\n",
              "  </tbody>\n",
              "</table>\n",
              "</div>"
            ],
            "text/plain": [
              "                            MRR            ... Recall@10          \n",
              "                           mean       std  ...       min       max\n",
              "Model            argv                      ...                    \n",
              "BM25Recommender  K=10  0.015759  0.003429  ...  0.024603  0.037113\n",
              "TFIDFRecommender K=10  0.015844  0.003811  ...  0.023529  0.037929\n",
              "cosine model     K=10  0.015466  0.003430  ...  0.023708  0.039139\n",
              "\n",
              "[3 rows x 12 columns]"
            ]
          },
          "metadata": {},
          "execution_count": 56
        }
      ],
      "source": [
        "validation_results.groupby(['Model', 'argv']).agg({\n",
        "    'MRR': ['mean', 'std', 'min', 'max'],\n",
        "    'MAP@10': ['mean', 'std', 'min', 'max'],\n",
        "    'Recall@10': ['mean', 'std', 'min', 'max'],\n",
        "})"
      ]
    },
    {
      "cell_type": "code",
      "execution_count": 57,
      "metadata": {
        "execution": {
          "iopub.execute_input": "2020-10-25T11:10:14.008154Z",
          "iopub.status.busy": "2020-10-25T11:10:14.007247Z",
          "iopub.status.idle": "2020-10-25T11:10:14.011250Z",
          "shell.execute_reply": "2020-10-25T11:10:14.011610Z"
        },
        "papermill": {
          "duration": 0.131779,
          "end_time": "2020-10-25T11:10:14.011728",
          "exception": false,
          "start_time": "2020-10-25T11:10:13.879949",
          "status": "completed"
        },
        "tags": [],
        "colab": {
          "base_uri": "https://localhost:8080/"
        },
        "id": "b2FWPmpfFQBZ",
        "outputId": "b0b88a91-24a6-4719-b9f2-d7e6a3a8cfe9"
      },
      "outputs": [
        {
          "output_type": "execute_result",
          "data": {
            "text/plain": [
              "((151589, 32), (59599, 32))"
            ]
          },
          "metadata": {},
          "execution_count": 57
        }
      ],
      "source": [
        "als_model.user_factors.shape, als_model.item_factors.shape"
      ]
    },
    {
      "cell_type": "code",
      "execution_count": 58,
      "metadata": {
        "execution": {
          "iopub.execute_input": "2020-10-25T11:10:14.183440Z",
          "iopub.status.busy": "2020-10-25T11:10:14.182994Z",
          "iopub.status.idle": "2020-10-25T11:10:14.197638Z",
          "shell.execute_reply": "2020-10-25T11:10:14.197185Z"
        },
        "papermill": {
          "duration": 0.101114,
          "end_time": "2020-10-25T11:10:14.197722",
          "exception": false,
          "start_time": "2020-10-25T11:10:14.096608",
          "status": "completed"
        },
        "tags": [],
        "colab": {
          "base_uri": "https://localhost:8080/",
          "height": 359
        },
        "id": "AzIynVBqFQBZ",
        "outputId": "8883a9d9-8845-4ddc-d1f5-3a92f4abc231"
      },
      "outputs": [
        {
          "output_type": "execute_result",
          "data": {
            "text/html": [
              "<div>\n",
              "<style scoped>\n",
              "    .dataframe tbody tr th:only-of-type {\n",
              "        vertical-align: middle;\n",
              "    }\n",
              "\n",
              "    .dataframe tbody tr th {\n",
              "        vertical-align: top;\n",
              "    }\n",
              "\n",
              "    .dataframe thead th {\n",
              "        text-align: right;\n",
              "    }\n",
              "</style>\n",
              "<table border=\"1\" class=\"dataframe\">\n",
              "  <thead>\n",
              "    <tr style=\"text-align: right;\">\n",
              "      <th></th>\n",
              "      <th>col_id</th>\n",
              "      <th>similarity</th>\n",
              "      <th>item_id</th>\n",
              "      <th>title</th>\n",
              "    </tr>\n",
              "  </thead>\n",
              "  <tbody>\n",
              "    <tr>\n",
              "      <th>0</th>\n",
              "      <td>0</td>\n",
              "      <td>-0.0</td>\n",
              "      <td>14433</td>\n",
              "      <td>девятный спас</td>\n",
              "    </tr>\n",
              "    <tr>\n",
              "      <th>1</th>\n",
              "      <td>0</td>\n",
              "      <td>-0.0</td>\n",
              "      <td>14433</td>\n",
              "      <td>девятный спас</td>\n",
              "    </tr>\n",
              "    <tr>\n",
              "      <th>2</th>\n",
              "      <td>0</td>\n",
              "      <td>-0.0</td>\n",
              "      <td>14433</td>\n",
              "      <td>девятный спас</td>\n",
              "    </tr>\n",
              "    <tr>\n",
              "      <th>3</th>\n",
              "      <td>0</td>\n",
              "      <td>-0.0</td>\n",
              "      <td>14433</td>\n",
              "      <td>девятный спас</td>\n",
              "    </tr>\n",
              "    <tr>\n",
              "      <th>4</th>\n",
              "      <td>0</td>\n",
              "      <td>-0.0</td>\n",
              "      <td>14433</td>\n",
              "      <td>девятный спас</td>\n",
              "    </tr>\n",
              "    <tr>\n",
              "      <th>5</th>\n",
              "      <td>0</td>\n",
              "      <td>-0.0</td>\n",
              "      <td>14433</td>\n",
              "      <td>девятный спас</td>\n",
              "    </tr>\n",
              "    <tr>\n",
              "      <th>6</th>\n",
              "      <td>0</td>\n",
              "      <td>-0.0</td>\n",
              "      <td>14433</td>\n",
              "      <td>девятный спас</td>\n",
              "    </tr>\n",
              "    <tr>\n",
              "      <th>7</th>\n",
              "      <td>0</td>\n",
              "      <td>-0.0</td>\n",
              "      <td>14433</td>\n",
              "      <td>девятный спас</td>\n",
              "    </tr>\n",
              "    <tr>\n",
              "      <th>8</th>\n",
              "      <td>0</td>\n",
              "      <td>-0.0</td>\n",
              "      <td>14433</td>\n",
              "      <td>девятный спас</td>\n",
              "    </tr>\n",
              "    <tr>\n",
              "      <th>9</th>\n",
              "      <td>0</td>\n",
              "      <td>-0.0</td>\n",
              "      <td>14433</td>\n",
              "      <td>девятный спас</td>\n",
              "    </tr>\n",
              "  </tbody>\n",
              "</table>\n",
              "</div>"
            ],
            "text/plain": [
              "   col_id  similarity  item_id          title\n",
              "0       0        -0.0    14433  девятный спас\n",
              "1       0        -0.0    14433  девятный спас\n",
              "2       0        -0.0    14433  девятный спас\n",
              "3       0        -0.0    14433  девятный спас\n",
              "4       0        -0.0    14433  девятный спас\n",
              "5       0        -0.0    14433  девятный спас\n",
              "6       0        -0.0    14433  девятный спас\n",
              "7       0        -0.0    14433  девятный спас\n",
              "8       0        -0.0    14433  девятный спас\n",
              "9       0        -0.0    14433  девятный спас"
            ]
          },
          "metadata": {},
          "execution_count": 58
        }
      ],
      "source": [
        "get_similar_books('мастер и маргарита', als_model)"
      ]
    },
    {
      "cell_type": "code",
      "execution_count": 59,
      "metadata": {
        "execution": {
          "iopub.execute_input": "2020-10-25T11:10:14.369972Z",
          "iopub.status.busy": "2020-10-25T11:10:14.369249Z",
          "iopub.status.idle": "2020-10-25T11:10:14.382216Z",
          "shell.execute_reply": "2020-10-25T11:10:14.381845Z"
        },
        "papermill": {
          "duration": 0.10147,
          "end_time": "2020-10-25T11:10:14.382298",
          "exception": false,
          "start_time": "2020-10-25T11:10:14.280828",
          "status": "completed"
        },
        "tags": [],
        "colab": {
          "base_uri": "https://localhost:8080/",
          "height": 359
        },
        "id": "JwJZPbflFQBZ",
        "outputId": "2b8882a4-6a29-4473-bca1-feef1442f81e"
      },
      "outputs": [
        {
          "output_type": "execute_result",
          "data": {
            "text/html": [
              "<div>\n",
              "<style scoped>\n",
              "    .dataframe tbody tr th:only-of-type {\n",
              "        vertical-align: middle;\n",
              "    }\n",
              "\n",
              "    .dataframe tbody tr th {\n",
              "        vertical-align: top;\n",
              "    }\n",
              "\n",
              "    .dataframe thead th {\n",
              "        text-align: right;\n",
              "    }\n",
              "</style>\n",
              "<table border=\"1\" class=\"dataframe\">\n",
              "  <thead>\n",
              "    <tr style=\"text-align: right;\">\n",
              "      <th></th>\n",
              "      <th>col_id</th>\n",
              "      <th>similarity</th>\n",
              "      <th>item_id</th>\n",
              "      <th>title</th>\n",
              "    </tr>\n",
              "  </thead>\n",
              "  <tbody>\n",
              "    <tr>\n",
              "      <th>0</th>\n",
              "      <td>0</td>\n",
              "      <td>0.0</td>\n",
              "      <td>14433</td>\n",
              "      <td>девятный спас</td>\n",
              "    </tr>\n",
              "    <tr>\n",
              "      <th>1</th>\n",
              "      <td>0</td>\n",
              "      <td>0.0</td>\n",
              "      <td>14433</td>\n",
              "      <td>девятный спас</td>\n",
              "    </tr>\n",
              "    <tr>\n",
              "      <th>2</th>\n",
              "      <td>0</td>\n",
              "      <td>0.0</td>\n",
              "      <td>14433</td>\n",
              "      <td>девятный спас</td>\n",
              "    </tr>\n",
              "    <tr>\n",
              "      <th>3</th>\n",
              "      <td>0</td>\n",
              "      <td>0.0</td>\n",
              "      <td>14433</td>\n",
              "      <td>девятный спас</td>\n",
              "    </tr>\n",
              "    <tr>\n",
              "      <th>4</th>\n",
              "      <td>0</td>\n",
              "      <td>0.0</td>\n",
              "      <td>14433</td>\n",
              "      <td>девятный спас</td>\n",
              "    </tr>\n",
              "    <tr>\n",
              "      <th>5</th>\n",
              "      <td>0</td>\n",
              "      <td>0.0</td>\n",
              "      <td>14433</td>\n",
              "      <td>девятный спас</td>\n",
              "    </tr>\n",
              "    <tr>\n",
              "      <th>6</th>\n",
              "      <td>0</td>\n",
              "      <td>0.0</td>\n",
              "      <td>14433</td>\n",
              "      <td>девятный спас</td>\n",
              "    </tr>\n",
              "    <tr>\n",
              "      <th>7</th>\n",
              "      <td>0</td>\n",
              "      <td>0.0</td>\n",
              "      <td>14433</td>\n",
              "      <td>девятный спас</td>\n",
              "    </tr>\n",
              "    <tr>\n",
              "      <th>8</th>\n",
              "      <td>0</td>\n",
              "      <td>0.0</td>\n",
              "      <td>14433</td>\n",
              "      <td>девятный спас</td>\n",
              "    </tr>\n",
              "    <tr>\n",
              "      <th>9</th>\n",
              "      <td>0</td>\n",
              "      <td>0.0</td>\n",
              "      <td>14433</td>\n",
              "      <td>девятный спас</td>\n",
              "    </tr>\n",
              "  </tbody>\n",
              "</table>\n",
              "</div>"
            ],
            "text/plain": [
              "   col_id  similarity  item_id          title\n",
              "0       0         0.0    14433  девятный спас\n",
              "1       0         0.0    14433  девятный спас\n",
              "2       0         0.0    14433  девятный спас\n",
              "3       0         0.0    14433  девятный спас\n",
              "4       0         0.0    14433  девятный спас\n",
              "5       0         0.0    14433  девятный спас\n",
              "6       0         0.0    14433  девятный спас\n",
              "7       0         0.0    14433  девятный спас\n",
              "8       0         0.0    14433  девятный спас\n",
              "9       0         0.0    14433  девятный спас"
            ]
          },
          "metadata": {},
          "execution_count": 59
        }
      ],
      "source": [
        "get_similar_books('пикник на обочине', als_model)"
      ]
    },
    {
      "cell_type": "code",
      "execution_count": 60,
      "metadata": {
        "execution": {
          "iopub.execute_input": "2020-10-25T11:10:14.556244Z",
          "iopub.status.busy": "2020-10-25T11:10:14.555470Z",
          "iopub.status.idle": "2020-10-25T11:10:14.567929Z",
          "shell.execute_reply": "2020-10-25T11:10:14.567473Z"
        },
        "papermill": {
          "duration": 0.101163,
          "end_time": "2020-10-25T11:10:14.568008",
          "exception": false,
          "start_time": "2020-10-25T11:10:14.466845",
          "status": "completed"
        },
        "tags": [],
        "colab": {
          "base_uri": "https://localhost:8080/"
        },
        "id": "9Q_Zax2_FQBZ",
        "outputId": "7935b77b-1577-4d42-bcda-9384eb9fb20b"
      },
      "outputs": [
        {
          "output_type": "stream",
          "name": "stderr",
          "text": [
            "/usr/local/lib/python3.7/dist-packages/implicit/gpu/matrix_factorization_base.py:97: RuntimeWarning: invalid value encountered in true_divide\n",
            "  scores /= self._user_norms_host[userid]\n"
          ]
        },
        {
          "output_type": "execute_result",
          "data": {
            "text/plain": [
              "[(0, nan), (0, nan), (0, nan), (0, nan), (0, nan)]"
            ]
          },
          "metadata": {},
          "execution_count": 60
        }
      ],
      "source": [
        "similar_users = als_model.similar_users(0, N=5)\n",
        "similar_users"
      ]
    },
    {
      "cell_type": "code",
      "execution_count": 61,
      "metadata": {
        "execution": {
          "iopub.execute_input": "2020-10-25T11:10:14.744462Z",
          "iopub.status.busy": "2020-10-25T11:10:14.743839Z",
          "iopub.status.idle": "2020-10-25T11:10:14.765381Z",
          "shell.execute_reply": "2020-10-25T11:10:14.765965Z"
        },
        "papermill": {
          "duration": 0.112052,
          "end_time": "2020-10-25T11:10:14.766090",
          "exception": false,
          "start_time": "2020-10-25T11:10:14.654038",
          "status": "completed"
        },
        "tags": [],
        "colab": {
          "base_uri": "https://localhost:8080/"
        },
        "id": "WMNKzjdhFQBZ",
        "outputId": "eea23dd6-3a43-478d-de35-9c46e64a65a5"
      },
      "outputs": [
        {
          "output_type": "stream",
          "name": "stdout",
          "text": [
            "User ID - 126706 (nan)\n",
            "                            девятный спас\n",
            "                        утраченный символ\n",
            "                             точка обмана\n",
            "                             код да винчи\n",
            "                как это делалось в одессе\n",
            "                  вдали от безумной толпы\n",
            "                                финансист\n",
            "             «…их бин нервосо!» (сборник)\n",
            " адмирал колчак. неизвестное об известном\n",
            "User ID - 126706 (nan)\n",
            "                            девятный спас\n",
            "                        утраченный символ\n",
            "                             точка обмана\n",
            "                             код да винчи\n",
            "                как это делалось в одессе\n",
            "                  вдали от безумной толпы\n",
            "                                финансист\n",
            "             «…их бин нервосо!» (сборник)\n",
            " адмирал колчак. неизвестное об известном\n",
            "User ID - 126706 (nan)\n",
            "                            девятный спас\n",
            "                        утраченный символ\n",
            "                             точка обмана\n",
            "                             код да винчи\n",
            "                как это делалось в одессе\n",
            "                  вдали от безумной толпы\n",
            "                                финансист\n",
            "             «…их бин нервосо!» (сборник)\n",
            " адмирал колчак. неизвестное об известном\n",
            "User ID - 126706 (nan)\n",
            "                            девятный спас\n",
            "                        утраченный символ\n",
            "                             точка обмана\n",
            "                             код да винчи\n",
            "                как это делалось в одессе\n",
            "                  вдали от безумной толпы\n",
            "                                финансист\n",
            "             «…их бин нервосо!» (сборник)\n",
            " адмирал колчак. неизвестное об известном\n",
            "User ID - 126706 (nan)\n",
            "                            девятный спас\n",
            "                        утраченный символ\n",
            "                             точка обмана\n",
            "                             код да винчи\n",
            "                как это делалось в одессе\n",
            "                  вдали от безумной толпы\n",
            "                                финансист\n",
            "             «…их бин нервосо!» (сборник)\n",
            " адмирал колчак. неизвестное об известном\n"
          ]
        },
        {
          "output_type": "stream",
          "name": "stderr",
          "text": [
            "/usr/local/lib/python3.7/dist-packages/implicit/gpu/matrix_factorization_base.py:97: RuntimeWarning: invalid value encountered in true_divide\n",
            "  scores /= self._user_norms_host[userid]\n"
          ]
        }
      ],
      "source": [
        "similar_users = als_model.similar_users(144, N=5)\n",
        "for (uid, sim) in similar_users:\n",
        "    user_id = users_inv_mapping[uid]\n",
        "    print(f'User ID - {user_id} ({sim:.4f})')\n",
        "    user_mask = train['user_id'] == user_id\n",
        "    user_items = train.loc[user_mask, 'item_id'].map(item_titles.get)\n",
        "    print(user_items.to_string(index=False))"
      ]
    },
    {
      "cell_type": "markdown",
      "metadata": {
        "papermill": {
          "duration": 0.128867,
          "end_time": "2020-10-25T11:10:15.030618",
          "exception": false,
          "start_time": "2020-10-25T11:10:14.901751",
          "status": "completed"
        },
        "tags": [],
        "id": "zx_3ffNNFQBZ"
      },
      "source": [
        "<a id=\"lightfm\"></a>\n",
        "# LightFM\n",
        "\n",
        "Библиотека для построения рекомендательных систем с помощью матричных разложений и фичей\n",
        "* Репо - https://github.com/lyst/lightfm\n",
        "* Документация - https://making.lyst.com/lightfm/docs/home.html\n",
        "\n",
        "Входные данные - разреженные матрицы (либо csr_matrix, либо coo_matrix)\n",
        "Модель одна, варируются только loss functions. Также есть вспомогательный класс lightfm.data.Dataset для построения как матрицы взаимодействий, так и матриц фичей"
      ]
    },
    {
      "cell_type": "markdown",
      "metadata": {
        "papermill": {
          "duration": 0.127898,
          "end_time": "2020-10-25T11:10:15.292217",
          "exception": false,
          "start_time": "2020-10-25T11:10:15.164319",
          "status": "completed"
        },
        "tags": [],
        "id": "IfqD_YZTFQBa"
      },
      "source": [
        "**Основая идея** - построить векторные представления для каждой фичи по пользователю и объекту. Если фичей нет, то просто используем индикаторные фичи (единичная матрица по пользователям и объектам соответственно)\n",
        "![image.png](attachment:image.png)\n",
        "[image source](https://sites.northwestern.edu/msia/2019/04/24/personalized-restaurant-recommender-system-using-hybrid-approach/#:~:text=LightFM%20incorporates%20matrix%20factorization%20model,retain%20the%20original%20interaction%20matrix.&text=The%20latent%20embeddings%20could%20capture,items%2C%20which%20represent%20their%20tastes.)"
      ]
    },
    {
      "cell_type": "markdown",
      "metadata": {
        "papermill": {
          "duration": 0.126983,
          "end_time": "2020-10-25T11:10:15.547529",
          "exception": false,
          "start_time": "2020-10-25T11:10:15.420546",
          "status": "completed"
        },
        "tags": [],
        "id": "AfygHKctFQBa"
      },
      "source": [
        "**Векорное представление** - векторы для пользователя и объекта получают суммирование векторов их фичей.\n",
        "\n",
        "**Процесс построения рекомендаций** - для конкретного пользователя ищутся такие объекты, что скалярное произведение их векторов максимально.\n",
        "\n",
        "**Пространство для тюнинга** \n",
        "* взвешивание на уровне таблицы\n",
        "* `loss` - обучение функции ранжирования.\n",
        "    * `logistic`\n",
        "    * `bpr`\n",
        "    * `warp`\n",
        "    * `warp-kos`\n",
        "* `no_components` - размерность итоговых векторов (обычно степени 2-ки, от 16 до 256)\n",
        "* `learning_rate` - \"скорость\" обучения\n",
        "* `item_alpha`/`user_alpha` - регуляризация (степени 10-ки, от 0.0001 до 1)"
      ]
    },
    {
      "cell_type": "code",
      "source": [
        "pip install lightfm"
      ],
      "metadata": {
        "colab": {
          "base_uri": "https://localhost:8080/"
        },
        "id": "mV3jDo3eKUrb",
        "outputId": "ba21d9e3-a8b9-47b4-eaa6-e347c422dafe"
      },
      "execution_count": 63,
      "outputs": [
        {
          "output_type": "stream",
          "name": "stdout",
          "text": [
            "Collecting lightfm\n",
            "  Downloading lightfm-1.16.tar.gz (310 kB)\n",
            "\u001b[?25l\r\u001b[K     |█                               | 10 kB 15.7 MB/s eta 0:00:01\r\u001b[K     |██▏                             | 20 kB 6.1 MB/s eta 0:00:01\r\u001b[K     |███▏                            | 30 kB 8.1 MB/s eta 0:00:01\r\u001b[K     |████▎                           | 40 kB 8.6 MB/s eta 0:00:01\r\u001b[K     |█████▎                          | 51 kB 5.9 MB/s eta 0:00:01\r\u001b[K     |██████▍                         | 61 kB 5.5 MB/s eta 0:00:01\r\u001b[K     |███████▍                        | 71 kB 5.2 MB/s eta 0:00:01\r\u001b[K     |████████▌                       | 81 kB 5.7 MB/s eta 0:00:01\r\u001b[K     |█████████▌                      | 92 kB 5.2 MB/s eta 0:00:01\r\u001b[K     |██████████▋                     | 102 kB 5.5 MB/s eta 0:00:01\r\u001b[K     |███████████▋                    | 112 kB 5.5 MB/s eta 0:00:01\r\u001b[K     |████████████▊                   | 122 kB 5.5 MB/s eta 0:00:01\r\u001b[K     |█████████████▊                  | 133 kB 5.5 MB/s eta 0:00:01\r\u001b[K     |██████████████▉                 | 143 kB 5.5 MB/s eta 0:00:01\r\u001b[K     |███████████████▉                | 153 kB 5.5 MB/s eta 0:00:01\r\u001b[K     |█████████████████               | 163 kB 5.5 MB/s eta 0:00:01\r\u001b[K     |██████████████████              | 174 kB 5.5 MB/s eta 0:00:01\r\u001b[K     |███████████████████             | 184 kB 5.5 MB/s eta 0:00:01\r\u001b[K     |████████████████████            | 194 kB 5.5 MB/s eta 0:00:01\r\u001b[K     |█████████████████████▏          | 204 kB 5.5 MB/s eta 0:00:01\r\u001b[K     |██████████████████████▏         | 215 kB 5.5 MB/s eta 0:00:01\r\u001b[K     |███████████████████████▎        | 225 kB 5.5 MB/s eta 0:00:01\r\u001b[K     |████████████████████████▎       | 235 kB 5.5 MB/s eta 0:00:01\r\u001b[K     |█████████████████████████▍      | 245 kB 5.5 MB/s eta 0:00:01\r\u001b[K     |██████████████████████████▍     | 256 kB 5.5 MB/s eta 0:00:01\r\u001b[K     |███████████████████████████▌    | 266 kB 5.5 MB/s eta 0:00:01\r\u001b[K     |████████████████████████████▌   | 276 kB 5.5 MB/s eta 0:00:01\r\u001b[K     |█████████████████████████████▋  | 286 kB 5.5 MB/s eta 0:00:01\r\u001b[K     |██████████████████████████████▋ | 296 kB 5.5 MB/s eta 0:00:01\r\u001b[K     |███████████████████████████████▊| 307 kB 5.5 MB/s eta 0:00:01\r\u001b[K     |████████████████████████████████| 310 kB 5.5 MB/s \n",
            "\u001b[?25hRequirement already satisfied: numpy in /usr/local/lib/python3.7/dist-packages (from lightfm) (1.19.5)\n",
            "Requirement already satisfied: scipy>=0.17.0 in /usr/local/lib/python3.7/dist-packages (from lightfm) (1.4.1)\n",
            "Requirement already satisfied: requests in /usr/local/lib/python3.7/dist-packages (from lightfm) (2.23.0)\n",
            "Requirement already satisfied: scikit-learn in /usr/local/lib/python3.7/dist-packages (from lightfm) (1.0.1)\n",
            "Requirement already satisfied: urllib3!=1.25.0,!=1.25.1,<1.26,>=1.21.1 in /usr/local/lib/python3.7/dist-packages (from requests->lightfm) (1.24.3)\n",
            "Requirement already satisfied: chardet<4,>=3.0.2 in /usr/local/lib/python3.7/dist-packages (from requests->lightfm) (3.0.4)\n",
            "Requirement already satisfied: certifi>=2017.4.17 in /usr/local/lib/python3.7/dist-packages (from requests->lightfm) (2021.10.8)\n",
            "Requirement already satisfied: idna<3,>=2.5 in /usr/local/lib/python3.7/dist-packages (from requests->lightfm) (2.10)\n",
            "Requirement already satisfied: threadpoolctl>=2.0.0 in /usr/local/lib/python3.7/dist-packages (from scikit-learn->lightfm) (3.0.0)\n",
            "Requirement already satisfied: joblib>=0.11 in /usr/local/lib/python3.7/dist-packages (from scikit-learn->lightfm) (1.1.0)\n",
            "Building wheels for collected packages: lightfm\n",
            "  Building wheel for lightfm (setup.py) ... \u001b[?25l\u001b[?25hdone\n",
            "  Created wheel for lightfm: filename=lightfm-1.16-cp37-cp37m-linux_x86_64.whl size=705378 sha256=1be3e3768cd4df2f6ba82580bc18cd20338173c06dfd52207cca513299da3467\n",
            "  Stored in directory: /root/.cache/pip/wheels/f8/56/28/5772a3bd3413d65f03aa452190b00898b680b10028a1021914\n",
            "Successfully built lightfm\n",
            "Installing collected packages: lightfm\n",
            "Successfully installed lightfm-1.16\n"
          ]
        }
      ]
    },
    {
      "cell_type": "code",
      "execution_count": 64,
      "metadata": {
        "execution": {
          "iopub.execute_input": "2020-10-25T11:10:15.806536Z",
          "iopub.status.busy": "2020-10-25T11:10:15.806031Z",
          "iopub.status.idle": "2020-10-25T11:10:16.354621Z",
          "shell.execute_reply": "2020-10-25T11:10:16.354994Z"
        },
        "papermill": {
          "duration": 0.679955,
          "end_time": "2020-10-25T11:10:16.355104",
          "exception": false,
          "start_time": "2020-10-25T11:10:15.675149",
          "status": "completed"
        },
        "tags": [],
        "id": "gp1wjvFLFQBa"
      },
      "outputs": [],
      "source": [
        "from lightfm.data import Dataset\n",
        "from lightfm import LightFM"
      ]
    },
    {
      "cell_type": "code",
      "execution_count": 65,
      "metadata": {
        "execution": {
          "iopub.execute_input": "2020-10-25T11:10:16.532480Z",
          "iopub.status.busy": "2020-10-25T11:10:16.532016Z",
          "iopub.status.idle": "2020-10-25T11:10:16.534388Z",
          "shell.execute_reply": "2020-10-25T11:10:16.534006Z"
        },
        "papermill": {
          "duration": 0.094221,
          "end_time": "2020-10-25T11:10:16.534471",
          "exception": false,
          "start_time": "2020-10-25T11:10:16.440250",
          "status": "completed"
        },
        "tags": [],
        "id": "hZuKk-3_FQBa"
      },
      "outputs": [],
      "source": [
        "dataset = Dataset()"
      ]
    },
    {
      "cell_type": "code",
      "execution_count": 66,
      "metadata": {
        "execution": {
          "iopub.execute_input": "2020-10-25T11:10:16.713519Z",
          "iopub.status.busy": "2020-10-25T11:10:16.713094Z",
          "iopub.status.idle": "2020-10-25T11:10:16.935336Z",
          "shell.execute_reply": "2020-10-25T11:10:16.935686Z"
        },
        "papermill": {
          "duration": 0.314023,
          "end_time": "2020-10-25T11:10:16.935821",
          "exception": false,
          "start_time": "2020-10-25T11:10:16.621798",
          "status": "completed"
        },
        "tags": [],
        "id": "a2M8M0K7FQBa"
      },
      "outputs": [],
      "source": [
        "dataset.fit(df['user_id'].unique(), df['item_id'].unique())"
      ]
    },
    {
      "cell_type": "code",
      "execution_count": 67,
      "metadata": {
        "execution": {
          "iopub.execute_input": "2020-10-25T11:10:17.137316Z",
          "iopub.status.busy": "2020-10-25T11:10:17.136882Z",
          "iopub.status.idle": "2020-10-25T11:10:17.143661Z",
          "shell.execute_reply": "2020-10-25T11:10:17.143297Z"
        },
        "papermill": {
          "duration": 0.099613,
          "end_time": "2020-10-25T11:10:17.143741",
          "exception": false,
          "start_time": "2020-10-25T11:10:17.044128",
          "status": "completed"
        },
        "tags": [],
        "colab": {
          "base_uri": "https://localhost:8080/"
        },
        "id": "Oa5fQStUFQBa",
        "outputId": "adcb6054-0f84-4a6c-c795-94c32be92c0f"
      },
      "outputs": [
        {
          "output_type": "execute_result",
          "data": {
            "text/plain": [
              "['45_54', '18_24', '65_inf', '35_44', '55_64', '25_34', 'age_unknown']\n",
              "Categories (7, object): ['45_54', '18_24', '65_inf', '35_44', '55_64', '25_34', 'age_unknown']"
            ]
          },
          "metadata": {},
          "execution_count": 67
        }
      ],
      "source": [
        "df_users['age'] = df_users['age'].cat.add_categories('age_unknown')\n",
        "df_users['age'] = df_users['age'].fillna('age_unknown')\n",
        "age_features = df_users['age'].unique()\n",
        "age_features"
      ]
    },
    {
      "cell_type": "code",
      "execution_count": 68,
      "metadata": {
        "execution": {
          "iopub.execute_input": "2020-10-25T11:10:17.374196Z",
          "iopub.status.busy": "2020-10-25T11:10:17.319144Z",
          "iopub.status.idle": "2020-10-25T11:10:17.406614Z",
          "shell.execute_reply": "2020-10-25T11:10:17.406175Z"
        },
        "papermill": {
          "duration": 0.177147,
          "end_time": "2020-10-25T11:10:17.406694",
          "exception": false,
          "start_time": "2020-10-25T11:10:17.229547",
          "status": "completed"
        },
        "tags": [],
        "colab": {
          "base_uri": "https://localhost:8080/"
        },
        "id": "StfrjTE7FQBa",
        "outputId": "70d82e56-4c70-4d46-d5c9-faac3aaf9207"
      },
      "outputs": [
        {
          "output_type": "execute_result",
          "data": {
            "text/plain": [
              "array(['nan', '0.0', '1.0'], dtype=object)"
            ]
          },
          "metadata": {},
          "execution_count": 68
        }
      ],
      "source": [
        "df_users['sex'] = np.array(df_users['sex'].astype(str))\n",
        "df_users['sex'] = df_users['sex'].fillna('age_unknown')\n",
        "sex_features = df_users['sex'].unique()\n",
        "sex_features"
      ]
    },
    {
      "cell_type": "code",
      "execution_count": 69,
      "metadata": {
        "execution": {
          "iopub.execute_input": "2020-10-25T11:10:17.581590Z",
          "iopub.status.busy": "2020-10-25T11:10:17.581009Z",
          "iopub.status.idle": "2020-10-25T11:10:17.585815Z",
          "shell.execute_reply": "2020-10-25T11:10:17.585304Z"
        },
        "papermill": {
          "duration": 0.094325,
          "end_time": "2020-10-25T11:10:17.585918",
          "exception": false,
          "start_time": "2020-10-25T11:10:17.491593",
          "status": "completed"
        },
        "tags": [],
        "colab": {
          "base_uri": "https://localhost:8080/"
        },
        "id": "in9Dgr9dFQBb",
        "outputId": "27b8956c-b650-4e05-b2b0-927d5b4727a1"
      },
      "outputs": [
        {
          "output_type": "execute_result",
          "data": {
            "text/plain": [
              "array(['45_54', '18_24', '65_inf', '35_44', '55_64', '25_34',\n",
              "       'age_unknown', 'nan', '0.0', '1.0'], dtype=object)"
            ]
          },
          "metadata": {},
          "execution_count": 69
        }
      ],
      "source": [
        "users_features = np.append(age_features, sex_features)\n",
        "users_features"
      ]
    },
    {
      "cell_type": "code",
      "execution_count": 70,
      "metadata": {
        "execution": {
          "iopub.execute_input": "2020-10-25T11:10:17.850276Z",
          "iopub.status.busy": "2020-10-25T11:10:17.849810Z",
          "iopub.status.idle": "2020-10-25T11:10:17.851480Z",
          "shell.execute_reply": "2020-10-25T11:10:17.851834Z"
        },
        "papermill": {
          "duration": 0.135617,
          "end_time": "2020-10-25T11:10:17.851952",
          "exception": false,
          "start_time": "2020-10-25T11:10:17.716335",
          "status": "completed"
        },
        "tags": [],
        "id": "zYdQnl60FQBb"
      },
      "outputs": [],
      "source": [
        "dataset.fit_partial(user_features=users_features)"
      ]
    },
    {
      "cell_type": "code",
      "execution_count": 71,
      "metadata": {
        "execution": {
          "iopub.execute_input": "2020-10-25T11:10:18.041787Z",
          "iopub.status.busy": "2020-10-25T11:10:18.041328Z",
          "iopub.status.idle": "2020-10-25T11:10:18.162125Z",
          "shell.execute_reply": "2020-10-25T11:10:18.161720Z"
        },
        "papermill": {
          "duration": 0.222058,
          "end_time": "2020-10-25T11:10:18.162209",
          "exception": false,
          "start_time": "2020-10-25T11:10:17.940151",
          "status": "completed"
        },
        "tags": [],
        "colab": {
          "base_uri": "https://localhost:8080/"
        },
        "id": "OA_-7KRxFQBb",
        "outputId": "11af6ede-bc76-4590-e3b8-8962f0738dab"
      },
      "outputs": [
        {
          "output_type": "execute_result",
          "data": {
            "text/plain": [
              "641"
            ]
          },
          "metadata": {},
          "execution_count": 71
        }
      ],
      "source": [
        "df_items['genres'] = df_items['genres'].cat.add_categories('genre_unknown')\n",
        "df_items['genres'] = df_items['genres'].fillna('genre_unknown')\n",
        "genres = list(df_items['genres'].str.split(',').explode().unique())\n",
        "len(genres)"
      ]
    },
    {
      "cell_type": "code",
      "execution_count": 72,
      "metadata": {
        "execution": {
          "iopub.execute_input": "2020-10-25T11:10:18.339148Z",
          "iopub.status.busy": "2020-10-25T11:10:18.338350Z",
          "iopub.status.idle": "2020-10-25T11:10:18.341195Z",
          "shell.execute_reply": "2020-10-25T11:10:18.340667Z"
        },
        "papermill": {
          "duration": 0.093141,
          "end_time": "2020-10-25T11:10:18.341302",
          "exception": false,
          "start_time": "2020-10-25T11:10:18.248161",
          "status": "completed"
        },
        "tags": [],
        "id": "V6BXQCIxFQBb"
      },
      "outputs": [],
      "source": [
        "dataset.fit_partial(item_features=genres)"
      ]
    },
    {
      "cell_type": "code",
      "execution_count": 73,
      "metadata": {
        "execution": {
          "iopub.execute_input": "2020-10-25T11:10:18.603813Z",
          "iopub.status.busy": "2020-10-25T11:10:18.603366Z",
          "iopub.status.idle": "2020-10-25T11:10:18.606315Z",
          "shell.execute_reply": "2020-10-25T11:10:18.606683Z"
        },
        "papermill": {
          "duration": 0.135982,
          "end_time": "2020-10-25T11:10:18.606804",
          "exception": false,
          "start_time": "2020-10-25T11:10:18.470822",
          "status": "completed"
        },
        "tags": [],
        "colab": {
          "base_uri": "https://localhost:8080/"
        },
        "id": "ZXyloIsNFQBb",
        "outputId": "d5487bbf-8d31-4cd1-b32a-8523dc0615b3"
      },
      "outputs": [
        {
          "output_type": "execute_result",
          "data": {
            "text/plain": [
              "(151600, 59599)"
            ]
          },
          "metadata": {},
          "execution_count": 73
        }
      ],
      "source": [
        "num_users, num_items = dataset.interactions_shape()\n",
        "num_users, num_items"
      ]
    },
    {
      "cell_type": "code",
      "execution_count": 74,
      "metadata": {
        "execution": {
          "iopub.execute_input": "2020-10-25T11:10:18.788044Z",
          "iopub.status.busy": "2020-10-25T11:10:18.787389Z",
          "iopub.status.idle": "2020-10-25T11:10:18.792584Z",
          "shell.execute_reply": "2020-10-25T11:10:18.792217Z"
        },
        "papermill": {
          "duration": 0.098808,
          "end_time": "2020-10-25T11:10:18.792656",
          "exception": false,
          "start_time": "2020-10-25T11:10:18.693848",
          "status": "completed"
        },
        "tags": [],
        "colab": {
          "base_uri": "https://localhost:8080/"
        },
        "id": "FxP5nXloFQBb",
        "outputId": "8fe31f22-6aa1-47cb-9d02-7463e867fe9e"
      },
      "outputs": [
        {
          "output_type": "stream",
          "name": "stdout",
          "text": [
            "users_mapping len -  151600\n",
            "user_features_mapping len -  151610\n",
            "items_mapping len -  59599\n",
            "Users item_features_mapping len -  60240\n"
          ]
        }
      ],
      "source": [
        "lightfm_mapping = dataset.mapping()\n",
        "lightfm_mapping = {\n",
        "    'users_mapping': lightfm_mapping[0],\n",
        "    'user_features_mapping': lightfm_mapping[1],\n",
        "    'items_mapping': lightfm_mapping[2],\n",
        "    'item_features_mapping': lightfm_mapping[3],\n",
        "}\n",
        "print('users_mapping len - ', len(lightfm_mapping['users_mapping']))\n",
        "print('user_features_mapping len - ', len(lightfm_mapping['user_features_mapping']))\n",
        "print('items_mapping len - ', len(lightfm_mapping['items_mapping']))\n",
        "print('Users item_features_mapping len - ', len(lightfm_mapping['item_features_mapping']))"
      ]
    },
    {
      "cell_type": "code",
      "execution_count": 75,
      "metadata": {
        "execution": {
          "iopub.execute_input": "2020-10-25T11:10:18.982889Z",
          "iopub.status.busy": "2020-10-25T11:10:18.972487Z",
          "iopub.status.idle": "2020-10-25T11:10:18.988249Z",
          "shell.execute_reply": "2020-10-25T11:10:18.987903Z"
        },
        "papermill": {
          "duration": 0.109637,
          "end_time": "2020-10-25T11:10:18.988322",
          "exception": false,
          "start_time": "2020-10-25T11:10:18.878685",
          "status": "completed"
        },
        "tags": [],
        "id": "cFWGCpMzFQBb"
      },
      "outputs": [],
      "source": [
        "lightfm_mapping['users_inv_mapping'] = {v: k for k, v in lightfm_mapping['users_mapping'].items()}\n",
        "lightfm_mapping['items_inv_mapping'] = {v: k for k, v in lightfm_mapping['items_mapping'].items()}"
      ]
    },
    {
      "cell_type": "code",
      "execution_count": 76,
      "metadata": {
        "execution": {
          "iopub.execute_input": "2020-10-25T11:10:19.170822Z",
          "iopub.status.busy": "2020-10-25T11:10:19.170168Z",
          "iopub.status.idle": "2020-10-25T11:10:19.174309Z",
          "shell.execute_reply": "2020-10-25T11:10:19.173803Z"
        },
        "papermill": {
          "duration": 0.096457,
          "end_time": "2020-10-25T11:10:19.174419",
          "exception": false,
          "start_time": "2020-10-25T11:10:19.077962",
          "status": "completed"
        },
        "tags": [],
        "colab": {
          "base_uri": "https://localhost:8080/"
        },
        "id": "kmC5KwHTFQBc",
        "outputId": "baa49a57-1992-4d6c-8a73-05610fb505f5"
      },
      "outputs": [
        {
          "output_type": "stream",
          "name": "stdout",
          "text": [
            "Num user features: 10 -> 151610\n",
            "num item features: 641 -> 60240.\n"
          ]
        }
      ],
      "source": [
        "num_user_features = dataset.user_features_shape()\n",
        "num_show_features = dataset.item_features_shape()\n",
        "print('Num user features: {} -> {}\\nnum item features: {} -> {}.'.format(\n",
        "    num_user_features[1] - num_users, num_user_features[1], \n",
        "    num_show_features[1] - num_items, num_show_features[1]))"
      ]
    },
    {
      "cell_type": "markdown",
      "metadata": {
        "papermill": {
          "duration": 0.08855,
          "end_time": "2020-10-25T11:10:19.352948",
          "exception": false,
          "start_time": "2020-10-25T11:10:19.264398",
          "status": "completed"
        },
        "tags": [],
        "id": "KGWG-2q-FQBc"
      },
      "source": [
        "Как собрать теперь наши матрицы. \n",
        "* Для интеракций нужен итератор на \n",
        "    * `[(user_id1, item_id1), (user_id2, item_id2), ...]`  \n",
        "    * `[(user_id1, item_id1, weight), (user_id2, item_id2, weight), ...]`\n",
        "* Для фичей нужен итератор на \n",
        "    * `[(id, [feature1, feature2, ...]), (id, [feature1, feature2, ...]), ...]`  \n",
        "    * `[(id, {feature1: weight}), (id, {feature1: weight}), ...]`"
      ]
    },
    {
      "cell_type": "code",
      "execution_count": 77,
      "metadata": {
        "execution": {
          "iopub.execute_input": "2020-10-25T11:10:19.534934Z",
          "iopub.status.busy": "2020-10-25T11:10:19.534261Z",
          "iopub.status.idle": "2020-10-25T11:10:19.537142Z",
          "shell.execute_reply": "2020-10-25T11:10:19.536550Z"
        },
        "papermill": {
          "duration": 0.095945,
          "end_time": "2020-10-25T11:10:19.537249",
          "exception": false,
          "start_time": "2020-10-25T11:10:19.441304",
          "status": "completed"
        },
        "tags": [],
        "id": "jildMapwFQBc"
      },
      "outputs": [],
      "source": [
        "def df_to_tuple_iterator(df):\n",
        "    return zip(*df.values.T)\n",
        "\n",
        "def concat_last_to_list(t):\n",
        "    return (t[0], list(t[1:])[0])\n",
        "\n",
        "def df_to_tuple_list_iterator(df):\n",
        "    return map(concat_last_to_list, zip(*df.values.T))"
      ]
    },
    {
      "cell_type": "code",
      "execution_count": 78,
      "metadata": {
        "execution": {
          "iopub.execute_input": "2020-10-25T11:10:19.808074Z",
          "iopub.status.busy": "2020-10-25T11:10:19.807348Z",
          "iopub.status.idle": "2020-10-25T11:10:19.877657Z",
          "shell.execute_reply": "2020-10-25T11:10:19.877259Z"
        },
        "papermill": {
          "duration": 0.207336,
          "end_time": "2020-10-25T11:10:19.877743",
          "exception": false,
          "start_time": "2020-10-25T11:10:19.670407",
          "status": "completed"
        },
        "tags": [],
        "id": "DxVuswzAFQBc"
      },
      "outputs": [],
      "source": [
        "train_idx, test_idx, info = folds_with_stats[0]\n",
        "\n",
        "train = df.loc[train_idx]\n",
        "test = df.loc[test_idx]"
      ]
    },
    {
      "cell_type": "code",
      "execution_count": 79,
      "metadata": {
        "execution": {
          "iopub.execute_input": "2020-10-25T11:10:20.067913Z",
          "iopub.status.busy": "2020-10-25T11:10:20.062951Z",
          "iopub.status.idle": "2020-10-25T11:10:24.101555Z",
          "shell.execute_reply": "2020-10-25T11:10:24.102105Z"
        },
        "papermill": {
          "duration": 4.13628,
          "end_time": "2020-10-25T11:10:24.102260",
          "exception": false,
          "start_time": "2020-10-25T11:10:19.965980",
          "status": "completed"
        },
        "tags": [],
        "colab": {
          "base_uri": "https://localhost:8080/"
        },
        "id": "5OmdtaykFQBc",
        "outputId": "11992514-2edb-4c33-a4de-083b5310a93f"
      },
      "outputs": [
        {
          "output_type": "execute_result",
          "data": {
            "text/plain": [
              "<151600x59599 sparse matrix of type '<class 'numpy.int32'>'\n",
              "\twith 1515946 stored elements in COOrdinate format>"
            ]
          },
          "metadata": {},
          "execution_count": 79
        }
      ],
      "source": [
        "train_mat, train_mat_weights = dataset.build_interactions(df_to_tuple_iterator(train[['user_id', 'item_id']]))\n",
        "train_mat"
      ]
    },
    {
      "cell_type": "code",
      "execution_count": 80,
      "metadata": {
        "execution": {
          "iopub.execute_input": "2020-10-25T11:10:24.338104Z",
          "iopub.status.busy": "2020-10-25T11:10:24.337418Z",
          "iopub.status.idle": "2020-10-25T11:10:24.341477Z",
          "shell.execute_reply": "2020-10-25T11:10:24.341835Z"
        },
        "papermill": {
          "duration": 0.120106,
          "end_time": "2020-10-25T11:10:24.341932",
          "exception": false,
          "start_time": "2020-10-25T11:10:24.221826",
          "status": "completed"
        },
        "tags": [],
        "colab": {
          "base_uri": "https://localhost:8080/"
        },
        "id": "ig-3WRghFQBc",
        "outputId": "82ff7573-6f39-476f-882c-e474bb670619"
      },
      "outputs": [
        {
          "output_type": "execute_result",
          "data": {
            "text/plain": [
              "<151600x59599 sparse matrix of type '<class 'numpy.float32'>'\n",
              "\twith 1515946 stored elements in COOrdinate format>"
            ]
          },
          "metadata": {},
          "execution_count": 80
        }
      ],
      "source": [
        "train_mat_weights"
      ]
    },
    {
      "cell_type": "code",
      "execution_count": 81,
      "metadata": {
        "execution": {
          "iopub.execute_input": "2020-10-25T11:10:24.530269Z",
          "iopub.status.busy": "2020-10-25T11:10:24.529505Z",
          "iopub.status.idle": "2020-10-25T11:10:25.959530Z",
          "shell.execute_reply": "2020-10-25T11:10:25.959109Z"
        },
        "papermill": {
          "duration": 1.528051,
          "end_time": "2020-10-25T11:10:25.959614",
          "exception": false,
          "start_time": "2020-10-25T11:10:24.431563",
          "status": "completed"
        },
        "tags": [],
        "colab": {
          "base_uri": "https://localhost:8080/",
          "height": 204
        },
        "id": "Y2WeGoM8FQBc",
        "outputId": "ef080d9c-3b80-4b8f-e928-b450430ae9ed"
      },
      "outputs": [
        {
          "output_type": "execute_result",
          "data": {
            "text/html": [
              "<div>\n",
              "<style scoped>\n",
              "    .dataframe tbody tr th:only-of-type {\n",
              "        vertical-align: middle;\n",
              "    }\n",
              "\n",
              "    .dataframe tbody tr th {\n",
              "        vertical-align: top;\n",
              "    }\n",
              "\n",
              "    .dataframe thead th {\n",
              "        text-align: right;\n",
              "    }\n",
              "</style>\n",
              "<table border=\"1\" class=\"dataframe\">\n",
              "  <thead>\n",
              "    <tr style=\"text-align: right;\">\n",
              "      <th></th>\n",
              "      <th>user_id</th>\n",
              "      <th>age</th>\n",
              "      <th>sex</th>\n",
              "      <th>features</th>\n",
              "    </tr>\n",
              "  </thead>\n",
              "  <tbody>\n",
              "    <tr>\n",
              "      <th>0</th>\n",
              "      <td>1</td>\n",
              "      <td>45_54</td>\n",
              "      <td>nan</td>\n",
              "      <td>[45_54, nan]</td>\n",
              "    </tr>\n",
              "    <tr>\n",
              "      <th>1</th>\n",
              "      <td>2</td>\n",
              "      <td>18_24</td>\n",
              "      <td>0.0</td>\n",
              "      <td>[18_24, 0.0]</td>\n",
              "    </tr>\n",
              "    <tr>\n",
              "      <th>2</th>\n",
              "      <td>3</td>\n",
              "      <td>65_inf</td>\n",
              "      <td>0.0</td>\n",
              "      <td>[65_inf, 0.0]</td>\n",
              "    </tr>\n",
              "    <tr>\n",
              "      <th>3</th>\n",
              "      <td>4</td>\n",
              "      <td>18_24</td>\n",
              "      <td>0.0</td>\n",
              "      <td>[18_24, 0.0]</td>\n",
              "    </tr>\n",
              "    <tr>\n",
              "      <th>4</th>\n",
              "      <td>5</td>\n",
              "      <td>35_44</td>\n",
              "      <td>0.0</td>\n",
              "      <td>[35_44, 0.0]</td>\n",
              "    </tr>\n",
              "  </tbody>\n",
              "</table>\n",
              "</div>"
            ],
            "text/plain": [
              "   user_id     age  sex       features\n",
              "0        1   45_54  nan   [45_54, nan]\n",
              "1        2   18_24  0.0   [18_24, 0.0]\n",
              "2        3  65_inf  0.0  [65_inf, 0.0]\n",
              "3        4   18_24  0.0   [18_24, 0.0]\n",
              "4        5   35_44  0.0   [35_44, 0.0]"
            ]
          },
          "metadata": {},
          "execution_count": 81
        }
      ],
      "source": [
        "df_users['features'] = df_users[['age', 'sex']].astype(str).apply(lambda x: list(x), axis=1)\n",
        "df_users.head()"
      ]
    },
    {
      "cell_type": "code",
      "execution_count": 82,
      "metadata": {
        "execution": {
          "iopub.execute_input": "2020-10-25T11:10:26.145131Z",
          "iopub.status.busy": "2020-10-25T11:10:26.144452Z",
          "iopub.status.idle": "2020-10-25T11:10:26.895912Z",
          "shell.execute_reply": "2020-10-25T11:10:26.895441Z"
        },
        "papermill": {
          "duration": 0.84797,
          "end_time": "2020-10-25T11:10:26.895993",
          "exception": false,
          "start_time": "2020-10-25T11:10:26.048023",
          "status": "completed"
        },
        "tags": [],
        "colab": {
          "base_uri": "https://localhost:8080/"
        },
        "id": "jmAd2BhuFQBd",
        "outputId": "bcb67251-964b-4dde-afeb-afa0a69e6a49"
      },
      "outputs": [
        {
          "output_type": "execute_result",
          "data": {
            "text/plain": [
              "<151600x151610 sparse matrix of type '<class 'numpy.float32'>'\n",
              "\twith 422954 stored elements in Compressed Sparse Row format>"
            ]
          },
          "metadata": {},
          "execution_count": 82
        }
      ],
      "source": [
        "known_users_filter = df_users['user_id'].isin(df['user_id'].unique())\n",
        "train_user_features = dataset.build_user_features(\n",
        "    df_to_tuple_list_iterator(\n",
        "        df_users.loc[known_users_filter, ['user_id', 'features']]\n",
        "    )\n",
        ")\n",
        "train_user_features"
      ]
    },
    {
      "cell_type": "code",
      "execution_count": 83,
      "metadata": {
        "execution": {
          "iopub.execute_input": "2020-10-25T11:10:27.098827Z",
          "iopub.status.busy": "2020-10-25T11:10:27.087147Z",
          "iopub.status.idle": "2020-10-25T11:10:27.110456Z",
          "shell.execute_reply": "2020-10-25T11:10:27.110963Z"
        },
        "papermill": {
          "duration": 0.123985,
          "end_time": "2020-10-25T11:10:27.111097",
          "exception": false,
          "start_time": "2020-10-25T11:10:26.987112",
          "status": "completed"
        },
        "tags": [],
        "colab": {
          "base_uri": "https://localhost:8080/",
          "height": 204
        },
        "id": "AsYAsGxXFQBd",
        "outputId": "777c30bf-5e35-4148-8a91-7089779f2922"
      },
      "outputs": [
        {
          "output_type": "execute_result",
          "data": {
            "text/html": [
              "<div>\n",
              "<style scoped>\n",
              "    .dataframe tbody tr th:only-of-type {\n",
              "        vertical-align: middle;\n",
              "    }\n",
              "\n",
              "    .dataframe tbody tr th {\n",
              "        vertical-align: top;\n",
              "    }\n",
              "\n",
              "    .dataframe thead th {\n",
              "        text-align: right;\n",
              "    }\n",
              "</style>\n",
              "<table border=\"1\" class=\"dataframe\">\n",
              "  <thead>\n",
              "    <tr style=\"text-align: right;\">\n",
              "      <th></th>\n",
              "      <th>id</th>\n",
              "      <th>title</th>\n",
              "      <th>genres</th>\n",
              "      <th>authors</th>\n",
              "      <th>year</th>\n",
              "      <th>features</th>\n",
              "    </tr>\n",
              "  </thead>\n",
              "  <tbody>\n",
              "    <tr>\n",
              "      <th>0</th>\n",
              "      <td>128115</td>\n",
              "      <td>ворон-челобитчик</td>\n",
              "      <td>Зарубежные детские книги,Сказки,Зарубежная кла...</td>\n",
              "      <td>Михаил Салтыков-Щедрин</td>\n",
              "      <td>1886</td>\n",
              "      <td>[Зарубежные детские книги, Сказки, Зарубежная ...</td>\n",
              "    </tr>\n",
              "    <tr>\n",
              "      <th>1</th>\n",
              "      <td>210979</td>\n",
              "      <td>скрипка ротшильда</td>\n",
              "      <td>Классическая проза,Литература 19 века,Русская ...</td>\n",
              "      <td>Антон Чехов</td>\n",
              "      <td>1894</td>\n",
              "      <td>[Классическая проза, Литература 19 века, Русск...</td>\n",
              "    </tr>\n",
              "    <tr>\n",
              "      <th>2</th>\n",
              "      <td>95632</td>\n",
              "      <td>испорченные дети</td>\n",
              "      <td>Зарубежная классика,Классическая проза,Литерат...</td>\n",
              "      <td>Михаил Салтыков-Щедрин</td>\n",
              "      <td>1869</td>\n",
              "      <td>[Зарубежная классика, Классическая проза, Лите...</td>\n",
              "    </tr>\n",
              "    <tr>\n",
              "      <th>3</th>\n",
              "      <td>247906</td>\n",
              "      <td>странный человек</td>\n",
              "      <td>Пьесы и драматургия,Литература 19 века</td>\n",
              "      <td>Михаил Лермонтов</td>\n",
              "      <td>1831</td>\n",
              "      <td>[Пьесы и драматургия, Литература 19 века]</td>\n",
              "    </tr>\n",
              "    <tr>\n",
              "      <th>4</th>\n",
              "      <td>294280</td>\n",
              "      <td>господа ташкентцы</td>\n",
              "      <td>Зарубежная классика,Классическая проза,Литерат...</td>\n",
              "      <td>Михаил Салтыков-Щедрин</td>\n",
              "      <td>1873</td>\n",
              "      <td>[Зарубежная классика, Классическая проза, Лите...</td>\n",
              "    </tr>\n",
              "  </tbody>\n",
              "</table>\n",
              "</div>"
            ],
            "text/plain": [
              "       id  ...                                           features\n",
              "0  128115  ...  [Зарубежные детские книги, Сказки, Зарубежная ...\n",
              "1  210979  ...  [Классическая проза, Литература 19 века, Русск...\n",
              "2   95632  ...  [Зарубежная классика, Классическая проза, Лите...\n",
              "3  247906  ...          [Пьесы и драматургия, Литература 19 века]\n",
              "4  294280  ...  [Зарубежная классика, Классическая проза, Лите...\n",
              "\n",
              "[5 rows x 6 columns]"
            ]
          },
          "metadata": {},
          "execution_count": 83
        }
      ],
      "source": [
        "df_items['features'] = df_items['genres'].str.split(',')\n",
        "df_items.head()"
      ]
    },
    {
      "cell_type": "code",
      "execution_count": 84,
      "metadata": {
        "execution": {
          "iopub.execute_input": "2020-10-25T11:10:27.401337Z",
          "iopub.status.busy": "2020-10-25T11:10:27.386435Z",
          "iopub.status.idle": "2020-10-25T11:10:27.409594Z",
          "shell.execute_reply": "2020-10-25T11:10:27.409206Z"
        },
        "papermill": {
          "duration": 0.161282,
          "end_time": "2020-10-25T11:10:27.409669",
          "exception": false,
          "start_time": "2020-10-25T11:10:27.248387",
          "status": "completed"
        },
        "tags": [],
        "colab": {
          "base_uri": "https://localhost:8080/"
        },
        "id": "DqorhOF1FQBd",
        "outputId": "30f610c1-b5cb-4658-cdca-a067a4032995"
      },
      "outputs": [
        {
          "output_type": "execute_result",
          "data": {
            "text/plain": [
              "2     20734\n",
              "1     20172\n",
              "3     12699\n",
              "4      4248\n",
              "5      1074\n",
              "6       373\n",
              "7       146\n",
              "8        74\n",
              "9        34\n",
              "10       22\n",
              "11       12\n",
              "13        6\n",
              "17        2\n",
              "12        2\n",
              "16        1\n",
              "Name: features, dtype: int64"
            ]
          },
          "metadata": {},
          "execution_count": 84
        }
      ],
      "source": [
        "df_items['features'].map(len).value_counts(dropna=False)"
      ]
    },
    {
      "cell_type": "code",
      "execution_count": 85,
      "metadata": {
        "execution": {
          "iopub.execute_input": "2020-10-25T11:10:27.594598Z",
          "iopub.status.busy": "2020-10-25T11:10:27.594046Z",
          "iopub.status.idle": "2020-10-25T11:10:27.937941Z",
          "shell.execute_reply": "2020-10-25T11:10:27.937429Z"
        },
        "papermill": {
          "duration": 0.438302,
          "end_time": "2020-10-25T11:10:27.938042",
          "exception": false,
          "start_time": "2020-10-25T11:10:27.499740",
          "status": "completed"
        },
        "tags": [],
        "colab": {
          "base_uri": "https://localhost:8080/"
        },
        "id": "Hy-nY7K-FQBd",
        "outputId": "4d6cf3fc-888d-42c9-dc50-225ed6bf199c"
      },
      "outputs": [
        {
          "output_type": "execute_result",
          "data": {
            "text/plain": [
              "<59599x60240 sparse matrix of type '<class 'numpy.float32'>'\n",
              "\twith 186360 stored elements in Compressed Sparse Row format>"
            ]
          },
          "metadata": {},
          "execution_count": 85
        }
      ],
      "source": [
        "known_items_filter = df_items['id'].isin(df['item_id'].unique())\n",
        "train_items_features = dataset.build_item_features(\n",
        "    df_to_tuple_list_iterator(\n",
        "        df_items.loc[known_items_filter, ['id', 'features']]\n",
        "    )\n",
        ")\n",
        "train_items_features"
      ]
    },
    {
      "cell_type": "code",
      "execution_count": 86,
      "metadata": {
        "execution": {
          "iopub.execute_input": "2020-10-25T11:10:28.232979Z",
          "iopub.status.busy": "2020-10-25T11:10:28.232356Z",
          "iopub.status.idle": "2020-10-25T11:10:28.235412Z",
          "shell.execute_reply": "2020-10-25T11:10:28.234966Z"
        },
        "papermill": {
          "duration": 0.161167,
          "end_time": "2020-10-25T11:10:28.235494",
          "exception": false,
          "start_time": "2020-10-25T11:10:28.074327",
          "status": "completed"
        },
        "tags": [],
        "id": "6l4zkqpVFQBd"
      },
      "outputs": [],
      "source": [
        "lfm_model = LightFM(no_components=64, learning_rate=0.05, loss='warp', max_sampled=5, random_state=23)"
      ]
    },
    {
      "cell_type": "code",
      "execution_count": 87,
      "metadata": {
        "execution": {
          "iopub.execute_input": "2020-10-25T11:10:28.445905Z",
          "iopub.status.busy": "2020-10-25T11:10:28.443918Z",
          "iopub.status.idle": "2020-10-25T11:11:32.468944Z",
          "shell.execute_reply": "2020-10-25T11:11:32.463946Z"
        },
        "papermill": {
          "duration": 64.133982,
          "end_time": "2020-10-25T11:11:32.469137",
          "exception": false,
          "start_time": "2020-10-25T11:10:28.335155",
          "status": "completed"
        },
        "tags": [],
        "colab": {
          "base_uri": "https://localhost:8080/",
          "height": 49,
          "referenced_widgets": [
            "386929a46dc24b41934111144b8da0a5",
            "5821258133774bd79c1dd8b5537bd70c",
            "3dccf581cab44598968dca63847614f8",
            "344b6ef5151545e085e33dcc5c93679e",
            "20df3d97fab0476d9b7906fa29b5bf73",
            "739e40c60ba54676b46dd1a022fa9c26",
            "a558ee6fb9cd44238fb0ea837edc548f",
            "90ba64d312b8488e98386e151261cf97",
            "4f8100cc604e497ca173d4eb3cfb1567",
            "e8906ac7ea30477cb42d3427c8c9da1e",
            "ec8e14f0bc7b48a7bd998808b5eb8919"
          ]
        },
        "id": "s8-HHtVUFQBd",
        "outputId": "4ea08f15-88bf-404d-fa42-8dd84414bf48"
      },
      "outputs": [
        {
          "output_type": "display_data",
          "data": {
            "application/vnd.jupyter.widget-view+json": {
              "model_id": "386929a46dc24b41934111144b8da0a5",
              "version_minor": 0,
              "version_major": 2
            },
            "text/plain": [
              "  0%|          | 0/15 [00:00<?, ?it/s]"
            ]
          },
          "metadata": {}
        }
      ],
      "source": [
        "num_epochs = 15\n",
        "for _ in tqdm(range(num_epochs), total=num_epochs):\n",
        "    lfm_model.fit_partial(\n",
        "        train_mat, \n",
        "        user_features=train_user_features,\n",
        "        item_features=train_items_features,\n",
        "        num_threads=4\n",
        "    )"
      ]
    },
    {
      "cell_type": "code",
      "execution_count": 88,
      "metadata": {
        "execution": {
          "iopub.execute_input": "2020-10-25T11:11:32.675654Z",
          "iopub.status.busy": "2020-10-25T11:11:32.675163Z",
          "iopub.status.idle": "2020-10-25T11:11:32.678113Z",
          "shell.execute_reply": "2020-10-25T11:11:32.677652Z"
        },
        "papermill": {
          "duration": 0.102466,
          "end_time": "2020-10-25T11:11:32.678200",
          "exception": false,
          "start_time": "2020-10-25T11:11:32.575734",
          "status": "completed"
        },
        "tags": [],
        "colab": {
          "base_uri": "https://localhost:8080/"
        },
        "id": "ubGXHJjOFQBd",
        "outputId": "3011f2e1-6580-427d-9238-bad9547a10c6"
      },
      "outputs": [
        {
          "output_type": "stream",
          "name": "stdout",
          "text": [
            "Рекомендации для пользователя 139942, номер строки - 10346\n"
          ]
        }
      ],
      "source": [
        "top_N = 10\n",
        "user_id = test['user_id'].iloc[0]\n",
        "row_id = lightfm_mapping['users_mapping'][user_id]\n",
        "print(f'Рекомендации для пользователя {user_id}, номер строки - {row_id}')"
      ]
    },
    {
      "cell_type": "code",
      "execution_count": 89,
      "metadata": {
        "execution": {
          "iopub.execute_input": "2020-10-25T11:11:32.870047Z",
          "iopub.status.busy": "2020-10-25T11:11:32.869288Z",
          "iopub.status.idle": "2020-10-25T11:11:32.872821Z",
          "shell.execute_reply": "2020-10-25T11:11:32.872433Z"
        },
        "papermill": {
          "duration": 0.101895,
          "end_time": "2020-10-25T11:11:32.872903",
          "exception": false,
          "start_time": "2020-10-25T11:11:32.771008",
          "status": "completed"
        },
        "tags": [],
        "colab": {
          "base_uri": "https://localhost:8080/"
        },
        "id": "LNZJbJNoFQBe",
        "outputId": "dacd90b2-0e4d-4f68-b215-07b73cb5ecb9"
      },
      "outputs": [
        {
          "output_type": "execute_result",
          "data": {
            "text/plain": [
              "59599"
            ]
          },
          "metadata": {},
          "execution_count": 89
        }
      ],
      "source": [
        "all_cols = list(lightfm_mapping['items_mapping'].values())\n",
        "len(all_cols)"
      ]
    },
    {
      "cell_type": "code",
      "execution_count": 90,
      "metadata": {
        "execution": {
          "iopub.execute_input": "2020-10-25T11:11:33.073465Z",
          "iopub.status.busy": "2020-10-25T11:11:33.072859Z",
          "iopub.status.idle": "2020-10-25T11:11:33.082352Z",
          "shell.execute_reply": "2020-10-25T11:11:33.082804Z"
        },
        "papermill": {
          "duration": 0.112863,
          "end_time": "2020-10-25T11:11:33.082923",
          "exception": false,
          "start_time": "2020-10-25T11:11:32.970060",
          "status": "completed"
        },
        "tags": [],
        "colab": {
          "base_uri": "https://localhost:8080/"
        },
        "id": "Bo6L6VjbFQBe",
        "outputId": "328faf9d-db2e-4f98-b8b6-6442dbda69cc"
      },
      "outputs": [
        {
          "output_type": "execute_result",
          "data": {
            "text/plain": [
              "(array([-177.99467, -177.77512, -179.06139, ..., -178.7062 , -179.09499,\n",
              "        -179.09122], dtype=float32), (59599,))"
            ]
          },
          "metadata": {},
          "execution_count": 90
        }
      ],
      "source": [
        "pred = lfm_model.predict(row_id, all_cols, user_features=train_user_features, item_features=train_items_features, num_threads=4)\n",
        "pred, pred.shape"
      ]
    },
    {
      "cell_type": "code",
      "execution_count": 91,
      "metadata": {
        "execution": {
          "iopub.execute_input": "2020-10-25T11:11:33.316785Z",
          "iopub.status.busy": "2020-10-25T11:11:33.316280Z",
          "iopub.status.idle": "2020-10-25T11:11:33.319999Z",
          "shell.execute_reply": "2020-10-25T11:11:33.320446Z"
        },
        "papermill": {
          "duration": 0.117036,
          "end_time": "2020-10-25T11:11:33.320566",
          "exception": false,
          "start_time": "2020-10-25T11:11:33.203530",
          "status": "completed"
        },
        "tags": [],
        "colab": {
          "base_uri": "https://localhost:8080/"
        },
        "id": "upj-wlfwFQBe",
        "outputId": "390fadd4-7794-4622-a6be-dfbb8c80870c"
      },
      "outputs": [
        {
          "output_type": "execute_result",
          "data": {
            "text/plain": [
              "array([ 4681,  1833, 27841,  1137,  4059,  1930,  1258,  7116, 15954,\n",
              "       29194])"
            ]
          },
          "metadata": {},
          "execution_count": 91
        }
      ],
      "source": [
        "top_cols = np.argpartition(pred, -np.arange(top_N))[-top_N:][::-1]\n",
        "top_cols"
      ]
    },
    {
      "cell_type": "code",
      "execution_count": 92,
      "metadata": {
        "execution": {
          "iopub.execute_input": "2020-10-25T11:11:33.517251Z",
          "iopub.status.busy": "2020-10-25T11:11:33.516712Z",
          "iopub.status.idle": "2020-10-25T11:11:33.519966Z",
          "shell.execute_reply": "2020-10-25T11:11:33.519437Z"
        },
        "papermill": {
          "duration": 0.102922,
          "end_time": "2020-10-25T11:11:33.520061",
          "exception": false,
          "start_time": "2020-10-25T11:11:33.417139",
          "status": "completed"
        },
        "tags": [],
        "colab": {
          "base_uri": "https://localhost:8080/"
        },
        "id": "jDMylNPeFQBe",
        "outputId": "48294a71-295f-4450-b6cf-647411a0e291"
      },
      "outputs": [
        {
          "output_type": "execute_result",
          "data": {
            "text/plain": [
              "array([-173.08165, -173.75911, -173.7773 , -173.8898 , -173.89297,\n",
              "       -174.0031 , -174.19489, -174.23686, -174.31863, -174.32938],\n",
              "      dtype=float32)"
            ]
          },
          "metadata": {},
          "execution_count": 92
        }
      ],
      "source": [
        "pred[top_cols]"
      ]
    },
    {
      "cell_type": "code",
      "execution_count": 93,
      "metadata": {
        "execution": {
          "iopub.execute_input": "2020-10-25T11:11:33.813614Z",
          "iopub.status.busy": "2020-10-25T11:11:33.813020Z",
          "iopub.status.idle": "2020-10-25T11:11:33.817021Z",
          "shell.execute_reply": "2020-10-25T11:11:33.816466Z"
        },
        "papermill": {
          "duration": 0.15328,
          "end_time": "2020-10-25T11:11:33.817115",
          "exception": false,
          "start_time": "2020-10-25T11:11:33.663835",
          "status": "completed"
        },
        "tags": [],
        "colab": {
          "base_uri": "https://localhost:8080/"
        },
        "id": "md1ueG3YFQBe",
        "outputId": "9062094a-559c-4bb2-ef95-10c27c836bcb"
      },
      "outputs": [
        {
          "output_type": "execute_result",
          "data": {
            "text/plain": [
              "-173.08165"
            ]
          },
          "metadata": {},
          "execution_count": 93
        }
      ],
      "source": [
        "np.max(pred)"
      ]
    },
    {
      "cell_type": "code",
      "execution_count": 94,
      "metadata": {
        "execution": {
          "iopub.execute_input": "2020-10-25T11:11:34.026808Z",
          "iopub.status.busy": "2020-10-25T11:11:34.026115Z",
          "iopub.status.idle": "2020-10-25T11:11:34.030122Z",
          "shell.execute_reply": "2020-10-25T11:11:34.030513Z"
        },
        "papermill": {
          "duration": 0.115639,
          "end_time": "2020-10-25T11:11:34.030622",
          "exception": false,
          "start_time": "2020-10-25T11:11:33.914983",
          "status": "completed"
        },
        "tags": [],
        "colab": {
          "base_uri": "https://localhost:8080/",
          "height": 359
        },
        "id": "KFAUbXMRFQBe",
        "outputId": "e7c54f1a-107e-415a-a068-148404d96ef5"
      },
      "outputs": [
        {
          "output_type": "execute_result",
          "data": {
            "text/html": [
              "<div>\n",
              "<style scoped>\n",
              "    .dataframe tbody tr th:only-of-type {\n",
              "        vertical-align: middle;\n",
              "    }\n",
              "\n",
              "    .dataframe tbody tr th {\n",
              "        vertical-align: top;\n",
              "    }\n",
              "\n",
              "    .dataframe thead th {\n",
              "        text-align: right;\n",
              "    }\n",
              "</style>\n",
              "<table border=\"1\" class=\"dataframe\">\n",
              "  <thead>\n",
              "    <tr style=\"text-align: right;\">\n",
              "      <th></th>\n",
              "      <th>col_id</th>\n",
              "      <th>item_id</th>\n",
              "      <th>title</th>\n",
              "    </tr>\n",
              "  </thead>\n",
              "  <tbody>\n",
              "    <tr>\n",
              "      <th>0</th>\n",
              "      <td>4681</td>\n",
              "      <td>99357</td>\n",
              "      <td>сила подсознания, или как изменить жизнь за 4 ...</td>\n",
              "    </tr>\n",
              "    <tr>\n",
              "      <th>1</th>\n",
              "      <td>1833</td>\n",
              "      <td>281005</td>\n",
              "      <td>богатый папа, бедный папа. роберт кийосаки (об...</td>\n",
              "    </tr>\n",
              "    <tr>\n",
              "      <th>2</th>\n",
              "      <td>27841</td>\n",
              "      <td>211217</td>\n",
              "      <td>ни сы. восточная мудрость, которая гласит: буд...</td>\n",
              "    </tr>\n",
              "    <tr>\n",
              "      <th>3</th>\n",
              "      <td>1137</td>\n",
              "      <td>119138</td>\n",
              "      <td>одиночество в сети</td>\n",
              "    </tr>\n",
              "    <tr>\n",
              "      <th>4</th>\n",
              "      <td>4059</td>\n",
              "      <td>90519</td>\n",
              "      <td>думай медленно… решай быстро</td>\n",
              "    </tr>\n",
              "    <tr>\n",
              "      <th>5</th>\n",
              "      <td>1930</td>\n",
              "      <td>159580</td>\n",
              "      <td>пятьдесят оттенков серого</td>\n",
              "    </tr>\n",
              "    <tr>\n",
              "      <th>6</th>\n",
              "      <td>1258</td>\n",
              "      <td>89152</td>\n",
              "      <td>50 правил умной дуры</td>\n",
              "    </tr>\n",
              "    <tr>\n",
              "      <th>7</th>\n",
              "      <td>7116</td>\n",
              "      <td>232537</td>\n",
              "      <td>поступай как женщина, думай как мужчина. почем...</td>\n",
              "    </tr>\n",
              "    <tr>\n",
              "      <th>8</th>\n",
              "      <td>15954</td>\n",
              "      <td>264997</td>\n",
              "      <td>после</td>\n",
              "    </tr>\n",
              "    <tr>\n",
              "      <th>9</th>\n",
              "      <td>29194</td>\n",
              "      <td>155451</td>\n",
              "      <td>выйди из зоны комфорта. измени свою жизнь</td>\n",
              "    </tr>\n",
              "  </tbody>\n",
              "</table>\n",
              "</div>"
            ],
            "text/plain": [
              "   col_id  item_id                                              title\n",
              "0    4681    99357  сила подсознания, или как изменить жизнь за 4 ...\n",
              "1    1833   281005  богатый папа, бедный папа. роберт кийосаки (об...\n",
              "2   27841   211217  ни сы. восточная мудрость, которая гласит: буд...\n",
              "3    1137   119138                                 одиночество в сети\n",
              "4    4059    90519                       думай медленно… решай быстро\n",
              "5    1930   159580                          пятьдесят оттенков серого\n",
              "6    1258    89152                               50 правил умной дуры\n",
              "7    7116   232537  поступай как женщина, думай как мужчина. почем...\n",
              "8   15954   264997                                              после\n",
              "9   29194   155451          выйди из зоны комфорта. измени свою жизнь"
            ]
          },
          "metadata": {},
          "execution_count": 94
        }
      ],
      "source": [
        "recs = pd.DataFrame({'col_id': top_cols})\n",
        "recs['item_id'] = recs['col_id'].map(lightfm_mapping['items_inv_mapping'].get)\n",
        "recs['title'] = recs['item_id'].map(item_titles.get)\n",
        "recs"
      ]
    },
    {
      "cell_type": "code",
      "execution_count": 95,
      "metadata": {
        "execution": {
          "iopub.execute_input": "2020-10-25T11:11:34.254727Z",
          "iopub.status.busy": "2020-10-25T11:11:34.254180Z",
          "iopub.status.idle": "2020-10-25T11:11:34.259508Z",
          "shell.execute_reply": "2020-10-25T11:11:34.258944Z"
        },
        "papermill": {
          "duration": 0.12296,
          "end_time": "2020-10-25T11:11:34.259625",
          "exception": false,
          "start_time": "2020-10-25T11:11:34.136665",
          "status": "completed"
        },
        "tags": [],
        "id": "xQrFQjVOFQBf"
      },
      "outputs": [],
      "source": [
        "recs = pd.DataFrame({\n",
        "    'user_id': test['user_id'].unique()\n",
        "})"
      ]
    },
    {
      "cell_type": "code",
      "execution_count": 96,
      "metadata": {
        "execution": {
          "iopub.execute_input": "2020-10-25T11:11:34.554547Z",
          "iopub.status.busy": "2020-10-25T11:11:34.553783Z",
          "iopub.status.idle": "2020-10-25T11:11:34.556872Z",
          "shell.execute_reply": "2020-10-25T11:11:34.556348Z"
        },
        "papermill": {
          "duration": 0.154205,
          "end_time": "2020-10-25T11:11:34.556966",
          "exception": false,
          "start_time": "2020-10-25T11:11:34.402761",
          "status": "completed"
        },
        "tags": [],
        "id": "d-MMTZX0FQBg"
      },
      "outputs": [],
      "source": [
        "def generate_lightfm_recs_mapper(model, item_ids, known_items, user_features, item_features, N, user_mapping, item_inv_mapping, num_threads=4):\n",
        "    def _recs_mapper(user):\n",
        "        user_id = user_mapping[user]\n",
        "        recs = model.predict(user_id, item_ids, user_features=user_features, item_features=item_features, num_threads=num_threads)\n",
        "        \n",
        "        additional_N = len(known_items[user_id]) if user_id in known_items else 0\n",
        "        total_N = N + additional_N\n",
        "        top_cols = np.argpartition(recs, -np.arange(total_N))[-total_N:][::-1]\n",
        "        \n",
        "        final_recs = [item_inv_mapping[item] for item in top_cols]\n",
        "        if additional_N > 0:\n",
        "            filter_items = known_items[user_id]\n",
        "            final_recs = [item for item in final_recs if item not in filter_items]\n",
        "        return final_recs[:N]\n",
        "    return _recs_mapper"
      ]
    },
    {
      "cell_type": "code",
      "execution_count": 97,
      "metadata": {
        "execution": {
          "iopub.execute_input": "2020-10-25T11:11:34.847755Z",
          "iopub.status.busy": "2020-10-25T11:11:34.847336Z",
          "iopub.status.idle": "2020-10-25T11:11:38.635546Z",
          "shell.execute_reply": "2020-10-25T11:11:38.635126Z"
        },
        "papermill": {
          "duration": 3.932034,
          "end_time": "2020-10-25T11:11:38.635622",
          "exception": false,
          "start_time": "2020-10-25T11:11:34.703588",
          "status": "completed"
        },
        "tags": [],
        "colab": {
          "base_uri": "https://localhost:8080/"
        },
        "id": "ZpHwf5EXFQBg",
        "outputId": "6f6bedda-6715-47a6-dff5-cc23cbcba6fa"
      },
      "outputs": [
        {
          "output_type": "execute_result",
          "data": {
            "text/plain": [
              "151589"
            ]
          },
          "metadata": {},
          "execution_count": 97
        }
      ],
      "source": [
        "known_items = train.groupby('user_id')['item_id'].apply(list).to_dict()\n",
        "len(known_items)"
      ]
    },
    {
      "cell_type": "code",
      "execution_count": 98,
      "metadata": {
        "execution": {
          "iopub.execute_input": "2020-10-25T11:11:38.832392Z",
          "iopub.status.busy": "2020-10-25T11:11:38.831705Z",
          "iopub.status.idle": "2020-10-25T11:11:38.835574Z",
          "shell.execute_reply": "2020-10-25T11:11:38.835953Z"
        },
        "papermill": {
          "duration": 0.104346,
          "end_time": "2020-10-25T11:11:38.836066",
          "exception": false,
          "start_time": "2020-10-25T11:11:38.731720",
          "status": "completed"
        },
        "tags": [],
        "colab": {
          "base_uri": "https://localhost:8080/"
        },
        "id": "fSjWPepmFQBg",
        "outputId": "3a13a236-42e0-42f0-d52e-bd976dbff11b"
      },
      "outputs": [
        {
          "output_type": "execute_result",
          "data": {
            "text/plain": [
              "[41856, 131164, 214579, 66545, 145067]"
            ]
          },
          "metadata": {},
          "execution_count": 98
        }
      ],
      "source": [
        "known_items[100]"
      ]
    },
    {
      "cell_type": "code",
      "execution_count": 99,
      "metadata": {
        "execution": {
          "iopub.execute_input": "2020-10-25T11:11:39.035086Z",
          "iopub.status.busy": "2020-10-25T11:11:39.034588Z",
          "iopub.status.idle": "2020-10-25T11:11:39.036676Z",
          "shell.execute_reply": "2020-10-25T11:11:39.036244Z"
        },
        "papermill": {
          "duration": 0.103655,
          "end_time": "2020-10-25T11:11:39.036756",
          "exception": false,
          "start_time": "2020-10-25T11:11:38.933101",
          "status": "completed"
        },
        "tags": [],
        "id": "jMIf60MKFQBh"
      },
      "outputs": [],
      "source": [
        "mapper = generate_lightfm_recs_mapper(\n",
        "    lfm_model, \n",
        "    item_ids=all_cols, \n",
        "    known_items=known_items,\n",
        "    N=top_N,\n",
        "    user_features=train_user_features, \n",
        "    item_features=train_items_features, \n",
        "    user_mapping=lightfm_mapping['users_mapping'],\n",
        "    item_inv_mapping=lightfm_mapping['items_inv_mapping'],\n",
        "    num_threads=4\n",
        ")"
      ]
    },
    {
      "cell_type": "code",
      "execution_count": 100,
      "metadata": {
        "execution": {
          "iopub.execute_input": "2020-10-25T11:11:39.237302Z",
          "iopub.status.busy": "2020-10-25T11:11:39.236429Z",
          "iopub.status.idle": "2020-10-25T11:11:57.915317Z",
          "shell.execute_reply": "2020-10-25T11:11:57.915863Z"
        },
        "papermill": {
          "duration": 18.784305,
          "end_time": "2020-10-25T11:11:57.916013",
          "exception": false,
          "start_time": "2020-10-25T11:11:39.131708",
          "status": "completed"
        },
        "tags": [],
        "colab": {
          "base_uri": "https://localhost:8080/"
        },
        "id": "qa2aoK7rFQBh",
        "outputId": "05a5f9be-3148-4904-935d-a022406936e0"
      },
      "outputs": [
        {
          "output_type": "stream",
          "name": "stdout",
          "text": [
            "CPU times: user 1min 32s, sys: 400 ms, total: 1min 32s\n",
            "Wall time: 53.9 s\n"
          ]
        }
      ],
      "source": [
        "%%time\n",
        "recs['item_id'] = recs['user_id'].map(mapper)"
      ]
    },
    {
      "cell_type": "code",
      "execution_count": 101,
      "metadata": {
        "execution": {
          "iopub.execute_input": "2020-10-25T11:11:58.243493Z",
          "iopub.status.busy": "2020-10-25T11:11:58.242883Z",
          "iopub.status.idle": "2020-10-25T11:11:58.247214Z",
          "shell.execute_reply": "2020-10-25T11:11:58.247559Z"
        },
        "papermill": {
          "duration": 0.161888,
          "end_time": "2020-10-25T11:11:58.247691",
          "exception": false,
          "start_time": "2020-10-25T11:11:58.085803",
          "status": "completed"
        },
        "tags": [],
        "colab": {
          "base_uri": "https://localhost:8080/",
          "height": 204
        },
        "id": "uMSvJK4uFQBh",
        "outputId": "cc180f8b-8885-450f-b42d-c0e235beefa7"
      },
      "outputs": [
        {
          "output_type": "execute_result",
          "data": {
            "text/html": [
              "<div>\n",
              "<style scoped>\n",
              "    .dataframe tbody tr th:only-of-type {\n",
              "        vertical-align: middle;\n",
              "    }\n",
              "\n",
              "    .dataframe tbody tr th {\n",
              "        vertical-align: top;\n",
              "    }\n",
              "\n",
              "    .dataframe thead th {\n",
              "        text-align: right;\n",
              "    }\n",
              "</style>\n",
              "<table border=\"1\" class=\"dataframe\">\n",
              "  <thead>\n",
              "    <tr style=\"text-align: right;\">\n",
              "      <th></th>\n",
              "      <th>user_id</th>\n",
              "      <th>item_id</th>\n",
              "    </tr>\n",
              "  </thead>\n",
              "  <tbody>\n",
              "    <tr>\n",
              "      <th>0</th>\n",
              "      <td>139942</td>\n",
              "      <td>[99357, 281005, 211217, 119138, 90519, 159580,...</td>\n",
              "    </tr>\n",
              "    <tr>\n",
              "      <th>1</th>\n",
              "      <td>136607</td>\n",
              "      <td>[99357, 281005, 159580, 90519, 58803, 243711, ...</td>\n",
              "    </tr>\n",
              "    <tr>\n",
              "      <th>2</th>\n",
              "      <td>142287</td>\n",
              "      <td>[159580, 58803, 264997, 32603, 99357, 243711, ...</td>\n",
              "    </tr>\n",
              "    <tr>\n",
              "      <th>3</th>\n",
              "      <td>114933</td>\n",
              "      <td>[109201, 121687, 250997, 157422, 28889, 143505...</td>\n",
              "    </tr>\n",
              "    <tr>\n",
              "      <th>4</th>\n",
              "      <td>32926</td>\n",
              "      <td>[99357, 316995, 90519, 173707, 281005, 58803, ...</td>\n",
              "    </tr>\n",
              "  </tbody>\n",
              "</table>\n",
              "</div>"
            ],
            "text/plain": [
              "   user_id                                            item_id\n",
              "0   139942  [99357, 281005, 211217, 119138, 90519, 159580,...\n",
              "1   136607  [99357, 281005, 159580, 90519, 58803, 243711, ...\n",
              "2   142287  [159580, 58803, 264997, 32603, 99357, 243711, ...\n",
              "3   114933  [109201, 121687, 250997, 157422, 28889, 143505...\n",
              "4    32926  [99357, 316995, 90519, 173707, 281005, 58803, ..."
            ]
          },
          "metadata": {},
          "execution_count": 101
        }
      ],
      "source": [
        "recs.head()"
      ]
    },
    {
      "cell_type": "code",
      "execution_count": 102,
      "metadata": {
        "execution": {
          "iopub.execute_input": "2020-10-25T11:11:58.454727Z",
          "iopub.status.busy": "2020-10-25T11:11:58.454260Z",
          "iopub.status.idle": "2020-10-25T11:11:58.462457Z",
          "shell.execute_reply": "2020-10-25T11:11:58.462861Z"
        },
        "papermill": {
          "duration": 0.117136,
          "end_time": "2020-10-25T11:11:58.462963",
          "exception": false,
          "start_time": "2020-10-25T11:11:58.345827",
          "status": "completed"
        },
        "tags": [],
        "id": "Wfi3r4_gFQBh"
      },
      "outputs": [],
      "source": [
        "recs = recs.explode('item_id')\n",
        "recs['rank'] = recs.groupby('user_id').cumcount() + 1"
      ]
    },
    {
      "cell_type": "code",
      "execution_count": 103,
      "metadata": {
        "execution": {
          "iopub.execute_input": "2020-10-25T11:11:58.662050Z",
          "iopub.status.busy": "2020-10-25T11:11:58.661390Z",
          "iopub.status.idle": "2020-10-25T11:11:59.016088Z",
          "shell.execute_reply": "2020-10-25T11:11:59.015618Z"
        },
        "papermill": {
          "duration": 0.45648,
          "end_time": "2020-10-25T11:11:59.016164",
          "exception": false,
          "start_time": "2020-10-25T11:11:58.559684",
          "status": "completed"
        },
        "tags": [],
        "colab": {
          "base_uri": "https://localhost:8080/"
        },
        "id": "M525hYGVFQBh",
        "outputId": "7b8f28ca-b4a6-491c-dc96-24029af087c3"
      },
      "outputs": [
        {
          "output_type": "execute_result",
          "data": {
            "text/plain": [
              "Precision@1     0.001224\n",
              "Recall@1        0.001224\n",
              "Precision@2     0.001530\n",
              "Recall@2        0.002448\n",
              "Precision@3     0.001224\n",
              "Recall@3        0.003060\n",
              "Precision@4     0.001071\n",
              "Recall@4        0.003672\n",
              "Precision@5     0.000979\n",
              "Recall@5        0.004284\n",
              "Precision@6     0.001122\n",
              "Recall@6        0.005202\n",
              "Precision@7     0.001049\n",
              "Recall@7        0.005508\n",
              "Precision@8     0.001147\n",
              "Recall@8        0.006885\n",
              "Precision@9     0.001088\n",
              "Recall@9        0.007191\n",
              "Precision@10    0.000979\n",
              "Recall@10       0.007191\n",
              "MAP@10          0.002718\n",
              "MRR             0.003312\n",
              "dtype: float64"
            ]
          },
          "metadata": {},
          "execution_count": 103
        }
      ],
      "source": [
        "metrics = compute_metrics(test, recs, top_N)\n",
        "metrics"
      ]
    },
    {
      "cell_type": "markdown",
      "metadata": {
        "papermill": {
          "duration": 0.099044,
          "end_time": "2020-10-25T11:11:59.219153",
          "exception": false,
          "start_time": "2020-10-25T11:11:59.120109",
          "status": "completed"
        },
        "tags": [],
        "id": "9K0JpTTtFQBh"
      },
      "source": [
        "<a id=\"links\"></a>\n",
        "# Links\n",
        "* https://www.benfrederickson.com/distance-metrics/ - шикарная статья про разные метрики в kNN для рекомендательных систем (Item2Item, User2User)\n",
        "* https://habr.com/ru/post/486802/ - хорошая статья про разные методы (теория)\n",
        "* https://github.com/dmitryhd/lightfm - форк lightfm от ребят с Авито\n",
        "* https://habr.com/ru/company/avito/blog/439206/ - обзор применения указанного выше форка на recsys challenge 2018"
      ]
    },
    {
      "cell_type": "code",
      "execution_count": null,
      "metadata": {
        "papermill": {
          "duration": 0.098934,
          "end_time": "2020-10-25T11:11:59.416429",
          "exception": false,
          "start_time": "2020-10-25T11:11:59.317495",
          "status": "completed"
        },
        "tags": [],
        "id": "qPBE2QV2FQBh"
      },
      "outputs": [],
      "source": [
        ""
      ]
    }
  ],
  "metadata": {
    "kernelspec": {
      "display_name": "Python 3",
      "language": "python",
      "name": "python3"
    },
    "language_info": {
      "codemirror_mode": {
        "name": "ipython",
        "version": 3
      },
      "file_extension": ".py",
      "mimetype": "text/x-python",
      "name": "python",
      "nbconvert_exporter": "python",
      "pygments_lexer": "ipython3",
      "version": "3.7.6"
    },
    "papermill": {
      "duration": 355.451996,
      "end_time": "2020-10-25T11:11:59.625925",
      "environment_variables": {},
      "exception": null,
      "input_path": "__notebook__.ipynb",
      "output_path": "__notebook__.ipynb",
      "parameters": {},
      "start_time": "2020-10-25T11:06:04.173929",
      "version": "2.1.0"
    },
    "widgets": {
      "application/vnd.jupyter.widget-state+json": {
        "da2a413eec7247c9a84e2221c9ff9918": {
          "model_module": "@jupyter-widgets/controls",
          "model_name": "HBoxModel",
          "model_module_version": "1.5.0",
          "state": {
            "_view_name": "HBoxView",
            "_dom_classes": [],
            "_model_name": "HBoxModel",
            "_view_module": "@jupyter-widgets/controls",
            "_model_module_version": "1.5.0",
            "_view_count": null,
            "_view_module_version": "1.5.0",
            "box_style": "",
            "layout": "IPY_MODEL_38cd28445d624ed8a2f7403c1259c943",
            "_model_module": "@jupyter-widgets/controls",
            "children": [
              "IPY_MODEL_5edacd0502e942d4aa8554af23288769",
              "IPY_MODEL_005e2399de6b47cf9082d731a048f074",
              "IPY_MODEL_691cbda0373d42e0a09227eca8359e4c"
            ]
          }
        },
        "38cd28445d624ed8a2f7403c1259c943": {
          "model_module": "@jupyter-widgets/base",
          "model_name": "LayoutModel",
          "model_module_version": "1.2.0",
          "state": {
            "_view_name": "LayoutView",
            "grid_template_rows": null,
            "right": null,
            "justify_content": null,
            "_view_module": "@jupyter-widgets/base",
            "overflow": null,
            "_model_module_version": "1.2.0",
            "_view_count": null,
            "flex_flow": null,
            "width": null,
            "min_width": null,
            "border": null,
            "align_items": null,
            "bottom": null,
            "_model_module": "@jupyter-widgets/base",
            "top": null,
            "grid_column": null,
            "overflow_y": null,
            "overflow_x": null,
            "grid_auto_flow": null,
            "grid_area": null,
            "grid_template_columns": null,
            "flex": null,
            "_model_name": "LayoutModel",
            "justify_items": null,
            "grid_row": null,
            "max_height": null,
            "align_content": null,
            "visibility": null,
            "align_self": null,
            "height": null,
            "min_height": null,
            "padding": null,
            "grid_auto_rows": null,
            "grid_gap": null,
            "max_width": null,
            "order": null,
            "_view_module_version": "1.2.0",
            "grid_template_areas": null,
            "object_position": null,
            "object_fit": null,
            "grid_auto_columns": null,
            "margin": null,
            "display": null,
            "left": null
          }
        },
        "5edacd0502e942d4aa8554af23288769": {
          "model_module": "@jupyter-widgets/controls",
          "model_name": "HTMLModel",
          "model_module_version": "1.5.0",
          "state": {
            "_view_name": "HTMLView",
            "style": "IPY_MODEL_4f2983341d6b4f2cbe98e66d5e54eb6f",
            "_dom_classes": [],
            "description": "",
            "_model_name": "HTMLModel",
            "placeholder": "​",
            "_view_module": "@jupyter-widgets/controls",
            "_model_module_version": "1.5.0",
            "value": "100%",
            "_view_count": null,
            "_view_module_version": "1.5.0",
            "description_tooltip": null,
            "_model_module": "@jupyter-widgets/controls",
            "layout": "IPY_MODEL_371903146aea45f08e2f61fdbe90d7e9"
          }
        },
        "005e2399de6b47cf9082d731a048f074": {
          "model_module": "@jupyter-widgets/controls",
          "model_name": "FloatProgressModel",
          "model_module_version": "1.5.0",
          "state": {
            "_view_name": "ProgressView",
            "style": "IPY_MODEL_f6bff685d97c41f8b1e58d399637b8d4",
            "_dom_classes": [],
            "description": "",
            "_model_name": "FloatProgressModel",
            "bar_style": "success",
            "max": 59599,
            "_view_module": "@jupyter-widgets/controls",
            "_model_module_version": "1.5.0",
            "value": 59599,
            "_view_count": null,
            "_view_module_version": "1.5.0",
            "orientation": "horizontal",
            "min": 0,
            "description_tooltip": null,
            "_model_module": "@jupyter-widgets/controls",
            "layout": "IPY_MODEL_20877bcd41a647079477632a900bb911"
          }
        },
        "691cbda0373d42e0a09227eca8359e4c": {
          "model_module": "@jupyter-widgets/controls",
          "model_name": "HTMLModel",
          "model_module_version": "1.5.0",
          "state": {
            "_view_name": "HTMLView",
            "style": "IPY_MODEL_702eded26e4f47809e96bf397fbadcba",
            "_dom_classes": [],
            "description": "",
            "_model_name": "HTMLModel",
            "placeholder": "​",
            "_view_module": "@jupyter-widgets/controls",
            "_model_module_version": "1.5.0",
            "value": " 59599/59599 [00:02&lt;00:00, 30822.44it/s]",
            "_view_count": null,
            "_view_module_version": "1.5.0",
            "description_tooltip": null,
            "_model_module": "@jupyter-widgets/controls",
            "layout": "IPY_MODEL_b1b52693f26d4565ad4269b2ef8cef11"
          }
        },
        "4f2983341d6b4f2cbe98e66d5e54eb6f": {
          "model_module": "@jupyter-widgets/controls",
          "model_name": "DescriptionStyleModel",
          "model_module_version": "1.5.0",
          "state": {
            "_view_name": "StyleView",
            "_model_name": "DescriptionStyleModel",
            "description_width": "",
            "_view_module": "@jupyter-widgets/base",
            "_model_module_version": "1.5.0",
            "_view_count": null,
            "_view_module_version": "1.2.0",
            "_model_module": "@jupyter-widgets/controls"
          }
        },
        "371903146aea45f08e2f61fdbe90d7e9": {
          "model_module": "@jupyter-widgets/base",
          "model_name": "LayoutModel",
          "model_module_version": "1.2.0",
          "state": {
            "_view_name": "LayoutView",
            "grid_template_rows": null,
            "right": null,
            "justify_content": null,
            "_view_module": "@jupyter-widgets/base",
            "overflow": null,
            "_model_module_version": "1.2.0",
            "_view_count": null,
            "flex_flow": null,
            "width": null,
            "min_width": null,
            "border": null,
            "align_items": null,
            "bottom": null,
            "_model_module": "@jupyter-widgets/base",
            "top": null,
            "grid_column": null,
            "overflow_y": null,
            "overflow_x": null,
            "grid_auto_flow": null,
            "grid_area": null,
            "grid_template_columns": null,
            "flex": null,
            "_model_name": "LayoutModel",
            "justify_items": null,
            "grid_row": null,
            "max_height": null,
            "align_content": null,
            "visibility": null,
            "align_self": null,
            "height": null,
            "min_height": null,
            "padding": null,
            "grid_auto_rows": null,
            "grid_gap": null,
            "max_width": null,
            "order": null,
            "_view_module_version": "1.2.0",
            "grid_template_areas": null,
            "object_position": null,
            "object_fit": null,
            "grid_auto_columns": null,
            "margin": null,
            "display": null,
            "left": null
          }
        },
        "f6bff685d97c41f8b1e58d399637b8d4": {
          "model_module": "@jupyter-widgets/controls",
          "model_name": "ProgressStyleModel",
          "model_module_version": "1.5.0",
          "state": {
            "_view_name": "StyleView",
            "_model_name": "ProgressStyleModel",
            "description_width": "",
            "_view_module": "@jupyter-widgets/base",
            "_model_module_version": "1.5.0",
            "_view_count": null,
            "_view_module_version": "1.2.0",
            "bar_color": null,
            "_model_module": "@jupyter-widgets/controls"
          }
        },
        "20877bcd41a647079477632a900bb911": {
          "model_module": "@jupyter-widgets/base",
          "model_name": "LayoutModel",
          "model_module_version": "1.2.0",
          "state": {
            "_view_name": "LayoutView",
            "grid_template_rows": null,
            "right": null,
            "justify_content": null,
            "_view_module": "@jupyter-widgets/base",
            "overflow": null,
            "_model_module_version": "1.2.0",
            "_view_count": null,
            "flex_flow": null,
            "width": null,
            "min_width": null,
            "border": null,
            "align_items": null,
            "bottom": null,
            "_model_module": "@jupyter-widgets/base",
            "top": null,
            "grid_column": null,
            "overflow_y": null,
            "overflow_x": null,
            "grid_auto_flow": null,
            "grid_area": null,
            "grid_template_columns": null,
            "flex": null,
            "_model_name": "LayoutModel",
            "justify_items": null,
            "grid_row": null,
            "max_height": null,
            "align_content": null,
            "visibility": null,
            "align_self": null,
            "height": null,
            "min_height": null,
            "padding": null,
            "grid_auto_rows": null,
            "grid_gap": null,
            "max_width": null,
            "order": null,
            "_view_module_version": "1.2.0",
            "grid_template_areas": null,
            "object_position": null,
            "object_fit": null,
            "grid_auto_columns": null,
            "margin": null,
            "display": null,
            "left": null
          }
        },
        "702eded26e4f47809e96bf397fbadcba": {
          "model_module": "@jupyter-widgets/controls",
          "model_name": "DescriptionStyleModel",
          "model_module_version": "1.5.0",
          "state": {
            "_view_name": "StyleView",
            "_model_name": "DescriptionStyleModel",
            "description_width": "",
            "_view_module": "@jupyter-widgets/base",
            "_model_module_version": "1.5.0",
            "_view_count": null,
            "_view_module_version": "1.2.0",
            "_model_module": "@jupyter-widgets/controls"
          }
        },
        "b1b52693f26d4565ad4269b2ef8cef11": {
          "model_module": "@jupyter-widgets/base",
          "model_name": "LayoutModel",
          "model_module_version": "1.2.0",
          "state": {
            "_view_name": "LayoutView",
            "grid_template_rows": null,
            "right": null,
            "justify_content": null,
            "_view_module": "@jupyter-widgets/base",
            "overflow": null,
            "_model_module_version": "1.2.0",
            "_view_count": null,
            "flex_flow": null,
            "width": null,
            "min_width": null,
            "border": null,
            "align_items": null,
            "bottom": null,
            "_model_module": "@jupyter-widgets/base",
            "top": null,
            "grid_column": null,
            "overflow_y": null,
            "overflow_x": null,
            "grid_auto_flow": null,
            "grid_area": null,
            "grid_template_columns": null,
            "flex": null,
            "_model_name": "LayoutModel",
            "justify_items": null,
            "grid_row": null,
            "max_height": null,
            "align_content": null,
            "visibility": null,
            "align_self": null,
            "height": null,
            "min_height": null,
            "padding": null,
            "grid_auto_rows": null,
            "grid_gap": null,
            "max_width": null,
            "order": null,
            "_view_module_version": "1.2.0",
            "grid_template_areas": null,
            "object_position": null,
            "object_fit": null,
            "grid_auto_columns": null,
            "margin": null,
            "display": null,
            "left": null
          }
        },
        "23b040a940c8451db17ed7fed74369df": {
          "model_module": "@jupyter-widgets/controls",
          "model_name": "HBoxModel",
          "model_module_version": "1.5.0",
          "state": {
            "_view_name": "HBoxView",
            "_dom_classes": [],
            "_model_name": "HBoxModel",
            "_view_module": "@jupyter-widgets/controls",
            "_model_module_version": "1.5.0",
            "_view_count": null,
            "_view_module_version": "1.5.0",
            "box_style": "",
            "layout": "IPY_MODEL_f50a00ffdae94157ad1a52b429a2dcb6",
            "_model_module": "@jupyter-widgets/controls",
            "children": [
              "IPY_MODEL_aa2bf23d706c48ca9b5babe0e12ba0dd",
              "IPY_MODEL_f95567d8edc640fc9601eadf2b0492e8",
              "IPY_MODEL_7d9a65f619ef4ba5954f821c7ca3d8ca"
            ]
          }
        },
        "f50a00ffdae94157ad1a52b429a2dcb6": {
          "model_module": "@jupyter-widgets/base",
          "model_name": "LayoutModel",
          "model_module_version": "1.2.0",
          "state": {
            "_view_name": "LayoutView",
            "grid_template_rows": null,
            "right": null,
            "justify_content": null,
            "_view_module": "@jupyter-widgets/base",
            "overflow": null,
            "_model_module_version": "1.2.0",
            "_view_count": null,
            "flex_flow": null,
            "width": null,
            "min_width": null,
            "border": null,
            "align_items": null,
            "bottom": null,
            "_model_module": "@jupyter-widgets/base",
            "top": null,
            "grid_column": null,
            "overflow_y": null,
            "overflow_x": null,
            "grid_auto_flow": null,
            "grid_area": null,
            "grid_template_columns": null,
            "flex": null,
            "_model_name": "LayoutModel",
            "justify_items": null,
            "grid_row": null,
            "max_height": null,
            "align_content": null,
            "visibility": null,
            "align_self": null,
            "height": null,
            "min_height": null,
            "padding": null,
            "grid_auto_rows": null,
            "grid_gap": null,
            "max_width": null,
            "order": null,
            "_view_module_version": "1.2.0",
            "grid_template_areas": null,
            "object_position": null,
            "object_fit": null,
            "grid_auto_columns": null,
            "margin": null,
            "display": null,
            "left": null
          }
        },
        "aa2bf23d706c48ca9b5babe0e12ba0dd": {
          "model_module": "@jupyter-widgets/controls",
          "model_name": "HTMLModel",
          "model_module_version": "1.5.0",
          "state": {
            "_view_name": "HTMLView",
            "style": "IPY_MODEL_53062af7e7a841ccadcaebd30f5e0b96",
            "_dom_classes": [],
            "description": "",
            "_model_name": "HTMLModel",
            "placeholder": "​",
            "_view_module": "@jupyter-widgets/controls",
            "_model_module_version": "1.5.0",
            "value": "100%",
            "_view_count": null,
            "_view_module_version": "1.5.0",
            "description_tooltip": null,
            "_model_module": "@jupyter-widgets/controls",
            "layout": "IPY_MODEL_0a2cee2215c1409992bef1c964002bf4"
          }
        },
        "f95567d8edc640fc9601eadf2b0492e8": {
          "model_module": "@jupyter-widgets/controls",
          "model_name": "FloatProgressModel",
          "model_module_version": "1.5.0",
          "state": {
            "_view_name": "ProgressView",
            "style": "IPY_MODEL_006c7733b3b649eb9820a40c8e136d6e",
            "_dom_classes": [],
            "description": "",
            "_model_name": "FloatProgressModel",
            "bar_style": "success",
            "max": 59599,
            "_view_module": "@jupyter-widgets/controls",
            "_model_module_version": "1.5.0",
            "value": 59599,
            "_view_count": null,
            "_view_module_version": "1.5.0",
            "orientation": "horizontal",
            "min": 0,
            "description_tooltip": null,
            "_model_module": "@jupyter-widgets/controls",
            "layout": "IPY_MODEL_1dae40beb1344d0e80fe7a264740ecea"
          }
        },
        "7d9a65f619ef4ba5954f821c7ca3d8ca": {
          "model_module": "@jupyter-widgets/controls",
          "model_name": "HTMLModel",
          "model_module_version": "1.5.0",
          "state": {
            "_view_name": "HTMLView",
            "style": "IPY_MODEL_426b5ba540014d0c93bfc640ce82380b",
            "_dom_classes": [],
            "description": "",
            "_model_name": "HTMLModel",
            "placeholder": "​",
            "_view_module": "@jupyter-widgets/controls",
            "_model_module_version": "1.5.0",
            "value": " 59599/59599 [00:01&lt;00:00, 33857.35it/s]",
            "_view_count": null,
            "_view_module_version": "1.5.0",
            "description_tooltip": null,
            "_model_module": "@jupyter-widgets/controls",
            "layout": "IPY_MODEL_56657579db9b488ea7047cbf6c5149e0"
          }
        },
        "53062af7e7a841ccadcaebd30f5e0b96": {
          "model_module": "@jupyter-widgets/controls",
          "model_name": "DescriptionStyleModel",
          "model_module_version": "1.5.0",
          "state": {
            "_view_name": "StyleView",
            "_model_name": "DescriptionStyleModel",
            "description_width": "",
            "_view_module": "@jupyter-widgets/base",
            "_model_module_version": "1.5.0",
            "_view_count": null,
            "_view_module_version": "1.2.0",
            "_model_module": "@jupyter-widgets/controls"
          }
        },
        "0a2cee2215c1409992bef1c964002bf4": {
          "model_module": "@jupyter-widgets/base",
          "model_name": "LayoutModel",
          "model_module_version": "1.2.0",
          "state": {
            "_view_name": "LayoutView",
            "grid_template_rows": null,
            "right": null,
            "justify_content": null,
            "_view_module": "@jupyter-widgets/base",
            "overflow": null,
            "_model_module_version": "1.2.0",
            "_view_count": null,
            "flex_flow": null,
            "width": null,
            "min_width": null,
            "border": null,
            "align_items": null,
            "bottom": null,
            "_model_module": "@jupyter-widgets/base",
            "top": null,
            "grid_column": null,
            "overflow_y": null,
            "overflow_x": null,
            "grid_auto_flow": null,
            "grid_area": null,
            "grid_template_columns": null,
            "flex": null,
            "_model_name": "LayoutModel",
            "justify_items": null,
            "grid_row": null,
            "max_height": null,
            "align_content": null,
            "visibility": null,
            "align_self": null,
            "height": null,
            "min_height": null,
            "padding": null,
            "grid_auto_rows": null,
            "grid_gap": null,
            "max_width": null,
            "order": null,
            "_view_module_version": "1.2.0",
            "grid_template_areas": null,
            "object_position": null,
            "object_fit": null,
            "grid_auto_columns": null,
            "margin": null,
            "display": null,
            "left": null
          }
        },
        "006c7733b3b649eb9820a40c8e136d6e": {
          "model_module": "@jupyter-widgets/controls",
          "model_name": "ProgressStyleModel",
          "model_module_version": "1.5.0",
          "state": {
            "_view_name": "StyleView",
            "_model_name": "ProgressStyleModel",
            "description_width": "",
            "_view_module": "@jupyter-widgets/base",
            "_model_module_version": "1.5.0",
            "_view_count": null,
            "_view_module_version": "1.2.0",
            "bar_color": null,
            "_model_module": "@jupyter-widgets/controls"
          }
        },
        "1dae40beb1344d0e80fe7a264740ecea": {
          "model_module": "@jupyter-widgets/base",
          "model_name": "LayoutModel",
          "model_module_version": "1.2.0",
          "state": {
            "_view_name": "LayoutView",
            "grid_template_rows": null,
            "right": null,
            "justify_content": null,
            "_view_module": "@jupyter-widgets/base",
            "overflow": null,
            "_model_module_version": "1.2.0",
            "_view_count": null,
            "flex_flow": null,
            "width": null,
            "min_width": null,
            "border": null,
            "align_items": null,
            "bottom": null,
            "_model_module": "@jupyter-widgets/base",
            "top": null,
            "grid_column": null,
            "overflow_y": null,
            "overflow_x": null,
            "grid_auto_flow": null,
            "grid_area": null,
            "grid_template_columns": null,
            "flex": null,
            "_model_name": "LayoutModel",
            "justify_items": null,
            "grid_row": null,
            "max_height": null,
            "align_content": null,
            "visibility": null,
            "align_self": null,
            "height": null,
            "min_height": null,
            "padding": null,
            "grid_auto_rows": null,
            "grid_gap": null,
            "max_width": null,
            "order": null,
            "_view_module_version": "1.2.0",
            "grid_template_areas": null,
            "object_position": null,
            "object_fit": null,
            "grid_auto_columns": null,
            "margin": null,
            "display": null,
            "left": null
          }
        },
        "426b5ba540014d0c93bfc640ce82380b": {
          "model_module": "@jupyter-widgets/controls",
          "model_name": "DescriptionStyleModel",
          "model_module_version": "1.5.0",
          "state": {
            "_view_name": "StyleView",
            "_model_name": "DescriptionStyleModel",
            "description_width": "",
            "_view_module": "@jupyter-widgets/base",
            "_model_module_version": "1.5.0",
            "_view_count": null,
            "_view_module_version": "1.2.0",
            "_model_module": "@jupyter-widgets/controls"
          }
        },
        "56657579db9b488ea7047cbf6c5149e0": {
          "model_module": "@jupyter-widgets/base",
          "model_name": "LayoutModel",
          "model_module_version": "1.2.0",
          "state": {
            "_view_name": "LayoutView",
            "grid_template_rows": null,
            "right": null,
            "justify_content": null,
            "_view_module": "@jupyter-widgets/base",
            "overflow": null,
            "_model_module_version": "1.2.0",
            "_view_count": null,
            "flex_flow": null,
            "width": null,
            "min_width": null,
            "border": null,
            "align_items": null,
            "bottom": null,
            "_model_module": "@jupyter-widgets/base",
            "top": null,
            "grid_column": null,
            "overflow_y": null,
            "overflow_x": null,
            "grid_auto_flow": null,
            "grid_area": null,
            "grid_template_columns": null,
            "flex": null,
            "_model_name": "LayoutModel",
            "justify_items": null,
            "grid_row": null,
            "max_height": null,
            "align_content": null,
            "visibility": null,
            "align_self": null,
            "height": null,
            "min_height": null,
            "padding": null,
            "grid_auto_rows": null,
            "grid_gap": null,
            "max_width": null,
            "order": null,
            "_view_module_version": "1.2.0",
            "grid_template_areas": null,
            "object_position": null,
            "object_fit": null,
            "grid_auto_columns": null,
            "margin": null,
            "display": null,
            "left": null
          }
        },
        "b27aa4d946c742a398a7a28d23729664": {
          "model_module": "@jupyter-widgets/controls",
          "model_name": "HBoxModel",
          "model_module_version": "1.5.0",
          "state": {
            "_view_name": "HBoxView",
            "_dom_classes": [],
            "_model_name": "HBoxModel",
            "_view_module": "@jupyter-widgets/controls",
            "_model_module_version": "1.5.0",
            "_view_count": null,
            "_view_module_version": "1.5.0",
            "box_style": "",
            "layout": "IPY_MODEL_a56efee6f3284254a32483ae7839ad8a",
            "_model_module": "@jupyter-widgets/controls",
            "children": [
              "IPY_MODEL_9742f48516c943c89762894b4678499a",
              "IPY_MODEL_e1627b5eaa54496a8aa80d09b44840e5",
              "IPY_MODEL_fbb453d3381c4d418348cd22033869f2"
            ]
          }
        },
        "a56efee6f3284254a32483ae7839ad8a": {
          "model_module": "@jupyter-widgets/base",
          "model_name": "LayoutModel",
          "model_module_version": "1.2.0",
          "state": {
            "_view_name": "LayoutView",
            "grid_template_rows": null,
            "right": null,
            "justify_content": null,
            "_view_module": "@jupyter-widgets/base",
            "overflow": null,
            "_model_module_version": "1.2.0",
            "_view_count": null,
            "flex_flow": null,
            "width": null,
            "min_width": null,
            "border": null,
            "align_items": null,
            "bottom": null,
            "_model_module": "@jupyter-widgets/base",
            "top": null,
            "grid_column": null,
            "overflow_y": null,
            "overflow_x": null,
            "grid_auto_flow": null,
            "grid_area": null,
            "grid_template_columns": null,
            "flex": null,
            "_model_name": "LayoutModel",
            "justify_items": null,
            "grid_row": null,
            "max_height": null,
            "align_content": null,
            "visibility": null,
            "align_self": null,
            "height": null,
            "min_height": null,
            "padding": null,
            "grid_auto_rows": null,
            "grid_gap": null,
            "max_width": null,
            "order": null,
            "_view_module_version": "1.2.0",
            "grid_template_areas": null,
            "object_position": null,
            "object_fit": null,
            "grid_auto_columns": null,
            "margin": null,
            "display": null,
            "left": null
          }
        },
        "9742f48516c943c89762894b4678499a": {
          "model_module": "@jupyter-widgets/controls",
          "model_name": "HTMLModel",
          "model_module_version": "1.5.0",
          "state": {
            "_view_name": "HTMLView",
            "style": "IPY_MODEL_16b27bad22c44edb9a3afba0c45e2ce4",
            "_dom_classes": [],
            "description": "",
            "_model_name": "HTMLModel",
            "placeholder": "​",
            "_view_module": "@jupyter-widgets/controls",
            "_model_module_version": "1.5.0",
            "value": "100%",
            "_view_count": null,
            "_view_module_version": "1.5.0",
            "description_tooltip": null,
            "_model_module": "@jupyter-widgets/controls",
            "layout": "IPY_MODEL_43494c5934ff4b4bbdd17e4675aca68a"
          }
        },
        "e1627b5eaa54496a8aa80d09b44840e5": {
          "model_module": "@jupyter-widgets/controls",
          "model_name": "FloatProgressModel",
          "model_module_version": "1.5.0",
          "state": {
            "_view_name": "ProgressView",
            "style": "IPY_MODEL_469c498830ff4598aa566bb56ffc7388",
            "_dom_classes": [],
            "description": "",
            "_model_name": "FloatProgressModel",
            "bar_style": "success",
            "max": 59599,
            "_view_module": "@jupyter-widgets/controls",
            "_model_module_version": "1.5.0",
            "value": 59599,
            "_view_count": null,
            "_view_module_version": "1.5.0",
            "orientation": "horizontal",
            "min": 0,
            "description_tooltip": null,
            "_model_module": "@jupyter-widgets/controls",
            "layout": "IPY_MODEL_6a303a6eebd448bf899f0f73cf7c5466"
          }
        },
        "fbb453d3381c4d418348cd22033869f2": {
          "model_module": "@jupyter-widgets/controls",
          "model_name": "HTMLModel",
          "model_module_version": "1.5.0",
          "state": {
            "_view_name": "HTMLView",
            "style": "IPY_MODEL_3c219784c487434aacd3c0e7b1f2d32f",
            "_dom_classes": [],
            "description": "",
            "_model_name": "HTMLModel",
            "placeholder": "​",
            "_view_module": "@jupyter-widgets/controls",
            "_model_module_version": "1.5.0",
            "value": " 59599/59599 [00:02&lt;00:00, 33196.10it/s]",
            "_view_count": null,
            "_view_module_version": "1.5.0",
            "description_tooltip": null,
            "_model_module": "@jupyter-widgets/controls",
            "layout": "IPY_MODEL_f8e60afe027e4425a59634c2882aef04"
          }
        },
        "16b27bad22c44edb9a3afba0c45e2ce4": {
          "model_module": "@jupyter-widgets/controls",
          "model_name": "DescriptionStyleModel",
          "model_module_version": "1.5.0",
          "state": {
            "_view_name": "StyleView",
            "_model_name": "DescriptionStyleModel",
            "description_width": "",
            "_view_module": "@jupyter-widgets/base",
            "_model_module_version": "1.5.0",
            "_view_count": null,
            "_view_module_version": "1.2.0",
            "_model_module": "@jupyter-widgets/controls"
          }
        },
        "43494c5934ff4b4bbdd17e4675aca68a": {
          "model_module": "@jupyter-widgets/base",
          "model_name": "LayoutModel",
          "model_module_version": "1.2.0",
          "state": {
            "_view_name": "LayoutView",
            "grid_template_rows": null,
            "right": null,
            "justify_content": null,
            "_view_module": "@jupyter-widgets/base",
            "overflow": null,
            "_model_module_version": "1.2.0",
            "_view_count": null,
            "flex_flow": null,
            "width": null,
            "min_width": null,
            "border": null,
            "align_items": null,
            "bottom": null,
            "_model_module": "@jupyter-widgets/base",
            "top": null,
            "grid_column": null,
            "overflow_y": null,
            "overflow_x": null,
            "grid_auto_flow": null,
            "grid_area": null,
            "grid_template_columns": null,
            "flex": null,
            "_model_name": "LayoutModel",
            "justify_items": null,
            "grid_row": null,
            "max_height": null,
            "align_content": null,
            "visibility": null,
            "align_self": null,
            "height": null,
            "min_height": null,
            "padding": null,
            "grid_auto_rows": null,
            "grid_gap": null,
            "max_width": null,
            "order": null,
            "_view_module_version": "1.2.0",
            "grid_template_areas": null,
            "object_position": null,
            "object_fit": null,
            "grid_auto_columns": null,
            "margin": null,
            "display": null,
            "left": null
          }
        },
        "469c498830ff4598aa566bb56ffc7388": {
          "model_module": "@jupyter-widgets/controls",
          "model_name": "ProgressStyleModel",
          "model_module_version": "1.5.0",
          "state": {
            "_view_name": "StyleView",
            "_model_name": "ProgressStyleModel",
            "description_width": "",
            "_view_module": "@jupyter-widgets/base",
            "_model_module_version": "1.5.0",
            "_view_count": null,
            "_view_module_version": "1.2.0",
            "bar_color": null,
            "_model_module": "@jupyter-widgets/controls"
          }
        },
        "6a303a6eebd448bf899f0f73cf7c5466": {
          "model_module": "@jupyter-widgets/base",
          "model_name": "LayoutModel",
          "model_module_version": "1.2.0",
          "state": {
            "_view_name": "LayoutView",
            "grid_template_rows": null,
            "right": null,
            "justify_content": null,
            "_view_module": "@jupyter-widgets/base",
            "overflow": null,
            "_model_module_version": "1.2.0",
            "_view_count": null,
            "flex_flow": null,
            "width": null,
            "min_width": null,
            "border": null,
            "align_items": null,
            "bottom": null,
            "_model_module": "@jupyter-widgets/base",
            "top": null,
            "grid_column": null,
            "overflow_y": null,
            "overflow_x": null,
            "grid_auto_flow": null,
            "grid_area": null,
            "grid_template_columns": null,
            "flex": null,
            "_model_name": "LayoutModel",
            "justify_items": null,
            "grid_row": null,
            "max_height": null,
            "align_content": null,
            "visibility": null,
            "align_self": null,
            "height": null,
            "min_height": null,
            "padding": null,
            "grid_auto_rows": null,
            "grid_gap": null,
            "max_width": null,
            "order": null,
            "_view_module_version": "1.2.0",
            "grid_template_areas": null,
            "object_position": null,
            "object_fit": null,
            "grid_auto_columns": null,
            "margin": null,
            "display": null,
            "left": null
          }
        },
        "3c219784c487434aacd3c0e7b1f2d32f": {
          "model_module": "@jupyter-widgets/controls",
          "model_name": "DescriptionStyleModel",
          "model_module_version": "1.5.0",
          "state": {
            "_view_name": "StyleView",
            "_model_name": "DescriptionStyleModel",
            "description_width": "",
            "_view_module": "@jupyter-widgets/base",
            "_model_module_version": "1.5.0",
            "_view_count": null,
            "_view_module_version": "1.2.0",
            "_model_module": "@jupyter-widgets/controls"
          }
        },
        "f8e60afe027e4425a59634c2882aef04": {
          "model_module": "@jupyter-widgets/base",
          "model_name": "LayoutModel",
          "model_module_version": "1.2.0",
          "state": {
            "_view_name": "LayoutView",
            "grid_template_rows": null,
            "right": null,
            "justify_content": null,
            "_view_module": "@jupyter-widgets/base",
            "overflow": null,
            "_model_module_version": "1.2.0",
            "_view_count": null,
            "flex_flow": null,
            "width": null,
            "min_width": null,
            "border": null,
            "align_items": null,
            "bottom": null,
            "_model_module": "@jupyter-widgets/base",
            "top": null,
            "grid_column": null,
            "overflow_y": null,
            "overflow_x": null,
            "grid_auto_flow": null,
            "grid_area": null,
            "grid_template_columns": null,
            "flex": null,
            "_model_name": "LayoutModel",
            "justify_items": null,
            "grid_row": null,
            "max_height": null,
            "align_content": null,
            "visibility": null,
            "align_self": null,
            "height": null,
            "min_height": null,
            "padding": null,
            "grid_auto_rows": null,
            "grid_gap": null,
            "max_width": null,
            "order": null,
            "_view_module_version": "1.2.0",
            "grid_template_areas": null,
            "object_position": null,
            "object_fit": null,
            "grid_auto_columns": null,
            "margin": null,
            "display": null,
            "left": null
          }
        },
        "83a07ff2613e49bb997645312da378d4": {
          "model_module": "@jupyter-widgets/controls",
          "model_name": "HBoxModel",
          "model_module_version": "1.5.0",
          "state": {
            "_view_name": "HBoxView",
            "_dom_classes": [],
            "_model_name": "HBoxModel",
            "_view_module": "@jupyter-widgets/controls",
            "_model_module_version": "1.5.0",
            "_view_count": null,
            "_view_module_version": "1.5.0",
            "box_style": "",
            "layout": "IPY_MODEL_e389bc18138f487c8ea5918e9eeb62be",
            "_model_module": "@jupyter-widgets/controls",
            "children": [
              "IPY_MODEL_dda28a4d4e734ad692e658fbcccd404f",
              "IPY_MODEL_022a67a9338e4b1c8327757dd855299e",
              "IPY_MODEL_b3d59c62a5564f4c921b202cfc32b93c"
            ]
          }
        },
        "e389bc18138f487c8ea5918e9eeb62be": {
          "model_module": "@jupyter-widgets/base",
          "model_name": "LayoutModel",
          "model_module_version": "1.2.0",
          "state": {
            "_view_name": "LayoutView",
            "grid_template_rows": null,
            "right": null,
            "justify_content": null,
            "_view_module": "@jupyter-widgets/base",
            "overflow": null,
            "_model_module_version": "1.2.0",
            "_view_count": null,
            "flex_flow": null,
            "width": null,
            "min_width": null,
            "border": null,
            "align_items": null,
            "bottom": null,
            "_model_module": "@jupyter-widgets/base",
            "top": null,
            "grid_column": null,
            "overflow_y": null,
            "overflow_x": null,
            "grid_auto_flow": null,
            "grid_area": null,
            "grid_template_columns": null,
            "flex": null,
            "_model_name": "LayoutModel",
            "justify_items": null,
            "grid_row": null,
            "max_height": null,
            "align_content": null,
            "visibility": null,
            "align_self": null,
            "height": null,
            "min_height": null,
            "padding": null,
            "grid_auto_rows": null,
            "grid_gap": null,
            "max_width": null,
            "order": null,
            "_view_module_version": "1.2.0",
            "grid_template_areas": null,
            "object_position": null,
            "object_fit": null,
            "grid_auto_columns": null,
            "margin": null,
            "display": null,
            "left": null
          }
        },
        "dda28a4d4e734ad692e658fbcccd404f": {
          "model_module": "@jupyter-widgets/controls",
          "model_name": "HTMLModel",
          "model_module_version": "1.5.0",
          "state": {
            "_view_name": "HTMLView",
            "style": "IPY_MODEL_b43f63f9ccec48b7a77afb886b5afc31",
            "_dom_classes": [],
            "description": "",
            "_model_name": "HTMLModel",
            "placeholder": "​",
            "_view_module": "@jupyter-widgets/controls",
            "_model_module_version": "1.5.0",
            "value": "100%",
            "_view_count": null,
            "_view_module_version": "1.5.0",
            "description_tooltip": null,
            "_model_module": "@jupyter-widgets/controls",
            "layout": "IPY_MODEL_b39ddc402f064983b017838fe7c49b66"
          }
        },
        "022a67a9338e4b1c8327757dd855299e": {
          "model_module": "@jupyter-widgets/controls",
          "model_name": "FloatProgressModel",
          "model_module_version": "1.5.0",
          "state": {
            "_view_name": "ProgressView",
            "style": "IPY_MODEL_a1846860ec7948f8a4ecebf5466e9b5e",
            "_dom_classes": [],
            "description": "",
            "_model_name": "FloatProgressModel",
            "bar_style": "success",
            "max": 59599,
            "_view_module": "@jupyter-widgets/controls",
            "_model_module_version": "1.5.0",
            "value": 59599,
            "_view_count": null,
            "_view_module_version": "1.5.0",
            "orientation": "horizontal",
            "min": 0,
            "description_tooltip": null,
            "_model_module": "@jupyter-widgets/controls",
            "layout": "IPY_MODEL_e3572a35aac6446fb216937a1c44ba22"
          }
        },
        "b3d59c62a5564f4c921b202cfc32b93c": {
          "model_module": "@jupyter-widgets/controls",
          "model_name": "HTMLModel",
          "model_module_version": "1.5.0",
          "state": {
            "_view_name": "HTMLView",
            "style": "IPY_MODEL_02b6f3a1767145a5963c061157e8b604",
            "_dom_classes": [],
            "description": "",
            "_model_name": "HTMLModel",
            "placeholder": "​",
            "_view_module": "@jupyter-widgets/controls",
            "_model_module_version": "1.5.0",
            "value": " 59599/59599 [00:04&lt;00:00, 10187.94it/s]",
            "_view_count": null,
            "_view_module_version": "1.5.0",
            "description_tooltip": null,
            "_model_module": "@jupyter-widgets/controls",
            "layout": "IPY_MODEL_a53cf4c6e11d4d1ea1232f4485a980b2"
          }
        },
        "b43f63f9ccec48b7a77afb886b5afc31": {
          "model_module": "@jupyter-widgets/controls",
          "model_name": "DescriptionStyleModel",
          "model_module_version": "1.5.0",
          "state": {
            "_view_name": "StyleView",
            "_model_name": "DescriptionStyleModel",
            "description_width": "",
            "_view_module": "@jupyter-widgets/base",
            "_model_module_version": "1.5.0",
            "_view_count": null,
            "_view_module_version": "1.2.0",
            "_model_module": "@jupyter-widgets/controls"
          }
        },
        "b39ddc402f064983b017838fe7c49b66": {
          "model_module": "@jupyter-widgets/base",
          "model_name": "LayoutModel",
          "model_module_version": "1.2.0",
          "state": {
            "_view_name": "LayoutView",
            "grid_template_rows": null,
            "right": null,
            "justify_content": null,
            "_view_module": "@jupyter-widgets/base",
            "overflow": null,
            "_model_module_version": "1.2.0",
            "_view_count": null,
            "flex_flow": null,
            "width": null,
            "min_width": null,
            "border": null,
            "align_items": null,
            "bottom": null,
            "_model_module": "@jupyter-widgets/base",
            "top": null,
            "grid_column": null,
            "overflow_y": null,
            "overflow_x": null,
            "grid_auto_flow": null,
            "grid_area": null,
            "grid_template_columns": null,
            "flex": null,
            "_model_name": "LayoutModel",
            "justify_items": null,
            "grid_row": null,
            "max_height": null,
            "align_content": null,
            "visibility": null,
            "align_self": null,
            "height": null,
            "min_height": null,
            "padding": null,
            "grid_auto_rows": null,
            "grid_gap": null,
            "max_width": null,
            "order": null,
            "_view_module_version": "1.2.0",
            "grid_template_areas": null,
            "object_position": null,
            "object_fit": null,
            "grid_auto_columns": null,
            "margin": null,
            "display": null,
            "left": null
          }
        },
        "a1846860ec7948f8a4ecebf5466e9b5e": {
          "model_module": "@jupyter-widgets/controls",
          "model_name": "ProgressStyleModel",
          "model_module_version": "1.5.0",
          "state": {
            "_view_name": "StyleView",
            "_model_name": "ProgressStyleModel",
            "description_width": "",
            "_view_module": "@jupyter-widgets/base",
            "_model_module_version": "1.5.0",
            "_view_count": null,
            "_view_module_version": "1.2.0",
            "bar_color": null,
            "_model_module": "@jupyter-widgets/controls"
          }
        },
        "e3572a35aac6446fb216937a1c44ba22": {
          "model_module": "@jupyter-widgets/base",
          "model_name": "LayoutModel",
          "model_module_version": "1.2.0",
          "state": {
            "_view_name": "LayoutView",
            "grid_template_rows": null,
            "right": null,
            "justify_content": null,
            "_view_module": "@jupyter-widgets/base",
            "overflow": null,
            "_model_module_version": "1.2.0",
            "_view_count": null,
            "flex_flow": null,
            "width": null,
            "min_width": null,
            "border": null,
            "align_items": null,
            "bottom": null,
            "_model_module": "@jupyter-widgets/base",
            "top": null,
            "grid_column": null,
            "overflow_y": null,
            "overflow_x": null,
            "grid_auto_flow": null,
            "grid_area": null,
            "grid_template_columns": null,
            "flex": null,
            "_model_name": "LayoutModel",
            "justify_items": null,
            "grid_row": null,
            "max_height": null,
            "align_content": null,
            "visibility": null,
            "align_self": null,
            "height": null,
            "min_height": null,
            "padding": null,
            "grid_auto_rows": null,
            "grid_gap": null,
            "max_width": null,
            "order": null,
            "_view_module_version": "1.2.0",
            "grid_template_areas": null,
            "object_position": null,
            "object_fit": null,
            "grid_auto_columns": null,
            "margin": null,
            "display": null,
            "left": null
          }
        },
        "02b6f3a1767145a5963c061157e8b604": {
          "model_module": "@jupyter-widgets/controls",
          "model_name": "DescriptionStyleModel",
          "model_module_version": "1.5.0",
          "state": {
            "_view_name": "StyleView",
            "_model_name": "DescriptionStyleModel",
            "description_width": "",
            "_view_module": "@jupyter-widgets/base",
            "_model_module_version": "1.5.0",
            "_view_count": null,
            "_view_module_version": "1.2.0",
            "_model_module": "@jupyter-widgets/controls"
          }
        },
        "a53cf4c6e11d4d1ea1232f4485a980b2": {
          "model_module": "@jupyter-widgets/base",
          "model_name": "LayoutModel",
          "model_module_version": "1.2.0",
          "state": {
            "_view_name": "LayoutView",
            "grid_template_rows": null,
            "right": null,
            "justify_content": null,
            "_view_module": "@jupyter-widgets/base",
            "overflow": null,
            "_model_module_version": "1.2.0",
            "_view_count": null,
            "flex_flow": null,
            "width": null,
            "min_width": null,
            "border": null,
            "align_items": null,
            "bottom": null,
            "_model_module": "@jupyter-widgets/base",
            "top": null,
            "grid_column": null,
            "overflow_y": null,
            "overflow_x": null,
            "grid_auto_flow": null,
            "grid_area": null,
            "grid_template_columns": null,
            "flex": null,
            "_model_name": "LayoutModel",
            "justify_items": null,
            "grid_row": null,
            "max_height": null,
            "align_content": null,
            "visibility": null,
            "align_self": null,
            "height": null,
            "min_height": null,
            "padding": null,
            "grid_auto_rows": null,
            "grid_gap": null,
            "max_width": null,
            "order": null,
            "_view_module_version": "1.2.0",
            "grid_template_areas": null,
            "object_position": null,
            "object_fit": null,
            "grid_auto_columns": null,
            "margin": null,
            "display": null,
            "left": null
          }
        },
        "e93fb761418849b9a1ce183da0987478": {
          "model_module": "@jupyter-widgets/controls",
          "model_name": "HBoxModel",
          "model_module_version": "1.5.0",
          "state": {
            "_view_name": "HBoxView",
            "_dom_classes": [],
            "_model_name": "HBoxModel",
            "_view_module": "@jupyter-widgets/controls",
            "_model_module_version": "1.5.0",
            "_view_count": null,
            "_view_module_version": "1.5.0",
            "box_style": "",
            "layout": "IPY_MODEL_02c56b0d136a40e4b00f1d6496f49ec2",
            "_model_module": "@jupyter-widgets/controls",
            "children": [
              "IPY_MODEL_4a9c4c035a4840e296ff13d1405af406",
              "IPY_MODEL_61ae99fcd86144259648c571b8afc48b",
              "IPY_MODEL_4713791e71474224bc728e047a2f4877"
            ]
          }
        },
        "02c56b0d136a40e4b00f1d6496f49ec2": {
          "model_module": "@jupyter-widgets/base",
          "model_name": "LayoutModel",
          "model_module_version": "1.2.0",
          "state": {
            "_view_name": "LayoutView",
            "grid_template_rows": null,
            "right": null,
            "justify_content": null,
            "_view_module": "@jupyter-widgets/base",
            "overflow": null,
            "_model_module_version": "1.2.0",
            "_view_count": null,
            "flex_flow": null,
            "width": null,
            "min_width": null,
            "border": null,
            "align_items": null,
            "bottom": null,
            "_model_module": "@jupyter-widgets/base",
            "top": null,
            "grid_column": null,
            "overflow_y": null,
            "overflow_x": null,
            "grid_auto_flow": null,
            "grid_area": null,
            "grid_template_columns": null,
            "flex": null,
            "_model_name": "LayoutModel",
            "justify_items": null,
            "grid_row": null,
            "max_height": null,
            "align_content": null,
            "visibility": null,
            "align_self": null,
            "height": null,
            "min_height": null,
            "padding": null,
            "grid_auto_rows": null,
            "grid_gap": null,
            "max_width": null,
            "order": null,
            "_view_module_version": "1.2.0",
            "grid_template_areas": null,
            "object_position": null,
            "object_fit": null,
            "grid_auto_columns": null,
            "margin": null,
            "display": null,
            "left": null
          }
        },
        "4a9c4c035a4840e296ff13d1405af406": {
          "model_module": "@jupyter-widgets/controls",
          "model_name": "HTMLModel",
          "model_module_version": "1.5.0",
          "state": {
            "_view_name": "HTMLView",
            "style": "IPY_MODEL_cc6ddeaf7652420cba3ec845b7bffa97",
            "_dom_classes": [],
            "description": "",
            "_model_name": "HTMLModel",
            "placeholder": "​",
            "_view_module": "@jupyter-widgets/controls",
            "_model_module_version": "1.5.0",
            "value": "100%",
            "_view_count": null,
            "_view_module_version": "1.5.0",
            "description_tooltip": null,
            "_model_module": "@jupyter-widgets/controls",
            "layout": "IPY_MODEL_6bcae900e04949188e4545c8090da9fa"
          }
        },
        "61ae99fcd86144259648c571b8afc48b": {
          "model_module": "@jupyter-widgets/controls",
          "model_name": "FloatProgressModel",
          "model_module_version": "1.5.0",
          "state": {
            "_view_name": "ProgressView",
            "style": "IPY_MODEL_321f9de673d0479fa47197f14dbbccc8",
            "_dom_classes": [],
            "description": "",
            "_model_name": "FloatProgressModel",
            "bar_style": "success",
            "max": 59599,
            "_view_module": "@jupyter-widgets/controls",
            "_model_module_version": "1.5.0",
            "value": 59599,
            "_view_count": null,
            "_view_module_version": "1.5.0",
            "orientation": "horizontal",
            "min": 0,
            "description_tooltip": null,
            "_model_module": "@jupyter-widgets/controls",
            "layout": "IPY_MODEL_4edb349efa08496a8d9a177cf9e6a744"
          }
        },
        "4713791e71474224bc728e047a2f4877": {
          "model_module": "@jupyter-widgets/controls",
          "model_name": "HTMLModel",
          "model_module_version": "1.5.0",
          "state": {
            "_view_name": "HTMLView",
            "style": "IPY_MODEL_ddf67c0a511349679e65b63a3e171d9b",
            "_dom_classes": [],
            "description": "",
            "_model_name": "HTMLModel",
            "placeholder": "​",
            "_view_module": "@jupyter-widgets/controls",
            "_model_module_version": "1.5.0",
            "value": " 59599/59599 [00:03&lt;00:00, 30458.85it/s]",
            "_view_count": null,
            "_view_module_version": "1.5.0",
            "description_tooltip": null,
            "_model_module": "@jupyter-widgets/controls",
            "layout": "IPY_MODEL_ed4cef8ce2e94c58a238ab5e745d838d"
          }
        },
        "cc6ddeaf7652420cba3ec845b7bffa97": {
          "model_module": "@jupyter-widgets/controls",
          "model_name": "DescriptionStyleModel",
          "model_module_version": "1.5.0",
          "state": {
            "_view_name": "StyleView",
            "_model_name": "DescriptionStyleModel",
            "description_width": "",
            "_view_module": "@jupyter-widgets/base",
            "_model_module_version": "1.5.0",
            "_view_count": null,
            "_view_module_version": "1.2.0",
            "_model_module": "@jupyter-widgets/controls"
          }
        },
        "6bcae900e04949188e4545c8090da9fa": {
          "model_module": "@jupyter-widgets/base",
          "model_name": "LayoutModel",
          "model_module_version": "1.2.0",
          "state": {
            "_view_name": "LayoutView",
            "grid_template_rows": null,
            "right": null,
            "justify_content": null,
            "_view_module": "@jupyter-widgets/base",
            "overflow": null,
            "_model_module_version": "1.2.0",
            "_view_count": null,
            "flex_flow": null,
            "width": null,
            "min_width": null,
            "border": null,
            "align_items": null,
            "bottom": null,
            "_model_module": "@jupyter-widgets/base",
            "top": null,
            "grid_column": null,
            "overflow_y": null,
            "overflow_x": null,
            "grid_auto_flow": null,
            "grid_area": null,
            "grid_template_columns": null,
            "flex": null,
            "_model_name": "LayoutModel",
            "justify_items": null,
            "grid_row": null,
            "max_height": null,
            "align_content": null,
            "visibility": null,
            "align_self": null,
            "height": null,
            "min_height": null,
            "padding": null,
            "grid_auto_rows": null,
            "grid_gap": null,
            "max_width": null,
            "order": null,
            "_view_module_version": "1.2.0",
            "grid_template_areas": null,
            "object_position": null,
            "object_fit": null,
            "grid_auto_columns": null,
            "margin": null,
            "display": null,
            "left": null
          }
        },
        "321f9de673d0479fa47197f14dbbccc8": {
          "model_module": "@jupyter-widgets/controls",
          "model_name": "ProgressStyleModel",
          "model_module_version": "1.5.0",
          "state": {
            "_view_name": "StyleView",
            "_model_name": "ProgressStyleModel",
            "description_width": "",
            "_view_module": "@jupyter-widgets/base",
            "_model_module_version": "1.5.0",
            "_view_count": null,
            "_view_module_version": "1.2.0",
            "bar_color": null,
            "_model_module": "@jupyter-widgets/controls"
          }
        },
        "4edb349efa08496a8d9a177cf9e6a744": {
          "model_module": "@jupyter-widgets/base",
          "model_name": "LayoutModel",
          "model_module_version": "1.2.0",
          "state": {
            "_view_name": "LayoutView",
            "grid_template_rows": null,
            "right": null,
            "justify_content": null,
            "_view_module": "@jupyter-widgets/base",
            "overflow": null,
            "_model_module_version": "1.2.0",
            "_view_count": null,
            "flex_flow": null,
            "width": null,
            "min_width": null,
            "border": null,
            "align_items": null,
            "bottom": null,
            "_model_module": "@jupyter-widgets/base",
            "top": null,
            "grid_column": null,
            "overflow_y": null,
            "overflow_x": null,
            "grid_auto_flow": null,
            "grid_area": null,
            "grid_template_columns": null,
            "flex": null,
            "_model_name": "LayoutModel",
            "justify_items": null,
            "grid_row": null,
            "max_height": null,
            "align_content": null,
            "visibility": null,
            "align_self": null,
            "height": null,
            "min_height": null,
            "padding": null,
            "grid_auto_rows": null,
            "grid_gap": null,
            "max_width": null,
            "order": null,
            "_view_module_version": "1.2.0",
            "grid_template_areas": null,
            "object_position": null,
            "object_fit": null,
            "grid_auto_columns": null,
            "margin": null,
            "display": null,
            "left": null
          }
        },
        "ddf67c0a511349679e65b63a3e171d9b": {
          "model_module": "@jupyter-widgets/controls",
          "model_name": "DescriptionStyleModel",
          "model_module_version": "1.5.0",
          "state": {
            "_view_name": "StyleView",
            "_model_name": "DescriptionStyleModel",
            "description_width": "",
            "_view_module": "@jupyter-widgets/base",
            "_model_module_version": "1.5.0",
            "_view_count": null,
            "_view_module_version": "1.2.0",
            "_model_module": "@jupyter-widgets/controls"
          }
        },
        "ed4cef8ce2e94c58a238ab5e745d838d": {
          "model_module": "@jupyter-widgets/base",
          "model_name": "LayoutModel",
          "model_module_version": "1.2.0",
          "state": {
            "_view_name": "LayoutView",
            "grid_template_rows": null,
            "right": null,
            "justify_content": null,
            "_view_module": "@jupyter-widgets/base",
            "overflow": null,
            "_model_module_version": "1.2.0",
            "_view_count": null,
            "flex_flow": null,
            "width": null,
            "min_width": null,
            "border": null,
            "align_items": null,
            "bottom": null,
            "_model_module": "@jupyter-widgets/base",
            "top": null,
            "grid_column": null,
            "overflow_y": null,
            "overflow_x": null,
            "grid_auto_flow": null,
            "grid_area": null,
            "grid_template_columns": null,
            "flex": null,
            "_model_name": "LayoutModel",
            "justify_items": null,
            "grid_row": null,
            "max_height": null,
            "align_content": null,
            "visibility": null,
            "align_self": null,
            "height": null,
            "min_height": null,
            "padding": null,
            "grid_auto_rows": null,
            "grid_gap": null,
            "max_width": null,
            "order": null,
            "_view_module_version": "1.2.0",
            "grid_template_areas": null,
            "object_position": null,
            "object_fit": null,
            "grid_auto_columns": null,
            "margin": null,
            "display": null,
            "left": null
          }
        },
        "0489376a10bf4e98a33ea7abab671c2f": {
          "model_module": "@jupyter-widgets/controls",
          "model_name": "HBoxModel",
          "model_module_version": "1.5.0",
          "state": {
            "_view_name": "HBoxView",
            "_dom_classes": [],
            "_model_name": "HBoxModel",
            "_view_module": "@jupyter-widgets/controls",
            "_model_module_version": "1.5.0",
            "_view_count": null,
            "_view_module_version": "1.5.0",
            "box_style": "",
            "layout": "IPY_MODEL_9e2becd2efa4477a8d7507a250e96d5d",
            "_model_module": "@jupyter-widgets/controls",
            "children": [
              "IPY_MODEL_8f848393cf4e4b2182cb30996d96d4dd",
              "IPY_MODEL_d200eba78a7d43bfa9555bd2b05c115b",
              "IPY_MODEL_c5e1a10bf7af4cc39d35dd8331313204"
            ]
          }
        },
        "9e2becd2efa4477a8d7507a250e96d5d": {
          "model_module": "@jupyter-widgets/base",
          "model_name": "LayoutModel",
          "model_module_version": "1.2.0",
          "state": {
            "_view_name": "LayoutView",
            "grid_template_rows": null,
            "right": null,
            "justify_content": null,
            "_view_module": "@jupyter-widgets/base",
            "overflow": null,
            "_model_module_version": "1.2.0",
            "_view_count": null,
            "flex_flow": null,
            "width": null,
            "min_width": null,
            "border": null,
            "align_items": null,
            "bottom": null,
            "_model_module": "@jupyter-widgets/base",
            "top": null,
            "grid_column": null,
            "overflow_y": null,
            "overflow_x": null,
            "grid_auto_flow": null,
            "grid_area": null,
            "grid_template_columns": null,
            "flex": null,
            "_model_name": "LayoutModel",
            "justify_items": null,
            "grid_row": null,
            "max_height": null,
            "align_content": null,
            "visibility": null,
            "align_self": null,
            "height": null,
            "min_height": null,
            "padding": null,
            "grid_auto_rows": null,
            "grid_gap": null,
            "max_width": null,
            "order": null,
            "_view_module_version": "1.2.0",
            "grid_template_areas": null,
            "object_position": null,
            "object_fit": null,
            "grid_auto_columns": null,
            "margin": null,
            "display": null,
            "left": null
          }
        },
        "8f848393cf4e4b2182cb30996d96d4dd": {
          "model_module": "@jupyter-widgets/controls",
          "model_name": "HTMLModel",
          "model_module_version": "1.5.0",
          "state": {
            "_view_name": "HTMLView",
            "style": "IPY_MODEL_1d7160a7b46c41108a39d674c7003e6b",
            "_dom_classes": [],
            "description": "",
            "_model_name": "HTMLModel",
            "placeholder": "​",
            "_view_module": "@jupyter-widgets/controls",
            "_model_module_version": "1.5.0",
            "value": "100%",
            "_view_count": null,
            "_view_module_version": "1.5.0",
            "description_tooltip": null,
            "_model_module": "@jupyter-widgets/controls",
            "layout": "IPY_MODEL_d5c0569f4be4431394aa2aac48b977ab"
          }
        },
        "d200eba78a7d43bfa9555bd2b05c115b": {
          "model_module": "@jupyter-widgets/controls",
          "model_name": "FloatProgressModel",
          "model_module_version": "1.5.0",
          "state": {
            "_view_name": "ProgressView",
            "style": "IPY_MODEL_e021365c362049e79ca7492c4e01626e",
            "_dom_classes": [],
            "description": "",
            "_model_name": "FloatProgressModel",
            "bar_style": "success",
            "max": 59599,
            "_view_module": "@jupyter-widgets/controls",
            "_model_module_version": "1.5.0",
            "value": 59599,
            "_view_count": null,
            "_view_module_version": "1.5.0",
            "orientation": "horizontal",
            "min": 0,
            "description_tooltip": null,
            "_model_module": "@jupyter-widgets/controls",
            "layout": "IPY_MODEL_909a576b0cc849eeb41d420f6ef788ef"
          }
        },
        "c5e1a10bf7af4cc39d35dd8331313204": {
          "model_module": "@jupyter-widgets/controls",
          "model_name": "HTMLModel",
          "model_module_version": "1.5.0",
          "state": {
            "_view_name": "HTMLView",
            "style": "IPY_MODEL_096c6ca7a4754d7c8b468992d6eecdfe",
            "_dom_classes": [],
            "description": "",
            "_model_name": "HTMLModel",
            "placeholder": "​",
            "_view_module": "@jupyter-widgets/controls",
            "_model_module_version": "1.5.0",
            "value": " 59599/59599 [00:01&lt;00:00, 32649.03it/s]",
            "_view_count": null,
            "_view_module_version": "1.5.0",
            "description_tooltip": null,
            "_model_module": "@jupyter-widgets/controls",
            "layout": "IPY_MODEL_3f50fdc423c54b3e8dc6a28ae7ad8b1a"
          }
        },
        "1d7160a7b46c41108a39d674c7003e6b": {
          "model_module": "@jupyter-widgets/controls",
          "model_name": "DescriptionStyleModel",
          "model_module_version": "1.5.0",
          "state": {
            "_view_name": "StyleView",
            "_model_name": "DescriptionStyleModel",
            "description_width": "",
            "_view_module": "@jupyter-widgets/base",
            "_model_module_version": "1.5.0",
            "_view_count": null,
            "_view_module_version": "1.2.0",
            "_model_module": "@jupyter-widgets/controls"
          }
        },
        "d5c0569f4be4431394aa2aac48b977ab": {
          "model_module": "@jupyter-widgets/base",
          "model_name": "LayoutModel",
          "model_module_version": "1.2.0",
          "state": {
            "_view_name": "LayoutView",
            "grid_template_rows": null,
            "right": null,
            "justify_content": null,
            "_view_module": "@jupyter-widgets/base",
            "overflow": null,
            "_model_module_version": "1.2.0",
            "_view_count": null,
            "flex_flow": null,
            "width": null,
            "min_width": null,
            "border": null,
            "align_items": null,
            "bottom": null,
            "_model_module": "@jupyter-widgets/base",
            "top": null,
            "grid_column": null,
            "overflow_y": null,
            "overflow_x": null,
            "grid_auto_flow": null,
            "grid_area": null,
            "grid_template_columns": null,
            "flex": null,
            "_model_name": "LayoutModel",
            "justify_items": null,
            "grid_row": null,
            "max_height": null,
            "align_content": null,
            "visibility": null,
            "align_self": null,
            "height": null,
            "min_height": null,
            "padding": null,
            "grid_auto_rows": null,
            "grid_gap": null,
            "max_width": null,
            "order": null,
            "_view_module_version": "1.2.0",
            "grid_template_areas": null,
            "object_position": null,
            "object_fit": null,
            "grid_auto_columns": null,
            "margin": null,
            "display": null,
            "left": null
          }
        },
        "e021365c362049e79ca7492c4e01626e": {
          "model_module": "@jupyter-widgets/controls",
          "model_name": "ProgressStyleModel",
          "model_module_version": "1.5.0",
          "state": {
            "_view_name": "StyleView",
            "_model_name": "ProgressStyleModel",
            "description_width": "",
            "_view_module": "@jupyter-widgets/base",
            "_model_module_version": "1.5.0",
            "_view_count": null,
            "_view_module_version": "1.2.0",
            "bar_color": null,
            "_model_module": "@jupyter-widgets/controls"
          }
        },
        "909a576b0cc849eeb41d420f6ef788ef": {
          "model_module": "@jupyter-widgets/base",
          "model_name": "LayoutModel",
          "model_module_version": "1.2.0",
          "state": {
            "_view_name": "LayoutView",
            "grid_template_rows": null,
            "right": null,
            "justify_content": null,
            "_view_module": "@jupyter-widgets/base",
            "overflow": null,
            "_model_module_version": "1.2.0",
            "_view_count": null,
            "flex_flow": null,
            "width": null,
            "min_width": null,
            "border": null,
            "align_items": null,
            "bottom": null,
            "_model_module": "@jupyter-widgets/base",
            "top": null,
            "grid_column": null,
            "overflow_y": null,
            "overflow_x": null,
            "grid_auto_flow": null,
            "grid_area": null,
            "grid_template_columns": null,
            "flex": null,
            "_model_name": "LayoutModel",
            "justify_items": null,
            "grid_row": null,
            "max_height": null,
            "align_content": null,
            "visibility": null,
            "align_self": null,
            "height": null,
            "min_height": null,
            "padding": null,
            "grid_auto_rows": null,
            "grid_gap": null,
            "max_width": null,
            "order": null,
            "_view_module_version": "1.2.0",
            "grid_template_areas": null,
            "object_position": null,
            "object_fit": null,
            "grid_auto_columns": null,
            "margin": null,
            "display": null,
            "left": null
          }
        },
        "096c6ca7a4754d7c8b468992d6eecdfe": {
          "model_module": "@jupyter-widgets/controls",
          "model_name": "DescriptionStyleModel",
          "model_module_version": "1.5.0",
          "state": {
            "_view_name": "StyleView",
            "_model_name": "DescriptionStyleModel",
            "description_width": "",
            "_view_module": "@jupyter-widgets/base",
            "_model_module_version": "1.5.0",
            "_view_count": null,
            "_view_module_version": "1.2.0",
            "_model_module": "@jupyter-widgets/controls"
          }
        },
        "3f50fdc423c54b3e8dc6a28ae7ad8b1a": {
          "model_module": "@jupyter-widgets/base",
          "model_name": "LayoutModel",
          "model_module_version": "1.2.0",
          "state": {
            "_view_name": "LayoutView",
            "grid_template_rows": null,
            "right": null,
            "justify_content": null,
            "_view_module": "@jupyter-widgets/base",
            "overflow": null,
            "_model_module_version": "1.2.0",
            "_view_count": null,
            "flex_flow": null,
            "width": null,
            "min_width": null,
            "border": null,
            "align_items": null,
            "bottom": null,
            "_model_module": "@jupyter-widgets/base",
            "top": null,
            "grid_column": null,
            "overflow_y": null,
            "overflow_x": null,
            "grid_auto_flow": null,
            "grid_area": null,
            "grid_template_columns": null,
            "flex": null,
            "_model_name": "LayoutModel",
            "justify_items": null,
            "grid_row": null,
            "max_height": null,
            "align_content": null,
            "visibility": null,
            "align_self": null,
            "height": null,
            "min_height": null,
            "padding": null,
            "grid_auto_rows": null,
            "grid_gap": null,
            "max_width": null,
            "order": null,
            "_view_module_version": "1.2.0",
            "grid_template_areas": null,
            "object_position": null,
            "object_fit": null,
            "grid_auto_columns": null,
            "margin": null,
            "display": null,
            "left": null
          }
        },
        "6b7c449065bd4302ae2eca8c8b441316": {
          "model_module": "@jupyter-widgets/controls",
          "model_name": "HBoxModel",
          "model_module_version": "1.5.0",
          "state": {
            "_view_name": "HBoxView",
            "_dom_classes": [],
            "_model_name": "HBoxModel",
            "_view_module": "@jupyter-widgets/controls",
            "_model_module_version": "1.5.0",
            "_view_count": null,
            "_view_module_version": "1.5.0",
            "box_style": "",
            "layout": "IPY_MODEL_6f80b3514d07464b890c2f6e5a07c58d",
            "_model_module": "@jupyter-widgets/controls",
            "children": [
              "IPY_MODEL_c7d6114ea1064763bd4182da9f2ee0ec",
              "IPY_MODEL_0fed39a6e9b74666997bcfa55a520271",
              "IPY_MODEL_0b61fb14d4404f34a808090537f5dae6"
            ]
          }
        },
        "6f80b3514d07464b890c2f6e5a07c58d": {
          "model_module": "@jupyter-widgets/base",
          "model_name": "LayoutModel",
          "model_module_version": "1.2.0",
          "state": {
            "_view_name": "LayoutView",
            "grid_template_rows": null,
            "right": null,
            "justify_content": null,
            "_view_module": "@jupyter-widgets/base",
            "overflow": null,
            "_model_module_version": "1.2.0",
            "_view_count": null,
            "flex_flow": null,
            "width": null,
            "min_width": null,
            "border": null,
            "align_items": null,
            "bottom": null,
            "_model_module": "@jupyter-widgets/base",
            "top": null,
            "grid_column": null,
            "overflow_y": null,
            "overflow_x": null,
            "grid_auto_flow": null,
            "grid_area": null,
            "grid_template_columns": null,
            "flex": null,
            "_model_name": "LayoutModel",
            "justify_items": null,
            "grid_row": null,
            "max_height": null,
            "align_content": null,
            "visibility": null,
            "align_self": null,
            "height": null,
            "min_height": null,
            "padding": null,
            "grid_auto_rows": null,
            "grid_gap": null,
            "max_width": null,
            "order": null,
            "_view_module_version": "1.2.0",
            "grid_template_areas": null,
            "object_position": null,
            "object_fit": null,
            "grid_auto_columns": null,
            "margin": null,
            "display": null,
            "left": null
          }
        },
        "c7d6114ea1064763bd4182da9f2ee0ec": {
          "model_module": "@jupyter-widgets/controls",
          "model_name": "HTMLModel",
          "model_module_version": "1.5.0",
          "state": {
            "_view_name": "HTMLView",
            "style": "IPY_MODEL_eefd35baf0e54ce085949751a5c1b485",
            "_dom_classes": [],
            "description": "",
            "_model_name": "HTMLModel",
            "placeholder": "​",
            "_view_module": "@jupyter-widgets/controls",
            "_model_module_version": "1.5.0",
            "value": "100%",
            "_view_count": null,
            "_view_module_version": "1.5.0",
            "description_tooltip": null,
            "_model_module": "@jupyter-widgets/controls",
            "layout": "IPY_MODEL_1f42f4f5c97841c2b218781dcddb6304"
          }
        },
        "0fed39a6e9b74666997bcfa55a520271": {
          "model_module": "@jupyter-widgets/controls",
          "model_name": "FloatProgressModel",
          "model_module_version": "1.5.0",
          "state": {
            "_view_name": "ProgressView",
            "style": "IPY_MODEL_9165b1d10f61423296a4743825f4216d",
            "_dom_classes": [],
            "description": "",
            "_model_name": "FloatProgressModel",
            "bar_style": "success",
            "max": 59599,
            "_view_module": "@jupyter-widgets/controls",
            "_model_module_version": "1.5.0",
            "value": 59599,
            "_view_count": null,
            "_view_module_version": "1.5.0",
            "orientation": "horizontal",
            "min": 0,
            "description_tooltip": null,
            "_model_module": "@jupyter-widgets/controls",
            "layout": "IPY_MODEL_9c4aef8ecbe746c492bc87850c8d1d42"
          }
        },
        "0b61fb14d4404f34a808090537f5dae6": {
          "model_module": "@jupyter-widgets/controls",
          "model_name": "HTMLModel",
          "model_module_version": "1.5.0",
          "state": {
            "_view_name": "HTMLView",
            "style": "IPY_MODEL_1a8ac05c8ec045efb400b9b51dafa0c2",
            "_dom_classes": [],
            "description": "",
            "_model_name": "HTMLModel",
            "placeholder": "​",
            "_view_module": "@jupyter-widgets/controls",
            "_model_module_version": "1.5.0",
            "value": " 59599/59599 [00:01&lt;00:00, 32217.88it/s]",
            "_view_count": null,
            "_view_module_version": "1.5.0",
            "description_tooltip": null,
            "_model_module": "@jupyter-widgets/controls",
            "layout": "IPY_MODEL_d5e765e435b94c38aef20675ff726849"
          }
        },
        "eefd35baf0e54ce085949751a5c1b485": {
          "model_module": "@jupyter-widgets/controls",
          "model_name": "DescriptionStyleModel",
          "model_module_version": "1.5.0",
          "state": {
            "_view_name": "StyleView",
            "_model_name": "DescriptionStyleModel",
            "description_width": "",
            "_view_module": "@jupyter-widgets/base",
            "_model_module_version": "1.5.0",
            "_view_count": null,
            "_view_module_version": "1.2.0",
            "_model_module": "@jupyter-widgets/controls"
          }
        },
        "1f42f4f5c97841c2b218781dcddb6304": {
          "model_module": "@jupyter-widgets/base",
          "model_name": "LayoutModel",
          "model_module_version": "1.2.0",
          "state": {
            "_view_name": "LayoutView",
            "grid_template_rows": null,
            "right": null,
            "justify_content": null,
            "_view_module": "@jupyter-widgets/base",
            "overflow": null,
            "_model_module_version": "1.2.0",
            "_view_count": null,
            "flex_flow": null,
            "width": null,
            "min_width": null,
            "border": null,
            "align_items": null,
            "bottom": null,
            "_model_module": "@jupyter-widgets/base",
            "top": null,
            "grid_column": null,
            "overflow_y": null,
            "overflow_x": null,
            "grid_auto_flow": null,
            "grid_area": null,
            "grid_template_columns": null,
            "flex": null,
            "_model_name": "LayoutModel",
            "justify_items": null,
            "grid_row": null,
            "max_height": null,
            "align_content": null,
            "visibility": null,
            "align_self": null,
            "height": null,
            "min_height": null,
            "padding": null,
            "grid_auto_rows": null,
            "grid_gap": null,
            "max_width": null,
            "order": null,
            "_view_module_version": "1.2.0",
            "grid_template_areas": null,
            "object_position": null,
            "object_fit": null,
            "grid_auto_columns": null,
            "margin": null,
            "display": null,
            "left": null
          }
        },
        "9165b1d10f61423296a4743825f4216d": {
          "model_module": "@jupyter-widgets/controls",
          "model_name": "ProgressStyleModel",
          "model_module_version": "1.5.0",
          "state": {
            "_view_name": "StyleView",
            "_model_name": "ProgressStyleModel",
            "description_width": "",
            "_view_module": "@jupyter-widgets/base",
            "_model_module_version": "1.5.0",
            "_view_count": null,
            "_view_module_version": "1.2.0",
            "bar_color": null,
            "_model_module": "@jupyter-widgets/controls"
          }
        },
        "9c4aef8ecbe746c492bc87850c8d1d42": {
          "model_module": "@jupyter-widgets/base",
          "model_name": "LayoutModel",
          "model_module_version": "1.2.0",
          "state": {
            "_view_name": "LayoutView",
            "grid_template_rows": null,
            "right": null,
            "justify_content": null,
            "_view_module": "@jupyter-widgets/base",
            "overflow": null,
            "_model_module_version": "1.2.0",
            "_view_count": null,
            "flex_flow": null,
            "width": null,
            "min_width": null,
            "border": null,
            "align_items": null,
            "bottom": null,
            "_model_module": "@jupyter-widgets/base",
            "top": null,
            "grid_column": null,
            "overflow_y": null,
            "overflow_x": null,
            "grid_auto_flow": null,
            "grid_area": null,
            "grid_template_columns": null,
            "flex": null,
            "_model_name": "LayoutModel",
            "justify_items": null,
            "grid_row": null,
            "max_height": null,
            "align_content": null,
            "visibility": null,
            "align_self": null,
            "height": null,
            "min_height": null,
            "padding": null,
            "grid_auto_rows": null,
            "grid_gap": null,
            "max_width": null,
            "order": null,
            "_view_module_version": "1.2.0",
            "grid_template_areas": null,
            "object_position": null,
            "object_fit": null,
            "grid_auto_columns": null,
            "margin": null,
            "display": null,
            "left": null
          }
        },
        "1a8ac05c8ec045efb400b9b51dafa0c2": {
          "model_module": "@jupyter-widgets/controls",
          "model_name": "DescriptionStyleModel",
          "model_module_version": "1.5.0",
          "state": {
            "_view_name": "StyleView",
            "_model_name": "DescriptionStyleModel",
            "description_width": "",
            "_view_module": "@jupyter-widgets/base",
            "_model_module_version": "1.5.0",
            "_view_count": null,
            "_view_module_version": "1.2.0",
            "_model_module": "@jupyter-widgets/controls"
          }
        },
        "d5e765e435b94c38aef20675ff726849": {
          "model_module": "@jupyter-widgets/base",
          "model_name": "LayoutModel",
          "model_module_version": "1.2.0",
          "state": {
            "_view_name": "LayoutView",
            "grid_template_rows": null,
            "right": null,
            "justify_content": null,
            "_view_module": "@jupyter-widgets/base",
            "overflow": null,
            "_model_module_version": "1.2.0",
            "_view_count": null,
            "flex_flow": null,
            "width": null,
            "min_width": null,
            "border": null,
            "align_items": null,
            "bottom": null,
            "_model_module": "@jupyter-widgets/base",
            "top": null,
            "grid_column": null,
            "overflow_y": null,
            "overflow_x": null,
            "grid_auto_flow": null,
            "grid_area": null,
            "grid_template_columns": null,
            "flex": null,
            "_model_name": "LayoutModel",
            "justify_items": null,
            "grid_row": null,
            "max_height": null,
            "align_content": null,
            "visibility": null,
            "align_self": null,
            "height": null,
            "min_height": null,
            "padding": null,
            "grid_auto_rows": null,
            "grid_gap": null,
            "max_width": null,
            "order": null,
            "_view_module_version": "1.2.0",
            "grid_template_areas": null,
            "object_position": null,
            "object_fit": null,
            "grid_auto_columns": null,
            "margin": null,
            "display": null,
            "left": null
          }
        },
        "918814be59484d93b64f7e24af8e66af": {
          "model_module": "@jupyter-widgets/controls",
          "model_name": "HBoxModel",
          "model_module_version": "1.5.0",
          "state": {
            "_view_name": "HBoxView",
            "_dom_classes": [],
            "_model_name": "HBoxModel",
            "_view_module": "@jupyter-widgets/controls",
            "_model_module_version": "1.5.0",
            "_view_count": null,
            "_view_module_version": "1.5.0",
            "box_style": "",
            "layout": "IPY_MODEL_7b0bacd240b346c396e83e8854031c31",
            "_model_module": "@jupyter-widgets/controls",
            "children": [
              "IPY_MODEL_4315989d7f1e4cdc90be310346084ac6",
              "IPY_MODEL_e55bc58cc7cd415ab2f55d9d9d00d3ae",
              "IPY_MODEL_3cad16656d27494587859a87b755d5d0"
            ]
          }
        },
        "7b0bacd240b346c396e83e8854031c31": {
          "model_module": "@jupyter-widgets/base",
          "model_name": "LayoutModel",
          "model_module_version": "1.2.0",
          "state": {
            "_view_name": "LayoutView",
            "grid_template_rows": null,
            "right": null,
            "justify_content": null,
            "_view_module": "@jupyter-widgets/base",
            "overflow": null,
            "_model_module_version": "1.2.0",
            "_view_count": null,
            "flex_flow": null,
            "width": null,
            "min_width": null,
            "border": null,
            "align_items": null,
            "bottom": null,
            "_model_module": "@jupyter-widgets/base",
            "top": null,
            "grid_column": null,
            "overflow_y": null,
            "overflow_x": null,
            "grid_auto_flow": null,
            "grid_area": null,
            "grid_template_columns": null,
            "flex": null,
            "_model_name": "LayoutModel",
            "justify_items": null,
            "grid_row": null,
            "max_height": null,
            "align_content": null,
            "visibility": null,
            "align_self": null,
            "height": null,
            "min_height": null,
            "padding": null,
            "grid_auto_rows": null,
            "grid_gap": null,
            "max_width": null,
            "order": null,
            "_view_module_version": "1.2.0",
            "grid_template_areas": null,
            "object_position": null,
            "object_fit": null,
            "grid_auto_columns": null,
            "margin": null,
            "display": null,
            "left": null
          }
        },
        "4315989d7f1e4cdc90be310346084ac6": {
          "model_module": "@jupyter-widgets/controls",
          "model_name": "HTMLModel",
          "model_module_version": "1.5.0",
          "state": {
            "_view_name": "HTMLView",
            "style": "IPY_MODEL_65d8ded969dd4494b007736d26efd5e4",
            "_dom_classes": [],
            "description": "",
            "_model_name": "HTMLModel",
            "placeholder": "​",
            "_view_module": "@jupyter-widgets/controls",
            "_model_module_version": "1.5.0",
            "value": "100%",
            "_view_count": null,
            "_view_module_version": "1.5.0",
            "description_tooltip": null,
            "_model_module": "@jupyter-widgets/controls",
            "layout": "IPY_MODEL_5091a5dc9b0e480692ca8ced0b47b873"
          }
        },
        "e55bc58cc7cd415ab2f55d9d9d00d3ae": {
          "model_module": "@jupyter-widgets/controls",
          "model_name": "FloatProgressModel",
          "model_module_version": "1.5.0",
          "state": {
            "_view_name": "ProgressView",
            "style": "IPY_MODEL_97fd56435a874a18a66124595dbe7b52",
            "_dom_classes": [],
            "description": "",
            "_model_name": "FloatProgressModel",
            "bar_style": "success",
            "max": 59599,
            "_view_module": "@jupyter-widgets/controls",
            "_model_module_version": "1.5.0",
            "value": 59599,
            "_view_count": null,
            "_view_module_version": "1.5.0",
            "orientation": "horizontal",
            "min": 0,
            "description_tooltip": null,
            "_model_module": "@jupyter-widgets/controls",
            "layout": "IPY_MODEL_55053bd94fb84fffaf34289ad1b045fd"
          }
        },
        "3cad16656d27494587859a87b755d5d0": {
          "model_module": "@jupyter-widgets/controls",
          "model_name": "HTMLModel",
          "model_module_version": "1.5.0",
          "state": {
            "_view_name": "HTMLView",
            "style": "IPY_MODEL_c9ebd0eb9ff447729d9290a617bbe00c",
            "_dom_classes": [],
            "description": "",
            "_model_name": "HTMLModel",
            "placeholder": "​",
            "_view_module": "@jupyter-widgets/controls",
            "_model_module_version": "1.5.0",
            "value": " 59599/59599 [00:01&lt;00:00, 34541.54it/s]",
            "_view_count": null,
            "_view_module_version": "1.5.0",
            "description_tooltip": null,
            "_model_module": "@jupyter-widgets/controls",
            "layout": "IPY_MODEL_5e0e2e5836f4499fad013ff66a8fafd9"
          }
        },
        "65d8ded969dd4494b007736d26efd5e4": {
          "model_module": "@jupyter-widgets/controls",
          "model_name": "DescriptionStyleModel",
          "model_module_version": "1.5.0",
          "state": {
            "_view_name": "StyleView",
            "_model_name": "DescriptionStyleModel",
            "description_width": "",
            "_view_module": "@jupyter-widgets/base",
            "_model_module_version": "1.5.0",
            "_view_count": null,
            "_view_module_version": "1.2.0",
            "_model_module": "@jupyter-widgets/controls"
          }
        },
        "5091a5dc9b0e480692ca8ced0b47b873": {
          "model_module": "@jupyter-widgets/base",
          "model_name": "LayoutModel",
          "model_module_version": "1.2.0",
          "state": {
            "_view_name": "LayoutView",
            "grid_template_rows": null,
            "right": null,
            "justify_content": null,
            "_view_module": "@jupyter-widgets/base",
            "overflow": null,
            "_model_module_version": "1.2.0",
            "_view_count": null,
            "flex_flow": null,
            "width": null,
            "min_width": null,
            "border": null,
            "align_items": null,
            "bottom": null,
            "_model_module": "@jupyter-widgets/base",
            "top": null,
            "grid_column": null,
            "overflow_y": null,
            "overflow_x": null,
            "grid_auto_flow": null,
            "grid_area": null,
            "grid_template_columns": null,
            "flex": null,
            "_model_name": "LayoutModel",
            "justify_items": null,
            "grid_row": null,
            "max_height": null,
            "align_content": null,
            "visibility": null,
            "align_self": null,
            "height": null,
            "min_height": null,
            "padding": null,
            "grid_auto_rows": null,
            "grid_gap": null,
            "max_width": null,
            "order": null,
            "_view_module_version": "1.2.0",
            "grid_template_areas": null,
            "object_position": null,
            "object_fit": null,
            "grid_auto_columns": null,
            "margin": null,
            "display": null,
            "left": null
          }
        },
        "97fd56435a874a18a66124595dbe7b52": {
          "model_module": "@jupyter-widgets/controls",
          "model_name": "ProgressStyleModel",
          "model_module_version": "1.5.0",
          "state": {
            "_view_name": "StyleView",
            "_model_name": "ProgressStyleModel",
            "description_width": "",
            "_view_module": "@jupyter-widgets/base",
            "_model_module_version": "1.5.0",
            "_view_count": null,
            "_view_module_version": "1.2.0",
            "bar_color": null,
            "_model_module": "@jupyter-widgets/controls"
          }
        },
        "55053bd94fb84fffaf34289ad1b045fd": {
          "model_module": "@jupyter-widgets/base",
          "model_name": "LayoutModel",
          "model_module_version": "1.2.0",
          "state": {
            "_view_name": "LayoutView",
            "grid_template_rows": null,
            "right": null,
            "justify_content": null,
            "_view_module": "@jupyter-widgets/base",
            "overflow": null,
            "_model_module_version": "1.2.0",
            "_view_count": null,
            "flex_flow": null,
            "width": null,
            "min_width": null,
            "border": null,
            "align_items": null,
            "bottom": null,
            "_model_module": "@jupyter-widgets/base",
            "top": null,
            "grid_column": null,
            "overflow_y": null,
            "overflow_x": null,
            "grid_auto_flow": null,
            "grid_area": null,
            "grid_template_columns": null,
            "flex": null,
            "_model_name": "LayoutModel",
            "justify_items": null,
            "grid_row": null,
            "max_height": null,
            "align_content": null,
            "visibility": null,
            "align_self": null,
            "height": null,
            "min_height": null,
            "padding": null,
            "grid_auto_rows": null,
            "grid_gap": null,
            "max_width": null,
            "order": null,
            "_view_module_version": "1.2.0",
            "grid_template_areas": null,
            "object_position": null,
            "object_fit": null,
            "grid_auto_columns": null,
            "margin": null,
            "display": null,
            "left": null
          }
        },
        "c9ebd0eb9ff447729d9290a617bbe00c": {
          "model_module": "@jupyter-widgets/controls",
          "model_name": "DescriptionStyleModel",
          "model_module_version": "1.5.0",
          "state": {
            "_view_name": "StyleView",
            "_model_name": "DescriptionStyleModel",
            "description_width": "",
            "_view_module": "@jupyter-widgets/base",
            "_model_module_version": "1.5.0",
            "_view_count": null,
            "_view_module_version": "1.2.0",
            "_model_module": "@jupyter-widgets/controls"
          }
        },
        "5e0e2e5836f4499fad013ff66a8fafd9": {
          "model_module": "@jupyter-widgets/base",
          "model_name": "LayoutModel",
          "model_module_version": "1.2.0",
          "state": {
            "_view_name": "LayoutView",
            "grid_template_rows": null,
            "right": null,
            "justify_content": null,
            "_view_module": "@jupyter-widgets/base",
            "overflow": null,
            "_model_module_version": "1.2.0",
            "_view_count": null,
            "flex_flow": null,
            "width": null,
            "min_width": null,
            "border": null,
            "align_items": null,
            "bottom": null,
            "_model_module": "@jupyter-widgets/base",
            "top": null,
            "grid_column": null,
            "overflow_y": null,
            "overflow_x": null,
            "grid_auto_flow": null,
            "grid_area": null,
            "grid_template_columns": null,
            "flex": null,
            "_model_name": "LayoutModel",
            "justify_items": null,
            "grid_row": null,
            "max_height": null,
            "align_content": null,
            "visibility": null,
            "align_self": null,
            "height": null,
            "min_height": null,
            "padding": null,
            "grid_auto_rows": null,
            "grid_gap": null,
            "max_width": null,
            "order": null,
            "_view_module_version": "1.2.0",
            "grid_template_areas": null,
            "object_position": null,
            "object_fit": null,
            "grid_auto_columns": null,
            "margin": null,
            "display": null,
            "left": null
          }
        },
        "386929a46dc24b41934111144b8da0a5": {
          "model_module": "@jupyter-widgets/controls",
          "model_name": "HBoxModel",
          "model_module_version": "1.5.0",
          "state": {
            "_view_name": "HBoxView",
            "_dom_classes": [],
            "_model_name": "HBoxModel",
            "_view_module": "@jupyter-widgets/controls",
            "_model_module_version": "1.5.0",
            "_view_count": null,
            "_view_module_version": "1.5.0",
            "box_style": "",
            "layout": "IPY_MODEL_5821258133774bd79c1dd8b5537bd70c",
            "_model_module": "@jupyter-widgets/controls",
            "children": [
              "IPY_MODEL_3dccf581cab44598968dca63847614f8",
              "IPY_MODEL_344b6ef5151545e085e33dcc5c93679e",
              "IPY_MODEL_20df3d97fab0476d9b7906fa29b5bf73"
            ]
          }
        },
        "5821258133774bd79c1dd8b5537bd70c": {
          "model_module": "@jupyter-widgets/base",
          "model_name": "LayoutModel",
          "model_module_version": "1.2.0",
          "state": {
            "_view_name": "LayoutView",
            "grid_template_rows": null,
            "right": null,
            "justify_content": null,
            "_view_module": "@jupyter-widgets/base",
            "overflow": null,
            "_model_module_version": "1.2.0",
            "_view_count": null,
            "flex_flow": null,
            "width": null,
            "min_width": null,
            "border": null,
            "align_items": null,
            "bottom": null,
            "_model_module": "@jupyter-widgets/base",
            "top": null,
            "grid_column": null,
            "overflow_y": null,
            "overflow_x": null,
            "grid_auto_flow": null,
            "grid_area": null,
            "grid_template_columns": null,
            "flex": null,
            "_model_name": "LayoutModel",
            "justify_items": null,
            "grid_row": null,
            "max_height": null,
            "align_content": null,
            "visibility": null,
            "align_self": null,
            "height": null,
            "min_height": null,
            "padding": null,
            "grid_auto_rows": null,
            "grid_gap": null,
            "max_width": null,
            "order": null,
            "_view_module_version": "1.2.0",
            "grid_template_areas": null,
            "object_position": null,
            "object_fit": null,
            "grid_auto_columns": null,
            "margin": null,
            "display": null,
            "left": null
          }
        },
        "3dccf581cab44598968dca63847614f8": {
          "model_module": "@jupyter-widgets/controls",
          "model_name": "HTMLModel",
          "model_module_version": "1.5.0",
          "state": {
            "_view_name": "HTMLView",
            "style": "IPY_MODEL_739e40c60ba54676b46dd1a022fa9c26",
            "_dom_classes": [],
            "description": "",
            "_model_name": "HTMLModel",
            "placeholder": "​",
            "_view_module": "@jupyter-widgets/controls",
            "_model_module_version": "1.5.0",
            "value": "100%",
            "_view_count": null,
            "_view_module_version": "1.5.0",
            "description_tooltip": null,
            "_model_module": "@jupyter-widgets/controls",
            "layout": "IPY_MODEL_a558ee6fb9cd44238fb0ea837edc548f"
          }
        },
        "344b6ef5151545e085e33dcc5c93679e": {
          "model_module": "@jupyter-widgets/controls",
          "model_name": "FloatProgressModel",
          "model_module_version": "1.5.0",
          "state": {
            "_view_name": "ProgressView",
            "style": "IPY_MODEL_90ba64d312b8488e98386e151261cf97",
            "_dom_classes": [],
            "description": "",
            "_model_name": "FloatProgressModel",
            "bar_style": "success",
            "max": 15,
            "_view_module": "@jupyter-widgets/controls",
            "_model_module_version": "1.5.0",
            "value": 15,
            "_view_count": null,
            "_view_module_version": "1.5.0",
            "orientation": "horizontal",
            "min": 0,
            "description_tooltip": null,
            "_model_module": "@jupyter-widgets/controls",
            "layout": "IPY_MODEL_4f8100cc604e497ca173d4eb3cfb1567"
          }
        },
        "20df3d97fab0476d9b7906fa29b5bf73": {
          "model_module": "@jupyter-widgets/controls",
          "model_name": "HTMLModel",
          "model_module_version": "1.5.0",
          "state": {
            "_view_name": "HTMLView",
            "style": "IPY_MODEL_e8906ac7ea30477cb42d3427c8c9da1e",
            "_dom_classes": [],
            "description": "",
            "_model_name": "HTMLModel",
            "placeholder": "​",
            "_view_module": "@jupyter-widgets/controls",
            "_model_module_version": "1.5.0",
            "value": " 15/15 [02:42&lt;00:00, 10.06s/it]",
            "_view_count": null,
            "_view_module_version": "1.5.0",
            "description_tooltip": null,
            "_model_module": "@jupyter-widgets/controls",
            "layout": "IPY_MODEL_ec8e14f0bc7b48a7bd998808b5eb8919"
          }
        },
        "739e40c60ba54676b46dd1a022fa9c26": {
          "model_module": "@jupyter-widgets/controls",
          "model_name": "DescriptionStyleModel",
          "model_module_version": "1.5.0",
          "state": {
            "_view_name": "StyleView",
            "_model_name": "DescriptionStyleModel",
            "description_width": "",
            "_view_module": "@jupyter-widgets/base",
            "_model_module_version": "1.5.0",
            "_view_count": null,
            "_view_module_version": "1.2.0",
            "_model_module": "@jupyter-widgets/controls"
          }
        },
        "a558ee6fb9cd44238fb0ea837edc548f": {
          "model_module": "@jupyter-widgets/base",
          "model_name": "LayoutModel",
          "model_module_version": "1.2.0",
          "state": {
            "_view_name": "LayoutView",
            "grid_template_rows": null,
            "right": null,
            "justify_content": null,
            "_view_module": "@jupyter-widgets/base",
            "overflow": null,
            "_model_module_version": "1.2.0",
            "_view_count": null,
            "flex_flow": null,
            "width": null,
            "min_width": null,
            "border": null,
            "align_items": null,
            "bottom": null,
            "_model_module": "@jupyter-widgets/base",
            "top": null,
            "grid_column": null,
            "overflow_y": null,
            "overflow_x": null,
            "grid_auto_flow": null,
            "grid_area": null,
            "grid_template_columns": null,
            "flex": null,
            "_model_name": "LayoutModel",
            "justify_items": null,
            "grid_row": null,
            "max_height": null,
            "align_content": null,
            "visibility": null,
            "align_self": null,
            "height": null,
            "min_height": null,
            "padding": null,
            "grid_auto_rows": null,
            "grid_gap": null,
            "max_width": null,
            "order": null,
            "_view_module_version": "1.2.0",
            "grid_template_areas": null,
            "object_position": null,
            "object_fit": null,
            "grid_auto_columns": null,
            "margin": null,
            "display": null,
            "left": null
          }
        },
        "90ba64d312b8488e98386e151261cf97": {
          "model_module": "@jupyter-widgets/controls",
          "model_name": "ProgressStyleModel",
          "model_module_version": "1.5.0",
          "state": {
            "_view_name": "StyleView",
            "_model_name": "ProgressStyleModel",
            "description_width": "",
            "_view_module": "@jupyter-widgets/base",
            "_model_module_version": "1.5.0",
            "_view_count": null,
            "_view_module_version": "1.2.0",
            "bar_color": null,
            "_model_module": "@jupyter-widgets/controls"
          }
        },
        "4f8100cc604e497ca173d4eb3cfb1567": {
          "model_module": "@jupyter-widgets/base",
          "model_name": "LayoutModel",
          "model_module_version": "1.2.0",
          "state": {
            "_view_name": "LayoutView",
            "grid_template_rows": null,
            "right": null,
            "justify_content": null,
            "_view_module": "@jupyter-widgets/base",
            "overflow": null,
            "_model_module_version": "1.2.0",
            "_view_count": null,
            "flex_flow": null,
            "width": null,
            "min_width": null,
            "border": null,
            "align_items": null,
            "bottom": null,
            "_model_module": "@jupyter-widgets/base",
            "top": null,
            "grid_column": null,
            "overflow_y": null,
            "overflow_x": null,
            "grid_auto_flow": null,
            "grid_area": null,
            "grid_template_columns": null,
            "flex": null,
            "_model_name": "LayoutModel",
            "justify_items": null,
            "grid_row": null,
            "max_height": null,
            "align_content": null,
            "visibility": null,
            "align_self": null,
            "height": null,
            "min_height": null,
            "padding": null,
            "grid_auto_rows": null,
            "grid_gap": null,
            "max_width": null,
            "order": null,
            "_view_module_version": "1.2.0",
            "grid_template_areas": null,
            "object_position": null,
            "object_fit": null,
            "grid_auto_columns": null,
            "margin": null,
            "display": null,
            "left": null
          }
        },
        "e8906ac7ea30477cb42d3427c8c9da1e": {
          "model_module": "@jupyter-widgets/controls",
          "model_name": "DescriptionStyleModel",
          "model_module_version": "1.5.0",
          "state": {
            "_view_name": "StyleView",
            "_model_name": "DescriptionStyleModel",
            "description_width": "",
            "_view_module": "@jupyter-widgets/base",
            "_model_module_version": "1.5.0",
            "_view_count": null,
            "_view_module_version": "1.2.0",
            "_model_module": "@jupyter-widgets/controls"
          }
        },
        "ec8e14f0bc7b48a7bd998808b5eb8919": {
          "model_module": "@jupyter-widgets/base",
          "model_name": "LayoutModel",
          "model_module_version": "1.2.0",
          "state": {
            "_view_name": "LayoutView",
            "grid_template_rows": null,
            "right": null,
            "justify_content": null,
            "_view_module": "@jupyter-widgets/base",
            "overflow": null,
            "_model_module_version": "1.2.0",
            "_view_count": null,
            "flex_flow": null,
            "width": null,
            "min_width": null,
            "border": null,
            "align_items": null,
            "bottom": null,
            "_model_module": "@jupyter-widgets/base",
            "top": null,
            "grid_column": null,
            "overflow_y": null,
            "overflow_x": null,
            "grid_auto_flow": null,
            "grid_area": null,
            "grid_template_columns": null,
            "flex": null,
            "_model_name": "LayoutModel",
            "justify_items": null,
            "grid_row": null,
            "max_height": null,
            "align_content": null,
            "visibility": null,
            "align_self": null,
            "height": null,
            "min_height": null,
            "padding": null,
            "grid_auto_rows": null,
            "grid_gap": null,
            "max_width": null,
            "order": null,
            "_view_module_version": "1.2.0",
            "grid_template_areas": null,
            "object_position": null,
            "object_fit": null,
            "grid_auto_columns": null,
            "margin": null,
            "display": null,
            "left": null
          }
        }
      }
    },
    "colab": {
      "name": "06_implicit-lightfm.ipynb",
      "provenance": [],
      "collapsed_sections": []
    },
    "accelerator": "GPU"
  },
  "nbformat": 4,
  "nbformat_minor": 0
}