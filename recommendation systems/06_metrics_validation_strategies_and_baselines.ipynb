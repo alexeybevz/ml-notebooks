{
  "metadata": {
    "kernelspec": {
      "language": "python",
      "display_name": "Python 3",
      "name": "python3"
    },
    "language_info": {
      "pygments_lexer": "ipython3",
      "nbconvert_exporter": "python",
      "version": "3.6.4",
      "file_extension": ".py",
      "codemirror_mode": {
        "name": "ipython",
        "version": 3
      },
      "name": "python",
      "mimetype": "text/x-python"
    },
    "colab": {
      "name": "06 metrics-validation-strategies-and-baselines.ipynb",
      "provenance": [],
      "collapsed_sections": []
    }
  },
  "nbformat_minor": 0,
  "nbformat": 4,
  "cells": [
    {
      "cell_type": "markdown",
      "source": [
        "# Metrics, validation strategies and baselines\n",
        "\n",
        "В данном jupyter notebook рассматриваются примеры того, какие схемы валидации и метрики используются в рекомендательных системах.\n",
        "Также построим простые модели (бейзлайны) на данных МТС Библиотеки. \n",
        "\n",
        "* [Preprocessing](#preprocessing)\n",
        "* [General remarks](#general-remarks)\n",
        "* [Metrics](#metrics)\n",
        "    * [Regression](#regression)\n",
        "    * [Classification](#classification)\n",
        "    * [Ranking](#ranking)\n",
        "* [Validation strategies](#validation)\n",
        "* [Baselines](#baselines)"
      ],
      "metadata": {
        "id": "o33nGGmTyhiO"
      }
    },
    {
      "cell_type": "code",
      "source": [
        "from google.colab import drive\n",
        "drive.mount('/content/drive')"
      ],
      "metadata": {
        "colab": {
          "base_uri": "https://localhost:8080/"
        },
        "id": "DLDLelwv03mB",
        "outputId": "d130d281-e46f-4cf7-af87-6d747cf3907f"
      },
      "execution_count": 2,
      "outputs": [
        {
          "output_type": "stream",
          "name": "stdout",
          "text": [
            "Mounted at /content/drive\n"
          ]
        }
      ]
    },
    {
      "cell_type": "code",
      "source": [
        "!ln -s \"/content/drive/MyDrive\" /gdrive"
      ],
      "metadata": {
        "id": "FzZ2I_Iz1Nrp"
      },
      "execution_count": 4,
      "outputs": []
    },
    {
      "cell_type": "code",
      "source": [
        "import os\n",
        "import numpy as np \n",
        "import pandas as pd \n",
        "from itertools import islice, cycle\n",
        "from more_itertools import pairwise\n",
        "\n",
        "print('Dataset:')\n",
        "for dirname, _, filenames in os.walk('/gdrive/ML//kaggle/input'):\n",
        "    for filename in filenames:\n",
        "        print(os.path.join(dirname, filename))"
      ],
      "metadata": {
        "_uuid": "8f2839f25d086af736a60e9eeb907d3b93b6e0e5",
        "_cell_guid": "b1076dfc-b9ad-4769-8c92-a6c4dae69d19",
        "_kg_hide-input": true,
        "trusted": true,
        "colab": {
          "base_uri": "https://localhost:8080/"
        },
        "id": "GeS6SF_tyhiR",
        "outputId": "c3692b95-d7ff-4eb2-a4b4-7da0edc41844"
      },
      "execution_count": 5,
      "outputs": [
        {
          "output_type": "stream",
          "name": "stdout",
          "text": [
            "Dataset:\n",
            "/gdrive/ML//kaggle/input/mts-library/interactions.csv\n",
            "/gdrive/ML//kaggle/input/mts-library/users.csv\n",
            "/gdrive/ML//kaggle/input/mts-library/items.csv\n"
          ]
        }
      ]
    },
    {
      "cell_type": "markdown",
      "source": [
        "<a id=\"preprocessing\"></a>\n",
        "# Preprocessing\n",
        "\n",
        "Загрузим наши данные, теперь уже с фичами, и применим знания из [pandas-scipy-for-recsys](https://www.kaggle.com/sharthz23/pandas-scipy-for-recsys)"
      ],
      "metadata": {
        "id": "croIxpCnyhiT"
      }
    },
    {
      "cell_type": "code",
      "source": [
        "df = pd.read_csv('/gdrive/ML/kaggle/input/mts-library/interactions.csv')\n",
        "df_users = pd.read_csv('/gdrive/ML/kaggle/input/mts-library/users.csv')\n",
        "df_items = pd.read_csv('/gdrive/ML/kaggle/input/mts-library/items.csv')"
      ],
      "metadata": {
        "trusted": true,
        "id": "zgjxm4HdyhiT"
      },
      "execution_count": 6,
      "outputs": []
    },
    {
      "cell_type": "markdown",
      "source": [
        "## Interactions"
      ],
      "metadata": {
        "id": "0kKM6s1lyhiU"
      }
    },
    {
      "cell_type": "code",
      "source": [
        "df.info()"
      ],
      "metadata": {
        "trusted": true,
        "colab": {
          "base_uri": "https://localhost:8080/"
        },
        "id": "0Nrsga0qyhiU",
        "outputId": "b74e5f58-1386-4f48-b498-47d06d58ed7c"
      },
      "execution_count": 7,
      "outputs": [
        {
          "output_type": "stream",
          "name": "stdout",
          "text": [
            "<class 'pandas.core.frame.DataFrame'>\n",
            "RangeIndex: 1533078 entries, 0 to 1533077\n",
            "Data columns (total 5 columns):\n",
            " #   Column      Non-Null Count    Dtype  \n",
            "---  ------      --------------    -----  \n",
            " 0   user_id     1533078 non-null  int64  \n",
            " 1   item_id     1533078 non-null  int64  \n",
            " 2   progress    1533078 non-null  int64  \n",
            " 3   rating      285356 non-null   float64\n",
            " 4   start_date  1533078 non-null  object \n",
            "dtypes: float64(1), int64(3), object(1)\n",
            "memory usage: 58.5+ MB\n"
          ]
        }
      ]
    },
    {
      "cell_type": "code",
      "source": [
        "df['start_date'] = pd.to_datetime(df['start_date'])"
      ],
      "metadata": {
        "trusted": true,
        "id": "zdsX6EU_yhiV"
      },
      "execution_count": 8,
      "outputs": []
    },
    {
      "cell_type": "code",
      "source": [
        "duplicates = df.duplicated(subset=['user_id', 'item_id'], keep=False)\n",
        "df_duplicates = df[duplicates].sort_values(by=['user_id', 'start_date'])\n",
        "df = df[~duplicates]"
      ],
      "metadata": {
        "trusted": true,
        "id": "lDqikxHtyhiV"
      },
      "execution_count": 9,
      "outputs": []
    },
    {
      "cell_type": "code",
      "source": [
        "df_duplicates = df_duplicates.groupby(['user_id', 'item_id']).agg({\n",
        "    'progress': 'max',\n",
        "    'rating': 'max',\n",
        "    'start_date': 'min'\n",
        "})\n",
        "df = df.append(df_duplicates.reset_index(), ignore_index=True)"
      ],
      "metadata": {
        "trusted": true,
        "id": "1kRPhqWQyhiW"
      },
      "execution_count": 10,
      "outputs": []
    },
    {
      "cell_type": "code",
      "source": [
        "df['progress'] = df['progress'].astype(np.int8)\n",
        "df['rating'] = df['rating'].astype(pd.SparseDtype(np.float32, np.nan))"
      ],
      "metadata": {
        "trusted": true,
        "id": "7cxvN-h-yhiX"
      },
      "execution_count": 11,
      "outputs": []
    },
    {
      "cell_type": "code",
      "source": [
        "df.info()"
      ],
      "metadata": {
        "trusted": true,
        "colab": {
          "base_uri": "https://localhost:8080/"
        },
        "id": "_csC5IDbyhiX",
        "outputId": "1fe44148-3f00-448d-e0cc-baff1b9aa260"
      },
      "execution_count": 12,
      "outputs": [
        {
          "output_type": "stream",
          "name": "stdout",
          "text": [
            "<class 'pandas.core.frame.DataFrame'>\n",
            "RangeIndex: 1532998 entries, 0 to 1532997\n",
            "Data columns (total 5 columns):\n",
            " #   Column      Non-Null Count    Dtype               \n",
            "---  ------      --------------    -----               \n",
            " 0   user_id     1532998 non-null  int64               \n",
            " 1   item_id     1532998 non-null  int64               \n",
            " 2   progress    1532998 non-null  int8                \n",
            " 3   rating      285355 non-null   Sparse[float32, nan]\n",
            " 4   start_date  1532998 non-null  datetime64[ns]      \n",
            "dtypes: Sparse[float32, nan](1), datetime64[ns](1), int64(2), int8(1)\n",
            "memory usage: 38.7 MB\n"
          ]
        }
      ]
    },
    {
      "cell_type": "code",
      "source": [
        "df.to_pickle('../gdrive/ML/kaggle/output/interactions_preprocessed.pickle')"
      ],
      "metadata": {
        "trusted": true,
        "id": "YPWduzGwyhiX"
      },
      "execution_count": 16,
      "outputs": []
    },
    {
      "cell_type": "code",
      "source": [
        "!ls -lah"
      ],
      "metadata": {
        "trusted": true,
        "colab": {
          "base_uri": "https://localhost:8080/"
        },
        "id": "UertXlYMyhiY",
        "outputId": "8bfc9b88-d4f0-4671-9da5-c39e6a9d7ae3"
      },
      "execution_count": 17,
      "outputs": [
        {
          "output_type": "stream",
          "name": "stdout",
          "text": [
            "total 24K\n",
            "drwxr-xr-x 1 root root 4.0K Dec 16 15:22 .\n",
            "drwxr-xr-x 1 root root 4.0K Dec 16 15:21 ..\n",
            "drwxr-xr-x 4 root root 4.0K Dec  3 14:33 .config\n",
            "drwx------ 5 root root 4.0K Dec 16 15:20 drive\n",
            "drwxr-xr-x 2 root root 4.0K Dec 16 15:22 .ipynb_checkpoints\n",
            "drwxr-xr-x 1 root root 4.0K Dec  3 14:33 sample_data\n"
          ]
        }
      ]
    },
    {
      "cell_type": "markdown",
      "source": [
        "## Users"
      ],
      "metadata": {
        "id": "kWq6JAoIyhiY"
      }
    },
    {
      "cell_type": "code",
      "source": [
        "df_users.head()"
      ],
      "metadata": {
        "trusted": true,
        "colab": {
          "base_uri": "https://localhost:8080/",
          "height": 204
        },
        "id": "-Wj82CeFyhiY",
        "outputId": "0714d92b-059c-4b2a-f263-4f9d82e3a8f3"
      },
      "execution_count": 18,
      "outputs": [
        {
          "output_type": "execute_result",
          "data": {
            "text/html": [
              "<div>\n",
              "<style scoped>\n",
              "    .dataframe tbody tr th:only-of-type {\n",
              "        vertical-align: middle;\n",
              "    }\n",
              "\n",
              "    .dataframe tbody tr th {\n",
              "        vertical-align: top;\n",
              "    }\n",
              "\n",
              "    .dataframe thead th {\n",
              "        text-align: right;\n",
              "    }\n",
              "</style>\n",
              "<table border=\"1\" class=\"dataframe\">\n",
              "  <thead>\n",
              "    <tr style=\"text-align: right;\">\n",
              "      <th></th>\n",
              "      <th>user_id</th>\n",
              "      <th>age</th>\n",
              "      <th>sex</th>\n",
              "    </tr>\n",
              "  </thead>\n",
              "  <tbody>\n",
              "    <tr>\n",
              "      <th>0</th>\n",
              "      <td>1</td>\n",
              "      <td>45_54</td>\n",
              "      <td>NaN</td>\n",
              "    </tr>\n",
              "    <tr>\n",
              "      <th>1</th>\n",
              "      <td>2</td>\n",
              "      <td>18_24</td>\n",
              "      <td>0.0</td>\n",
              "    </tr>\n",
              "    <tr>\n",
              "      <th>2</th>\n",
              "      <td>3</td>\n",
              "      <td>65_inf</td>\n",
              "      <td>0.0</td>\n",
              "    </tr>\n",
              "    <tr>\n",
              "      <th>3</th>\n",
              "      <td>4</td>\n",
              "      <td>18_24</td>\n",
              "      <td>0.0</td>\n",
              "    </tr>\n",
              "    <tr>\n",
              "      <th>4</th>\n",
              "      <td>5</td>\n",
              "      <td>35_44</td>\n",
              "      <td>0.0</td>\n",
              "    </tr>\n",
              "  </tbody>\n",
              "</table>\n",
              "</div>"
            ],
            "text/plain": [
              "   user_id     age  sex\n",
              "0        1   45_54  NaN\n",
              "1        2   18_24  0.0\n",
              "2        3  65_inf  0.0\n",
              "3        4   18_24  0.0\n",
              "4        5   35_44  0.0"
            ]
          },
          "metadata": {},
          "execution_count": 18
        }
      ]
    },
    {
      "cell_type": "code",
      "source": [
        "df_users.info()"
      ],
      "metadata": {
        "trusted": true,
        "colab": {
          "base_uri": "https://localhost:8080/"
        },
        "id": "0gR_pLyhyhiZ",
        "outputId": "b7dd56b7-7477-4edf-d5a5-0a6a8f83e7b6"
      },
      "execution_count": 19,
      "outputs": [
        {
          "output_type": "stream",
          "name": "stdout",
          "text": [
            "<class 'pandas.core.frame.DataFrame'>\n",
            "RangeIndex: 142888 entries, 0 to 142887\n",
            "Data columns (total 3 columns):\n",
            " #   Column   Non-Null Count   Dtype  \n",
            "---  ------   --------------   -----  \n",
            " 0   user_id  142888 non-null  int64  \n",
            " 1   age      142742 non-null  object \n",
            " 2   sex      136626 non-null  float64\n",
            "dtypes: float64(1), int64(1), object(1)\n",
            "memory usage: 3.3+ MB\n"
          ]
        }
      ]
    },
    {
      "cell_type": "code",
      "source": [
        "df_users.nunique()"
      ],
      "metadata": {
        "trusted": true,
        "colab": {
          "base_uri": "https://localhost:8080/"
        },
        "id": "giYjNnrTyhiZ",
        "outputId": "55330586-c779-40c6-f6ba-bb6d35751e13"
      },
      "execution_count": 20,
      "outputs": [
        {
          "output_type": "execute_result",
          "data": {
            "text/plain": [
              "user_id    142888\n",
              "age             6\n",
              "sex             2\n",
              "dtype: int64"
            ]
          },
          "metadata": {},
          "execution_count": 20
        }
      ]
    },
    {
      "cell_type": "code",
      "source": [
        "df_users['age'] = df_users['age'].astype('category')\n",
        "df_users['sex'] = df_users['sex'].astype(pd.SparseDtype(np.float32, np.nan))"
      ],
      "metadata": {
        "trusted": true,
        "id": "zFuT2XdTyhiZ"
      },
      "execution_count": 21,
      "outputs": []
    },
    {
      "cell_type": "code",
      "source": [
        "df_users.info()"
      ],
      "metadata": {
        "trusted": true,
        "colab": {
          "base_uri": "https://localhost:8080/"
        },
        "id": "xGCvRREZyhiZ",
        "outputId": "6888acc7-0684-4667-c77a-df2a75a5149c"
      },
      "execution_count": 22,
      "outputs": [
        {
          "output_type": "stream",
          "name": "stdout",
          "text": [
            "<class 'pandas.core.frame.DataFrame'>\n",
            "RangeIndex: 142888 entries, 0 to 142887\n",
            "Data columns (total 3 columns):\n",
            " #   Column   Non-Null Count   Dtype               \n",
            "---  ------   --------------   -----               \n",
            " 0   user_id  142888 non-null  int64               \n",
            " 1   age      142742 non-null  category            \n",
            " 2   sex      136626 non-null  Sparse[float32, nan]\n",
            "dtypes: Sparse[float32, nan](1), category(1), int64(1)\n",
            "memory usage: 2.3 MB\n"
          ]
        }
      ]
    },
    {
      "cell_type": "code",
      "source": [
        "interaction_users = df['user_id'].unique()\n",
        "\n",
        "common_users = len(np.intersect1d(interaction_users, df_users['user_id']))\n",
        "users_only_in_interaction = len(np.setdiff1d(interaction_users, df_users['user_id']))\n",
        "users_only_features = len(np.setdiff1d(df_users['user_id'], interaction_users))\n",
        "total_users = common_users + users_only_in_interaction + users_only_features\n",
        "print(f'Кол-во пользователей - {total_users}')\n",
        "print(f'Кол-во пользователей c взаимодействиями и фичами - {common_users} ({common_users / total_users * 100:.2f}%)')\n",
        "print(f'Кол-во пользователей только c взаимодействиями - {users_only_in_interaction} ({users_only_in_interaction / total_users * 100:.2f}%)')\n",
        "print(f'Кол-во пользователей только c фичами - {users_only_features} ({users_only_features / total_users * 100:.2f}%)')"
      ],
      "metadata": {
        "trusted": true,
        "colab": {
          "base_uri": "https://localhost:8080/"
        },
        "id": "-7UrssLVyhia",
        "outputId": "6361991c-d947-44ea-cb9d-b09a743578f7"
      },
      "execution_count": 23,
      "outputs": [
        {
          "output_type": "stream",
          "name": "stdout",
          "text": [
            "Кол-во пользователей - 158811\n",
            "Кол-во пользователей c взаимодействиями и фичами - 135677 (85.43%)\n",
            "Кол-во пользователей только c взаимодействиями - 15923 (10.03%)\n",
            "Кол-во пользователей только c фичами - 7211 (4.54%)\n"
          ]
        }
      ]
    },
    {
      "cell_type": "code",
      "source": [
        "df_users.to_pickle('../gdrive/ML/kaggle/output/users_preprocessed.pickle')"
      ],
      "metadata": {
        "trusted": true,
        "id": "xLFVblgLyhia"
      },
      "execution_count": 24,
      "outputs": []
    },
    {
      "cell_type": "code",
      "source": [
        "!ls -lah"
      ],
      "metadata": {
        "trusted": true,
        "colab": {
          "base_uri": "https://localhost:8080/"
        },
        "id": "Qo03EYdayhia",
        "outputId": "97e3accb-4e23-44ba-e9a4-680254271757"
      },
      "execution_count": 25,
      "outputs": [
        {
          "output_type": "stream",
          "name": "stdout",
          "text": [
            "total 24K\n",
            "drwxr-xr-x 1 root root 4.0K Dec 16 15:22 .\n",
            "drwxr-xr-x 1 root root 4.0K Dec 16 15:21 ..\n",
            "drwxr-xr-x 4 root root 4.0K Dec  3 14:33 .config\n",
            "drwx------ 5 root root 4.0K Dec 16 15:20 drive\n",
            "drwxr-xr-x 2 root root 4.0K Dec 16 15:22 .ipynb_checkpoints\n",
            "drwxr-xr-x 1 root root 4.0K Dec  3 14:33 sample_data\n"
          ]
        }
      ]
    },
    {
      "cell_type": "markdown",
      "source": [
        "## Items"
      ],
      "metadata": {
        "id": "07em7UBOyhia"
      }
    },
    {
      "cell_type": "code",
      "source": [
        "df_items.head()"
      ],
      "metadata": {
        "trusted": true,
        "colab": {
          "base_uri": "https://localhost:8080/",
          "height": 204
        },
        "id": "e9Jy4GPIyhib",
        "outputId": "6b4504e4-2a3a-4c7e-e037-d96f6eb6dcf1"
      },
      "execution_count": 26,
      "outputs": [
        {
          "output_type": "execute_result",
          "data": {
            "text/html": [
              "<div>\n",
              "<style scoped>\n",
              "    .dataframe tbody tr th:only-of-type {\n",
              "        vertical-align: middle;\n",
              "    }\n",
              "\n",
              "    .dataframe tbody tr th {\n",
              "        vertical-align: top;\n",
              "    }\n",
              "\n",
              "    .dataframe thead th {\n",
              "        text-align: right;\n",
              "    }\n",
              "</style>\n",
              "<table border=\"1\" class=\"dataframe\">\n",
              "  <thead>\n",
              "    <tr style=\"text-align: right;\">\n",
              "      <th></th>\n",
              "      <th>id</th>\n",
              "      <th>title</th>\n",
              "      <th>genres</th>\n",
              "      <th>authors</th>\n",
              "      <th>year</th>\n",
              "    </tr>\n",
              "  </thead>\n",
              "  <tbody>\n",
              "    <tr>\n",
              "      <th>0</th>\n",
              "      <td>128115</td>\n",
              "      <td>Ворон-челобитчик</td>\n",
              "      <td>Зарубежные детские книги,Сказки,Зарубежная кла...</td>\n",
              "      <td>Михаил Салтыков-Щедрин</td>\n",
              "      <td>1886</td>\n",
              "    </tr>\n",
              "    <tr>\n",
              "      <th>1</th>\n",
              "      <td>210979</td>\n",
              "      <td>Скрипка Ротшильда</td>\n",
              "      <td>Классическая проза,Литература 19 века,Русская ...</td>\n",
              "      <td>Антон Чехов</td>\n",
              "      <td>1894</td>\n",
              "    </tr>\n",
              "    <tr>\n",
              "      <th>2</th>\n",
              "      <td>95632</td>\n",
              "      <td>Испорченные дети</td>\n",
              "      <td>Зарубежная классика,Классическая проза,Литерат...</td>\n",
              "      <td>Михаил Салтыков-Щедрин</td>\n",
              "      <td>1869</td>\n",
              "    </tr>\n",
              "    <tr>\n",
              "      <th>3</th>\n",
              "      <td>247906</td>\n",
              "      <td>Странный человек</td>\n",
              "      <td>Пьесы и драматургия,Литература 19 века</td>\n",
              "      <td>Михаил Лермонтов</td>\n",
              "      <td>1831</td>\n",
              "    </tr>\n",
              "    <tr>\n",
              "      <th>4</th>\n",
              "      <td>294280</td>\n",
              "      <td>Господа ташкентцы</td>\n",
              "      <td>Зарубежная классика,Классическая проза,Литерат...</td>\n",
              "      <td>Михаил Салтыков-Щедрин</td>\n",
              "      <td>1873</td>\n",
              "    </tr>\n",
              "  </tbody>\n",
              "</table>\n",
              "</div>"
            ],
            "text/plain": [
              "       id              title  ...                 authors  year\n",
              "0  128115   Ворон-челобитчик  ...  Михаил Салтыков-Щедрин  1886\n",
              "1  210979  Скрипка Ротшильда  ...             Антон Чехов  1894\n",
              "2   95632   Испорченные дети  ...  Михаил Салтыков-Щедрин  1869\n",
              "3  247906   Странный человек  ...        Михаил Лермонтов  1831\n",
              "4  294280  Господа ташкентцы  ...  Михаил Салтыков-Щедрин  1873\n",
              "\n",
              "[5 rows x 5 columns]"
            ]
          },
          "metadata": {},
          "execution_count": 26
        }
      ]
    },
    {
      "cell_type": "code",
      "source": [
        "df_items.info(memory_usage='full')"
      ],
      "metadata": {
        "trusted": true,
        "colab": {
          "base_uri": "https://localhost:8080/"
        },
        "id": "qCLcxOlRyhib",
        "outputId": "59ba722b-8143-48c3-b6c3-05cdfe5a590a"
      },
      "execution_count": 27,
      "outputs": [
        {
          "output_type": "stream",
          "name": "stdout",
          "text": [
            "<class 'pandas.core.frame.DataFrame'>\n",
            "RangeIndex: 59599 entries, 0 to 59598\n",
            "Data columns (total 5 columns):\n",
            " #   Column   Non-Null Count  Dtype \n",
            "---  ------   --------------  ----- \n",
            " 0   id       59599 non-null  int64 \n",
            " 1   title    59599 non-null  object\n",
            " 2   genres   59568 non-null  object\n",
            " 3   authors  52714 non-null  object\n",
            " 4   year     46720 non-null  object\n",
            "dtypes: int64(1), object(4)\n",
            "memory usage: 2.3+ MB\n"
          ]
        }
      ]
    },
    {
      "cell_type": "code",
      "source": [
        "def num_bytes_format(num_bytes, float_prec=4):\n",
        "    units = ['bytes', 'Kb', 'Mb', 'Gb', 'Tb', 'Pb', 'Eb']\n",
        "    for unit in units[:-1]:\n",
        "        if abs(num_bytes) < 1000:\n",
        "            return f'{num_bytes:.{float_prec}f} {unit}'\n",
        "        num_bytes /= 1000\n",
        "    return f'{num_bytes:.4f} {units[-1]}'"
      ],
      "metadata": {
        "trusted": true,
        "id": "P1_XO0kCyhib"
      },
      "execution_count": 28,
      "outputs": []
    },
    {
      "cell_type": "code",
      "source": [
        "num_bytes = df_items.memory_usage(deep=True).sum()\n",
        "num_bytes_format(num_bytes)"
      ],
      "metadata": {
        "trusted": true,
        "colab": {
          "base_uri": "https://localhost:8080/",
          "height": 35
        },
        "id": "xPCMcJk8yhib",
        "outputId": "a9b14672-7707-4d4e-f990-2d4061aa7895"
      },
      "execution_count": 29,
      "outputs": [
        {
          "output_type": "execute_result",
          "data": {
            "application/vnd.google.colaboratory.intrinsic+json": {
              "type": "string"
            },
            "text/plain": [
              "'28.1660 Mb'"
            ]
          },
          "metadata": {},
          "execution_count": 29
        }
      ]
    },
    {
      "cell_type": "code",
      "source": [
        "df_items.nunique()"
      ],
      "metadata": {
        "trusted": true,
        "colab": {
          "base_uri": "https://localhost:8080/"
        },
        "id": "N_qxBo5fyhib",
        "outputId": "c2800a53-75e4-4157-be1b-4e07d49d7bec"
      },
      "execution_count": 30,
      "outputs": [
        {
          "output_type": "execute_result",
          "data": {
            "text/plain": [
              "id         59599\n",
              "title      57358\n",
              "genres     10769\n",
              "authors    17265\n",
              "year        1053\n",
              "dtype: int64"
            ]
          },
          "metadata": {},
          "execution_count": 30
        }
      ]
    },
    {
      "cell_type": "markdown",
      "source": [
        "Почему колонка `year` типа `object`, а не `int`?"
      ],
      "metadata": {
        "id": "mWrIFGh2yhib"
      }
    },
    {
      "cell_type": "code",
      "source": [
        "df_items['year'].value_counts().tail(25)"
      ],
      "metadata": {
        "_kg_hide-input": true,
        "_kg_hide-output": true,
        "trusted": true,
        "colab": {
          "base_uri": "https://localhost:8080/"
        },
        "id": "ho51l4HRyhic",
        "outputId": "75faf38b-cc64-41a4-bc8f-59e8f57422f0"
      },
      "execution_count": 31,
      "outputs": [
        {
          "output_type": "execute_result",
          "data": {
            "text/plain": [
              "1961-1968                       1\n",
              "1942, 1943, 1945, 1946          1\n",
              "1929-1944                       1\n",
              "1989, 1973                      1\n",
              "1975-93                         1\n",
              "1896, 1897, 1904                1\n",
              "1931, 1929, 1942                1\n",
              "1924-1941                       1\n",
              "1973, 1975, 1990, 2011          1\n",
              "1935, 1952                      1\n",
              "1888-1891                       1\n",
              "1954, 1958                      1\n",
              "1970, 1979                      1\n",
              "IV в. до н.э.                   1\n",
              "1914-1919                       1\n",
              "1881, 1908                      1\n",
              "IX в. до н.э.                   1\n",
              "1937, 2012                      1\n",
              "250                             1\n",
              "1802-1808                       1\n",
              "335–322 до н. э.                1\n",
              "1840-1860                       1\n",
              "1990-2005                       1\n",
              "1924, 1925, 1927, 1933, 1936    1\n",
              "до 1968 г.                      1\n",
              "Name: year, dtype: int64"
            ]
          },
          "metadata": {},
          "execution_count": 31
        }
      ]
    },
    {
      "cell_type": "code",
      "source": [
        "df_items[df_items['year'] == '1898, 1897, 1901']"
      ],
      "metadata": {
        "_kg_hide-input": true,
        "_kg_hide-output": true,
        "trusted": true,
        "colab": {
          "base_uri": "https://localhost:8080/",
          "height": 80
        },
        "id": "gY4KoE4lyhic",
        "outputId": "0f89f375-35c8-4310-9623-c2ba007b3fae"
      },
      "execution_count": 32,
      "outputs": [
        {
          "output_type": "execute_result",
          "data": {
            "text/html": [
              "<div>\n",
              "<style scoped>\n",
              "    .dataframe tbody tr th:only-of-type {\n",
              "        vertical-align: middle;\n",
              "    }\n",
              "\n",
              "    .dataframe tbody tr th {\n",
              "        vertical-align: top;\n",
              "    }\n",
              "\n",
              "    .dataframe thead th {\n",
              "        text-align: right;\n",
              "    }\n",
              "</style>\n",
              "<table border=\"1\" class=\"dataframe\">\n",
              "  <thead>\n",
              "    <tr style=\"text-align: right;\">\n",
              "      <th></th>\n",
              "      <th>id</th>\n",
              "      <th>title</th>\n",
              "      <th>genres</th>\n",
              "      <th>authors</th>\n",
              "      <th>year</th>\n",
              "    </tr>\n",
              "  </thead>\n",
              "  <tbody>\n",
              "    <tr>\n",
              "      <th>44131</th>\n",
              "      <td>273885</td>\n",
              "      <td>«Мальчик, который рисовал кошек» и другие исто...</td>\n",
              "      <td>Ужасы,Мистика,Зарубежная классика,Литература 1...</td>\n",
              "      <td>Лафкадио Хирн</td>\n",
              "      <td>1898, 1897, 1901</td>\n",
              "    </tr>\n",
              "  </tbody>\n",
              "</table>\n",
              "</div>"
            ],
            "text/plain": [
              "           id  ...              year\n",
              "44131  273885  ...  1898, 1897, 1901\n",
              "\n",
              "[1 rows x 5 columns]"
            ]
          },
          "metadata": {},
          "execution_count": 32
        }
      ]
    },
    {
      "cell_type": "code",
      "source": [
        "for col in ['genres', 'authors', 'year']:\n",
        "    df_items[col] = df_items[col].astype('category')"
      ],
      "metadata": {
        "trusted": true,
        "id": "Ynhzmvxdyhic"
      },
      "execution_count": 33,
      "outputs": []
    },
    {
      "cell_type": "code",
      "source": [
        "df_items.info(memory_usage='full')"
      ],
      "metadata": {
        "trusted": true,
        "colab": {
          "base_uri": "https://localhost:8080/"
        },
        "id": "7DKi66yeyhic",
        "outputId": "aa960998-b73e-4ff1-e8dd-d44be5eddc96"
      },
      "execution_count": 34,
      "outputs": [
        {
          "output_type": "stream",
          "name": "stdout",
          "text": [
            "<class 'pandas.core.frame.DataFrame'>\n",
            "RangeIndex: 59599 entries, 0 to 59598\n",
            "Data columns (total 5 columns):\n",
            " #   Column   Non-Null Count  Dtype   \n",
            "---  ------   --------------  -----   \n",
            " 0   id       59599 non-null  int64   \n",
            " 1   title    59599 non-null  object  \n",
            " 2   genres   59568 non-null  category\n",
            " 3   authors  52714 non-null  category\n",
            " 4   year     46720 non-null  category\n",
            "dtypes: category(3), int64(1), object(1)\n",
            "memory usage: 2.4+ MB\n"
          ]
        }
      ]
    },
    {
      "cell_type": "code",
      "source": [
        "num_bytes = df_items.memory_usage(deep=True).sum()\n",
        "num_bytes_format(num_bytes)"
      ],
      "metadata": {
        "trusted": true,
        "colab": {
          "base_uri": "https://localhost:8080/",
          "height": 35
        },
        "id": "ikz7MNhmyhic",
        "outputId": "e587c04d-0aa6-4b9d-ae14-c86e4036ff81"
      },
      "execution_count": 35,
      "outputs": [
        {
          "output_type": "execute_result",
          "data": {
            "application/vnd.google.colaboratory.intrinsic+json": {
              "type": "string"
            },
            "text/plain": [
              "'17.9177 Mb'"
            ]
          },
          "metadata": {},
          "execution_count": 35
        }
      ]
    },
    {
      "cell_type": "code",
      "source": [
        "interaction_items = df['item_id'].unique()\n",
        "\n",
        "common_items = len(np.intersect1d(interaction_items, df_items['id']))\n",
        "items_only_in_interaction = len(np.setdiff1d(interaction_items, df_items['id']))\n",
        "items_only_features = len(np.setdiff1d(df_items['id'], interaction_items))\n",
        "total_items = common_items + items_only_in_interaction + items_only_features\n",
        "print(f'Кол-во книг - {total_items}')\n",
        "print(f'Кол-во книг c взаимодействиями и фичами - {common_items} ({common_items / total_items * 100:.2f}%)')\n",
        "print(f'Кол-во книг только c взаимодействиями - {items_only_in_interaction} ({items_only_in_interaction / total_items * 100:.2f}%)')\n",
        "print(f'Кол-во книг только c фичами - {items_only_features} ({items_only_features / total_items * 100:.2f}%)')"
      ],
      "metadata": {
        "trusted": true,
        "colab": {
          "base_uri": "https://localhost:8080/"
        },
        "id": "Hx6Offcvyhid",
        "outputId": "59d780a6-8f5f-49ff-fae4-67cf5ef3f4aa"
      },
      "execution_count": 36,
      "outputs": [
        {
          "output_type": "stream",
          "name": "stdout",
          "text": [
            "Кол-во книг - 59599\n",
            "Кол-во книг c взаимодействиями и фичами - 59599 (100.00%)\n",
            "Кол-во книг только c взаимодействиями - 0 (0.00%)\n",
            "Кол-во книг только c фичами - 0 (0.00%)\n"
          ]
        }
      ]
    },
    {
      "cell_type": "code",
      "source": [
        "df_items.to_pickle('../gdrive/ML/kaggle/output/items_preprocessed.pickle')"
      ],
      "metadata": {
        "trusted": true,
        "id": "61uMuby2yhid"
      },
      "execution_count": 37,
      "outputs": []
    },
    {
      "cell_type": "code",
      "source": [
        "!ls -lah"
      ],
      "metadata": {
        "trusted": true,
        "colab": {
          "base_uri": "https://localhost:8080/"
        },
        "id": "aeMgVNTOyhid",
        "outputId": "430c5be0-b929-4f5a-9f86-e9229ef72f4b"
      },
      "execution_count": 38,
      "outputs": [
        {
          "output_type": "stream",
          "name": "stdout",
          "text": [
            "total 24K\n",
            "drwxr-xr-x 1 root root 4.0K Dec 16 15:22 .\n",
            "drwxr-xr-x 1 root root 4.0K Dec 16 15:21 ..\n",
            "drwxr-xr-x 4 root root 4.0K Dec  3 14:33 .config\n",
            "drwx------ 5 root root 4.0K Dec 16 15:20 drive\n",
            "drwxr-xr-x 2 root root 4.0K Dec 16 15:22 .ipynb_checkpoints\n",
            "drwxr-xr-x 1 root root 4.0K Dec  3 14:33 sample_data\n"
          ]
        }
      ]
    },
    {
      "cell_type": "markdown",
      "source": [
        "<a id=\"general-marks\"></a>\n",
        "# General marks\n",
        "\n",
        "Основная цель валидации - оценить качество модели перед внедрением в \"продакшен\" или сабмитом в соревновании. Отсюда вытекает одно из самых важных требование к процессу валидации - *схема должна максимально точно воспроизводить условия, в которых модель будет использоваться.* Это касается как продакшена, так и соревнований, причем не только в рекомендательных системах, а в любой задаче машинного обучения. **Правильная валидация - ключ к успеху** :)\n",
        "\n",
        "Ключевые вопросы, на которые надо ответить:\n",
        "* Что хотим от модели?\n",
        "    * Предсказанное значение для пары пользователь-объект (рейтинг или вероятность)\n",
        "    * Ранжирование объектов для пользователя (топ фильмов)\n",
        "* Как будет использоваться модель? \n",
        "    * Рекомендации будут считаться батчами раз в период (1 раз в день)\n",
        "    * Онлайн-рекомендации\n",
        "    * Связь бизнес-метрик с оффлайн-метриками\n",
        "* Какие технические ограничения?\n",
        "    * По времени построения как системы в целом, так и отдельных рекомендаций (чем меньше \"железа\", тем проще должна быть модель)\n",
        "    * Какие данные будут доступны в онлайн-режиме\n",
        "* Как есть особенности у задачи?\n",
        "    * Рекомендуем ли для пользователя объекты, с которым он уже взаимодействовал (для фильмов или книг - скорее всего нет, для продуктового ритейла - может быть и да)\n",
        "    * Cold-start - как много появится пользователей или объектов, для которых не известная история по взаимодействиям\n",
        "    * Как много взаимодействий по пользователям есть в данных"
      ],
      "metadata": {
        "id": "Nv6MEXAtyhid"
      }
    },
    {
      "cell_type": "markdown",
      "source": [
        "<a id=\"metrics\"></a>\n",
        "# Metrics\n",
        "\n",
        "Как это водится в машинном обучении, для подсчета метрик нам нужно два массива: правильный ответы и предсказанные ответы.\n",
        "И если в классическом машинном обучении это действительно два массива, то в рекомендательных системах нам нужна структура, которая в качевстве ключа или индекса будет содержать пары пользователь-объект.\n",
        "\n",
        "В качестве такой структуры вполне подойдет уже известный pandas.DataFrame. \n",
        "Правильные метки (true) мы можем представить в виде dataframe со следующими столбцами:\n",
        "* user_id - ID пользователя\n",
        "* item_id - ID объекта\n",
        "* value - оценка взаимодействия (опционально, может и не быть, если мы, например, за взаимодействие берем просто клик или факт покупки)\n",
        "\n",
        "Соответственно, рекомендации/предсказания (recs) в следующем:\n",
        "* user_id - ID пользователя\n",
        "* item_id - ID объекта\n",
        "* value - предсказанная оценка взаимодействия \n",
        "    * Численная оценка, например рейтинг\n",
        "    * Позиция, если мы ранжируем контент\n",
        "    \n",
        "Для подсчета метрик мы можем объединить эти два датафрема по `(user_id, item_id)`. В качестве метода объединения можно использовать методы join/merge из pandas.DataFrame."
      ],
      "metadata": {
        "id": "8GyFIO_hyhie"
      }
    },
    {
      "cell_type": "markdown",
      "source": [
        "<a id=\"regression\"></a>\n",
        "## Regression\n",
        "\n",
        "Эти метрики оценивают качество предсказанных численных оценок. Примеры метрик:\n",
        "* Mean Squared Error - среднеквадратичная ошибка\n",
        "* Root Mean Squared Error - корень из среднеквадратичной ошибки\n",
        "* Mean Absolute Error - средний ошибка по модулю\n",
        "![image.png](attachment:image.png)\n",
        "Эти метрики показываются, как хорошо модель \"восстанавливает\" какие-то численные оценки, но не то, насколько хороши рекомендации"
      ],
      "metadata": {
        "id": "o0mTn31Ayhie"
      }
    },
    {
      "cell_type": "code",
      "source": [
        "df_true = pd.DataFrame({\n",
        "    'user_id': ['Аня',                'Боря',               'Вася',         'Вася'],\n",
        "    'item_id': ['Мастер и Маргарита', '451° по Фаренгейту', 'Зеленая миля', 'Рита Хейуорт и спасение из Шоушенка'],\n",
        "    'value':   [4,                    5,                    3,            5]\n",
        "})\n",
        "df_true"
      ],
      "metadata": {
        "trusted": true,
        "colab": {
          "base_uri": "https://localhost:8080/",
          "height": 173
        },
        "id": "sO7jNLQqyhie",
        "outputId": "d90ef311-558b-4ca5-85d9-68f90f13e253"
      },
      "execution_count": 39,
      "outputs": [
        {
          "output_type": "execute_result",
          "data": {
            "text/html": [
              "<div>\n",
              "<style scoped>\n",
              "    .dataframe tbody tr th:only-of-type {\n",
              "        vertical-align: middle;\n",
              "    }\n",
              "\n",
              "    .dataframe tbody tr th {\n",
              "        vertical-align: top;\n",
              "    }\n",
              "\n",
              "    .dataframe thead th {\n",
              "        text-align: right;\n",
              "    }\n",
              "</style>\n",
              "<table border=\"1\" class=\"dataframe\">\n",
              "  <thead>\n",
              "    <tr style=\"text-align: right;\">\n",
              "      <th></th>\n",
              "      <th>user_id</th>\n",
              "      <th>item_id</th>\n",
              "      <th>value</th>\n",
              "    </tr>\n",
              "  </thead>\n",
              "  <tbody>\n",
              "    <tr>\n",
              "      <th>0</th>\n",
              "      <td>Аня</td>\n",
              "      <td>Мастер и Маргарита</td>\n",
              "      <td>4</td>\n",
              "    </tr>\n",
              "    <tr>\n",
              "      <th>1</th>\n",
              "      <td>Боря</td>\n",
              "      <td>451° по Фаренгейту</td>\n",
              "      <td>5</td>\n",
              "    </tr>\n",
              "    <tr>\n",
              "      <th>2</th>\n",
              "      <td>Вася</td>\n",
              "      <td>Зеленая миля</td>\n",
              "      <td>3</td>\n",
              "    </tr>\n",
              "    <tr>\n",
              "      <th>3</th>\n",
              "      <td>Вася</td>\n",
              "      <td>Рита Хейуорт и спасение из Шоушенка</td>\n",
              "      <td>5</td>\n",
              "    </tr>\n",
              "  </tbody>\n",
              "</table>\n",
              "</div>"
            ],
            "text/plain": [
              "  user_id                              item_id  value\n",
              "0     Аня                   Мастер и Маргарита      4\n",
              "1    Боря                   451° по Фаренгейту      5\n",
              "2    Вася                         Зеленая миля      3\n",
              "3    Вася  Рита Хейуорт и спасение из Шоушенка      5"
            ]
          },
          "metadata": {},
          "execution_count": 39
        }
      ]
    },
    {
      "cell_type": "code",
      "source": [
        "df_recs = pd.DataFrame({\n",
        "    'user_id': ['Аня',                'Боря',               'Вася',         'Вася'],\n",
        "    'item_id': ['Мастер и Маргарита', '451° по Фаренгейту', 'Зеленая миля', 'Рита Хейуорт и спасение из Шоушенка'],\n",
        "    'value':   [3.28,                 3.5,                  4.06,           4.73]\n",
        "})\n",
        "df_recs"
      ],
      "metadata": {
        "trusted": true,
        "colab": {
          "base_uri": "https://localhost:8080/",
          "height": 173
        },
        "id": "CMDtSnb-yhie",
        "outputId": "624b6b57-2ae7-4b52-961e-4194ecf56483"
      },
      "execution_count": 40,
      "outputs": [
        {
          "output_type": "execute_result",
          "data": {
            "text/html": [
              "<div>\n",
              "<style scoped>\n",
              "    .dataframe tbody tr th:only-of-type {\n",
              "        vertical-align: middle;\n",
              "    }\n",
              "\n",
              "    .dataframe tbody tr th {\n",
              "        vertical-align: top;\n",
              "    }\n",
              "\n",
              "    .dataframe thead th {\n",
              "        text-align: right;\n",
              "    }\n",
              "</style>\n",
              "<table border=\"1\" class=\"dataframe\">\n",
              "  <thead>\n",
              "    <tr style=\"text-align: right;\">\n",
              "      <th></th>\n",
              "      <th>user_id</th>\n",
              "      <th>item_id</th>\n",
              "      <th>value</th>\n",
              "    </tr>\n",
              "  </thead>\n",
              "  <tbody>\n",
              "    <tr>\n",
              "      <th>0</th>\n",
              "      <td>Аня</td>\n",
              "      <td>Мастер и Маргарита</td>\n",
              "      <td>3.28</td>\n",
              "    </tr>\n",
              "    <tr>\n",
              "      <th>1</th>\n",
              "      <td>Боря</td>\n",
              "      <td>451° по Фаренгейту</td>\n",
              "      <td>3.50</td>\n",
              "    </tr>\n",
              "    <tr>\n",
              "      <th>2</th>\n",
              "      <td>Вася</td>\n",
              "      <td>Зеленая миля</td>\n",
              "      <td>4.06</td>\n",
              "    </tr>\n",
              "    <tr>\n",
              "      <th>3</th>\n",
              "      <td>Вася</td>\n",
              "      <td>Рита Хейуорт и спасение из Шоушенка</td>\n",
              "      <td>4.73</td>\n",
              "    </tr>\n",
              "  </tbody>\n",
              "</table>\n",
              "</div>"
            ],
            "text/plain": [
              "  user_id                              item_id  value\n",
              "0     Аня                   Мастер и Маргарита   3.28\n",
              "1    Боря                   451° по Фаренгейту   3.50\n",
              "2    Вася                         Зеленая миля   4.06\n",
              "3    Вася  Рита Хейуорт и спасение из Шоушенка   4.73"
            ]
          },
          "metadata": {},
          "execution_count": 40
        }
      ]
    },
    {
      "cell_type": "code",
      "source": [
        "df_true = df_true.set_index(['user_id', 'item_id'])\n",
        "df_recs = df_recs.set_index(['user_id', 'item_id'])\n",
        "\n",
        "df_merged = df_true.join(df_recs, how='left', lsuffix='_true', rsuffix='_recs')\n",
        "df_merged"
      ],
      "metadata": {
        "trusted": true,
        "colab": {
          "base_uri": "https://localhost:8080/",
          "height": 204
        },
        "id": "fjp-cHu3yhie",
        "outputId": "c9170992-7917-4c30-916b-fe164551ec33"
      },
      "execution_count": 41,
      "outputs": [
        {
          "output_type": "execute_result",
          "data": {
            "text/html": [
              "<div>\n",
              "<style scoped>\n",
              "    .dataframe tbody tr th:only-of-type {\n",
              "        vertical-align: middle;\n",
              "    }\n",
              "\n",
              "    .dataframe tbody tr th {\n",
              "        vertical-align: top;\n",
              "    }\n",
              "\n",
              "    .dataframe thead th {\n",
              "        text-align: right;\n",
              "    }\n",
              "</style>\n",
              "<table border=\"1\" class=\"dataframe\">\n",
              "  <thead>\n",
              "    <tr style=\"text-align: right;\">\n",
              "      <th></th>\n",
              "      <th></th>\n",
              "      <th>value_true</th>\n",
              "      <th>value_recs</th>\n",
              "    </tr>\n",
              "    <tr>\n",
              "      <th>user_id</th>\n",
              "      <th>item_id</th>\n",
              "      <th></th>\n",
              "      <th></th>\n",
              "    </tr>\n",
              "  </thead>\n",
              "  <tbody>\n",
              "    <tr>\n",
              "      <th>Аня</th>\n",
              "      <th>Мастер и Маргарита</th>\n",
              "      <td>4</td>\n",
              "      <td>3.28</td>\n",
              "    </tr>\n",
              "    <tr>\n",
              "      <th>Боря</th>\n",
              "      <th>451° по Фаренгейту</th>\n",
              "      <td>5</td>\n",
              "      <td>3.50</td>\n",
              "    </tr>\n",
              "    <tr>\n",
              "      <th rowspan=\"2\" valign=\"top\">Вася</th>\n",
              "      <th>Зеленая миля</th>\n",
              "      <td>3</td>\n",
              "      <td>4.06</td>\n",
              "    </tr>\n",
              "    <tr>\n",
              "      <th>Рита Хейуорт и спасение из Шоушенка</th>\n",
              "      <td>5</td>\n",
              "      <td>4.73</td>\n",
              "    </tr>\n",
              "  </tbody>\n",
              "</table>\n",
              "</div>"
            ],
            "text/plain": [
              "                                             value_true  value_recs\n",
              "user_id item_id                                                    \n",
              "Аня     Мастер и Маргарита                            4        3.28\n",
              "Боря    451° по Фаренгейту                            5        3.50\n",
              "Вася    Зеленая миля                                  3        4.06\n",
              "        Рита Хейуорт и спасение из Шоушенка           5        4.73"
            ]
          },
          "metadata": {},
          "execution_count": 41
        }
      ]
    },
    {
      "cell_type": "code",
      "source": [
        "df_merged['MAE'] = (df_merged['value_true'] - df_merged['value_recs']).abs()\n",
        "df_merged['MSE'] = (df_merged['value_true'] - df_merged['value_recs']) ** 2\n",
        "df_merged"
      ],
      "metadata": {
        "trusted": true,
        "colab": {
          "base_uri": "https://localhost:8080/",
          "height": 204
        },
        "id": "Xdv5LhLdyhie",
        "outputId": "b20b1f91-acdb-42d6-f903-e1a810b102a6"
      },
      "execution_count": 42,
      "outputs": [
        {
          "output_type": "execute_result",
          "data": {
            "text/html": [
              "<div>\n",
              "<style scoped>\n",
              "    .dataframe tbody tr th:only-of-type {\n",
              "        vertical-align: middle;\n",
              "    }\n",
              "\n",
              "    .dataframe tbody tr th {\n",
              "        vertical-align: top;\n",
              "    }\n",
              "\n",
              "    .dataframe thead th {\n",
              "        text-align: right;\n",
              "    }\n",
              "</style>\n",
              "<table border=\"1\" class=\"dataframe\">\n",
              "  <thead>\n",
              "    <tr style=\"text-align: right;\">\n",
              "      <th></th>\n",
              "      <th></th>\n",
              "      <th>value_true</th>\n",
              "      <th>value_recs</th>\n",
              "      <th>MAE</th>\n",
              "      <th>MSE</th>\n",
              "    </tr>\n",
              "    <tr>\n",
              "      <th>user_id</th>\n",
              "      <th>item_id</th>\n",
              "      <th></th>\n",
              "      <th></th>\n",
              "      <th></th>\n",
              "      <th></th>\n",
              "    </tr>\n",
              "  </thead>\n",
              "  <tbody>\n",
              "    <tr>\n",
              "      <th>Аня</th>\n",
              "      <th>Мастер и Маргарита</th>\n",
              "      <td>4</td>\n",
              "      <td>3.28</td>\n",
              "      <td>0.72</td>\n",
              "      <td>0.5184</td>\n",
              "    </tr>\n",
              "    <tr>\n",
              "      <th>Боря</th>\n",
              "      <th>451° по Фаренгейту</th>\n",
              "      <td>5</td>\n",
              "      <td>3.50</td>\n",
              "      <td>1.50</td>\n",
              "      <td>2.2500</td>\n",
              "    </tr>\n",
              "    <tr>\n",
              "      <th rowspan=\"2\" valign=\"top\">Вася</th>\n",
              "      <th>Зеленая миля</th>\n",
              "      <td>3</td>\n",
              "      <td>4.06</td>\n",
              "      <td>1.06</td>\n",
              "      <td>1.1236</td>\n",
              "    </tr>\n",
              "    <tr>\n",
              "      <th>Рита Хейуорт и спасение из Шоушенка</th>\n",
              "      <td>5</td>\n",
              "      <td>4.73</td>\n",
              "      <td>0.27</td>\n",
              "      <td>0.0729</td>\n",
              "    </tr>\n",
              "  </tbody>\n",
              "</table>\n",
              "</div>"
            ],
            "text/plain": [
              "                                             value_true  ...     MSE\n",
              "user_id item_id                                          ...        \n",
              "Аня     Мастер и Маргарита                            4  ...  0.5184\n",
              "Боря    451° по Фаренгейту                            5  ...  2.2500\n",
              "Вася    Зеленая миля                                  3  ...  1.1236\n",
              "        Рита Хейуорт и спасение из Шоушенка           5  ...  0.0729\n",
              "\n",
              "[4 rows x 4 columns]"
            ]
          },
          "metadata": {},
          "execution_count": 42
        }
      ]
    },
    {
      "cell_type": "code",
      "source": [
        "print(f\"MAE  - {df_merged['MAE'].mean():.4f}\")\n",
        "print(f\"MSE  - {df_merged['MSE'].mean():.4f}\")\n",
        "print(f\"RMSE - {np.sqrt(df_merged['MSE'].mean()):.4f}\")"
      ],
      "metadata": {
        "trusted": true,
        "colab": {
          "base_uri": "https://localhost:8080/"
        },
        "id": "i3gagE40yhif",
        "outputId": "7c1100c0-b018-485e-a167-66cbf4f0ae23"
      },
      "execution_count": 43,
      "outputs": [
        {
          "output_type": "stream",
          "name": "stdout",
          "text": [
            "MAE  - 0.8875\n",
            "MSE  - 0.9912\n",
            "RMSE - 0.9956\n"
          ]
        }
      ]
    },
    {
      "cell_type": "markdown",
      "source": [
        "<a id=\"classification\"></a>\n",
        "## Classification\n",
        "\n",
        "Эти метрики оценивают качество топ-N рекомендаций. В рекомендательные системы напрямую перекочевали из методов оценки качества бинарной классификации.\n",
        "Все считается на основе 4 базовых случаев:\n",
        "* True positive  (TP) - модель рекомендовала объект, с которым пользователь провзаимодействовал\n",
        "* False positive (FP) - модель рекомендовала объект, с которым пользователь не провзаимодействовал\n",
        "* True negative  (TN) - модель не рекомендовала объект, с которым пользователь не провзаимодействовал\n",
        "* False negative (FN) - модель не рекомендовала объект, с которым пользователь провзаимодействовал\n",
        "\n",
        "Что из этого всего важней? В первую очередь это True positive. Мы хотим строить наиболее релевантные рекомендации для пользователя. \n",
        "Во вторую очередь это False negative, опять же потому, что мы не хотим, чтобы модель \"теряла\" релевантные рекомендации.\n",
        "\n",
        "А что с FP и TN? На самом деле, эти величины не показательны. Они обычно очень больше, так как пользователи взаимодействуют с очень малым количество объектов относительно общего числа объектов.\n",
        "И практика показывает, что этими значениями можно пренебречь.\n",
        "\n",
        "Для измерения доли TP и FN применяются следующие метрики:\n",
        "* **Precision@K** - доля релевантных рекомендаций среди всех рекомендаций\n",
        "    * Формула - `TP / (TP + FP)`\n",
        "    * Можно заметить, что под positives мы понимаем рекомендованные объекты, то есть наш топ-К, значит `TP + FP = K`\n",
        "    * Итоговая формула - `TP / K`\n",
        "    * Считаем по каждому пользователю и для некторых К\n",
        "    * Усредняем по всем пользователя\n",
        "* **Recall@K** - доля релевантных рекомендаций среди всех релевантных объектов\n",
        "    * Формула - `TP / (TP + FN)`\n",
        "    * `TP + FN` это количество известных релевантых объектов для пользователя\n",
        "    * Считаем по каждому пользователю и для некторых К\n",
        "    * Усредняем по всем пользователя\n",
        "\n",
        "Это основные метрики, но на основе TP, FP, TN, FN можно посчитать все что угодно :)\n",
        "![image.png](attachment:image.png)\n",
        "Источник - [confusion matrix](https://en.wikipedia.org/wiki/Confusion_matrix)"
      ],
      "metadata": {
        "id": "MiZ4ZBDeyhif"
      }
    },
    {
      "cell_type": "code",
      "source": [
        "df_true = pd.DataFrame({\n",
        "    'user_id': ['Аня',                'Боря',               'Вася',         'Вася'],\n",
        "    'item_id': ['Мастер и Маргарита', '451° по Фаренгейту', 'Зеленая миля', 'Рита Хейуорт и спасение из Шоушенка'],\n",
        "})\n",
        "df_true"
      ],
      "metadata": {
        "trusted": true,
        "colab": {
          "base_uri": "https://localhost:8080/",
          "height": 173
        },
        "id": "62paPsAKyhif",
        "outputId": "8025c5db-abc0-401d-d8a0-b1def45162a9"
      },
      "execution_count": 44,
      "outputs": [
        {
          "output_type": "execute_result",
          "data": {
            "text/html": [
              "<div>\n",
              "<style scoped>\n",
              "    .dataframe tbody tr th:only-of-type {\n",
              "        vertical-align: middle;\n",
              "    }\n",
              "\n",
              "    .dataframe tbody tr th {\n",
              "        vertical-align: top;\n",
              "    }\n",
              "\n",
              "    .dataframe thead th {\n",
              "        text-align: right;\n",
              "    }\n",
              "</style>\n",
              "<table border=\"1\" class=\"dataframe\">\n",
              "  <thead>\n",
              "    <tr style=\"text-align: right;\">\n",
              "      <th></th>\n",
              "      <th>user_id</th>\n",
              "      <th>item_id</th>\n",
              "    </tr>\n",
              "  </thead>\n",
              "  <tbody>\n",
              "    <tr>\n",
              "      <th>0</th>\n",
              "      <td>Аня</td>\n",
              "      <td>Мастер и Маргарита</td>\n",
              "    </tr>\n",
              "    <tr>\n",
              "      <th>1</th>\n",
              "      <td>Боря</td>\n",
              "      <td>451° по Фаренгейту</td>\n",
              "    </tr>\n",
              "    <tr>\n",
              "      <th>2</th>\n",
              "      <td>Вася</td>\n",
              "      <td>Зеленая миля</td>\n",
              "    </tr>\n",
              "    <tr>\n",
              "      <th>3</th>\n",
              "      <td>Вася</td>\n",
              "      <td>Рита Хейуорт и спасение из Шоушенка</td>\n",
              "    </tr>\n",
              "  </tbody>\n",
              "</table>\n",
              "</div>"
            ],
            "text/plain": [
              "  user_id                              item_id\n",
              "0     Аня                   Мастер и Маргарита\n",
              "1    Боря                   451° по Фаренгейту\n",
              "2    Вася                         Зеленая миля\n",
              "3    Вася  Рита Хейуорт и спасение из Шоушенка"
            ]
          },
          "metadata": {},
          "execution_count": 44
        }
      ]
    },
    {
      "cell_type": "code",
      "source": [
        "df_recs = pd.DataFrame({\n",
        "    'user_id': [\n",
        "        'Аня', 'Аня', 'Аня', \n",
        "        'Боря', 'Боря', 'Боря', \n",
        "        'Вася', 'Вася', 'Вася',\n",
        "    ],\n",
        "    'item_id': [\n",
        "        'Отверженные', 'Двенадцать стульев', 'Герои нашего времени', \n",
        "        '451° по Фаренгейту', '1984', 'О дивный новый мир',\n",
        "        'Десять негритят', 'Искра жизни', 'Зеленая миля', \n",
        "    ],\n",
        "    'rank': [\n",
        "        1, 2, 3,\n",
        "        1, 2, 3,\n",
        "        1, 2, 3,\n",
        "    ]\n",
        "})\n",
        "df_recs"
      ],
      "metadata": {
        "trusted": true,
        "colab": {
          "base_uri": "https://localhost:8080/",
          "height": 328
        },
        "id": "CCuYomJ7yhif",
        "outputId": "f78c3f1a-52e0-438c-8fcb-8b2830a355ee"
      },
      "execution_count": 45,
      "outputs": [
        {
          "output_type": "execute_result",
          "data": {
            "text/html": [
              "<div>\n",
              "<style scoped>\n",
              "    .dataframe tbody tr th:only-of-type {\n",
              "        vertical-align: middle;\n",
              "    }\n",
              "\n",
              "    .dataframe tbody tr th {\n",
              "        vertical-align: top;\n",
              "    }\n",
              "\n",
              "    .dataframe thead th {\n",
              "        text-align: right;\n",
              "    }\n",
              "</style>\n",
              "<table border=\"1\" class=\"dataframe\">\n",
              "  <thead>\n",
              "    <tr style=\"text-align: right;\">\n",
              "      <th></th>\n",
              "      <th>user_id</th>\n",
              "      <th>item_id</th>\n",
              "      <th>rank</th>\n",
              "    </tr>\n",
              "  </thead>\n",
              "  <tbody>\n",
              "    <tr>\n",
              "      <th>0</th>\n",
              "      <td>Аня</td>\n",
              "      <td>Отверженные</td>\n",
              "      <td>1</td>\n",
              "    </tr>\n",
              "    <tr>\n",
              "      <th>1</th>\n",
              "      <td>Аня</td>\n",
              "      <td>Двенадцать стульев</td>\n",
              "      <td>2</td>\n",
              "    </tr>\n",
              "    <tr>\n",
              "      <th>2</th>\n",
              "      <td>Аня</td>\n",
              "      <td>Герои нашего времени</td>\n",
              "      <td>3</td>\n",
              "    </tr>\n",
              "    <tr>\n",
              "      <th>3</th>\n",
              "      <td>Боря</td>\n",
              "      <td>451° по Фаренгейту</td>\n",
              "      <td>1</td>\n",
              "    </tr>\n",
              "    <tr>\n",
              "      <th>4</th>\n",
              "      <td>Боря</td>\n",
              "      <td>1984</td>\n",
              "      <td>2</td>\n",
              "    </tr>\n",
              "    <tr>\n",
              "      <th>5</th>\n",
              "      <td>Боря</td>\n",
              "      <td>О дивный новый мир</td>\n",
              "      <td>3</td>\n",
              "    </tr>\n",
              "    <tr>\n",
              "      <th>6</th>\n",
              "      <td>Вася</td>\n",
              "      <td>Десять негритят</td>\n",
              "      <td>1</td>\n",
              "    </tr>\n",
              "    <tr>\n",
              "      <th>7</th>\n",
              "      <td>Вася</td>\n",
              "      <td>Искра жизни</td>\n",
              "      <td>2</td>\n",
              "    </tr>\n",
              "    <tr>\n",
              "      <th>8</th>\n",
              "      <td>Вася</td>\n",
              "      <td>Зеленая миля</td>\n",
              "      <td>3</td>\n",
              "    </tr>\n",
              "  </tbody>\n",
              "</table>\n",
              "</div>"
            ],
            "text/plain": [
              "  user_id               item_id  rank\n",
              "0     Аня           Отверженные     1\n",
              "1     Аня    Двенадцать стульев     2\n",
              "2     Аня  Герои нашего времени     3\n",
              "3    Боря    451° по Фаренгейту     1\n",
              "4    Боря                  1984     2\n",
              "5    Боря    О дивный новый мир     3\n",
              "6    Вася       Десять негритят     1\n",
              "7    Вася           Искра жизни     2\n",
              "8    Вася          Зеленая миля     3"
            ]
          },
          "metadata": {},
          "execution_count": 45
        }
      ]
    },
    {
      "cell_type": "code",
      "source": [
        "df_merged = df_true.set_index(['user_id', 'item_id']).join(df_recs.set_index(['user_id', 'item_id']), how='left')\n",
        "df_merged"
      ],
      "metadata": {
        "trusted": true,
        "colab": {
          "base_uri": "https://localhost:8080/",
          "height": 204
        },
        "id": "StTMqGVLyhif",
        "outputId": "e96fc1ca-b457-4901-81e5-c6baf5fabbfd"
      },
      "execution_count": 46,
      "outputs": [
        {
          "output_type": "execute_result",
          "data": {
            "text/html": [
              "<div>\n",
              "<style scoped>\n",
              "    .dataframe tbody tr th:only-of-type {\n",
              "        vertical-align: middle;\n",
              "    }\n",
              "\n",
              "    .dataframe tbody tr th {\n",
              "        vertical-align: top;\n",
              "    }\n",
              "\n",
              "    .dataframe thead th {\n",
              "        text-align: right;\n",
              "    }\n",
              "</style>\n",
              "<table border=\"1\" class=\"dataframe\">\n",
              "  <thead>\n",
              "    <tr style=\"text-align: right;\">\n",
              "      <th></th>\n",
              "      <th></th>\n",
              "      <th>rank</th>\n",
              "    </tr>\n",
              "    <tr>\n",
              "      <th>user_id</th>\n",
              "      <th>item_id</th>\n",
              "      <th></th>\n",
              "    </tr>\n",
              "  </thead>\n",
              "  <tbody>\n",
              "    <tr>\n",
              "      <th>Аня</th>\n",
              "      <th>Мастер и Маргарита</th>\n",
              "      <td>NaN</td>\n",
              "    </tr>\n",
              "    <tr>\n",
              "      <th>Боря</th>\n",
              "      <th>451° по Фаренгейту</th>\n",
              "      <td>1.0</td>\n",
              "    </tr>\n",
              "    <tr>\n",
              "      <th rowspan=\"2\" valign=\"top\">Вася</th>\n",
              "      <th>Зеленая миля</th>\n",
              "      <td>3.0</td>\n",
              "    </tr>\n",
              "    <tr>\n",
              "      <th>Рита Хейуорт и спасение из Шоушенка</th>\n",
              "      <td>NaN</td>\n",
              "    </tr>\n",
              "  </tbody>\n",
              "</table>\n",
              "</div>"
            ],
            "text/plain": [
              "                                             rank\n",
              "user_id item_id                                  \n",
              "Аня     Мастер и Маргарита                    NaN\n",
              "Боря    451° по Фаренгейту                    1.0\n",
              "Вася    Зеленая миля                          3.0\n",
              "        Рита Хейуорт и спасение из Шоушенка   NaN"
            ]
          },
          "metadata": {},
          "execution_count": 46
        }
      ]
    },
    {
      "cell_type": "markdown",
      "source": [
        "Вначале посчитаем метрик для топ-2 (т.е. К = 2). Алгоритм следующий:\n",
        "* Релевантные объекты, которые не были рекомендованы игнорируем (NaN)\n",
        "* Определяем, какие релеватные рекомендации попали в топ-2 (hit)\n",
        "    * True positive для каждого пользователя\n",
        "* Делим TP на K  \n",
        "* Считаем Precision@K для каждого пользователя как сумму его TP/K\n",
        "* Все Precision@K усредняем"
      ],
      "metadata": {
        "id": "auInsoe4yhif"
      }
    },
    {
      "cell_type": "code",
      "source": [
        "df_merged['hit@2'] = df_merged['rank'] <= 2\n",
        "df_merged"
      ],
      "metadata": {
        "trusted": true,
        "colab": {
          "base_uri": "https://localhost:8080/",
          "height": 204
        },
        "id": "j-r4N-euyhig",
        "outputId": "ba8f48db-8f31-43a9-bfb5-599034366938"
      },
      "execution_count": 47,
      "outputs": [
        {
          "output_type": "execute_result",
          "data": {
            "text/html": [
              "<div>\n",
              "<style scoped>\n",
              "    .dataframe tbody tr th:only-of-type {\n",
              "        vertical-align: middle;\n",
              "    }\n",
              "\n",
              "    .dataframe tbody tr th {\n",
              "        vertical-align: top;\n",
              "    }\n",
              "\n",
              "    .dataframe thead th {\n",
              "        text-align: right;\n",
              "    }\n",
              "</style>\n",
              "<table border=\"1\" class=\"dataframe\">\n",
              "  <thead>\n",
              "    <tr style=\"text-align: right;\">\n",
              "      <th></th>\n",
              "      <th></th>\n",
              "      <th>rank</th>\n",
              "      <th>hit@2</th>\n",
              "    </tr>\n",
              "    <tr>\n",
              "      <th>user_id</th>\n",
              "      <th>item_id</th>\n",
              "      <th></th>\n",
              "      <th></th>\n",
              "    </tr>\n",
              "  </thead>\n",
              "  <tbody>\n",
              "    <tr>\n",
              "      <th>Аня</th>\n",
              "      <th>Мастер и Маргарита</th>\n",
              "      <td>NaN</td>\n",
              "      <td>False</td>\n",
              "    </tr>\n",
              "    <tr>\n",
              "      <th>Боря</th>\n",
              "      <th>451° по Фаренгейту</th>\n",
              "      <td>1.0</td>\n",
              "      <td>True</td>\n",
              "    </tr>\n",
              "    <tr>\n",
              "      <th rowspan=\"2\" valign=\"top\">Вася</th>\n",
              "      <th>Зеленая миля</th>\n",
              "      <td>3.0</td>\n",
              "      <td>False</td>\n",
              "    </tr>\n",
              "    <tr>\n",
              "      <th>Рита Хейуорт и спасение из Шоушенка</th>\n",
              "      <td>NaN</td>\n",
              "      <td>False</td>\n",
              "    </tr>\n",
              "  </tbody>\n",
              "</table>\n",
              "</div>"
            ],
            "text/plain": [
              "                                             rank  hit@2\n",
              "user_id item_id                                         \n",
              "Аня     Мастер и Маргарита                    NaN  False\n",
              "Боря    451° по Фаренгейту                    1.0   True\n",
              "Вася    Зеленая миля                          3.0  False\n",
              "        Рита Хейуорт и спасение из Шоушенка   NaN  False"
            ]
          },
          "metadata": {},
          "execution_count": 47
        }
      ]
    },
    {
      "cell_type": "code",
      "source": [
        "df_merged['hit@2/2'] = df_merged['hit@2'] / 2\n",
        "df_merged"
      ],
      "metadata": {
        "trusted": true,
        "colab": {
          "base_uri": "https://localhost:8080/",
          "height": 204
        },
        "id": "lJ0mM6ACyhig",
        "outputId": "7cc11853-bb8e-4cea-c07b-7d974ed4fd45"
      },
      "execution_count": 48,
      "outputs": [
        {
          "output_type": "execute_result",
          "data": {
            "text/html": [
              "<div>\n",
              "<style scoped>\n",
              "    .dataframe tbody tr th:only-of-type {\n",
              "        vertical-align: middle;\n",
              "    }\n",
              "\n",
              "    .dataframe tbody tr th {\n",
              "        vertical-align: top;\n",
              "    }\n",
              "\n",
              "    .dataframe thead th {\n",
              "        text-align: right;\n",
              "    }\n",
              "</style>\n",
              "<table border=\"1\" class=\"dataframe\">\n",
              "  <thead>\n",
              "    <tr style=\"text-align: right;\">\n",
              "      <th></th>\n",
              "      <th></th>\n",
              "      <th>rank</th>\n",
              "      <th>hit@2</th>\n",
              "      <th>hit@2/2</th>\n",
              "    </tr>\n",
              "    <tr>\n",
              "      <th>user_id</th>\n",
              "      <th>item_id</th>\n",
              "      <th></th>\n",
              "      <th></th>\n",
              "      <th></th>\n",
              "    </tr>\n",
              "  </thead>\n",
              "  <tbody>\n",
              "    <tr>\n",
              "      <th>Аня</th>\n",
              "      <th>Мастер и Маргарита</th>\n",
              "      <td>NaN</td>\n",
              "      <td>False</td>\n",
              "      <td>0.0</td>\n",
              "    </tr>\n",
              "    <tr>\n",
              "      <th>Боря</th>\n",
              "      <th>451° по Фаренгейту</th>\n",
              "      <td>1.0</td>\n",
              "      <td>True</td>\n",
              "      <td>0.5</td>\n",
              "    </tr>\n",
              "    <tr>\n",
              "      <th rowspan=\"2\" valign=\"top\">Вася</th>\n",
              "      <th>Зеленая миля</th>\n",
              "      <td>3.0</td>\n",
              "      <td>False</td>\n",
              "      <td>0.0</td>\n",
              "    </tr>\n",
              "    <tr>\n",
              "      <th>Рита Хейуорт и спасение из Шоушенка</th>\n",
              "      <td>NaN</td>\n",
              "      <td>False</td>\n",
              "      <td>0.0</td>\n",
              "    </tr>\n",
              "  </tbody>\n",
              "</table>\n",
              "</div>"
            ],
            "text/plain": [
              "                                             rank  hit@2  hit@2/2\n",
              "user_id item_id                                                  \n",
              "Аня     Мастер и Маргарита                    NaN  False      0.0\n",
              "Боря    451° по Фаренгейту                    1.0   True      0.5\n",
              "Вася    Зеленая миля                          3.0  False      0.0\n",
              "        Рита Хейуорт и спасение из Шоушенка   NaN  False      0.0"
            ]
          },
          "metadata": {},
          "execution_count": 48
        }
      ]
    },
    {
      "cell_type": "code",
      "source": [
        "df_prec2 = df_merged.groupby(level=0)['hit@2/2'].sum()\n",
        "df_prec2"
      ],
      "metadata": {
        "trusted": true,
        "colab": {
          "base_uri": "https://localhost:8080/"
        },
        "id": "YB1iWLpkyhig",
        "outputId": "2add0dfe-2d73-4d9c-ee76-ec4d4088e30b"
      },
      "execution_count": 49,
      "outputs": [
        {
          "output_type": "execute_result",
          "data": {
            "text/plain": [
              "user_id\n",
              "Аня     0.0\n",
              "Боря    0.5\n",
              "Вася    0.0\n",
              "Name: hit@2/2, dtype: float64"
            ]
          },
          "metadata": {},
          "execution_count": 49
        }
      ]
    },
    {
      "cell_type": "code",
      "source": [
        "print(f'Precision@2 - {df_prec2.mean()}')"
      ],
      "metadata": {
        "trusted": true,
        "colab": {
          "base_uri": "https://localhost:8080/"
        },
        "id": "FxkvowWqyhig",
        "outputId": "e20848d0-db1a-4f12-c989-6bb6f34b0a55"
      },
      "execution_count": 50,
      "outputs": [
        {
          "output_type": "stream",
          "name": "stdout",
          "text": [
            "Precision@2 - 0.16666666666666666\n"
          ]
        }
      ]
    },
    {
      "cell_type": "markdown",
      "source": [
        "Но вообще шаг с группировкой по пользователям для Precision@K не нужен"
      ],
      "metadata": {
        "id": "myomaccoyhig"
      }
    },
    {
      "cell_type": "code",
      "source": [
        "df_merged['hit@2/2'].sum() / df_merged.index.get_level_values('user_id').nunique()"
      ],
      "metadata": {
        "trusted": true,
        "colab": {
          "base_uri": "https://localhost:8080/"
        },
        "id": "e9CAHFAiyhig",
        "outputId": "7c13e88e-b16d-42ed-a892-e3207b975bb9"
      },
      "execution_count": 51,
      "outputs": [
        {
          "output_type": "execute_result",
          "data": {
            "text/plain": [
              "0.16666666666666666"
            ]
          },
          "metadata": {},
          "execution_count": 51
        }
      ]
    },
    {
      "cell_type": "code",
      "source": [
        "users_count = df_merged.index.get_level_values('user_id').nunique()\n",
        "for k in [1, 2, 3]:\n",
        "    hit_k = f'hit@{k}'\n",
        "    df_merged[hit_k] = df_merged['rank'] <= k\n",
        "    print(f'Precision@{k} = {(df_merged[hit_k] / k).sum() / users_count:.4f}')"
      ],
      "metadata": {
        "trusted": true,
        "colab": {
          "base_uri": "https://localhost:8080/"
        },
        "id": "Drbvj_bAyhig",
        "outputId": "d1642054-9653-4502-ec70-b0ca27def5b5"
      },
      "execution_count": 52,
      "outputs": [
        {
          "output_type": "stream",
          "name": "stdout",
          "text": [
            "Precision@1 = 0.3333\n",
            "Precision@2 = 0.1667\n",
            "Precision@3 = 0.2222\n"
          ]
        }
      ]
    },
    {
      "cell_type": "markdown",
      "source": [
        "C Recall@K похожая история, нам также нужно получить hit@K, но делить уже будем на количество релевантных объектов у пользователя"
      ],
      "metadata": {
        "id": "QcO2BE0syhih"
      }
    },
    {
      "cell_type": "code",
      "source": [
        "df_merged['users_item_count'] = df_merged.groupby(level='user_id')['rank'].transform(np.size)\n",
        "df_merged"
      ],
      "metadata": {
        "trusted": true,
        "colab": {
          "base_uri": "https://localhost:8080/",
          "height": 204
        },
        "id": "wSh0uFoJyhih",
        "outputId": "25d5a556-0cd5-4463-b01f-48903054f53f"
      },
      "execution_count": 53,
      "outputs": [
        {
          "output_type": "execute_result",
          "data": {
            "text/html": [
              "<div>\n",
              "<style scoped>\n",
              "    .dataframe tbody tr th:only-of-type {\n",
              "        vertical-align: middle;\n",
              "    }\n",
              "\n",
              "    .dataframe tbody tr th {\n",
              "        vertical-align: top;\n",
              "    }\n",
              "\n",
              "    .dataframe thead th {\n",
              "        text-align: right;\n",
              "    }\n",
              "</style>\n",
              "<table border=\"1\" class=\"dataframe\">\n",
              "  <thead>\n",
              "    <tr style=\"text-align: right;\">\n",
              "      <th></th>\n",
              "      <th></th>\n",
              "      <th>rank</th>\n",
              "      <th>hit@2</th>\n",
              "      <th>hit@2/2</th>\n",
              "      <th>hit@1</th>\n",
              "      <th>hit@3</th>\n",
              "      <th>users_item_count</th>\n",
              "    </tr>\n",
              "    <tr>\n",
              "      <th>user_id</th>\n",
              "      <th>item_id</th>\n",
              "      <th></th>\n",
              "      <th></th>\n",
              "      <th></th>\n",
              "      <th></th>\n",
              "      <th></th>\n",
              "      <th></th>\n",
              "    </tr>\n",
              "  </thead>\n",
              "  <tbody>\n",
              "    <tr>\n",
              "      <th>Аня</th>\n",
              "      <th>Мастер и Маргарита</th>\n",
              "      <td>NaN</td>\n",
              "      <td>False</td>\n",
              "      <td>0.0</td>\n",
              "      <td>False</td>\n",
              "      <td>False</td>\n",
              "      <td>1.0</td>\n",
              "    </tr>\n",
              "    <tr>\n",
              "      <th>Боря</th>\n",
              "      <th>451° по Фаренгейту</th>\n",
              "      <td>1.0</td>\n",
              "      <td>True</td>\n",
              "      <td>0.5</td>\n",
              "      <td>True</td>\n",
              "      <td>True</td>\n",
              "      <td>1.0</td>\n",
              "    </tr>\n",
              "    <tr>\n",
              "      <th rowspan=\"2\" valign=\"top\">Вася</th>\n",
              "      <th>Зеленая миля</th>\n",
              "      <td>3.0</td>\n",
              "      <td>False</td>\n",
              "      <td>0.0</td>\n",
              "      <td>False</td>\n",
              "      <td>True</td>\n",
              "      <td>2.0</td>\n",
              "    </tr>\n",
              "    <tr>\n",
              "      <th>Рита Хейуорт и спасение из Шоушенка</th>\n",
              "      <td>NaN</td>\n",
              "      <td>False</td>\n",
              "      <td>0.0</td>\n",
              "      <td>False</td>\n",
              "      <td>False</td>\n",
              "      <td>2.0</td>\n",
              "    </tr>\n",
              "  </tbody>\n",
              "</table>\n",
              "</div>"
            ],
            "text/plain": [
              "                                             rank  ...  users_item_count\n",
              "user_id item_id                                    ...                  \n",
              "Аня     Мастер и Маргарита                    NaN  ...               1.0\n",
              "Боря    451° по Фаренгейту                    1.0  ...               1.0\n",
              "Вася    Зеленая миля                          3.0  ...               2.0\n",
              "        Рита Хейуорт и спасение из Шоушенка   NaN  ...               2.0\n",
              "\n",
              "[4 rows x 6 columns]"
            ]
          },
          "metadata": {},
          "execution_count": 53
        }
      ]
    },
    {
      "cell_type": "code",
      "source": [
        "for k in [1, 2, 3]:\n",
        "    hit_k = f'hit@{k}'\n",
        "    # Уже посчитано\n",
        "    # df_merged[hit_k] = df_merged['rank'] <= k  \n",
        "    print(f\"Recall@{k} = {(df_merged[hit_k] / df_merged['users_item_count']).sum() / users_count:.4f}\")"
      ],
      "metadata": {
        "trusted": true,
        "colab": {
          "base_uri": "https://localhost:8080/"
        },
        "id": "dqZj8qLmyhih",
        "outputId": "a1bc3f7b-2a6c-484b-a7e1-751a7d9b2176"
      },
      "execution_count": 54,
      "outputs": [
        {
          "output_type": "stream",
          "name": "stdout",
          "text": [
            "Recall@1 = 0.3333\n",
            "Recall@2 = 0.3333\n",
            "Recall@3 = 0.5000\n"
          ]
        }
      ]
    },
    {
      "cell_type": "markdown",
      "source": [
        "Precision@K и Recall@K неплохие метрики, чтобы оценить качество рекомендаций, но они учитывают только \"попадания\" (hits, true positives). \n",
        "Но на самом деле нам важно насколько высоко по позициям находятся эти самые попадания. \n",
        "\n",
        "Простой пример, пусть две модели рекомендаций для одного пользователя получили такие hit@3 на тесте:\n",
        "* model1 - 1, 0, 0, 1\n",
        "* model2 - 1, 0, 1, 0\n",
        "\n",
        "Precision@4 для них будет одинаковый - 0.5, хотя model2 немного лучше, так как 2-ое попадание находится выше, чем у model1"
      ],
      "metadata": {
        "id": "YAL_V_Eryhih"
      }
    },
    {
      "cell_type": "markdown",
      "source": [
        "<a id=\"ranking\"></a>\n",
        "## Ranking\n",
        "\n",
        "Эти метрики оценивают качество топ-N рекомендаций c учетом рангов/позиций. Основная идея - оценить \"попадания\" с весом, зависящим от позиции (обычно это обратная пропорциальная зависимость, то есть чем больше позиция, тем меньше вес).\n",
        "Основные метрики следующие:"
      ],
      "metadata": {
        "id": "twuegnRqyhih"
      }
    },
    {
      "cell_type": "markdown",
      "source": [
        "**Mean Reciprocal Rank**\n",
        "![image.png](attachment:image.png)\n",
        "Где Q - это query или наш пользователь, а rank_i - позиция первой релевантной рекомендации"
      ],
      "metadata": {
        "id": "CjNAotppyhih"
      }
    },
    {
      "cell_type": "markdown",
      "source": [
        "![image.png](attachment:image.png)"
      ],
      "metadata": {
        "id": "u4x6yyMHyhih"
      }
    },
    {
      "cell_type": "markdown",
      "source": [
        "**Mean Average Precision**\n",
        "![image.png](attachment:image.png)\n",
        "То есть MAP - это усреднение AveragePrecision по всем пользователям. \n",
        "А AveragePrecision в свою очередь, это средний Precision@K по релевантным объектам одного пользователя"
      ],
      "metadata": {
        "id": "uzN7g2jXyhii"
      }
    },
    {
      "cell_type": "code",
      "source": [
        "df_true = pd.DataFrame({\n",
        "    'user_id': ['Аня',                'Боря',               'Вася',         'Вася'],\n",
        "    'item_id': ['Мастер и Маргарита', '451° по Фаренгейту', 'Зеленая миля', 'Рита Хейуорт и спасение из Шоушенка'],\n",
        "})\n",
        "df_true "
      ],
      "metadata": {
        "trusted": true,
        "colab": {
          "base_uri": "https://localhost:8080/",
          "height": 173
        },
        "id": "K8gp6bo9yhii",
        "outputId": "383de410-5ae7-40e9-ed91-195ace5ffabe"
      },
      "execution_count": 55,
      "outputs": [
        {
          "output_type": "execute_result",
          "data": {
            "text/html": [
              "<div>\n",
              "<style scoped>\n",
              "    .dataframe tbody tr th:only-of-type {\n",
              "        vertical-align: middle;\n",
              "    }\n",
              "\n",
              "    .dataframe tbody tr th {\n",
              "        vertical-align: top;\n",
              "    }\n",
              "\n",
              "    .dataframe thead th {\n",
              "        text-align: right;\n",
              "    }\n",
              "</style>\n",
              "<table border=\"1\" class=\"dataframe\">\n",
              "  <thead>\n",
              "    <tr style=\"text-align: right;\">\n",
              "      <th></th>\n",
              "      <th>user_id</th>\n",
              "      <th>item_id</th>\n",
              "    </tr>\n",
              "  </thead>\n",
              "  <tbody>\n",
              "    <tr>\n",
              "      <th>0</th>\n",
              "      <td>Аня</td>\n",
              "      <td>Мастер и Маргарита</td>\n",
              "    </tr>\n",
              "    <tr>\n",
              "      <th>1</th>\n",
              "      <td>Боря</td>\n",
              "      <td>451° по Фаренгейту</td>\n",
              "    </tr>\n",
              "    <tr>\n",
              "      <th>2</th>\n",
              "      <td>Вася</td>\n",
              "      <td>Зеленая миля</td>\n",
              "    </tr>\n",
              "    <tr>\n",
              "      <th>3</th>\n",
              "      <td>Вася</td>\n",
              "      <td>Рита Хейуорт и спасение из Шоушенка</td>\n",
              "    </tr>\n",
              "  </tbody>\n",
              "</table>\n",
              "</div>"
            ],
            "text/plain": [
              "  user_id                              item_id\n",
              "0     Аня                   Мастер и Маргарита\n",
              "1    Боря                   451° по Фаренгейту\n",
              "2    Вася                         Зеленая миля\n",
              "3    Вася  Рита Хейуорт и спасение из Шоушенка"
            ]
          },
          "metadata": {},
          "execution_count": 55
        }
      ]
    },
    {
      "cell_type": "code",
      "source": [
        "df_recs = pd.DataFrame({\n",
        "    'user_id': [\n",
        "        'Аня', 'Аня', 'Аня', \n",
        "        'Боря', 'Боря', 'Боря', \n",
        "        'Вася', 'Вася', 'Вася',\n",
        "    ],\n",
        "    'item_id': [\n",
        "        'Отверженные', 'Двенадцать стульев', 'Герои нашего времени', \n",
        "        '451° по Фаренгейту', '1984', 'О дивный новый мир',\n",
        "        'Десять негритят', 'Рита Хейуорт и спасение из Шоушенка', 'Зеленая миля', \n",
        "    ],\n",
        "    'rank': [\n",
        "        1, 2, 3,\n",
        "        1, 2, 3,\n",
        "        1, 2, 3,\n",
        "    ]\n",
        "})\n",
        "df_recs"
      ],
      "metadata": {
        "trusted": true,
        "colab": {
          "base_uri": "https://localhost:8080/",
          "height": 328
        },
        "id": "nzuSYjIOyhii",
        "outputId": "8d1f2903-b1bb-4658-b61f-0191ce41b778"
      },
      "execution_count": 56,
      "outputs": [
        {
          "output_type": "execute_result",
          "data": {
            "text/html": [
              "<div>\n",
              "<style scoped>\n",
              "    .dataframe tbody tr th:only-of-type {\n",
              "        vertical-align: middle;\n",
              "    }\n",
              "\n",
              "    .dataframe tbody tr th {\n",
              "        vertical-align: top;\n",
              "    }\n",
              "\n",
              "    .dataframe thead th {\n",
              "        text-align: right;\n",
              "    }\n",
              "</style>\n",
              "<table border=\"1\" class=\"dataframe\">\n",
              "  <thead>\n",
              "    <tr style=\"text-align: right;\">\n",
              "      <th></th>\n",
              "      <th>user_id</th>\n",
              "      <th>item_id</th>\n",
              "      <th>rank</th>\n",
              "    </tr>\n",
              "  </thead>\n",
              "  <tbody>\n",
              "    <tr>\n",
              "      <th>0</th>\n",
              "      <td>Аня</td>\n",
              "      <td>Отверженные</td>\n",
              "      <td>1</td>\n",
              "    </tr>\n",
              "    <tr>\n",
              "      <th>1</th>\n",
              "      <td>Аня</td>\n",
              "      <td>Двенадцать стульев</td>\n",
              "      <td>2</td>\n",
              "    </tr>\n",
              "    <tr>\n",
              "      <th>2</th>\n",
              "      <td>Аня</td>\n",
              "      <td>Герои нашего времени</td>\n",
              "      <td>3</td>\n",
              "    </tr>\n",
              "    <tr>\n",
              "      <th>3</th>\n",
              "      <td>Боря</td>\n",
              "      <td>451° по Фаренгейту</td>\n",
              "      <td>1</td>\n",
              "    </tr>\n",
              "    <tr>\n",
              "      <th>4</th>\n",
              "      <td>Боря</td>\n",
              "      <td>1984</td>\n",
              "      <td>2</td>\n",
              "    </tr>\n",
              "    <tr>\n",
              "      <th>5</th>\n",
              "      <td>Боря</td>\n",
              "      <td>О дивный новый мир</td>\n",
              "      <td>3</td>\n",
              "    </tr>\n",
              "    <tr>\n",
              "      <th>6</th>\n",
              "      <td>Вася</td>\n",
              "      <td>Десять негритят</td>\n",
              "      <td>1</td>\n",
              "    </tr>\n",
              "    <tr>\n",
              "      <th>7</th>\n",
              "      <td>Вася</td>\n",
              "      <td>Рита Хейуорт и спасение из Шоушенка</td>\n",
              "      <td>2</td>\n",
              "    </tr>\n",
              "    <tr>\n",
              "      <th>8</th>\n",
              "      <td>Вася</td>\n",
              "      <td>Зеленая миля</td>\n",
              "      <td>3</td>\n",
              "    </tr>\n",
              "  </tbody>\n",
              "</table>\n",
              "</div>"
            ],
            "text/plain": [
              "  user_id                              item_id  rank\n",
              "0     Аня                          Отверженные     1\n",
              "1     Аня                   Двенадцать стульев     2\n",
              "2     Аня                 Герои нашего времени     3\n",
              "3    Боря                   451° по Фаренгейту     1\n",
              "4    Боря                                 1984     2\n",
              "5    Боря                   О дивный новый мир     3\n",
              "6    Вася                      Десять негритят     1\n",
              "7    Вася  Рита Хейуорт и спасение из Шоушенка     2\n",
              "8    Вася                         Зеленая миля     3"
            ]
          },
          "metadata": {},
          "execution_count": 56
        }
      ]
    },
    {
      "cell_type": "code",
      "source": [
        "df_merged = df_true.set_index(['user_id', 'item_id']).join(df_recs.set_index(['user_id', 'item_id']), how='left')\n",
        "df_merged = df_merged.sort_values(by=['user_id', 'rank'])\n",
        "df_merged"
      ],
      "metadata": {
        "trusted": true,
        "colab": {
          "base_uri": "https://localhost:8080/",
          "height": 204
        },
        "id": "_Ldx8xd5yhii",
        "outputId": "74f6ba66-630c-49de-e09f-db9db823170b"
      },
      "execution_count": 57,
      "outputs": [
        {
          "output_type": "execute_result",
          "data": {
            "text/html": [
              "<div>\n",
              "<style scoped>\n",
              "    .dataframe tbody tr th:only-of-type {\n",
              "        vertical-align: middle;\n",
              "    }\n",
              "\n",
              "    .dataframe tbody tr th {\n",
              "        vertical-align: top;\n",
              "    }\n",
              "\n",
              "    .dataframe thead th {\n",
              "        text-align: right;\n",
              "    }\n",
              "</style>\n",
              "<table border=\"1\" class=\"dataframe\">\n",
              "  <thead>\n",
              "    <tr style=\"text-align: right;\">\n",
              "      <th></th>\n",
              "      <th></th>\n",
              "      <th>rank</th>\n",
              "    </tr>\n",
              "    <tr>\n",
              "      <th>user_id</th>\n",
              "      <th>item_id</th>\n",
              "      <th></th>\n",
              "    </tr>\n",
              "  </thead>\n",
              "  <tbody>\n",
              "    <tr>\n",
              "      <th>Аня</th>\n",
              "      <th>Мастер и Маргарита</th>\n",
              "      <td>NaN</td>\n",
              "    </tr>\n",
              "    <tr>\n",
              "      <th>Боря</th>\n",
              "      <th>451° по Фаренгейту</th>\n",
              "      <td>1.0</td>\n",
              "    </tr>\n",
              "    <tr>\n",
              "      <th rowspan=\"2\" valign=\"top\">Вася</th>\n",
              "      <th>Рита Хейуорт и спасение из Шоушенка</th>\n",
              "      <td>2.0</td>\n",
              "    </tr>\n",
              "    <tr>\n",
              "      <th>Зеленая миля</th>\n",
              "      <td>3.0</td>\n",
              "    </tr>\n",
              "  </tbody>\n",
              "</table>\n",
              "</div>"
            ],
            "text/plain": [
              "                                             rank\n",
              "user_id item_id                                  \n",
              "Аня     Мастер и Маргарита                    NaN\n",
              "Боря    451° по Фаренгейту                    1.0\n",
              "Вася    Рита Хейуорт и спасение из Шоушенка   2.0\n",
              "        Зеленая миля                          3.0"
            ]
          },
          "metadata": {},
          "execution_count": 57
        }
      ]
    },
    {
      "cell_type": "code",
      "source": [
        "df_merged['reciprocal_rank'] = 1 / df_merged['rank']\n",
        "df_merged"
      ],
      "metadata": {
        "trusted": true,
        "colab": {
          "base_uri": "https://localhost:8080/",
          "height": 204
        },
        "id": "L9g5y2lpyhii",
        "outputId": "e3675f07-5c7e-4ec6-f3db-b58375562e59"
      },
      "execution_count": 58,
      "outputs": [
        {
          "output_type": "execute_result",
          "data": {
            "text/html": [
              "<div>\n",
              "<style scoped>\n",
              "    .dataframe tbody tr th:only-of-type {\n",
              "        vertical-align: middle;\n",
              "    }\n",
              "\n",
              "    .dataframe tbody tr th {\n",
              "        vertical-align: top;\n",
              "    }\n",
              "\n",
              "    .dataframe thead th {\n",
              "        text-align: right;\n",
              "    }\n",
              "</style>\n",
              "<table border=\"1\" class=\"dataframe\">\n",
              "  <thead>\n",
              "    <tr style=\"text-align: right;\">\n",
              "      <th></th>\n",
              "      <th></th>\n",
              "      <th>rank</th>\n",
              "      <th>reciprocal_rank</th>\n",
              "    </tr>\n",
              "    <tr>\n",
              "      <th>user_id</th>\n",
              "      <th>item_id</th>\n",
              "      <th></th>\n",
              "      <th></th>\n",
              "    </tr>\n",
              "  </thead>\n",
              "  <tbody>\n",
              "    <tr>\n",
              "      <th>Аня</th>\n",
              "      <th>Мастер и Маргарита</th>\n",
              "      <td>NaN</td>\n",
              "      <td>NaN</td>\n",
              "    </tr>\n",
              "    <tr>\n",
              "      <th>Боря</th>\n",
              "      <th>451° по Фаренгейту</th>\n",
              "      <td>1.0</td>\n",
              "      <td>1.000000</td>\n",
              "    </tr>\n",
              "    <tr>\n",
              "      <th rowspan=\"2\" valign=\"top\">Вася</th>\n",
              "      <th>Рита Хейуорт и спасение из Шоушенка</th>\n",
              "      <td>2.0</td>\n",
              "      <td>0.500000</td>\n",
              "    </tr>\n",
              "    <tr>\n",
              "      <th>Зеленая миля</th>\n",
              "      <td>3.0</td>\n",
              "      <td>0.333333</td>\n",
              "    </tr>\n",
              "  </tbody>\n",
              "</table>\n",
              "</div>"
            ],
            "text/plain": [
              "                                             rank  reciprocal_rank\n",
              "user_id item_id                                                   \n",
              "Аня     Мастер и Маргарита                    NaN              NaN\n",
              "Боря    451° по Фаренгейту                    1.0         1.000000\n",
              "Вася    Рита Хейуорт и спасение из Шоушенка   2.0         0.500000\n",
              "        Зеленая миля                          3.0         0.333333"
            ]
          },
          "metadata": {},
          "execution_count": 58
        }
      ]
    },
    {
      "cell_type": "code",
      "source": [
        "mrr = df_merged.groupby(level='user_id')['reciprocal_rank'].max()\n",
        "mrr"
      ],
      "metadata": {
        "trusted": true,
        "colab": {
          "base_uri": "https://localhost:8080/"
        },
        "id": "-mOwPi7Uyhii",
        "outputId": "2b59918b-9cfd-437c-b046-0df72ef2d523"
      },
      "execution_count": 59,
      "outputs": [
        {
          "output_type": "execute_result",
          "data": {
            "text/plain": [
              "user_id\n",
              "Аня     NaN\n",
              "Боря    1.0\n",
              "Вася    0.5\n",
              "Name: reciprocal_rank, dtype: float64"
            ]
          },
          "metadata": {},
          "execution_count": 59
        }
      ]
    },
    {
      "cell_type": "code",
      "source": [
        "print(f\"MRR = {mrr.fillna(0).mean()}\")"
      ],
      "metadata": {
        "trusted": true,
        "colab": {
          "base_uri": "https://localhost:8080/"
        },
        "id": "NDg8PfOmyhii",
        "outputId": "d2fea9a4-094d-4481-9be5-465a07a5d820"
      },
      "execution_count": 60,
      "outputs": [
        {
          "output_type": "stream",
          "name": "stdout",
          "text": [
            "MRR = 0.5\n"
          ]
        }
      ]
    },
    {
      "cell_type": "code",
      "source": [
        "df_merged['cumulative_rank'] = df_merged.groupby(level='user_id').cumcount() + 1\n",
        "df_merged['cumulative_rank'] = df_merged['cumulative_rank'] / df_merged['rank']\n",
        "df_merged['users_item_count'] = df_merged.groupby(level='user_id')['rank'].transform(np.size)\n",
        "df_merged"
      ],
      "metadata": {
        "trusted": true,
        "colab": {
          "base_uri": "https://localhost:8080/",
          "height": 204
        },
        "id": "gBd-woOGyhii",
        "outputId": "64c3abf4-38f9-47d2-fbc5-51e6e0384776"
      },
      "execution_count": 61,
      "outputs": [
        {
          "output_type": "execute_result",
          "data": {
            "text/html": [
              "<div>\n",
              "<style scoped>\n",
              "    .dataframe tbody tr th:only-of-type {\n",
              "        vertical-align: middle;\n",
              "    }\n",
              "\n",
              "    .dataframe tbody tr th {\n",
              "        vertical-align: top;\n",
              "    }\n",
              "\n",
              "    .dataframe thead th {\n",
              "        text-align: right;\n",
              "    }\n",
              "</style>\n",
              "<table border=\"1\" class=\"dataframe\">\n",
              "  <thead>\n",
              "    <tr style=\"text-align: right;\">\n",
              "      <th></th>\n",
              "      <th></th>\n",
              "      <th>rank</th>\n",
              "      <th>reciprocal_rank</th>\n",
              "      <th>cumulative_rank</th>\n",
              "      <th>users_item_count</th>\n",
              "    </tr>\n",
              "    <tr>\n",
              "      <th>user_id</th>\n",
              "      <th>item_id</th>\n",
              "      <th></th>\n",
              "      <th></th>\n",
              "      <th></th>\n",
              "      <th></th>\n",
              "    </tr>\n",
              "  </thead>\n",
              "  <tbody>\n",
              "    <tr>\n",
              "      <th>Аня</th>\n",
              "      <th>Мастер и Маргарита</th>\n",
              "      <td>NaN</td>\n",
              "      <td>NaN</td>\n",
              "      <td>NaN</td>\n",
              "      <td>1.0</td>\n",
              "    </tr>\n",
              "    <tr>\n",
              "      <th>Боря</th>\n",
              "      <th>451° по Фаренгейту</th>\n",
              "      <td>1.0</td>\n",
              "      <td>1.000000</td>\n",
              "      <td>1.000000</td>\n",
              "      <td>1.0</td>\n",
              "    </tr>\n",
              "    <tr>\n",
              "      <th rowspan=\"2\" valign=\"top\">Вася</th>\n",
              "      <th>Рита Хейуорт и спасение из Шоушенка</th>\n",
              "      <td>2.0</td>\n",
              "      <td>0.500000</td>\n",
              "      <td>0.500000</td>\n",
              "      <td>2.0</td>\n",
              "    </tr>\n",
              "    <tr>\n",
              "      <th>Зеленая миля</th>\n",
              "      <td>3.0</td>\n",
              "      <td>0.333333</td>\n",
              "      <td>0.666667</td>\n",
              "      <td>2.0</td>\n",
              "    </tr>\n",
              "  </tbody>\n",
              "</table>\n",
              "</div>"
            ],
            "text/plain": [
              "                                             rank  ...  users_item_count\n",
              "user_id item_id                                    ...                  \n",
              "Аня     Мастер и Маргарита                    NaN  ...               1.0\n",
              "Боря    451° по Фаренгейту                    1.0  ...               1.0\n",
              "Вася    Рита Хейуорт и спасение из Шоушенка   2.0  ...               2.0\n",
              "        Зеленая миля                          3.0  ...               2.0\n",
              "\n",
              "[4 rows x 4 columns]"
            ]
          },
          "metadata": {},
          "execution_count": 61
        }
      ]
    },
    {
      "cell_type": "code",
      "source": [
        "users_count = df_merged.index.get_level_values('user_id').nunique()\n",
        "map3 = (df_merged[\"cumulative_rank\"] / df_merged[\"users_item_count\"]).sum() / users_count\n",
        "print(f\"MAP@3 = {map3}\")"
      ],
      "metadata": {
        "trusted": true,
        "colab": {
          "base_uri": "https://localhost:8080/"
        },
        "id": "lNcSmo7Pyhij",
        "outputId": "98dcc6ba-453a-4e60-b2c6-d9c1f6d8c592"
      },
      "execution_count": 62,
      "outputs": [
        {
          "output_type": "stream",
          "name": "stdout",
          "text": [
            "MAP@3 = 0.5277777777777778\n"
          ]
        }
      ]
    },
    {
      "cell_type": "markdown",
      "source": [
        "<a id=\"validation\"></a>\n",
        "# Validation\n",
        "\n",
        "Для получения train/test (или train/validation/test) глобально есть два подхода:\n",
        "* Случайное разбиение\n",
        "    * По всем взаимодействиям\n",
        "    * По пользователю или объекту\n",
        "* Разбиение по времени\n",
        "\n",
        "## Случайное разбиение\n",
        "\n",
        "Обычно применяется схема Leave-one-out или Leave-P-out. Идея проста, давайте для одного (Leave-one-out) или нескольких (Leave-P-out) пользователей, для которых есть больше 2 взаимодействий, оставим одно взаимодействие в качестве теста.\n",
        "На практике такой метод редко применяется по двум причинам:\n",
        "* Дорогостоящая схема проверки, на боевых данных такое считаться будет долго\n",
        "* Часто в данных присутствует временная зависимость\n",
        "\n",
        "Реализовать можно через pandas.DataFrame.sample"
      ],
      "metadata": {
        "id": "M5vZdkVhyhij"
      }
    },
    {
      "cell_type": "markdown",
      "source": [
        "## Разбиение по времени\n",
        "\n",
        "Чаще всего встречается на практике. Обычно выбирается размер test по времени и период дат для разделения на train/test.\n",
        "\n",
        "Например: test - 1 день, период для тестирования 7 дней.\n",
        "\n",
        "Для наших данных по МТС Библиотеке выбрем 7 последних дней и будем тестировать на них последовательно."
      ],
      "metadata": {
        "id": "YKbWCdXMyhij"
      }
    },
    {
      "cell_type": "code",
      "source": [
        "test_dates = df['start_date'].unique()[-7:]\n",
        "test_dates"
      ],
      "metadata": {
        "trusted": true,
        "colab": {
          "base_uri": "https://localhost:8080/"
        },
        "id": "scharI8Hyhij",
        "outputId": "18bf18ea-af1c-42ff-c821-0afe5a477eae"
      },
      "execution_count": 63,
      "outputs": [
        {
          "output_type": "execute_result",
          "data": {
            "text/plain": [
              "array(['2019-12-25T00:00:00.000000000', '2019-12-26T00:00:00.000000000',\n",
              "       '2019-12-27T00:00:00.000000000', '2019-12-28T00:00:00.000000000',\n",
              "       '2019-12-29T00:00:00.000000000', '2019-12-30T00:00:00.000000000',\n",
              "       '2019-12-31T00:00:00.000000000'], dtype='datetime64[ns]')"
            ]
          },
          "metadata": {},
          "execution_count": 63
        }
      ]
    },
    {
      "cell_type": "markdown",
      "source": [
        "Соберем из этих дат последовательные пары. Первая дата будет использоваться для ограничения на train, и обе даты будут использоваться для получения test"
      ],
      "metadata": {
        "id": "spCCZ1Kwyhij"
      }
    },
    {
      "cell_type": "code",
      "source": [
        "test_dates = list(pairwise(test_dates))\n",
        "test_dates"
      ],
      "metadata": {
        "trusted": true,
        "colab": {
          "base_uri": "https://localhost:8080/"
        },
        "id": "C9NcfvjEyhij",
        "outputId": "8e5c6203-5320-47ec-ad9b-6efef4dd0e2e"
      },
      "execution_count": 64,
      "outputs": [
        {
          "output_type": "execute_result",
          "data": {
            "text/plain": [
              "[(numpy.datetime64('2019-12-25T00:00:00.000000000'),\n",
              "  numpy.datetime64('2019-12-26T00:00:00.000000000')),\n",
              " (numpy.datetime64('2019-12-26T00:00:00.000000000'),\n",
              "  numpy.datetime64('2019-12-27T00:00:00.000000000')),\n",
              " (numpy.datetime64('2019-12-27T00:00:00.000000000'),\n",
              "  numpy.datetime64('2019-12-28T00:00:00.000000000')),\n",
              " (numpy.datetime64('2019-12-28T00:00:00.000000000'),\n",
              "  numpy.datetime64('2019-12-29T00:00:00.000000000')),\n",
              " (numpy.datetime64('2019-12-29T00:00:00.000000000'),\n",
              "  numpy.datetime64('2019-12-30T00:00:00.000000000')),\n",
              " (numpy.datetime64('2019-12-30T00:00:00.000000000'),\n",
              "  numpy.datetime64('2019-12-31T00:00:00.000000000'))]"
            ]
          },
          "metadata": {},
          "execution_count": 64
        }
      ]
    },
    {
      "cell_type": "code",
      "source": [
        "split_dates = test_dates[0]\n",
        "train = df[df['start_date'] < split_dates[0]]\n",
        "test = df[(df['start_date'] >= split_dates[0]) & (df['start_date'] < split_dates[1])]\n",
        "test = test[(test['rating'] >= 4) | (test['rating'].isnull())]\n",
        "split_dates, train.shape, test.shape"
      ],
      "metadata": {
        "trusted": true,
        "colab": {
          "base_uri": "https://localhost:8080/"
        },
        "id": "SYlan6YRyhij",
        "outputId": "18d059c5-6a46-4adb-8add-113ac64f8407"
      },
      "execution_count": 65,
      "outputs": [
        {
          "output_type": "execute_result",
          "data": {
            "text/plain": [
              "((numpy.datetime64('2019-12-25T00:00:00.000000000'),\n",
              "  numpy.datetime64('2019-12-26T00:00:00.000000000')),\n",
              " (1517994, 5),\n",
              " (2114, 5))"
            ]
          },
          "metadata": {},
          "execution_count": 65
        }
      ]
    },
    {
      "cell_type": "markdown",
      "source": [
        "<a id=\"baselines\"></a>\n",
        "# Baselines\n",
        "\n",
        "Самым популярным бейзлайном является просто построение популярного :)\n",
        "Гиперпараметром такой модели может быть например окно, за которое мы считаем популярное.\n",
        "\n",
        "Модель можно расширять засчет учета фичей, чтобы считать популярное в рамках каких-то групп.\n",
        "\n",
        "Но на самом деле бейзлайны в первую очередь зависят от типа данных. В некоторых случаях это могут быть простые модели (или даже бизнес-правила), которые просто учитывают контекст задачи."
      ],
      "metadata": {
        "id": "kTMud4r4yhik"
      }
    },
    {
      "cell_type": "code",
      "source": [
        "class PopularRecommender():\n",
        "    def __init__(self, max_K=100, days=30, item_column='item_id', dt_column='date'):\n",
        "        self.max_K = max_K\n",
        "        self.days = days\n",
        "        self.item_column = item_column\n",
        "        self.dt_column = dt_column\n",
        "        self.recommendations = []\n",
        "        \n",
        "    def fit(self, df, ):\n",
        "        min_date = df[self.dt_column].max().normalize() - pd.DateOffset(days=self.days)\n",
        "        self.recommendations = df.loc[df[self.dt_column] > min_date, self.item_column].value_counts().head(self.max_K).index.values\n",
        "    \n",
        "    def recommend(self, users=None, N=10):\n",
        "        recs = self.recommendations[:N]\n",
        "        if users is None:\n",
        "            return recs\n",
        "        else:\n",
        "            return list(islice(cycle([recs]), len(users)))"
      ],
      "metadata": {
        "trusted": true,
        "id": "L1-DPMOFyhik"
      },
      "execution_count": 66,
      "outputs": []
    },
    {
      "cell_type": "code",
      "source": [
        "pop_model = PopularRecommender(days=7, dt_column='start_date')\n",
        "pop_model.fit(train)"
      ],
      "metadata": {
        "trusted": true,
        "id": "5jdj8CUqyhik"
      },
      "execution_count": 67,
      "outputs": []
    },
    {
      "cell_type": "code",
      "source": [
        "top10_recs = pop_model.recommend()\n",
        "top10_recs"
      ],
      "metadata": {
        "trusted": true,
        "colab": {
          "base_uri": "https://localhost:8080/"
        },
        "id": "pJ5672Jnyhik",
        "outputId": "88b41272-3381-42da-a0d3-a1e205aceb5a"
      },
      "execution_count": 68,
      "outputs": [
        {
          "output_type": "execute_result",
          "data": {
            "text/plain": [
              "array([235407, 230067,  35265, 281005, 147734, 208935, 285394,  96052,\n",
              "        62715, 151190])"
            ]
          },
          "metadata": {},
          "execution_count": 68
        }
      ]
    },
    {
      "cell_type": "code",
      "source": [
        "item_titles = pd.Series(df_items['title'].values, index=df_items['id']).to_dict()\n",
        "item_titles[128115]"
      ],
      "metadata": {
        "trusted": true,
        "colab": {
          "base_uri": "https://localhost:8080/",
          "height": 35
        },
        "id": "35o048z_yhik",
        "outputId": "f6ce9fde-2fa2-4ded-942e-7bb9d7285ffb"
      },
      "execution_count": 69,
      "outputs": [
        {
          "output_type": "execute_result",
          "data": {
            "application/vnd.google.colaboratory.intrinsic+json": {
              "type": "string"
            },
            "text/plain": [
              "'Ворон-челобитчик'"
            ]
          },
          "metadata": {},
          "execution_count": 69
        }
      ]
    },
    {
      "cell_type": "code",
      "source": [
        "list(map(item_titles.get, top10_recs))"
      ],
      "metadata": {
        "trusted": true,
        "colab": {
          "base_uri": "https://localhost:8080/"
        },
        "id": "shrTEI4dyhik",
        "outputId": "8c8e3c3f-0682-4abf-d91d-3e5c8fb65950"
      },
      "execution_count": 70,
      "outputs": [
        {
          "output_type": "execute_result",
          "data": {
            "text/plain": [
              "['Пикник на обочине',\n",
              " 'Кавказский пленник',\n",
              " 'Записки юного врача',\n",
              " 'Богатый папа, бедный папа. Роберт Кийосаки (обзор)',\n",
              " 'Москва и москвичи',\n",
              " 'Понедельник начинается в субботу',\n",
              " 'Хитрость',\n",
              " 'Сказка о попе и о работнике его Балде',\n",
              " 'Лорд, который влюбился. Тайный жених',\n",
              " 'История государства Российского. Том 2. От Великого князя Святополка до Великого князя Мстислава Изяславовича']"
            ]
          },
          "metadata": {},
          "execution_count": 70
        }
      ]
    },
    {
      "cell_type": "code",
      "source": [
        "recs = pd.DataFrame({'user_id': test['user_id'].unique()})\n",
        "top_N = 10\n",
        "recs['item_id'] = pop_model.recommend(recs['user_id'], N=top_N)\n",
        "recs.head()"
      ],
      "metadata": {
        "trusted": true,
        "colab": {
          "base_uri": "https://localhost:8080/",
          "height": 204
        },
        "id": "VlKOUN2kyhik",
        "outputId": "bcca9330-dba0-4000-eb57-ce983ca70be1"
      },
      "execution_count": 71,
      "outputs": [
        {
          "output_type": "execute_result",
          "data": {
            "text/html": [
              "<div>\n",
              "<style scoped>\n",
              "    .dataframe tbody tr th:only-of-type {\n",
              "        vertical-align: middle;\n",
              "    }\n",
              "\n",
              "    .dataframe tbody tr th {\n",
              "        vertical-align: top;\n",
              "    }\n",
              "\n",
              "    .dataframe thead th {\n",
              "        text-align: right;\n",
              "    }\n",
              "</style>\n",
              "<table border=\"1\" class=\"dataframe\">\n",
              "  <thead>\n",
              "    <tr style=\"text-align: right;\">\n",
              "      <th></th>\n",
              "      <th>user_id</th>\n",
              "      <th>item_id</th>\n",
              "    </tr>\n",
              "  </thead>\n",
              "  <tbody>\n",
              "    <tr>\n",
              "      <th>0</th>\n",
              "      <td>38753</td>\n",
              "      <td>[235407, 230067, 35265, 281005, 147734, 208935...</td>\n",
              "    </tr>\n",
              "    <tr>\n",
              "      <th>1</th>\n",
              "      <td>101642</td>\n",
              "      <td>[235407, 230067, 35265, 281005, 147734, 208935...</td>\n",
              "    </tr>\n",
              "    <tr>\n",
              "      <th>2</th>\n",
              "      <td>13548</td>\n",
              "      <td>[235407, 230067, 35265, 281005, 147734, 208935...</td>\n",
              "    </tr>\n",
              "    <tr>\n",
              "      <th>3</th>\n",
              "      <td>130425</td>\n",
              "      <td>[235407, 230067, 35265, 281005, 147734, 208935...</td>\n",
              "    </tr>\n",
              "    <tr>\n",
              "      <th>4</th>\n",
              "      <td>93986</td>\n",
              "      <td>[235407, 230067, 35265, 281005, 147734, 208935...</td>\n",
              "    </tr>\n",
              "  </tbody>\n",
              "</table>\n",
              "</div>"
            ],
            "text/plain": [
              "   user_id                                            item_id\n",
              "0    38753  [235407, 230067, 35265, 281005, 147734, 208935...\n",
              "1   101642  [235407, 230067, 35265, 281005, 147734, 208935...\n",
              "2    13548  [235407, 230067, 35265, 281005, 147734, 208935...\n",
              "3   130425  [235407, 230067, 35265, 281005, 147734, 208935...\n",
              "4    93986  [235407, 230067, 35265, 281005, 147734, 208935..."
            ]
          },
          "metadata": {},
          "execution_count": 71
        }
      ]
    },
    {
      "cell_type": "code",
      "source": [
        "recs = recs.explode('item_id')\n",
        "recs.head(top_N + 2)"
      ],
      "metadata": {
        "trusted": true,
        "colab": {
          "base_uri": "https://localhost:8080/",
          "height": 421
        },
        "id": "jT6WJDxIyhik",
        "outputId": "c1d15a1d-afb5-47ed-8e59-2a2fd0e05cfa"
      },
      "execution_count": 72,
      "outputs": [
        {
          "output_type": "execute_result",
          "data": {
            "text/html": [
              "<div>\n",
              "<style scoped>\n",
              "    .dataframe tbody tr th:only-of-type {\n",
              "        vertical-align: middle;\n",
              "    }\n",
              "\n",
              "    .dataframe tbody tr th {\n",
              "        vertical-align: top;\n",
              "    }\n",
              "\n",
              "    .dataframe thead th {\n",
              "        text-align: right;\n",
              "    }\n",
              "</style>\n",
              "<table border=\"1\" class=\"dataframe\">\n",
              "  <thead>\n",
              "    <tr style=\"text-align: right;\">\n",
              "      <th></th>\n",
              "      <th>user_id</th>\n",
              "      <th>item_id</th>\n",
              "    </tr>\n",
              "  </thead>\n",
              "  <tbody>\n",
              "    <tr>\n",
              "      <th>0</th>\n",
              "      <td>38753</td>\n",
              "      <td>235407</td>\n",
              "    </tr>\n",
              "    <tr>\n",
              "      <th>0</th>\n",
              "      <td>38753</td>\n",
              "      <td>230067</td>\n",
              "    </tr>\n",
              "    <tr>\n",
              "      <th>0</th>\n",
              "      <td>38753</td>\n",
              "      <td>35265</td>\n",
              "    </tr>\n",
              "    <tr>\n",
              "      <th>0</th>\n",
              "      <td>38753</td>\n",
              "      <td>281005</td>\n",
              "    </tr>\n",
              "    <tr>\n",
              "      <th>0</th>\n",
              "      <td>38753</td>\n",
              "      <td>147734</td>\n",
              "    </tr>\n",
              "    <tr>\n",
              "      <th>0</th>\n",
              "      <td>38753</td>\n",
              "      <td>208935</td>\n",
              "    </tr>\n",
              "    <tr>\n",
              "      <th>0</th>\n",
              "      <td>38753</td>\n",
              "      <td>285394</td>\n",
              "    </tr>\n",
              "    <tr>\n",
              "      <th>0</th>\n",
              "      <td>38753</td>\n",
              "      <td>96052</td>\n",
              "    </tr>\n",
              "    <tr>\n",
              "      <th>0</th>\n",
              "      <td>38753</td>\n",
              "      <td>62715</td>\n",
              "    </tr>\n",
              "    <tr>\n",
              "      <th>0</th>\n",
              "      <td>38753</td>\n",
              "      <td>151190</td>\n",
              "    </tr>\n",
              "    <tr>\n",
              "      <th>1</th>\n",
              "      <td>101642</td>\n",
              "      <td>235407</td>\n",
              "    </tr>\n",
              "    <tr>\n",
              "      <th>1</th>\n",
              "      <td>101642</td>\n",
              "      <td>230067</td>\n",
              "    </tr>\n",
              "  </tbody>\n",
              "</table>\n",
              "</div>"
            ],
            "text/plain": [
              "   user_id item_id\n",
              "0    38753  235407\n",
              "0    38753  230067\n",
              "0    38753   35265\n",
              "0    38753  281005\n",
              "0    38753  147734\n",
              "0    38753  208935\n",
              "0    38753  285394\n",
              "0    38753   96052\n",
              "0    38753   62715\n",
              "0    38753  151190\n",
              "1   101642  235407\n",
              "1   101642  230067"
            ]
          },
          "metadata": {},
          "execution_count": 72
        }
      ]
    },
    {
      "cell_type": "code",
      "source": [
        "recs['rank'] = recs.groupby('user_id').cumcount() + 1\n",
        "recs.head(top_N + 2)"
      ],
      "metadata": {
        "trusted": true,
        "colab": {
          "base_uri": "https://localhost:8080/",
          "height": 421
        },
        "id": "HepHWUayyhil",
        "outputId": "4ea8d022-f9e8-4634-ad52-a9bcac3666ea"
      },
      "execution_count": 73,
      "outputs": [
        {
          "output_type": "execute_result",
          "data": {
            "text/html": [
              "<div>\n",
              "<style scoped>\n",
              "    .dataframe tbody tr th:only-of-type {\n",
              "        vertical-align: middle;\n",
              "    }\n",
              "\n",
              "    .dataframe tbody tr th {\n",
              "        vertical-align: top;\n",
              "    }\n",
              "\n",
              "    .dataframe thead th {\n",
              "        text-align: right;\n",
              "    }\n",
              "</style>\n",
              "<table border=\"1\" class=\"dataframe\">\n",
              "  <thead>\n",
              "    <tr style=\"text-align: right;\">\n",
              "      <th></th>\n",
              "      <th>user_id</th>\n",
              "      <th>item_id</th>\n",
              "      <th>rank</th>\n",
              "    </tr>\n",
              "  </thead>\n",
              "  <tbody>\n",
              "    <tr>\n",
              "      <th>0</th>\n",
              "      <td>38753</td>\n",
              "      <td>235407</td>\n",
              "      <td>1</td>\n",
              "    </tr>\n",
              "    <tr>\n",
              "      <th>0</th>\n",
              "      <td>38753</td>\n",
              "      <td>230067</td>\n",
              "      <td>2</td>\n",
              "    </tr>\n",
              "    <tr>\n",
              "      <th>0</th>\n",
              "      <td>38753</td>\n",
              "      <td>35265</td>\n",
              "      <td>3</td>\n",
              "    </tr>\n",
              "    <tr>\n",
              "      <th>0</th>\n",
              "      <td>38753</td>\n",
              "      <td>281005</td>\n",
              "      <td>4</td>\n",
              "    </tr>\n",
              "    <tr>\n",
              "      <th>0</th>\n",
              "      <td>38753</td>\n",
              "      <td>147734</td>\n",
              "      <td>5</td>\n",
              "    </tr>\n",
              "    <tr>\n",
              "      <th>0</th>\n",
              "      <td>38753</td>\n",
              "      <td>208935</td>\n",
              "      <td>6</td>\n",
              "    </tr>\n",
              "    <tr>\n",
              "      <th>0</th>\n",
              "      <td>38753</td>\n",
              "      <td>285394</td>\n",
              "      <td>7</td>\n",
              "    </tr>\n",
              "    <tr>\n",
              "      <th>0</th>\n",
              "      <td>38753</td>\n",
              "      <td>96052</td>\n",
              "      <td>8</td>\n",
              "    </tr>\n",
              "    <tr>\n",
              "      <th>0</th>\n",
              "      <td>38753</td>\n",
              "      <td>62715</td>\n",
              "      <td>9</td>\n",
              "    </tr>\n",
              "    <tr>\n",
              "      <th>0</th>\n",
              "      <td>38753</td>\n",
              "      <td>151190</td>\n",
              "      <td>10</td>\n",
              "    </tr>\n",
              "    <tr>\n",
              "      <th>1</th>\n",
              "      <td>101642</td>\n",
              "      <td>235407</td>\n",
              "      <td>1</td>\n",
              "    </tr>\n",
              "    <tr>\n",
              "      <th>1</th>\n",
              "      <td>101642</td>\n",
              "      <td>230067</td>\n",
              "      <td>2</td>\n",
              "    </tr>\n",
              "  </tbody>\n",
              "</table>\n",
              "</div>"
            ],
            "text/plain": [
              "   user_id item_id  rank\n",
              "0    38753  235407     1\n",
              "0    38753  230067     2\n",
              "0    38753   35265     3\n",
              "0    38753  281005     4\n",
              "0    38753  147734     5\n",
              "0    38753  208935     6\n",
              "0    38753  285394     7\n",
              "0    38753   96052     8\n",
              "0    38753   62715     9\n",
              "0    38753  151190    10\n",
              "1   101642  235407     1\n",
              "1   101642  230067     2"
            ]
          },
          "metadata": {},
          "execution_count": 73
        }
      ]
    },
    {
      "cell_type": "code",
      "source": [
        "test_recs = test.set_index(['user_id', 'item_id']).join(recs.set_index(['user_id', 'item_id']))\n",
        "test_recs = test_recs.sort_values(by=['user_id', 'rank'])\n",
        "test_recs.tail()"
      ],
      "metadata": {
        "trusted": true,
        "colab": {
          "base_uri": "https://localhost:8080/",
          "height": 235
        },
        "id": "YJITWVvZyhil",
        "outputId": "d20ee2d4-571a-4647-9865-02d27c275076"
      },
      "execution_count": 74,
      "outputs": [
        {
          "output_type": "execute_result",
          "data": {
            "text/html": [
              "<div>\n",
              "<style scoped>\n",
              "    .dataframe tbody tr th:only-of-type {\n",
              "        vertical-align: middle;\n",
              "    }\n",
              "\n",
              "    .dataframe tbody tr th {\n",
              "        vertical-align: top;\n",
              "    }\n",
              "\n",
              "    .dataframe thead th {\n",
              "        text-align: right;\n",
              "    }\n",
              "</style>\n",
              "<table border=\"1\" class=\"dataframe\">\n",
              "  <thead>\n",
              "    <tr style=\"text-align: right;\">\n",
              "      <th></th>\n",
              "      <th></th>\n",
              "      <th>progress</th>\n",
              "      <th>rating</th>\n",
              "      <th>start_date</th>\n",
              "      <th>rank</th>\n",
              "    </tr>\n",
              "    <tr>\n",
              "      <th>user_id</th>\n",
              "      <th>item_id</th>\n",
              "      <th></th>\n",
              "      <th></th>\n",
              "      <th></th>\n",
              "      <th></th>\n",
              "    </tr>\n",
              "  </thead>\n",
              "  <tbody>\n",
              "    <tr>\n",
              "      <th>159294</th>\n",
              "      <th>110617</th>\n",
              "      <td>18</td>\n",
              "      <td>NaN</td>\n",
              "      <td>2019-12-25</td>\n",
              "      <td>NaN</td>\n",
              "    </tr>\n",
              "    <tr>\n",
              "      <th>159303</th>\n",
              "      <th>197759</th>\n",
              "      <td>64</td>\n",
              "      <td>NaN</td>\n",
              "      <td>2019-12-25</td>\n",
              "      <td>NaN</td>\n",
              "    </tr>\n",
              "    <tr>\n",
              "      <th>159466</th>\n",
              "      <th>124115</th>\n",
              "      <td>84</td>\n",
              "      <td>NaN</td>\n",
              "      <td>2019-12-25</td>\n",
              "      <td>NaN</td>\n",
              "    </tr>\n",
              "    <tr>\n",
              "      <th>159472</th>\n",
              "      <th>245992</th>\n",
              "      <td>78</td>\n",
              "      <td>NaN</td>\n",
              "      <td>2019-12-25</td>\n",
              "      <td>NaN</td>\n",
              "    </tr>\n",
              "    <tr>\n",
              "      <th>159511</th>\n",
              "      <th>31539</th>\n",
              "      <td>77</td>\n",
              "      <td>5.0</td>\n",
              "      <td>2019-12-25</td>\n",
              "      <td>NaN</td>\n",
              "    </tr>\n",
              "  </tbody>\n",
              "</table>\n",
              "</div>"
            ],
            "text/plain": [
              "                 progress  rating start_date  rank\n",
              "user_id item_id                                   \n",
              "159294  110617         18     NaN 2019-12-25   NaN\n",
              "159303  197759         64     NaN 2019-12-25   NaN\n",
              "159466  124115         84     NaN 2019-12-25   NaN\n",
              "159472  245992         78     NaN 2019-12-25   NaN\n",
              "159511  31539          77     5.0 2019-12-25   NaN"
            ]
          },
          "metadata": {},
          "execution_count": 74
        }
      ]
    },
    {
      "cell_type": "code",
      "source": [
        "test_recs['users_item_count'] = test_recs.groupby(level='user_id', sort=False)['rank'].transform(np.size)\n",
        "test_recs['reciprocal_rank'] = 1 / test_recs['rank']\n",
        "test_recs['reciprocal_rank'] = test_recs['reciprocal_rank'].fillna(0)\n",
        "test_recs['cumulative_rank'] = test_recs.groupby(level='user_id').cumcount() + 1\n",
        "test_recs['cumulative_rank'] = test_recs['cumulative_rank'] / test_recs['rank']\n",
        "test_recs.tail()"
      ],
      "metadata": {
        "trusted": true,
        "colab": {
          "base_uri": "https://localhost:8080/",
          "height": 235
        },
        "id": "ZsWTZ3v6yhil",
        "outputId": "b8d8540e-4fb3-42d8-fd31-7d0d1458680b"
      },
      "execution_count": 75,
      "outputs": [
        {
          "output_type": "execute_result",
          "data": {
            "text/html": [
              "<div>\n",
              "<style scoped>\n",
              "    .dataframe tbody tr th:only-of-type {\n",
              "        vertical-align: middle;\n",
              "    }\n",
              "\n",
              "    .dataframe tbody tr th {\n",
              "        vertical-align: top;\n",
              "    }\n",
              "\n",
              "    .dataframe thead th {\n",
              "        text-align: right;\n",
              "    }\n",
              "</style>\n",
              "<table border=\"1\" class=\"dataframe\">\n",
              "  <thead>\n",
              "    <tr style=\"text-align: right;\">\n",
              "      <th></th>\n",
              "      <th></th>\n",
              "      <th>progress</th>\n",
              "      <th>rating</th>\n",
              "      <th>start_date</th>\n",
              "      <th>rank</th>\n",
              "      <th>users_item_count</th>\n",
              "      <th>reciprocal_rank</th>\n",
              "      <th>cumulative_rank</th>\n",
              "    </tr>\n",
              "    <tr>\n",
              "      <th>user_id</th>\n",
              "      <th>item_id</th>\n",
              "      <th></th>\n",
              "      <th></th>\n",
              "      <th></th>\n",
              "      <th></th>\n",
              "      <th></th>\n",
              "      <th></th>\n",
              "      <th></th>\n",
              "    </tr>\n",
              "  </thead>\n",
              "  <tbody>\n",
              "    <tr>\n",
              "      <th>159294</th>\n",
              "      <th>110617</th>\n",
              "      <td>18</td>\n",
              "      <td>NaN</td>\n",
              "      <td>2019-12-25</td>\n",
              "      <td>NaN</td>\n",
              "      <td>1.0</td>\n",
              "      <td>0.0</td>\n",
              "      <td>NaN</td>\n",
              "    </tr>\n",
              "    <tr>\n",
              "      <th>159303</th>\n",
              "      <th>197759</th>\n",
              "      <td>64</td>\n",
              "      <td>NaN</td>\n",
              "      <td>2019-12-25</td>\n",
              "      <td>NaN</td>\n",
              "      <td>1.0</td>\n",
              "      <td>0.0</td>\n",
              "      <td>NaN</td>\n",
              "    </tr>\n",
              "    <tr>\n",
              "      <th>159466</th>\n",
              "      <th>124115</th>\n",
              "      <td>84</td>\n",
              "      <td>NaN</td>\n",
              "      <td>2019-12-25</td>\n",
              "      <td>NaN</td>\n",
              "      <td>1.0</td>\n",
              "      <td>0.0</td>\n",
              "      <td>NaN</td>\n",
              "    </tr>\n",
              "    <tr>\n",
              "      <th>159472</th>\n",
              "      <th>245992</th>\n",
              "      <td>78</td>\n",
              "      <td>NaN</td>\n",
              "      <td>2019-12-25</td>\n",
              "      <td>NaN</td>\n",
              "      <td>1.0</td>\n",
              "      <td>0.0</td>\n",
              "      <td>NaN</td>\n",
              "    </tr>\n",
              "    <tr>\n",
              "      <th>159511</th>\n",
              "      <th>31539</th>\n",
              "      <td>77</td>\n",
              "      <td>5.0</td>\n",
              "      <td>2019-12-25</td>\n",
              "      <td>NaN</td>\n",
              "      <td>1.0</td>\n",
              "      <td>0.0</td>\n",
              "      <td>NaN</td>\n",
              "    </tr>\n",
              "  </tbody>\n",
              "</table>\n",
              "</div>"
            ],
            "text/plain": [
              "                 progress  rating  ... reciprocal_rank  cumulative_rank\n",
              "user_id item_id                    ...                                 \n",
              "159294  110617         18     NaN  ...             0.0              NaN\n",
              "159303  197759         64     NaN  ...             0.0              NaN\n",
              "159466  124115         84     NaN  ...             0.0              NaN\n",
              "159472  245992         78     NaN  ...             0.0              NaN\n",
              "159511  31539          77     5.0  ...             0.0              NaN\n",
              "\n",
              "[5 rows x 7 columns]"
            ]
          },
          "metadata": {},
          "execution_count": 75
        }
      ]
    },
    {
      "cell_type": "code",
      "source": [
        "test_recs[test_recs['rank'].notnull()].head()"
      ],
      "metadata": {
        "trusted": true,
        "colab": {
          "base_uri": "https://localhost:8080/",
          "height": 235
        },
        "id": "iXria3A_yhil",
        "outputId": "8385b059-b563-4b47-c969-d4d814d86abe"
      },
      "execution_count": 76,
      "outputs": [
        {
          "output_type": "execute_result",
          "data": {
            "text/html": [
              "<div>\n",
              "<style scoped>\n",
              "    .dataframe tbody tr th:only-of-type {\n",
              "        vertical-align: middle;\n",
              "    }\n",
              "\n",
              "    .dataframe tbody tr th {\n",
              "        vertical-align: top;\n",
              "    }\n",
              "\n",
              "    .dataframe thead th {\n",
              "        text-align: right;\n",
              "    }\n",
              "</style>\n",
              "<table border=\"1\" class=\"dataframe\">\n",
              "  <thead>\n",
              "    <tr style=\"text-align: right;\">\n",
              "      <th></th>\n",
              "      <th></th>\n",
              "      <th>progress</th>\n",
              "      <th>rating</th>\n",
              "      <th>start_date</th>\n",
              "      <th>rank</th>\n",
              "      <th>users_item_count</th>\n",
              "      <th>reciprocal_rank</th>\n",
              "      <th>cumulative_rank</th>\n",
              "    </tr>\n",
              "    <tr>\n",
              "      <th>user_id</th>\n",
              "      <th>item_id</th>\n",
              "      <th></th>\n",
              "      <th></th>\n",
              "      <th></th>\n",
              "      <th></th>\n",
              "      <th></th>\n",
              "      <th></th>\n",
              "      <th></th>\n",
              "    </tr>\n",
              "  </thead>\n",
              "  <tbody>\n",
              "    <tr>\n",
              "      <th>474</th>\n",
              "      <th>235407</th>\n",
              "      <td>100</td>\n",
              "      <td>5.0</td>\n",
              "      <td>2019-12-25</td>\n",
              "      <td>1.0</td>\n",
              "      <td>1.0</td>\n",
              "      <td>1.000000</td>\n",
              "      <td>1.000000</td>\n",
              "    </tr>\n",
              "    <tr>\n",
              "      <th>1672</th>\n",
              "      <th>230067</th>\n",
              "      <td>12</td>\n",
              "      <td>NaN</td>\n",
              "      <td>2019-12-25</td>\n",
              "      <td>2.0</td>\n",
              "      <td>1.0</td>\n",
              "      <td>0.500000</td>\n",
              "      <td>0.500000</td>\n",
              "    </tr>\n",
              "    <tr>\n",
              "      <th>2345</th>\n",
              "      <th>208935</th>\n",
              "      <td>76</td>\n",
              "      <td>NaN</td>\n",
              "      <td>2019-12-25</td>\n",
              "      <td>6.0</td>\n",
              "      <td>1.0</td>\n",
              "      <td>0.166667</td>\n",
              "      <td>0.166667</td>\n",
              "    </tr>\n",
              "    <tr>\n",
              "      <th>9279</th>\n",
              "      <th>96052</th>\n",
              "      <td>100</td>\n",
              "      <td>NaN</td>\n",
              "      <td>2019-12-25</td>\n",
              "      <td>8.0</td>\n",
              "      <td>1.0</td>\n",
              "      <td>0.125000</td>\n",
              "      <td>0.125000</td>\n",
              "    </tr>\n",
              "    <tr>\n",
              "      <th>10260</th>\n",
              "      <th>35265</th>\n",
              "      <td>0</td>\n",
              "      <td>NaN</td>\n",
              "      <td>2019-12-25</td>\n",
              "      <td>3.0</td>\n",
              "      <td>1.0</td>\n",
              "      <td>0.333333</td>\n",
              "      <td>0.333333</td>\n",
              "    </tr>\n",
              "  </tbody>\n",
              "</table>\n",
              "</div>"
            ],
            "text/plain": [
              "                 progress  rating  ... reciprocal_rank  cumulative_rank\n",
              "user_id item_id                    ...                                 \n",
              "474     235407        100     5.0  ...        1.000000         1.000000\n",
              "1672    230067         12     NaN  ...        0.500000         0.500000\n",
              "2345    208935         76     NaN  ...        0.166667         0.166667\n",
              "9279    96052         100     NaN  ...        0.125000         0.125000\n",
              "10260   35265           0     NaN  ...        0.333333         0.333333\n",
              "\n",
              "[5 rows x 7 columns]"
            ]
          },
          "metadata": {},
          "execution_count": 76
        }
      ]
    },
    {
      "cell_type": "code",
      "source": [
        "print(f'Метрик по test ({str(split_dates[0])[:10]}, {str(split_dates[1])[:10]})')\n",
        "users_count = test_recs.index.get_level_values('user_id').nunique()\n",
        "for k in range(1, top_N + 1):\n",
        "    hit_k = f'hit@{k}'\n",
        "    test_recs[hit_k] = test_recs['rank'] <= k\n",
        "    print(f'Precision@{k} = {(test_recs[hit_k] / k).sum() / users_count:.4f}')\n",
        "    print(f\"Recall@{k} = {(test_recs[hit_k] / test_recs['users_item_count']).sum() / users_count:.4f}\")\n",
        "\n",
        "mapN = (test_recs[\"cumulative_rank\"] / test_recs[\"users_item_count\"]).sum() / users_count\n",
        "print(f\"MAP@{top_N} = {mapN}\")\n",
        "\n",
        "mrr = test_recs.groupby(level='user_id')['reciprocal_rank'].max().mean()\n",
        "print(f\"MRR = {mrr}\")"
      ],
      "metadata": {
        "trusted": true,
        "colab": {
          "base_uri": "https://localhost:8080/"
        },
        "id": "9siP3A43yhil",
        "outputId": "3c734263-6fd2-4559-88f0-4246393f9657"
      },
      "execution_count": 77,
      "outputs": [
        {
          "output_type": "stream",
          "name": "stdout",
          "text": [
            "Метрик по test (2019-12-25, 2019-12-26)\n",
            "Precision@1 = 0.0091\n",
            "Recall@1 = 0.0089\n",
            "Precision@2 = 0.0071\n",
            "Recall@2 = 0.0128\n",
            "Precision@3 = 0.0067\n",
            "Recall@3 = 0.0173\n",
            "Precision@4 = 0.0053\n",
            "Recall@4 = 0.0182\n",
            "Precision@5 = 0.0047\n",
            "Recall@5 = 0.0200\n",
            "Precision@6 = 0.0046\n",
            "Recall@6 = 0.0240\n",
            "Precision@7 = 0.0046\n",
            "Recall@7 = 0.0277\n",
            "Precision@8 = 0.0042\n",
            "Recall@8 = 0.0295\n",
            "Precision@9 = 0.0038\n",
            "Recall@9 = 0.0297\n",
            "Precision@10 = 0.0037\n",
            "Recall@10 = 0.0316\n",
            "MAP@10 = 0.014664636080969606\n",
            "MRR = 0.015906783425344247\n"
          ]
        }
      ]
    },
    {
      "cell_type": "markdown",
      "source": [
        "### В качестве домашнего задания:\n",
        "* Попробуйте посчитать теперь метрик по всем фолдам в test_dates и оценить mean, std во времени. Стабильна ли модель во времени?\n",
        "* Постройте популярное по группам: возрастам пользователей или жанрам книг. Метрики стали лучше?"
      ],
      "metadata": {
        "id": "XKQaoRDDyhil"
      }
    },
    {
      "cell_type": "code",
      "source": [
        ""
      ],
      "metadata": {
        "trusted": true,
        "id": "P3gVCC3fyhil"
      },
      "execution_count": null,
      "outputs": []
    }
  ]
}