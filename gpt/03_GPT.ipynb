{
  "nbformat": 4,
  "nbformat_minor": 0,
  "metadata": {
    "colab": {
      "name": "03 GPT",
      "provenance": [],
      "collapsed_sections": []
    },
    "kernelspec": {
      "name": "python3",
      "display_name": "Python 3"
    },
    "language_info": {
      "name": "python"
    },
    "accelerator": "GPU"
  },
  "cells": [
    {
      "cell_type": "code",
      "metadata": {
        "id": "l3TkpE-JS_lS",
        "colab": {
          "base_uri": "https://localhost:8080/"
        },
        "outputId": "c442e31c-b238-4a32-ff35-c9ded9410c65"
      },
      "source": [
        "!pip install transformers"
      ],
      "execution_count": 135,
      "outputs": [
        {
          "output_type": "stream",
          "name": "stdout",
          "text": [
            "Requirement already satisfied: transformers in /usr/local/lib/python3.7/dist-packages (4.12.3)\n",
            "Requirement already satisfied: requests in /usr/local/lib/python3.7/dist-packages (from transformers) (2.23.0)\n",
            "Requirement already satisfied: pyyaml>=5.1 in /usr/local/lib/python3.7/dist-packages (from transformers) (6.0)\n",
            "Requirement already satisfied: importlib-metadata in /usr/local/lib/python3.7/dist-packages (from transformers) (4.8.1)\n",
            "Requirement already satisfied: filelock in /usr/local/lib/python3.7/dist-packages (from transformers) (3.3.0)\n",
            "Requirement already satisfied: tokenizers<0.11,>=0.10.1 in /usr/local/lib/python3.7/dist-packages (from transformers) (0.10.3)\n",
            "Requirement already satisfied: tqdm>=4.27 in /usr/local/lib/python3.7/dist-packages (from transformers) (4.62.3)\n",
            "Requirement already satisfied: huggingface-hub<1.0,>=0.1.0 in /usr/local/lib/python3.7/dist-packages (from transformers) (0.1.1)\n",
            "Requirement already satisfied: sacremoses in /usr/local/lib/python3.7/dist-packages (from transformers) (0.0.46)\n",
            "Requirement already satisfied: numpy>=1.17 in /usr/local/lib/python3.7/dist-packages (from transformers) (1.19.5)\n",
            "Requirement already satisfied: regex!=2019.12.17 in /usr/local/lib/python3.7/dist-packages (from transformers) (2019.12.20)\n",
            "Requirement already satisfied: packaging>=20.0 in /usr/local/lib/python3.7/dist-packages (from transformers) (21.0)\n",
            "Requirement already satisfied: typing-extensions>=3.7.4.3 in /usr/local/lib/python3.7/dist-packages (from huggingface-hub<1.0,>=0.1.0->transformers) (3.7.4.3)\n",
            "Requirement already satisfied: pyparsing>=2.0.2 in /usr/local/lib/python3.7/dist-packages (from packaging>=20.0->transformers) (2.4.7)\n",
            "Requirement already satisfied: zipp>=0.5 in /usr/local/lib/python3.7/dist-packages (from importlib-metadata->transformers) (3.6.0)\n",
            "Requirement already satisfied: chardet<4,>=3.0.2 in /usr/local/lib/python3.7/dist-packages (from requests->transformers) (3.0.4)\n",
            "Requirement already satisfied: idna<3,>=2.5 in /usr/local/lib/python3.7/dist-packages (from requests->transformers) (2.10)\n",
            "Requirement already satisfied: urllib3!=1.25.0,!=1.25.1,<1.26,>=1.21.1 in /usr/local/lib/python3.7/dist-packages (from requests->transformers) (1.24.3)\n",
            "Requirement already satisfied: certifi>=2017.4.17 in /usr/local/lib/python3.7/dist-packages (from requests->transformers) (2021.5.30)\n",
            "Requirement already satisfied: six in /usr/local/lib/python3.7/dist-packages (from sacremoses->transformers) (1.15.0)\n",
            "Requirement already satisfied: click in /usr/local/lib/python3.7/dist-packages (from sacremoses->transformers) (7.1.2)\n",
            "Requirement already satisfied: joblib in /usr/local/lib/python3.7/dist-packages (from sacremoses->transformers) (1.0.1)\n"
          ]
        }
      ]
    },
    {
      "cell_type": "code",
      "metadata": {
        "id": "oqG1ETRt9bnl"
      },
      "source": [
        "from transformers import AutoTokenizer, AutoModel\n",
        "from torch.nn import functional as F"
      ],
      "execution_count": 136,
      "outputs": []
    },
    {
      "cell_type": "code",
      "metadata": {
        "id": "kWAIFMus9I1_"
      },
      "source": [
        "import json\n",
        "import requests"
      ],
      "execution_count": 137,
      "outputs": []
    },
    {
      "cell_type": "code",
      "metadata": {
        "id": "DpDxPjFPXbkP"
      },
      "source": [
        "API_TOKEN = \"\""
      ],
      "execution_count": 138,
      "outputs": []
    },
    {
      "cell_type": "code",
      "metadata": {
        "id": "nRgGKNeQ9aRl"
      },
      "source": [
        "model_name_or_path = \"sberbank-ai/rugpt3small_based_on_gpt2\"\n",
        "tokenizer = GPT2Tokenizer.from_pretrained(model_name_or_path)\n",
        "model = GPT2LMHeadModel.from_pretrained(model_name_or_path)"
      ],
      "execution_count": 139,
      "outputs": []
    },
    {
      "cell_type": "markdown",
      "metadata": {
        "id": "hsy2Bm97U-f-"
      },
      "source": [
        "### Zero-shot learning"
      ]
    },
    {
      "cell_type": "code",
      "metadata": {
        "id": "FqY4adax9mtb"
      },
      "source": [
        "sentence = '''Полузащитник «Манчестер Юнайтед» Бруну Фернандеш поделился мыслями после поражения от «Манчестер Сити» (0:2) в АПЛ. \n",
        "«Мы должны меньше говорить и больше делать. Я говорю одно и то же. Мы должны измениться, подобное уже происходило много-много раз. Того, что мы сделали, было недостаточно.\n",
        "Если мы хотим быть на одном уровне с ними, то должны делать больше. Сейчас они показали, что мы не на одном уровне. Каждый должен смотреть на себя. Нужно глянуть в зеркало и увидеть, что ты делаешь неправильно.\n",
        "Нельзя изменить характер кого-то другого. Ты должен посмотреть на себя и понять, в чем конкретно можешь прибавить», – сказал Бруну в эфире Sky Sports.'''\n",
        "\n",
        "labels = ['спорт', 'новости']"
      ],
      "execution_count": 150,
      "outputs": []
    },
    {
      "cell_type": "code",
      "metadata": {
        "id": "VuLjympo-Pes"
      },
      "source": [
        "tokenizer.pad_token = 0"
      ],
      "execution_count": 151,
      "outputs": []
    },
    {
      "cell_type": "code",
      "metadata": {
        "colab": {
          "base_uri": "https://localhost:8080/"
        },
        "id": "IrkeU1r8-T50",
        "outputId": "53140079-724f-45be-ef0e-610f5010a6d2"
      },
      "source": [
        "# run inputs through model and mean-pool over the sequence\n",
        "# dimension to get sequence-level representations\n",
        "inputs = tokenizer.batch_encode_plus([sentence] + labels, return_tensors='pt', padding='longest')\n",
        "input_ids = inputs['input_ids']\n",
        "attention_mask = inputs['attention_mask']\n",
        "output = model(input_ids, attention_mask=attention_mask)[0]\n",
        "sentence_rep = output[:1].mean(dim=1)\n",
        "label_reps = output[1:].mean(dim=1)\n",
        "\n",
        "# now find the labels with the highest cosine similarities to the sentence\n",
        "similarities = F.cosine_similarity(sentence_rep, label_reps)\n",
        "closest = similarities.argsort(descending=True)\n",
        "for ind in closest:\n",
        "    print(f'label: {labels[ind]} \\t similarity: {similarities[ind]}')"
      ],
      "execution_count": 152,
      "outputs": [
        {
          "output_type": "stream",
          "name": "stdout",
          "text": [
            "label: спорт \t similarity: 0.6847456097602844\n",
            "label: новости \t similarity: 0.6765518188476562\n"
          ]
        }
      ]
    },
    {
      "cell_type": "markdown",
      "metadata": {
        "id": "gSaWLG_wi-Rl"
      },
      "source": [
        "### Few Short Learning"
      ]
    },
    {
      "cell_type": "code",
      "metadata": {
        "id": "VM34l0Z-cZfv"
      },
      "source": [
        "def query(payload='',parameters=None,options={'use_cache': False}):\n",
        "    API_URL = \"https://api-inference.huggingface.co/models/sberbank-ai/rugpt3small_based_on_gpt2\"\n",
        "    headers = {\"Authorization\": f\"Bearer {API_TOKEN}\"}\n",
        "    body = {\"inputs\":payload,'parameters':parameters,'options':options}\n",
        "    response = requests.request(\"POST\", API_URL, headers=headers, data=json.dumps(body))\n",
        "    try:\n",
        "      response.raise_for_status()\n",
        "    except requests.exceptions.HTTPError:\n",
        "        return \"Error:\"+\" \".join(response.json()['error'])\n",
        "    else:\n",
        "      return response.json()[0]"
      ],
      "execution_count": null,
      "outputs": []
    },
    {
      "cell_type": "code",
      "metadata": {
        "id": "YSe3ssPTcauq"
      },
      "source": [
        "parameters = {\n",
        "    'max_new_tokens': 1,  # number of generated tokens\n",
        "    'temperature': 0.5,   # controlling the randomness of generations\n",
        "    'end_sequence': \"###\" # stopping sequence for generation\n",
        "}"
      ],
      "execution_count": 167,
      "outputs": []
    },
    {
      "cell_type": "code",
      "metadata": {
        "id": "E-bU_0QtYEYf"
      },
      "source": [
        "prompt=\"\"\"Извлечь название клуба из предложения:\n",
        "\n",
        "предложение: Челси в родных стенах уверенно победил в лондонском дерби\n",
        "клуб: Челси\n",
        "###\n",
        "предложение: Барселона назначила Хави главным тренером команды \n",
        "клуб: Барселона\n",
        "###\n",
        "предложение: Зенит находится в хорошей форме\n",
        "клуб: Зенит\n",
        "###\n",
        "предложение: Спартак никак не может найти свою игру и теряет очки в последних матчах\n",
        "клуб: Спартак\n",
        "###\n",
        "предложение: Итальянский специалист возглавил Тоттенхем\n",
        "клуб: Тоттенхем\n",
        "###\n",
        "предложение: Ньюкасл купили шейхи и будут проводить мощную трансферную компанию этой зимой\n",
        "клуб: Ньюкасл\n",
        "###\n",
        "предложение: Ливерпуль грамотно использует прессинг\n",
        "клуб:\n",
        "\"\"\"\n",
        "\n",
        "data = query(prompt, parameters)"
      ],
      "execution_count": 39,
      "outputs": []
    },
    {
      "cell_type": "code",
      "metadata": {
        "colab": {
          "base_uri": "https://localhost:8080/"
        },
        "id": "Nlq5KbkhYK2V",
        "outputId": "1954f416-f491-47c4-9655-32756c278220"
      },
      "source": [
        "print('Expected: Ливерпуль')\n",
        "print('Predicted: ' + data['generated_text'].split('клуб:')[-1].lstrip())"
      ],
      "execution_count": 40,
      "outputs": [
        {
          "output_type": "stream",
          "name": "stdout",
          "text": [
            "Expected: Ливерпуль\n",
            "Predicted: Ливер\n"
          ]
        }
      ]
    }
  ]
}