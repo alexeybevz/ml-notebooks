{
  "nbformat": 4,
  "nbformat_minor": 0,
  "metadata": {
    "colab": {
      "name": "01 Reinforcement Learning",
      "provenance": [],
      "collapsed_sections": []
    },
    "kernelspec": {
      "name": "python3",
      "display_name": "Python 3"
    },
    "language_info": {
      "name": "python"
    },
    "widgets": {
      "application/vnd.jupyter.widget-state+json": {
        "04d642fbd35241f98faab2d1d885a09b": {
          "model_module": "@jupyter-widgets/controls",
          "model_name": "HBoxModel",
          "model_module_version": "1.5.0",
          "state": {
            "_view_name": "HBoxView",
            "_dom_classes": [],
            "_model_name": "HBoxModel",
            "_view_module": "@jupyter-widgets/controls",
            "_model_module_version": "1.5.0",
            "_view_count": null,
            "_view_module_version": "1.5.0",
            "box_style": "",
            "layout": "IPY_MODEL_276737081a2a4a468e9edc5988bc0b85",
            "_model_module": "@jupyter-widgets/controls",
            "children": [
              "IPY_MODEL_9167f2a4515b49b4a34ca3677ffffe13",
              "IPY_MODEL_3624cc0262b44d91b87affef47718676",
              "IPY_MODEL_dfcf0bbca50a4db48c25bcca9e641421"
            ]
          }
        },
        "276737081a2a4a468e9edc5988bc0b85": {
          "model_module": "@jupyter-widgets/base",
          "model_name": "LayoutModel",
          "model_module_version": "1.2.0",
          "state": {
            "_view_name": "LayoutView",
            "grid_template_rows": null,
            "right": null,
            "justify_content": null,
            "_view_module": "@jupyter-widgets/base",
            "overflow": null,
            "_model_module_version": "1.2.0",
            "_view_count": null,
            "flex_flow": null,
            "width": null,
            "min_width": null,
            "border": null,
            "align_items": null,
            "bottom": null,
            "_model_module": "@jupyter-widgets/base",
            "top": null,
            "grid_column": null,
            "overflow_y": null,
            "overflow_x": null,
            "grid_auto_flow": null,
            "grid_area": null,
            "grid_template_columns": null,
            "flex": null,
            "_model_name": "LayoutModel",
            "justify_items": null,
            "grid_row": null,
            "max_height": null,
            "align_content": null,
            "visibility": null,
            "align_self": null,
            "height": null,
            "min_height": null,
            "padding": null,
            "grid_auto_rows": null,
            "grid_gap": null,
            "max_width": null,
            "order": null,
            "_view_module_version": "1.2.0",
            "grid_template_areas": null,
            "object_position": null,
            "object_fit": null,
            "grid_auto_columns": null,
            "margin": null,
            "display": null,
            "left": null
          }
        },
        "9167f2a4515b49b4a34ca3677ffffe13": {
          "model_module": "@jupyter-widgets/controls",
          "model_name": "HTMLModel",
          "model_module_version": "1.5.0",
          "state": {
            "_view_name": "HTMLView",
            "style": "IPY_MODEL_b184026b2b5c407280a61124af2d142e",
            "_dom_classes": [],
            "description": "",
            "_model_name": "HTMLModel",
            "placeholder": "​",
            "_view_module": "@jupyter-widgets/controls",
            "_model_module_version": "1.5.0",
            "value": "100%",
            "_view_count": null,
            "_view_module_version": "1.5.0",
            "description_tooltip": null,
            "_model_module": "@jupyter-widgets/controls",
            "layout": "IPY_MODEL_cf07dc85b43a4d61a86344683139c12b"
          }
        },
        "3624cc0262b44d91b87affef47718676": {
          "model_module": "@jupyter-widgets/controls",
          "model_name": "FloatProgressModel",
          "model_module_version": "1.5.0",
          "state": {
            "_view_name": "ProgressView",
            "style": "IPY_MODEL_851c6c61d1b14c6d8a605ff005903904",
            "_dom_classes": [],
            "description": "",
            "_model_name": "FloatProgressModel",
            "bar_style": "success",
            "max": 5000,
            "_view_module": "@jupyter-widgets/controls",
            "_model_module_version": "1.5.0",
            "value": 5000,
            "_view_count": null,
            "_view_module_version": "1.5.0",
            "orientation": "horizontal",
            "min": 0,
            "description_tooltip": null,
            "_model_module": "@jupyter-widgets/controls",
            "layout": "IPY_MODEL_77d4a03db5a24275b9d8c56a197036b3"
          }
        },
        "dfcf0bbca50a4db48c25bcca9e641421": {
          "model_module": "@jupyter-widgets/controls",
          "model_name": "HTMLModel",
          "model_module_version": "1.5.0",
          "state": {
            "_view_name": "HTMLView",
            "style": "IPY_MODEL_482dc9b416a342b7a600b168bebee64d",
            "_dom_classes": [],
            "description": "",
            "_model_name": "HTMLModel",
            "placeholder": "​",
            "_view_module": "@jupyter-widgets/controls",
            "_model_module_version": "1.5.0",
            "value": " 5000/5000 [00:10&lt;00:00, 530.67it/s]",
            "_view_count": null,
            "_view_module_version": "1.5.0",
            "description_tooltip": null,
            "_model_module": "@jupyter-widgets/controls",
            "layout": "IPY_MODEL_8fd6e34bf42343a0954ba0e0df45b496"
          }
        },
        "b184026b2b5c407280a61124af2d142e": {
          "model_module": "@jupyter-widgets/controls",
          "model_name": "DescriptionStyleModel",
          "model_module_version": "1.5.0",
          "state": {
            "_view_name": "StyleView",
            "_model_name": "DescriptionStyleModel",
            "description_width": "",
            "_view_module": "@jupyter-widgets/base",
            "_model_module_version": "1.5.0",
            "_view_count": null,
            "_view_module_version": "1.2.0",
            "_model_module": "@jupyter-widgets/controls"
          }
        },
        "cf07dc85b43a4d61a86344683139c12b": {
          "model_module": "@jupyter-widgets/base",
          "model_name": "LayoutModel",
          "model_module_version": "1.2.0",
          "state": {
            "_view_name": "LayoutView",
            "grid_template_rows": null,
            "right": null,
            "justify_content": null,
            "_view_module": "@jupyter-widgets/base",
            "overflow": null,
            "_model_module_version": "1.2.0",
            "_view_count": null,
            "flex_flow": null,
            "width": null,
            "min_width": null,
            "border": null,
            "align_items": null,
            "bottom": null,
            "_model_module": "@jupyter-widgets/base",
            "top": null,
            "grid_column": null,
            "overflow_y": null,
            "overflow_x": null,
            "grid_auto_flow": null,
            "grid_area": null,
            "grid_template_columns": null,
            "flex": null,
            "_model_name": "LayoutModel",
            "justify_items": null,
            "grid_row": null,
            "max_height": null,
            "align_content": null,
            "visibility": null,
            "align_self": null,
            "height": null,
            "min_height": null,
            "padding": null,
            "grid_auto_rows": null,
            "grid_gap": null,
            "max_width": null,
            "order": null,
            "_view_module_version": "1.2.0",
            "grid_template_areas": null,
            "object_position": null,
            "object_fit": null,
            "grid_auto_columns": null,
            "margin": null,
            "display": null,
            "left": null
          }
        },
        "851c6c61d1b14c6d8a605ff005903904": {
          "model_module": "@jupyter-widgets/controls",
          "model_name": "ProgressStyleModel",
          "model_module_version": "1.5.0",
          "state": {
            "_view_name": "StyleView",
            "_model_name": "ProgressStyleModel",
            "description_width": "",
            "_view_module": "@jupyter-widgets/base",
            "_model_module_version": "1.5.0",
            "_view_count": null,
            "_view_module_version": "1.2.0",
            "bar_color": null,
            "_model_module": "@jupyter-widgets/controls"
          }
        },
        "77d4a03db5a24275b9d8c56a197036b3": {
          "model_module": "@jupyter-widgets/base",
          "model_name": "LayoutModel",
          "model_module_version": "1.2.0",
          "state": {
            "_view_name": "LayoutView",
            "grid_template_rows": null,
            "right": null,
            "justify_content": null,
            "_view_module": "@jupyter-widgets/base",
            "overflow": null,
            "_model_module_version": "1.2.0",
            "_view_count": null,
            "flex_flow": null,
            "width": null,
            "min_width": null,
            "border": null,
            "align_items": null,
            "bottom": null,
            "_model_module": "@jupyter-widgets/base",
            "top": null,
            "grid_column": null,
            "overflow_y": null,
            "overflow_x": null,
            "grid_auto_flow": null,
            "grid_area": null,
            "grid_template_columns": null,
            "flex": null,
            "_model_name": "LayoutModel",
            "justify_items": null,
            "grid_row": null,
            "max_height": null,
            "align_content": null,
            "visibility": null,
            "align_self": null,
            "height": null,
            "min_height": null,
            "padding": null,
            "grid_auto_rows": null,
            "grid_gap": null,
            "max_width": null,
            "order": null,
            "_view_module_version": "1.2.0",
            "grid_template_areas": null,
            "object_position": null,
            "object_fit": null,
            "grid_auto_columns": null,
            "margin": null,
            "display": null,
            "left": null
          }
        },
        "482dc9b416a342b7a600b168bebee64d": {
          "model_module": "@jupyter-widgets/controls",
          "model_name": "DescriptionStyleModel",
          "model_module_version": "1.5.0",
          "state": {
            "_view_name": "StyleView",
            "_model_name": "DescriptionStyleModel",
            "description_width": "",
            "_view_module": "@jupyter-widgets/base",
            "_model_module_version": "1.5.0",
            "_view_count": null,
            "_view_module_version": "1.2.0",
            "_model_module": "@jupyter-widgets/controls"
          }
        },
        "8fd6e34bf42343a0954ba0e0df45b496": {
          "model_module": "@jupyter-widgets/base",
          "model_name": "LayoutModel",
          "model_module_version": "1.2.0",
          "state": {
            "_view_name": "LayoutView",
            "grid_template_rows": null,
            "right": null,
            "justify_content": null,
            "_view_module": "@jupyter-widgets/base",
            "overflow": null,
            "_model_module_version": "1.2.0",
            "_view_count": null,
            "flex_flow": null,
            "width": null,
            "min_width": null,
            "border": null,
            "align_items": null,
            "bottom": null,
            "_model_module": "@jupyter-widgets/base",
            "top": null,
            "grid_column": null,
            "overflow_y": null,
            "overflow_x": null,
            "grid_auto_flow": null,
            "grid_area": null,
            "grid_template_columns": null,
            "flex": null,
            "_model_name": "LayoutModel",
            "justify_items": null,
            "grid_row": null,
            "max_height": null,
            "align_content": null,
            "visibility": null,
            "align_self": null,
            "height": null,
            "min_height": null,
            "padding": null,
            "grid_auto_rows": null,
            "grid_gap": null,
            "max_width": null,
            "order": null,
            "_view_module_version": "1.2.0",
            "grid_template_areas": null,
            "object_position": null,
            "object_fit": null,
            "grid_auto_columns": null,
            "margin": null,
            "display": null,
            "left": null
          }
        }
      }
    }
  },
  "cells": [
    {
      "cell_type": "code",
      "metadata": {
        "id": "aTnTrHyEoH0n"
      },
      "source": [
        "import gym\n",
        "import numpy as np \n",
        "import matplotlib.pyplot as plt\n",
        "import seaborn as sns\n",
        "\n",
        "from collections import defaultdict\n",
        "from tqdm.notebook import tqdm\n",
        "\n",
        "%matplotlib inline\n",
        "sns.set()"
      ],
      "execution_count": 1,
      "outputs": []
    },
    {
      "cell_type": "markdown",
      "metadata": {
        "id": "Mym1VIhAo3Zy"
      },
      "source": [
        "This task was introduced in [Dietterich2000] to illustrate some issues in hierarchical reinforcement learning. There are 4 locations (labeled by different letters) and your job is to pick up the passenger at one location and drop him off in another. You receive +20 points for a successful dropoff, and lose 1 point for every timestep it takes. There is also a 10 point penalty for illegal pick-up and drop-off actions."
      ]
    },
    {
      "cell_type": "code",
      "metadata": {
        "id": "xkLybiOTpSg5"
      },
      "source": [
        "# подключаем окружение\n",
        "env = gym.make('Taxi-v3') #gym.make('GuessingGame-v0')\n",
        "\n",
        "# количество эпизодов\n",
        "episodes = 5000\n",
        "\n",
        "# Гиперпараметры\n",
        "gamma = 0.95 # Коэффициент дисконтирования \n",
        "learning_rate = 0.1 # Коэффициент скорости обучения\n",
        "epsilon = 0.1 # Вероятность выбора случайного действия\n",
        "max_epsilon = 1\n",
        "min_epsilon = 0.01\n",
        "decay = 0.01  "
      ],
      "execution_count": 2,
      "outputs": []
    },
    {
      "cell_type": "code",
      "metadata": {
        "colab": {
          "base_uri": "https://localhost:8080/"
        },
        "id": "ZvDEF1sDvecF",
        "outputId": "bae72ad7-ee46-482a-e3b8-a9b1f9b03325"
      },
      "source": [
        "print(\"Observation Space: \", env.observation_space)\n",
        "print(\"Action Space       \", env.action_space)"
      ],
      "execution_count": 3,
      "outputs": [
        {
          "output_type": "stream",
          "name": "stdout",
          "text": [
            "Observation Space:  Discrete(500)\n",
            "Action Space        Discrete(6)\n"
          ]
        }
      ]
    },
    {
      "cell_type": "code",
      "metadata": {
        "id": "3L3AAKpIS63Y"
      },
      "source": [
        "from IPython.display import clear_output\n",
        "from time import sleep\n",
        "\n",
        "def print_frames(frames):\n",
        "    for i, frame in enumerate(frames):\n",
        "        clear_output(wait=True)\n",
        "        print(frame['frame'])\n",
        "        print(f\"Timestep: {i + 1}\")\n",
        "        print(f\"State: {frame['state']}\")\n",
        "        print(f\"Action: {frame['action']}\")\n",
        "        print(f\"Reward: {frame['reward']}\")\n",
        "        sleep(1.1)\n",
        "\n",
        "def view_policy(policy):\n",
        "    penalties, reward = 0, 0\n",
        "\n",
        "    frames = []\n",
        "\n",
        "    done = False\n",
        "    curr_state = env.reset()\n",
        "    while not done:\n",
        "        action = np.argmax(policy[0][curr_state])\n",
        "        state, reward, done, info = env.step(action)\n",
        "        curr_state = state\n",
        "        if reward == -10:\n",
        "            penalties += 1\n",
        "\n",
        "        frames.append({\n",
        "            'frame': env.render(mode='ansi'),\n",
        "            'state': state,\n",
        "            'action': action,\n",
        "            'reward': reward\n",
        "            }\n",
        "        )\n",
        "    \n",
        "    print_frames(frames)"
      ],
      "execution_count": 4,
      "outputs": []
    },
    {
      "cell_type": "code",
      "metadata": {
        "id": "ljLAKZ22_zBO"
      },
      "source": [
        "def Q_Learning(learning_rate, gamma, epsilon, max_epsilon, min_epsilon, decay):\n",
        "    \n",
        "    Q = np.zeros([env.observation_space.n, env.action_space.n])\n",
        "\n",
        "    training_rewards = []  \n",
        "    epsilons = []\n",
        "    episode_frames = []\n",
        "\n",
        "    for episode in tqdm(range(episodes)):\n",
        "        frames = []\n",
        "\n",
        "        # начинаем эпизод\n",
        "        observation = env.reset()\n",
        "        total_reward = 0\n",
        "        penalties = 0\n",
        "        done = False\n",
        "\n",
        "        while not done:\n",
        "\n",
        "            if np.random.uniform(0, 1) < epsilon:\n",
        "                action = env.action_space.sample() # Исследуем\n",
        "            else:\n",
        "                action = np.argmax(Q[observation]) # Следуем изученной политике\n",
        "\n",
        "            new_state, reward, done, info = env.step(action)\n",
        "\n",
        "            if reward == -10:\n",
        "                penalties += 1\n",
        "\n",
        "            frames.append({\n",
        "                'frame': env.render(mode='ansi'),\n",
        "                'state': new_state,\n",
        "                'action': action,\n",
        "                'reward': reward\n",
        "                })\n",
        "\n",
        "            old_value = Q[observation, action]\n",
        "            next_max = np.max(Q[new_state])\n",
        "            \n",
        "            new_value = old_value + learning_rate * (reward + gamma * next_max) - old_value\n",
        "            Q[observation, action] = new_value\n",
        "\n",
        "            observation = new_state\n",
        "            total_reward += reward\n",
        "        \n",
        "        training_rewards.append(total_reward)\n",
        "        episode_frames.append(frames)\n",
        "                                \n",
        "        # Сокращаем исследовательский процесс за счет уменьшения эпсилон\n",
        "        epsilon = min_epsilon + (max_epsilon - min_epsilon) * np.exp(-decay * episode)\n",
        "        epsilons.append(epsilon)\n",
        "\n",
        "    policy = np.ones([env.env.nS, env.env.nA]) / env.env.nA\n",
        "\n",
        "    for state in range(env.env.nS):  # Проходим по каждому состоянию\n",
        "        best_action = np.argmax(Q[state]) # Находим лучшее действие\n",
        "        policy[state] = np.eye(env.env.nA)[best_action]\n",
        "    \n",
        "    return Q, episode_frames, training_rewards, epsilons, policy"
      ],
      "execution_count": 5,
      "outputs": []
    },
    {
      "cell_type": "code",
      "metadata": {
        "colab": {
          "base_uri": "https://localhost:8080/",
          "height": 49,
          "referenced_widgets": [
            "04d642fbd35241f98faab2d1d885a09b",
            "276737081a2a4a468e9edc5988bc0b85",
            "9167f2a4515b49b4a34ca3677ffffe13",
            "3624cc0262b44d91b87affef47718676",
            "dfcf0bbca50a4db48c25bcca9e641421",
            "b184026b2b5c407280a61124af2d142e",
            "cf07dc85b43a4d61a86344683139c12b",
            "851c6c61d1b14c6d8a605ff005903904",
            "77d4a03db5a24275b9d8c56a197036b3",
            "482dc9b416a342b7a600b168bebee64d",
            "8fd6e34bf42343a0954ba0e0df45b496"
          ]
        },
        "id": "t9k6pFEOsyQ_",
        "outputId": "c0d17754-11fc-40d4-f538-3d77e6a98109"
      },
      "source": [
        "Q_QL, episode_frames_QL, training_rewards_QL, epsilons_QL, policy_QL = Q_Learning(learning_rate, gamma, epsilon, max_epsilon, min_epsilon, decay)"
      ],
      "execution_count": 6,
      "outputs": [
        {
          "output_type": "display_data",
          "data": {
            "application/vnd.jupyter.widget-view+json": {
              "model_id": "04d642fbd35241f98faab2d1d885a09b",
              "version_minor": 0,
              "version_major": 2
            },
            "text/plain": [
              "  0%|          | 0/5000 [00:00<?, ?it/s]"
            ]
          },
          "metadata": {}
        }
      ]
    },
    {
      "cell_type": "code",
      "metadata": {
        "colab": {
          "base_uri": "https://localhost:8080/"
        },
        "id": "vlUy-9DYC15b",
        "outputId": "938c0ed6-2718-413f-fca1-8ce3a33c9a51"
      },
      "source": [
        "view_policy([policy_QL])"
      ],
      "execution_count": 14,
      "outputs": [
        {
          "output_type": "stream",
          "name": "stdout",
          "text": [
            "+---------+\n",
            "|R: | : :\u001b[35m\u001b[34;1m\u001b[43mG\u001b[0m\u001b[0m\u001b[0m|\n",
            "| : | : : |\n",
            "| : : : : |\n",
            "| | : | : |\n",
            "|Y| : |B: |\n",
            "+---------+\n",
            "  (Dropoff)\n",
            "\n",
            "Timestep: 12\n",
            "State: 85\n",
            "Action: 5\n",
            "Reward: 20\n"
          ]
        }
      ]
    },
    {
      "cell_type": "code",
      "metadata": {
        "colab": {
          "base_uri": "https://localhost:8080/",
          "height": 301
        },
        "id": "FCf1KWnW0XjV",
        "outputId": "3f041809-20d7-4c5d-d433-3315c5bb8fdc"
      },
      "source": [
        "plt.plot(range(episodes), training_rewards_QL)\n",
        "plt.xlabel('Episode')\n",
        "plt.ylabel('Training total reward')\n",
        "plt.title('Total rewards over all episodes in training (Q-Learning)') \n",
        "plt.show()"
      ],
      "execution_count": 8,
      "outputs": [
        {
          "output_type": "display_data",
          "data": {
            "image/png": "[encoded data removed]",
            "text/plain": [
              "<Figure size 432x288 with 1 Axes>"
            ]
          },
          "metadata": {
            "needs_background": "light"
          }
        }
      ]
    },
    {
      "cell_type": "code",
      "metadata": {
        "colab": {
          "base_uri": "https://localhost:8080/",
          "height": 301
        },
        "id": "dAkgJjDW1pPe",
        "outputId": "6a9a48ca-1211-4021-a244-cc868d910e96"
      },
      "source": [
        "plt.plot(epsilons_QL)\n",
        "plt.xlabel('Episode')\n",
        "plt.ylabel('Epsilon')\n",
        "plt.title(\"Epsilon for episode (Q-Learning)\")\n",
        "plt.show()"
      ],
      "execution_count": 9,
      "outputs": [
        {
          "output_type": "display_data",
          "data": {
            "image/png": "[encoded data removed]",
            "text/plain": [
              "<Figure size 432x288 with 1 Axes>"
            ]
          },
          "metadata": {
            "needs_background": "light"
          }
        }
      ]
    },
    {
      "cell_type": "code",
      "metadata": {
        "id": "Lf1t9WhDHQxb"
      },
      "source": [
        "def create_epsilon_greedy_action_policy(env,Q,epsilon):\n",
        "    # Возвращает вероятности каждого действия\n",
        "    def policy(obs):\n",
        "        P = np.ones(env.action_space.n, dtype=float) * epsilon / env.action_space.n  \n",
        "        best_action = np.argmax(Q[obs])  # Берем лучшее действие\n",
        "        P[best_action] += (1.0 - epsilon)\n",
        "        return P\n",
        "    return policy"
      ],
      "execution_count": 10,
      "outputs": []
    },
    {
      "cell_type": "code",
      "metadata": {
        "id": "-dFpx3lqBgsy"
      },
      "source": [
        "def SARSA(env, episodes, epsilon, alpha, gamma):\n",
        "    \n",
        "    # Создаем Q таблицу\n",
        "    Q = np.zeros([env.observation_space.n, env.action_space.n])\n",
        "\n",
        "    # Инициализируем политику\n",
        "    pol = create_epsilon_greedy_action_policy(env,Q,epsilon)\n",
        "\n",
        "    for i in tqdm(range(episodes)):\n",
        "\n",
        "        curr_state = env.reset()\n",
        "        probs = pol(curr_state)   # Возвращаем политику\n",
        "        curr_act = np.random.choice(np.arange(len(probs)), p=probs)\n",
        "\n",
        "        while True:\n",
        "            next_state,reward,done,_ = env.step(curr_act)\n",
        "            next_probs = create_epsilon_greedy_action_policy(env,Q,epsilon)(next_state)\n",
        "            next_act = np.random.choice(np.arange(len(next_probs)),p=next_probs)\n",
        "            td_target = reward + gamma * Q[next_state][next_act]\n",
        "            td_error = td_target - Q[curr_state][curr_act]\n",
        "            Q[curr_state][curr_act] = Q[curr_state][curr_act] + alpha * td_error\n",
        "            \n",
        "            if done:\n",
        "                break\n",
        "            \n",
        "            curr_state = next_state\n",
        "            curr_act = next_act\n",
        "\n",
        "    policy = np.ones([env.env.nS, env.env.nA]) / env.env.nA\n",
        "\n",
        "    for state in range(env.env.nS):  # Проходим по каждому состоянию\n",
        "        best_action = np.argmax(Q[state]) # Находим лучшее действие\n",
        "        policy[state] = np.eye(env.env.nA)[best_action]\n",
        "\n",
        "    return Q, policy"
      ],
      "execution_count": 11,
      "outputs": []
    },
    {
      "cell_type": "code",
      "metadata": {
        "colab": {
          "base_uri": "https://localhost:8080/",
          "height": 49
        },
        "id": "DFCxsdxBHT7B",
        "outputId": "d2b000c6-235f-4542-be8a-c77b706ffa5b"
      },
      "source": [
        "env.reset()\n",
        "Q_SARSA, policy_SARSA = SARSA(env, episodes, epsilon, learning_rate, gamma)"
      ],
      "execution_count": 12,
      "outputs": [
        {
          "output_type": "display_data",
          "data": {
            "application/vnd.jupyter.widget-view+json": {
              "model_id": "c5ba9493e72247eeb161ee7bb3960d70",
              "version_minor": 0,
              "version_major": 2
            },
            "text/plain": [
              "  0%|          | 0/5000 [00:00<?, ?it/s]"
            ]
          },
          "metadata": {}
        }
      ]
    },
    {
      "cell_type": "code",
      "metadata": {
        "colab": {
          "base_uri": "https://localhost:8080/"
        },
        "id": "wc_XwFI8Hnth",
        "outputId": "c8206db0-9ebc-4ddd-a94c-3728df7b2b6a"
      },
      "source": [
        "view_policy([policy_SARSA])"
      ],
      "execution_count": 13,
      "outputs": [
        {
          "output_type": "stream",
          "name": "stdout",
          "text": [
            "+---------+\n",
            "|\u001b[35m\u001b[34;1m\u001b[43mR\u001b[0m\u001b[0m\u001b[0m: | : :G|\n",
            "| : | : : |\n",
            "| : : : : |\n",
            "| | : | : |\n",
            "|Y| : |B: |\n",
            "+---------+\n",
            "  (Dropoff)\n",
            "\n",
            "Timestep: 6\n",
            "State: 0\n",
            "Action: 5\n",
            "Reward: 20\n"
          ]
        }
      ]
    }
  ]
}